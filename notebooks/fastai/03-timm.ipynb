{
 "cells": [
  {
   "cell_type": "markdown",
   "metadata": {},
   "source": [
    "[pytorch-image-models](https://github.com/huggingface/pytorch-image-models) <br>\n",
    "The largest collection of PyTorch image encoders / backbones. Including train, eval, inference, export scripts, and pretrained weights -- ResNet, ResNeXT, EfficientNet, NFNet, Vision Transformer (ViT), MobileNetV4, MobileNet-V3 & V2, RegNet, DPN, CSPNet, Swin Transformer, MaxViT, CoAtNet, ConvNeXt, and more"
   ]
  },
  {
   "cell_type": "markdown",
   "metadata": {},
   "source": [
    "## The data"
   ]
  },
  {
   "cell_type": "code",
   "execution_count": 28,
   "metadata": {
    "execution": {
     "iopub.execute_input": "2023-06-06T00:01:40.472009Z",
     "iopub.status.busy": "2023-06-06T00:01:40.470974Z",
     "iopub.status.idle": "2023-06-06T00:01:42.765886Z",
     "shell.execute_reply": "2023-06-06T00:01:42.764993Z",
     "shell.execute_reply.started": "2023-06-06T00:01:40.471793Z"
    },
    "trusted": true
   },
   "outputs": [
    {
     "name": "stdout",
     "output_type": "stream",
     "text": [
      "Cloning into '/home/gnart/gblabs/ml-course/notebooks/fastai/submodules/timm'...\n",
      "remote: Enumerating objects: 19552, done.\u001b[K\n",
      "remote: Counting objects: 100% (640/640), done.\u001b[K\n",
      "remote: Compressing objects: 100% (279/279), done.\u001b[K\n",
      "remote: Total 19552 (delta 455), reused 361 (delta 361), pack-reused 18912 (from 3)\u001b[K\n",
      "Receiving objects: 100% (19552/19552), 27.22 MiB | 9.98 MiB/s, done.\n",
      "Resolving deltas: 100% (14392/14392), done.\n"
     ]
    }
   ],
   "source": [
    "! git submodule add https://github.com/huggingface/pytorch-image-models submodules/timm\n",
    "# ! git submodule update --init --recursive\n",
    "# or clone \n",
    "# ! git clone https://github.com/huggingface/pytorch-image-models"
   ]
  },
  {
   "cell_type": "markdown",
   "metadata": {},
   "source": [
    "### ImageNet Validation - [`results-imagenet.csv`](results-imagenet.csv)\n",
    "\n",
    "The standard 50,000 image ImageNet-1k validation set. Model selection during training utilizes this validation set, so it is not a true test set."
   ]
  },
  {
   "cell_type": "code",
   "execution_count": 29,
   "metadata": {},
   "outputs": [],
   "source": [
    "from pathlib import Path\n",
    "\n",
    "root_path = Path.cwd().parent.parent"
   ]
  },
  {
   "cell_type": "code",
   "execution_count": 30,
   "metadata": {
    "execution": {
     "iopub.execute_input": "2023-06-06T00:04:59.893095Z",
     "iopub.status.busy": "2023-06-06T00:04:59.892688Z",
     "iopub.status.idle": "2023-06-06T00:04:59.903934Z",
     "shell.execute_reply": "2023-06-06T00:04:59.90283Z",
     "shell.execute_reply.started": "2023-06-06T00:04:59.893051Z"
    },
    "trusted": true
   },
   "outputs": [],
   "source": [
    "import pandas as pd\n",
    "\n",
    "df_results = pd.read_csv(root_path / \"submodules/timm/results/results-imagenet.csv\")"
   ]
  },
  {
   "cell_type": "code",
   "execution_count": 31,
   "metadata": {},
   "outputs": [
    {
     "data": {
      "text/html": [
       "<div>\n",
       "<style scoped>\n",
       "    .dataframe tbody tr th:only-of-type {\n",
       "        vertical-align: middle;\n",
       "    }\n",
       "\n",
       "    .dataframe tbody tr th {\n",
       "        vertical-align: top;\n",
       "    }\n",
       "\n",
       "    .dataframe thead th {\n",
       "        text-align: right;\n",
       "    }\n",
       "</style>\n",
       "<table border=\"1\" class=\"dataframe\">\n",
       "  <thead>\n",
       "    <tr style=\"text-align: right;\">\n",
       "      <th></th>\n",
       "      <th>model</th>\n",
       "      <th>img_size</th>\n",
       "      <th>top1</th>\n",
       "      <th>top1_err</th>\n",
       "      <th>top5</th>\n",
       "      <th>top5_err</th>\n",
       "      <th>param_count</th>\n",
       "      <th>crop_pct</th>\n",
       "      <th>interpolation</th>\n",
       "    </tr>\n",
       "  </thead>\n",
       "  <tbody>\n",
       "    <tr>\n",
       "      <th>0</th>\n",
       "      <td>eva02_large_patch14_448.mim_m38m_ft_in22k_in1k</td>\n",
       "      <td>448</td>\n",
       "      <td>90.054</td>\n",
       "      <td>9.946</td>\n",
       "      <td>99.056</td>\n",
       "      <td>0.944</td>\n",
       "      <td>305.08</td>\n",
       "      <td>1.000</td>\n",
       "      <td>bicubic</td>\n",
       "    </tr>\n",
       "    <tr>\n",
       "      <th>1</th>\n",
       "      <td>eva02_large_patch14_448.mim_in22k_ft_in22k_in1k</td>\n",
       "      <td>448</td>\n",
       "      <td>89.966</td>\n",
       "      <td>10.034</td>\n",
       "      <td>99.016</td>\n",
       "      <td>0.984</td>\n",
       "      <td>305.08</td>\n",
       "      <td>1.000</td>\n",
       "      <td>bicubic</td>\n",
       "    </tr>\n",
       "    <tr>\n",
       "      <th>2</th>\n",
       "      <td>eva_giant_patch14_560.m30m_ft_in22k_in1k</td>\n",
       "      <td>560</td>\n",
       "      <td>89.796</td>\n",
       "      <td>10.204</td>\n",
       "      <td>98.990</td>\n",
       "      <td>1.010</td>\n",
       "      <td>1,014.45</td>\n",
       "      <td>1.000</td>\n",
       "      <td>bicubic</td>\n",
       "    </tr>\n",
       "    <tr>\n",
       "      <th>3</th>\n",
       "      <td>eva02_large_patch14_448.mim_in22k_ft_in1k</td>\n",
       "      <td>448</td>\n",
       "      <td>89.632</td>\n",
       "      <td>10.368</td>\n",
       "      <td>98.954</td>\n",
       "      <td>1.046</td>\n",
       "      <td>305.08</td>\n",
       "      <td>1.000</td>\n",
       "      <td>bicubic</td>\n",
       "    </tr>\n",
       "    <tr>\n",
       "      <th>4</th>\n",
       "      <td>eva_giant_patch14_336.m30m_ft_in22k_in1k</td>\n",
       "      <td>336</td>\n",
       "      <td>89.570</td>\n",
       "      <td>10.430</td>\n",
       "      <td>98.954</td>\n",
       "      <td>1.046</td>\n",
       "      <td>1,013.01</td>\n",
       "      <td>1.000</td>\n",
       "      <td>bicubic</td>\n",
       "    </tr>\n",
       "    <tr>\n",
       "      <th>...</th>\n",
       "      <td>...</td>\n",
       "      <td>...</td>\n",
       "      <td>...</td>\n",
       "      <td>...</td>\n",
       "      <td>...</td>\n",
       "      <td>...</td>\n",
       "      <td>...</td>\n",
       "      <td>...</td>\n",
       "      <td>...</td>\n",
       "    </tr>\n",
       "    <tr>\n",
       "      <th>1440</th>\n",
       "      <td>tinynet_e.in1k</td>\n",
       "      <td>106</td>\n",
       "      <td>59.874</td>\n",
       "      <td>40.126</td>\n",
       "      <td>81.770</td>\n",
       "      <td>18.230</td>\n",
       "      <td>2.04</td>\n",
       "      <td>0.875</td>\n",
       "      <td>bicubic</td>\n",
       "    </tr>\n",
       "    <tr>\n",
       "      <th>1441</th>\n",
       "      <td>mobilenetv3_small_050.lamb_in1k</td>\n",
       "      <td>224</td>\n",
       "      <td>57.924</td>\n",
       "      <td>42.076</td>\n",
       "      <td>80.142</td>\n",
       "      <td>19.858</td>\n",
       "      <td>1.59</td>\n",
       "      <td>0.875</td>\n",
       "      <td>bicubic</td>\n",
       "    </tr>\n",
       "    <tr>\n",
       "      <th>1442</th>\n",
       "      <td>test_efficientnet.r160_in1k</td>\n",
       "      <td>160</td>\n",
       "      <td>46.424</td>\n",
       "      <td>53.576</td>\n",
       "      <td>70.958</td>\n",
       "      <td>29.042</td>\n",
       "      <td>0.36</td>\n",
       "      <td>0.875</td>\n",
       "      <td>bicubic</td>\n",
       "    </tr>\n",
       "    <tr>\n",
       "      <th>1443</th>\n",
       "      <td>test_byobnet.r160_in1k</td>\n",
       "      <td>160</td>\n",
       "      <td>45.400</td>\n",
       "      <td>54.600</td>\n",
       "      <td>70.610</td>\n",
       "      <td>29.390</td>\n",
       "      <td>0.46</td>\n",
       "      <td>0.875</td>\n",
       "      <td>bicubic</td>\n",
       "    </tr>\n",
       "    <tr>\n",
       "      <th>1444</th>\n",
       "      <td>test_vit.r160_in1k</td>\n",
       "      <td>160</td>\n",
       "      <td>40.832</td>\n",
       "      <td>59.168</td>\n",
       "      <td>67.206</td>\n",
       "      <td>32.794</td>\n",
       "      <td>0.37</td>\n",
       "      <td>0.875</td>\n",
       "      <td>bicubic</td>\n",
       "    </tr>\n",
       "  </tbody>\n",
       "</table>\n",
       "<p>1445 rows × 9 columns</p>\n",
       "</div>"
      ],
      "text/plain": [
       "                                                model  img_size    top1  \\\n",
       "0      eva02_large_patch14_448.mim_m38m_ft_in22k_in1k       448  90.054   \n",
       "1     eva02_large_patch14_448.mim_in22k_ft_in22k_in1k       448  89.966   \n",
       "2            eva_giant_patch14_560.m30m_ft_in22k_in1k       560  89.796   \n",
       "3           eva02_large_patch14_448.mim_in22k_ft_in1k       448  89.632   \n",
       "4            eva_giant_patch14_336.m30m_ft_in22k_in1k       336  89.570   \n",
       "...                                               ...       ...     ...   \n",
       "1440                                   tinynet_e.in1k       106  59.874   \n",
       "1441                  mobilenetv3_small_050.lamb_in1k       224  57.924   \n",
       "1442                      test_efficientnet.r160_in1k       160  46.424   \n",
       "1443                           test_byobnet.r160_in1k       160  45.400   \n",
       "1444                               test_vit.r160_in1k       160  40.832   \n",
       "\n",
       "      top1_err    top5  top5_err param_count  crop_pct interpolation  \n",
       "0        9.946  99.056     0.944      305.08     1.000       bicubic  \n",
       "1       10.034  99.016     0.984      305.08     1.000       bicubic  \n",
       "2       10.204  98.990     1.010    1,014.45     1.000       bicubic  \n",
       "3       10.368  98.954     1.046      305.08     1.000       bicubic  \n",
       "4       10.430  98.954     1.046    1,013.01     1.000       bicubic  \n",
       "...        ...     ...       ...         ...       ...           ...  \n",
       "1440    40.126  81.770    18.230        2.04     0.875       bicubic  \n",
       "1441    42.076  80.142    19.858        1.59     0.875       bicubic  \n",
       "1442    53.576  70.958    29.042        0.36     0.875       bicubic  \n",
       "1443    54.600  70.610    29.390        0.46     0.875       bicubic  \n",
       "1444    59.168  67.206    32.794        0.37     0.875       bicubic  \n",
       "\n",
       "[1445 rows x 9 columns]"
      ]
     },
     "execution_count": 31,
     "metadata": {},
     "output_type": "execute_result"
    }
   ],
   "source": [
    "df_results"
   ]
  },
  {
   "cell_type": "code",
   "execution_count": 32,
   "metadata": {
    "execution": {
     "iopub.execute_input": "2023-06-06T00:05:00.293641Z",
     "iopub.status.busy": "2023-06-06T00:05:00.293297Z",
     "iopub.status.idle": "2023-06-06T00:05:00.303713Z",
     "shell.execute_reply": "2023-06-06T00:05:00.30266Z",
     "shell.execute_reply.started": "2023-06-06T00:05:00.293606Z"
    },
    "trusted": true
   },
   "outputs": [],
   "source": [
    "df_results['model_org'] = df_results['model'] \n",
    "df_results['model'] = df_results['model'].str.split('.').str[0]"
   ]
  },
  {
   "cell_type": "markdown",
   "metadata": {},
   "source": [
    "We'll also add a \"family\" column that will allow us to group architectures into categories with similar characteristics:\n",
    "\n",
    "Ross has told me which models he's found the most usable in practice, so I'll limit the charts to just look at these. (I also include VGG, not because it's good, but as a comparison to show how far things have come in the last few years.)"
   ]
  },
  {
   "cell_type": "code",
   "execution_count": 33,
   "metadata": {
    "execution": {
     "iopub.execute_input": "2023-06-06T00:05:01.296193Z",
     "iopub.status.busy": "2023-06-06T00:05:01.295554Z",
     "iopub.status.idle": "2023-06-06T00:05:01.30573Z",
     "shell.execute_reply": "2023-06-06T00:05:01.304785Z",
     "shell.execute_reply.started": "2023-06-06T00:05:01.296152Z"
    },
    "trusted": true
   },
   "outputs": [
    {
     "name": "stderr",
     "output_type": "stream",
     "text": [
      "<>:11: SyntaxWarning:\n",
      "\n",
      "invalid escape sequence '\\d'\n",
      "\n",
      "<>:11: SyntaxWarning:\n",
      "\n",
      "invalid escape sequence '\\d'\n",
      "\n",
      "/tmp/ipykernel_31511/735215909.py:11: SyntaxWarning:\n",
      "\n",
      "invalid escape sequence '\\d'\n",
      "\n"
     ]
    }
   ],
   "source": [
    "def get_data(part, col):\n",
    "    if part == 'infer':\n",
    "        df = pd.read_csv(\n",
    "            root_path / f'submodules/timm/results/benchmark-{part}-amp-nhwc-pt113-cu117-rtx3090.csv'\n",
    "            ).merge(df_results, on='model')\n",
    "    elif part == 'train':\n",
    "        df = pd.read_csv(\n",
    "            root_path / f'submodules/timm/results/benchmark-{part}-amp-nhwc-pt112-cu113-rtx3090.csv'\n",
    "            ).merge(df_results, on='model')\n",
    "    df['secs'] = 1. / df[col]\n",
    "    df['family'] = df.model.str.extract('^([a-z]+?(?:v2)?)(?:\\d|_|$)')\n",
    "    df = df[~df.model.str.endswith('gn')]\n",
    "    df.loc[df.model.str.contains('in22'),'family'] = df.loc[df.model.str.contains('in22'),'family'] + '_in22'\n",
    "    df.loc[df.model.str.contains('resnet.*d'),'family'] = df.loc[df.model.str.contains('resnet.*d'),'family'] + 'd'\n",
    "    return df[df.family.str.contains('^re[sg]netd?|beit|convnext|levit|efficient|vit|vgg|swin')]"
   ]
  },
  {
   "cell_type": "code",
   "execution_count": 43,
   "metadata": {
    "execution": {
     "iopub.execute_input": "2023-06-06T00:05:03.039426Z",
     "iopub.status.busy": "2023-06-06T00:05:03.038341Z",
     "iopub.status.idle": "2023-06-06T00:05:03.068382Z",
     "shell.execute_reply": "2023-06-06T00:05:03.067174Z",
     "shell.execute_reply.started": "2023-06-06T00:05:03.039374Z"
    },
    "trusted": true
   },
   "outputs": [],
   "source": [
    "df = get_data('infer', 'infer_samples_per_sec')"
   ]
  },
  {
   "cell_type": "markdown",
   "metadata": {},
   "source": [
    "## Inference results"
   ]
  },
  {
   "cell_type": "markdown",
   "metadata": {},
   "source": [
    "Here's the results for inference performance (see the last section for training performance). In this chart:\n",
    "\n",
    "- the x axis shows how many seconds it takes to process one image (**note**: it's a log scale)\n",
    "- the y axis is the accuracy on Imagenet\n",
    "- the size of each bubble is proportional to the size of images used in testing\n",
    "- the color shows what \"family\" the architecture is from.\n",
    "\n",
    "Hover your mouse over a marker to see details about the model. Double-click in the legend to display just one family. Single-click in the legend to show or hide a family.\n",
    "\n",
    "**Note**: on my screen, Kaggle cuts off the family selector and some plotly functionality -- to see the whole thing, collapse the table of contents on the right by clicking the little arrow to the right of \"*Contents*\"."
   ]
  },
  {
   "cell_type": "code",
   "execution_count": 35,
   "metadata": {
    "execution": {
     "iopub.execute_input": "2023-06-06T00:05:09.370124Z",
     "iopub.status.busy": "2023-06-06T00:05:09.369731Z",
     "iopub.status.idle": "2023-06-06T00:05:09.376689Z",
     "shell.execute_reply": "2023-06-06T00:05:09.375993Z",
     "shell.execute_reply.started": "2023-06-06T00:05:09.370089Z"
    },
    "trusted": true
   },
   "outputs": [],
   "source": [
    "import plotly.express as px\n",
    "w,h = 1000,800\n",
    "\n",
    "def show_all(df, title, size):\n",
    "    return px.scatter(df, width=w, height=h, size=df[size]**2, title=title,\n",
    "        x='secs',  y='top1', log_x=True, color='family', hover_name='model_org', hover_data=[size])"
   ]
  },
  {
   "cell_type": "code",
   "execution_count": 36,
   "metadata": {
    "execution": {
     "iopub.execute_input": "2023-06-06T00:05:09.898105Z",
     "iopub.status.busy": "2023-06-06T00:05:09.897779Z",
     "iopub.status.idle": "2023-06-06T00:05:10.13309Z",
     "shell.execute_reply": "2023-06-06T00:05:10.132188Z",
     "shell.execute_reply.started": "2023-06-06T00:05:09.898071Z"
    },
    "trusted": true
   },
   "outputs": [
    {
     "data": {
      "application/vnd.plotly.v1+json": {
       "config": {
        "plotlyServerURL": "https://plot.ly"
       },
       "data": [
        {
         "customdata": {
          "bdata": "4ADgAOAA4ADgAOAA4ADgAOAA4ADgAOAA4ADgAOAA4ADgAOAA",
          "dtype": "i2",
          "shape": "18, 1"
         },
         "hovertemplate": "<b>%{hovertext}</b><br><br>family=regnetx<br>secs=%{x}<br>top1=%{y}<br>size=%{marker.size}<br>infer_img_size=%{customdata[0]}<extra></extra>",
         "hovertext": [
          "regnetx_002.pycls_in1k",
          "regnetx_004.pycls_in1k",
          "regnetx_006.pycls_in1k",
          "regnetx_008.tv2_in1k",
          "regnetx_008.pycls_in1k",
          "regnetx_016.tv2_in1k",
          "regnetx_016.pycls_in1k",
          "regnetx_032.tv2_in1k",
          "regnetx_032.pycls_in1k",
          "regnetx_040.pycls_in1k",
          "regnetx_064.pycls_in1k",
          "regnetx_160.tv2_in1k",
          "regnetx_160.pycls_in1k",
          "regnetx_080.tv2_in1k",
          "regnetx_080.pycls_in1k",
          "regnetx_120.pycls_in1k",
          "regnetx_320.tv2_in1k",
          "regnetx_320.pycls_in1k"
         ],
         "legendgroup": "regnetx",
         "marker": {
          "color": "#636efa",
          "size": {
           "bdata": "AMQAAADEAAAAxAAAAMQAAADEAAAAxAAAAMQAAADEAAAAxAAAAMQAAADEAAAAxAAAAMQAAADEAAAAxAAAAMQAAADEAAAAxAAA",
           "dtype": "i4"
          },
          "sizemode": "area",
          "sizeref": 655.36,
          "symbol": "circle"
         },
         "mode": "markers",
         "name": "regnetx",
         "orientation": "v",
         "showlegend": true,
         "type": "scatter",
         "x": {
          "bdata": "crjlrUbcBT/FVVD3xkITP7EZBiitSB8/jdFsrYW5IT+N0WythbkhPwf6TQn+AjE/B/pNCf4CMT/RyZE42vk6P9HJkTja+To/ZUrpY4n0QD+7GVisMCJFP0RjIyZJa0s/RGMjJklrSz+lgIb9eE9QP6WAhv14T1A/MzNFOtCVWT/kg5zOjE1sP+SDnM6MTWw/",
          "dtype": "f8"
         },
         "xaxis": "x",
         "y": {
          "bdata": "cT0K16MwUUDP91PjpRtSQH9qvHSTeFJA30+Nl25SU0CHFtnO98NSQLByaJHt3FNAQmDl0CI7U0AlBoGVQztUQLTIdr6filNAVg4tsp2fU0CkcD0K18NTQL6fGi/dpFRA9P3UeOn2U0CkcD0K12NUQOf7qfHSzVNA9P3UeOnmU0Db+X5qvLRUQFTjpZvEEFRA",
          "dtype": "f8"
         },
         "yaxis": "y"
        },
        {
         "customdata": {
          "bdata": "4ADgAOAA4ADgAA==",
          "dtype": "i2",
          "shape": "5, 1"
         },
         "hovertemplate": "<b>%{hovertext}</b><br><br>family=levit<br>secs=%{x}<br>top1=%{y}<br>size=%{marker.size}<br>infer_img_size=%{customdata[0]}<extra></extra>",
         "hovertext": [
          "levit_128s.fb_dist_in1k",
          "levit_128.fb_dist_in1k",
          "levit_192.fb_dist_in1k",
          "levit_256.fb_dist_in1k",
          "levit_384.fb_dist_in1k"
         ],
         "legendgroup": "levit",
         "marker": {
          "color": "#EF553B",
          "size": {
           "bdata": "AMQAAADEAAAAxAAAAMQAAADEAAA=",
           "dtype": "i4"
          },
          "sizemode": "area",
          "sizeref": 655.36,
          "symbol": "circle"
         },
         "mode": "markers",
         "name": "levit",
         "orientation": "v",
         "showlegend": true,
         "type": "scatter",
         "x": {
          "bdata": "j/hd7QAfBz+PBHh0bRcRP3yJxWUnYhM/gA0tD3yXGj9FGYnbJUomPw==",
          "dtype": "f8"
         },
         "xaxis": "x",
         "y": {
          "bdata": "xSCwcmghU0DJdr6fGp9TQGZmZmZm9lNAqvHSTWJgVECDwMqhRaZUQA==",
          "dtype": "f8"
         },
         "yaxis": "y"
        },
        {
         "customdata": {
          "bdata": "4ADgAOAA4ADgAOAA4AAgASABIAEgASABIAEgASABIAEgASABIAEgAeAA4ADgAOAA4ADgAOAA4AAgASABIAEgASABIAEgASABIAEgAeAA4ADgAOAA4AA=",
          "dtype": "i2",
          "shape": "43, 1"
         },
         "hovertemplate": "<b>%{hovertext}</b><br><br>family=regnety<br>secs=%{x}<br>top1=%{y}<br>size=%{marker.size}<br>infer_img_size=%{customdata[0]}<extra></extra>",
         "hovertext": [
          "regnety_002.pycls_in1k",
          "regnety_004.tv2_in1k",
          "regnety_004.pycls_in1k",
          "regnety_006.pycls_in1k",
          "regnety_008.pycls_in1k",
          "regnety_016.tv2_in1k",
          "regnety_016.pycls_in1k",
          "regnety_040.ra3_in1k",
          "regnety_040.ra3_in1k",
          "regnety_040.pycls_in1k",
          "regnety_032.ra_in1k",
          "regnety_032.ra_in1k",
          "regnety_032.tv2_in1k",
          "regnety_032.pycls_in1k",
          "regnety_080.ra3_in1k",
          "regnety_080.ra3_in1k",
          "regnety_080.pycls_in1k",
          "regnety_064.ra3_in1k",
          "regnety_064.ra3_in1k",
          "regnety_064.pycls_in1k",
          "regnety_120.sw_in12k_ft_in1k",
          "regnety_120.sw_in12k_ft_in1k",
          "regnety_120.pycls_in1k",
          "regnety_320.swag_ft_in1k",
          "regnety_320.swag_lc_in1k",
          "regnety_320.seer_ft_in1k",
          "regnety_320.tv2_in1k",
          "regnety_320.pycls_in1k",
          "regnety_160.sw_in12k_ft_in1k",
          "regnety_160.swag_ft_in1k",
          "regnety_160.lion_in12k_ft_in1k",
          "regnety_160.lion_in12k_ft_in1k",
          "regnety_160.sw_in12k_ft_in1k",
          "regnety_160.swag_lc_in1k",
          "regnety_160.deit_in1k",
          "regnety_160.deit_in1k",
          "regnety_160.tv2_in1k",
          "regnety_160.pycls_in1k",
          "regnety_640.seer_ft_in1k",
          "regnety_1280.swag_ft_in1k",
          "regnety_1280.swag_lc_in1k",
          "regnety_1280.seer_ft_in1k",
          "regnety_2560.seer_ft_in1k"
         ],
         "legendgroup": "regnety",
         "marker": {
          "color": "#00cc96",
          "size": {
           "bdata": "AMQAAADEAAAAxAAAAMQAAADEAAAAxAAAAMQAAABEAQAARAEAAEQBAABEAQAARAEAAEQBAABEAQAARAEAAEQBAABEAQAARAEAAEQBAABEAQAAxAAAAMQAAADEAAAAxAAAAMQAAADEAAAAxAAAAMQAAABEAQAARAEAAEQBAABEAQAARAEAAEQBAABEAQAARAEAAEQBAABEAQAAxAAAAMQAAADEAAAAxAAAAMQAAA==",
           "dtype": "i4"
          },
          "sizemode": "area",
          "sizeref": 655.36,
          "symbol": "circle"
         },
         "mode": "markers",
         "name": "regnety",
         "orientation": "v",
         "showlegend": true,
         "type": "scatter",
         "x": {
          "bdata": "L5tuq3omCD9HheuDtv4VP0eF64O2/hU/YAQchoXQHD83CIZ0AeQiP33rqvg4jjI/feuq+DiOMj/lpNTdD4pDP+Wk1N0PikM/5aTU3Q+KQz8jIcgC5VJGPyMhyALlUkY/IyHIAuVSRj8jIcgC5VJGP3XpYLX7MVQ/delgtfsxVD916WC1+zFUP7YFzP0h6Vg/tgXM/SHpWD+2Bcz9IelYP5+0Fs7XLlo/n7QWztcuWj+ftBbO1y5aPxiY4vIuEVs/GJji8i4RWz8YmOLyLhFbPxiY4vIuEVs/GJji8i4RWz8f+XCYiSxnPx/5cJiJLGc/H/lwmIksZz8f+XCYiSxnPx/5cJiJLGc/H/lwmIksZz8f+XCYiSxnPx/5cJiJLGc/H/lwmIksZz8f+XCYiSxnPyRH1hhgbnc/hW3vxcbTiD+Fbe/FxtOIP4Vt78XG04g/mvOGbtV4lT8=",
          "dtype": "f8"
         },
         "xaxis": "x",
         "y": {
          "bdata": "iUFg5dCSUUASg8DKoeVSQKrx0k1igFJAVOOlm8TQUkBMN4lBYBVTQAaBlUOLLFRAJzEIrBx6U0DByqFFtsNUQE5iEFg5lFRAyXa+nxrPU0B1kxgEVq5UQD81XrpJfFRAUI2XbhJzVEDTTWIQWLlTQFyPwvUo/FRA7nw/NV7KVECcxCCwcvhTQCGwcmiR7VRAqvHSTWLAVEA730+Nl+5TQD81XrpJXFVAyXa+nxo/VUCcxCCwchhUQNejcD0Kt1VAnMQgsHIoVUC+nxov3dRUQEJg5dAiy1RAbef7qfEyVEA1XrpJDIJVQP7UeOkmgVVAcT0K16OAVUBKDAIrh2ZVQLx0kxgEZlVAwcqhRbbzVEDNzMzMzOxUQFYOLbKdv1RA001iEFipVEAZBFYOLRJUQLTIdr6f+lRAdZMYBFYOVkDn+6nx0n1VQCUGgZVDG1VA001iEFhJVUA=",
          "dtype": "f8"
         },
         "yaxis": "y"
        },
        {
         "customdata": {
          "bdata": "4ADgAOAA4ADgAOAA4ADgAOAAgAGAAeAA4ADgAAAB4ADgAOAA4ADgAOAAgAGAAYABgAGAAQAB4ADgAOAA4ADgAOAA4ADgAOAA4ADgAMAB4ADgAOAAgAGAAYABgAGAAeAAgAGAAYABgAGAAYABgAGAAeAA4ADgAOAAgAHgAOAA4ADgAFABUAFQAYABUAE=",
          "dtype": "i2",
          "shape": "70, 1"
         },
         "hovertemplate": "<b>%{hovertext}</b><br><br>family=vit<br>secs=%{x}<br>top1=%{y}<br>size=%{marker.size}<br>infer_img_size=%{customdata[0]}<extra></extra>",
         "hovertext": [
          "vit_tiny_r_s16_p8_224.augreg_in21k_ft_in1k",
          "vit_small_patch32_224.augreg_in21k_ft_in1k",
          "vit_tiny_patch16_224.augreg_in21k_ft_in1k",
          "vit_base_patch32_clip_224.laion2b_ft_in12k_in1k",
          "vit_base_patch32_clip_224.laion2b_ft_in1k",
          "vit_base_patch32_clip_224.openai_ft_in1k",
          "vit_base_patch32_224.augreg_in21k_ft_in1k",
          "vit_base_patch32_224.augreg_in1k",
          "vit_base_patch32_224.sam_in1k",
          "vit_small_patch32_384.augreg_in21k_ft_in1k",
          "vit_tiny_r_s16_p8_384.augreg_in21k_ft_in1k",
          "vit_small_patch16_224.augreg_in21k_ft_in1k",
          "vit_small_patch16_224.augreg_in1k",
          "vit_small_r26_s32_224.augreg_in21k_ft_in1k",
          "vit_relpos_base_patch32_plus_rpn_256.sw_in1k",
          "vit_relpos_small_patch16_224.sw_in1k",
          "vit_srelpos_small_patch16_224.sw_in1k",
          "vit_relpos_medium_patch16_rpn_224.sw_in1k",
          "vit_relpos_medium_patch16_224.sw_in1k",
          "vit_srelpos_medium_patch16_224.sw_in1k",
          "vit_relpos_medium_patch16_cls_224.sw_in1k",
          "vit_tiny_patch16_384.augreg_in21k_ft_in1k",
          "vit_base_patch32_384.augreg_in21k_ft_in1k",
          "vit_base_patch32_384.augreg_in1k",
          "vit_base_patch32_clip_384.laion2b_ft_in12k_in1k",
          "vit_base_patch32_clip_384.openai_ft_in12k_in1k",
          "vit_medium_patch16_gap_256.sw_in12k_ft_in1k",
          "vit_base_patch16_clip_224.laion2b_ft_in12k_in1k",
          "vit_base_patch16_clip_224.openai_ft_in12k_in1k",
          "vit_base_patch16_clip_224.laion2b_ft_in1k",
          "vit_base_patch16_clip_224.openai_ft_in1k",
          "vit_base_patch16_224_miil.in21k_ft_in1k",
          "vit_base_patch16_224.augreg2_in21k_ft_in1k",
          "vit_base_patch16_224.augreg_in21k_ft_in1k",
          "vit_base_patch16_224.orig_in21k_ft_in1k",
          "vit_base_patch16_224.sam_in1k",
          "vit_base_patch16_224.augreg_in1k",
          "vit_base_patch16_rpn_224.sw_in1k",
          "vit_base_patch32_clip_448.laion2b_ft_in12k_in1k",
          "vit_relpos_base_patch16_224.sw_in1k",
          "vit_relpos_base_patch16_clsgap_224.sw_in1k",
          "vit_large_r50_s32_224.augreg_in21k_ft_in1k",
          "vit_small_r26_s32_384.augreg_in21k_ft_in1k",
          "vit_small_patch16_384.augreg_in21k_ft_in1k",
          "vit_small_patch16_384.augreg_in1k",
          "vit_large_patch32_384.orig_in21k_ft_in1k",
          "vit_medium_patch16_gap_384.sw_in12k_ft_in1k",
          "vit_large_patch16_224.augreg_in21k_ft_in1k",
          "vit_large_r50_s32_384.augreg_in21k_ft_in1k",
          "vit_base_patch16_384.augreg_in21k_ft_in1k",
          "vit_base_patch16_384.orig_in21k_ft_in1k",
          "vit_base_patch16_384.augreg_in1k",
          "vit_base_patch16_clip_384.laion2b_ft_in12k_in1k",
          "vit_base_patch16_clip_384.openai_ft_in12k_in1k",
          "vit_base_patch16_clip_384.laion2b_ft_in1k",
          "vit_base_patch16_clip_384.openai_ft_in1k",
          "vit_large_patch14_clip_224.openai_ft_in12k_in1k",
          "vit_large_patch14_clip_224.laion2b_ft_in12k_in1k",
          "vit_large_patch14_clip_224.openai_ft_in1k",
          "vit_large_patch14_clip_224.laion2b_ft_in1k",
          "vit_base_r50_s16_384.orig_in21k_ft_in1k",
          "vit_base_patch8_224.augreg2_in21k_ft_in1k",
          "vit_base_patch8_224.augreg_in21k_ft_in1k",
          "vit_huge_patch14_clip_224.laion2b_ft_in12k_in1k",
          "vit_huge_patch14_clip_224.laion2b_ft_in1k",
          "vit_large_patch14_clip_336.openai_ft_in12k_in1k",
          "vit_large_patch14_clip_336.laion2b_ft_in12k_in1k",
          "vit_large_patch14_clip_336.laion2b_ft_in1k",
          "vit_large_patch16_384.augreg_in21k_ft_in1k",
          "vit_huge_patch14_clip_336.laion2b_ft_in12k_in1k"
         ],
         "legendgroup": "vit",
         "marker": {
          "color": "#ab63fa",
          "size": {
           "bdata": "AMQAAADEAAAAxAAAAMQAAADEAAAAxAAAAMQAAADEAAAAxAAAAEACAABAAgAAxAAAAMQAAADEAAAAAAEAAMQAAADEAAAAxAAAAMQAAADEAAAAxAAAAEACAABAAgAAQAIAAEACAABAAgAAAAEAAMQAAADEAAAAxAAAAMQAAADEAAAAxAAAAMQAAADEAAAAxAAAAMQAAADEAAAAEAMAAMQAAADEAAAAxAAAAEACAABAAgAAQAIAAEACAABAAgAAxAAAAEACAABAAgAAQAIAAEACAABAAgAAQAIAAEACAABAAgAAxAAAAMQAAADEAAAAxAAAAEACAADEAAAAxAAAAMQAAADEAAAAuQEAALkBAAC5AQAAQAIAALkBAA==",
           "dtype": "i4"
          },
          "sizemode": "area",
          "sizeref": 655.36,
          "symbol": "circle"
         },
         "mode": "markers",
         "name": "vit",
         "orientation": "v",
         "showlegend": true,
         "type": "scatter",
         "x": {
          "bdata": "cdznV/COEj+1Y+feJf8SP9rXX3QopyE/xZlNDjDSKD/FmU0OMNIoP8WZTQ4w0ig/oZgXWGHSKD+hmBdYYdIoP6GYF1hh0ig/a0nOF3brLj/7JQX+aIkwP8QT+izwXDQ/xBP6LPBcND/n9qf0T2c1P3KwGaaHpzU/+u9dwwzJNT+r+TPIndY1P+F40UhPBkA/qoE2OSsVQD8YQ7m76h1APx7OCeYsU0A/QpJMguerQz873kRQQd5DPzveRFBB3kM/GfDJ4TLgQz8Z8MnhMuBDP5CxM0XO8kQ/RTdJYVIKSz9FN0lhUgpLP0U3SWFSCks/RTdJYVIKSz/pj9GthQ1LPyu9ykYhE0s/K73KRiETSz8rvcpGIRNLPyu9ykYhE0s/K73KRiETSz8g/z0apMJLP3qo6MvVY0w/h7zaZvu1TD+9yh9ihAZNP+BN8j38yk8//y4u0DqsUD/dITLRELxVP90hMtEQvFU/BHl2suslXj+Hs8I7LWJeP93sg2Y6+GQ/GWBlI9zWaD8wSimrHK1qPzBKKascrWo/MEopqxytaj80gLHv8r5qPzSAse/yvmo/NICx7/K+aj80gLHv8r5qP0icm6j0pGw/SJybqPSkbD9InJuo9KRsP0icm6j0pGw/Ox1xFigZcj8PXVqIi4N0Pw9dWoiLg3Q/ywafT22Rej/LBp9PbZF6P8m4QswB+oM/ybhCzAH6gz/JuELMAfqDP/sTsD8B+4M/aTbd+PfWkT8=",
          "dtype": "f8"
         },
         "xaxis": "x",
         "y": {
          "bdata": "FK5H4Xr0UUA5tMh2vv9SQLByaJHt3FJA3SQGgZXTVEC4HoXrUahUQAaBlUOLfFRAyXa+nxovVEBEi2zn+7lSQHe+nxovbVJAAiuHFtkeVEAhsHJokf1SQNEi2/l+WlRA2c73U+O1U0C8dJMYBHZUQDm0yHa+31NAWDm0yHZeVED0/dR46UZUQMHKoUW2k1RA5/up8dKdVEAAAAAAAJBUQPhT46WbpFRABoGVQ4ucU0BKDAIrh9ZUQMdLN4lBsFNACtejcD1aVUBYObTIdk5VQM3MzMzMHFVAPQrXo3CNVUAhsHJokX1VQFYOLbKdX1VA/Knx0k1SVUDFILByaBFVQNejcD0KR1VANV66SQwiVUD8qfHSTXJUQHNoke18D1RADAIrhxbJU0Dn+6nx0o1UQDMzMzMzc1VAWDm0yHaeVEBU46WbxLBUQM/3U+OlG1VA2/l+arwEVUD6fmq8dPNUQH9qvHSTSFRAqvHSTWJgVED6fmq8dGNVQGZmZmZmdlVAsp3vp8aLVUCq8dJNYoBVQFpkO99PDVVAoBov3SRGVEAhsHJokc1VQG8Sg8DKwVVARrbz/dSoVUDLoUW2841VQO58PzVeClZAtvP91Hj5VUDXo3A9CvdVQFCNl24S01VAVg4tsp0/VUA730+Nl45VQC/dJAaBdVVAbxKDwMoRVkAOLbKd7+dVQDeJQWDlEFZAPzVeukkMVkCBlUOLbPdVQLx0kxgExlVA1XjpJjEoVkA=",
          "dtype": "f8"
         },
         "yaxis": "y"
        },
        {
         "customdata": {
          "bdata": "4ADgAOAA4ADgAOAA4ADgAOAA4ADgAOAA4ADgAOAA4ADgAOAA4ADgAOAA4ADgAOAA4ADgAAABAAHgAOAA4ADgAOAA4ADgAOAA4ADgAOAA4ADgAOAA4ADgAOAA4ADgAOAA4ADgAOAA4ADgAOAA4ADgAOAA4ADgAAABAAEAAQAB4ADgAOAA4ADgAOAA4ADgAOAA4ADgAOAAIAEgASABIAHgAOAA4ADgAOAA4ADgAOAA4ADgAOAA4AA=",
          "dtype": "i2",
          "shape": "91, 1"
         },
         "hovertemplate": "<b>%{hovertext}</b><br><br>family=resnet<br>secs=%{x}<br>top1=%{y}<br>size=%{marker.size}<br>infer_img_size=%{customdata[0]}<extra></extra>",
         "hovertext": [
          "resnet10t.c3_in1k",
          "resnet10t.c3_in1k",
          "resnet18.fb_swsl_ig1b_ft_in1k",
          "resnet18.a1_in1k",
          "resnet18.fb_ssl_yfcc100m_ft_in1k",
          "resnet18.a2_in1k",
          "resnet18.a1_in1k",
          "resnet18.gluon_in1k",
          "resnet18.a2_in1k",
          "resnet18.tv_in1k",
          "resnet18.a3_in1k",
          "resnet18.a3_in1k",
          "resnet14t.c3_in1k",
          "resnet14t.c3_in1k",
          "resnet34.a1_in1k",
          "resnet34.a2_in1k",
          "resnet34.bt_in1k",
          "resnet34.a1_in1k",
          "resnet34.a2_in1k",
          "resnet34.bt_in1k",
          "resnet34.gluon_in1k",
          "resnet34.tv_in1k",
          "resnet34.a3_in1k",
          "resnet34.a3_in1k",
          "resnet26.bt_in1k",
          "resnet26.bt_in1k",
          "resnet26t.ra2_in1k",
          "resnet26t.ra2_in1k",
          "resnet50.a1_in1k",
          "resnet50.fb_swsl_ig1b_ft_in1k",
          "resnet50.d_in1k",
          "resnet50.c1_in1k",
          "resnet50.c2_in1k",
          "resnet50.tv2_in1k",
          "resnet50.a2_in1k",
          "resnet50.b1k_in1k",
          "resnet50.a1h_in1k",
          "resnet50.b2k_in1k",
          "resnet50.a1_in1k",
          "resnet50.ram_in1k",
          "resnet50.d_in1k",
          "resnet50.c2_in1k",
          "resnet50.ra_in1k",
          "resnet50.a2_in1k",
          "resnet50.c1_in1k",
          "resnet50.bt_in1k",
          "resnet50.b1k_in1k",
          "resnet50.tv2_in1k",
          "resnet50.b2k_in1k",
          "resnet50.a1h_in1k",
          "resnet50.fb_ssl_yfcc100m_ft_in1k",
          "resnet50.ram_in1k",
          "resnet50.am_in1k",
          "resnet50.ra_in1k",
          "resnet50.bt_in1k",
          "resnet50.a3_in1k",
          "resnet50.gluon_in1k",
          "resnet50.tv_in1k",
          "resnet50.a3_in1k",
          "resnet32ts.ra2_in1k",
          "resnet32ts.ra2_in1k",
          "resnet33ts.ra2_in1k",
          "resnet33ts.ra2_in1k",
          "resnet101.a1h_in1k",
          "resnet101.a1_in1k",
          "resnet101.a2_in1k",
          "resnet101.a1h_in1k",
          "resnet101.tv2_in1k",
          "resnet101.a1_in1k",
          "resnet101.a2_in1k",
          "resnet101.tv2_in1k",
          "resnet101.a3_in1k",
          "resnet101.gluon_in1k",
          "resnet101.a3_in1k",
          "resnet101.tv_in1k",
          "resnet51q.ra2_in1k",
          "resnet51q.ra2_in1k",
          "resnet61q.ra2_in1k",
          "resnet61q.ra2_in1k",
          "resnet152.a1h_in1k",
          "resnet152.a1h_in1k",
          "resnet152.a1_in1k",
          "resnet152.a2_in1k",
          "resnet152.tv2_in1k",
          "resnet152.a1_in1k",
          "resnet152.a2_in1k",
          "resnet152.a3_in1k",
          "resnet152.tv2_in1k",
          "resnet152.gluon_in1k",
          "resnet152.a3_in1k",
          "resnet152.tv_in1k"
         ],
         "legendgroup": "resnet",
         "marker": {
          "color": "#FFA15A",
          "size": {
           "bdata": "AMQAAADEAAAAxAAAAMQAAADEAAAAxAAAAMQAAADEAAAAxAAAAMQAAADEAAAAxAAAAMQAAADEAAAAxAAAAMQAAADEAAAAxAAAAMQAAADEAAAAxAAAAMQAAADEAAAAxAAAAMQAAADEAAAAAAEAAAABAADEAAAAxAAAAMQAAADEAAAAxAAAAMQAAADEAAAAxAAAAMQAAADEAAAAxAAAAMQAAADEAAAAxAAAAMQAAADEAAAAxAAAAMQAAADEAAAAxAAAAMQAAADEAAAAxAAAAMQAAADEAAAAxAAAAMQAAADEAAAAxAAAAMQAAADEAAAAAAEAAAABAAAAAQAAAAEAAMQAAADEAAAAxAAAAMQAAADEAAAAxAAAAMQAAADEAAAAxAAAAMQAAADEAAAAxAAAAEQBAABEAQAARAEAAEQBAADEAAAAxAAAAMQAAADEAAAAxAAAAMQAAADEAAAAxAAAAMQAAADEAAAAxAAAAMQAAA==",
           "dtype": "i4"
          },
          "sizemode": "area",
          "sizeref": 655.36,
          "symbol": "circle"
         },
         "mode": "markers",
         "name": "resnet",
         "orientation": "v",
         "showlegend": true,
         "type": "scatter",
         "x": {
          "bdata": "NjLUUWyTEj82MtRRbJMSPzp5xAQQpxc/OnnEBBCnFz86ecQEEKcXPzp5xAQQpxc/OnnEBBCnFz86ecQEEKcXPzp5xAQQpxc/OnnEBBCnFz86ecQEEKcXPzp5xAQQpxc/OmBF0ESkIT86YEXQRKQhP3iANKgQLSQ/eIA0qBAtJD94gDSoEC0kP3iANKgQLSQ/eIA0qBAtJD94gDSoEC0kP3iANKgQLSQ/eIA0qBAtJD94gDSoEC0kP3iANKgQLSQ/r4aWFtA7Jj+vhpYW0DsmP8cDfqXCojA/xwN+pcKiMD91fDvNN90xP3V8O8033TE/dXw7zTfdMT91fDvNN90xP3V8O8033TE/dXw7zTfdMT91fDvNN90xP3V8O8033TE/dXw7zTfdMT91fDvNN90xP3V8O8033TE/dXw7zTfdMT91fDvNN90xP3V8O8033TE/dXw7zTfdMT91fDvNN90xP3V8O8033TE/dXw7zTfdMT91fDvNN90xP3V8O8033TE/dXw7zTfdMT91fDvNN90xP3V8O8033TE/dXw7zTfdMT91fDvNN90xP3V8O8033TE/dXw7zTfdMT91fDvNN90xP3V8O8033TE/dXw7zTfdMT91fDvNN90xP9/psHqewzI/3+mwep7DMj9iQXNB0O8yP2JBc0HQ7zI/NL69czMFPT80vr1zMwU9PzS+vXMzBT0/NL69czMFPT80vr1zMwU9PzS+vXMzBT0/NL69czMFPT80vr1zMwU9PzS+vXMzBT0/NL69czMFPT80vr1zMwU9PzS+vXMzBT0/tiF6j1wbQD+2IXqPXBtAP6pyyLt4ykE/qnLIu3jKQT80rbz+0blEPzStvP7RuUQ/NK28/tG5RD80rbz+0blEPzStvP7RuUQ/NK28/tG5RD80rbz+0blEPzStvP7RuUQ/NK28/tG5RD80rbz+0blEPzStvP7RuUQ/NK28/tG5RD8=",
          "dtype": "f8"
         },
         "xaxis": "x",
         "y": {
          "bdata": "oBov3SQWUUB1kxgEVq5QQN9PjZduUlJA0SLb+X5KUkBiEFg5tChSQLpJDAIrF1JArBxaZDvfUUC8dJMYBLZRQH9qvHSTqFFA46WbxCBwUUA5tMh2vg9RQNEi2/l+alBAc2iR7XwPUkAxCKwcWtRRQHnpJjEIfFNAtvP91HhJU0CNl24SgyBTQNEi2/l+GlNAGy/dJAbhUkDufD81XspSQNv5fmq8pFJAUI2XbhJTUkACK4cW2T5SQPhT46WbpFFA1XjpJjEYU0Cmm8QgsNJSQIXrUbgelVNAf2q8dJN4U0CPwvUoXE9UQNNNYhBYSVRAVOOlm8RAVEAIrBxaZDtUQBBYObTINlRAvHSTGAQ2VEBSuB6F6zFUQHe+nxovLVRAfT81XropVECuR+F6FB5UQJzEILByGFRAdZMYBFb+U0Bg5dAi2/lTQGQ730+N91NA16NwPQr3U0CiRbbz/fRTQBsv3SQG8VNAfT81XrrpU0BqvHSTGORTQM/3U+Ol21NAuB6F61HYU0BxPQrXo9BTQOOlm8Qg0FNANV66SQzCU0DHSzeJQcBTQGq8dJMYtFNAz/dT46WbU0AX2c73U4NTQIXrUbgeZVNARIts5/sJU0BWDi2ynf9SQEa28/3U2FNA+n5qvHTDU0BaZDvfT+1TQOf7qfHSzVNAF9nO91OzVED4U+Olm5RUQHWTGARWjlRAzczMzMx8VEBEi2zn+3lUQFYOLbKdX1RAvHSTGARWVEBEi2zn+/lTQBSuR+F69FNA3SQGgZXTU0AIrBxaZHtTQGDl0CLbWVNAEFg5tMiWVEBvEoPAynFUQKjGSzeJoVRA5/up8dJ9VEBWDi2ynd9UQDEIrBxatFRAVg4tsp2vVEBI4XoUrqdUQIlBYOXQklRAHVpkO99/VEA3iUFg5XBUQFCNl24SI1RAIbByaJENVEAhsHJoke1TQNNNYhBYuVNAhetRuB6VU0A=",
          "dtype": "f8"
         },
         "yaxis": "y"
        },
        {
         "customdata": {
          "bdata": "4ADgAOAA4ADwAOAA4AAAAQABAAEAAQQB8AAsASABIAFAAUABLAEsAYABgAHAAQ==",
          "dtype": "i2",
          "shape": "23, 1"
         },
         "hovertemplate": "<b>%{hovertext}</b><br><br>family=efficientnet<br>secs=%{x}<br>top1=%{y}<br>size=%{marker.size}<br>infer_img_size=%{customdata[0]}<extra></extra>",
         "hovertext": [
          "efficientnet_lite0.ra_in1k",
          "efficientnet_b0.ra4_e3600_r224_in1k",
          "efficientnet_b0.ra4_e3600_r224_in1k",
          "efficientnet_b0.ra_in1k",
          "efficientnet_b1_pruned.in1k",
          "efficientnet_es_pruned.in1k",
          "efficientnet_es.ra_in1k",
          "efficientnet_b1.ra4_e3600_r240_in1k",
          "efficientnet_b1.ra4_e3600_r240_in1k",
          "efficientnet_b1.ft_in1k",
          "efficientnet_b1.ft_in1k",
          "efficientnet_b2_pruned.in1k",
          "efficientnet_em.ra2_in1k",
          "efficientnet_b3_pruned.in1k",
          "efficientnet_b2.ra_in1k",
          "efficientnet_b2.ra_in1k",
          "efficientnet_b3.ra2_in1k",
          "efficientnet_b3.ra2_in1k",
          "efficientnet_el_pruned.in1k",
          "efficientnet_el.ra_in1k",
          "efficientnet_b4.ra2_in1k",
          "efficientnet_b4.ra2_in1k",
          "efficientnet_b5.sw_in12k_ft_in1k"
         ],
         "legendgroup": "efficientnet",
         "marker": {
          "color": "#19d3f3",
          "size": {
           "bdata": "AMQAAADEAAAAxAAAAMQAAADhAAAAxAAAAMQAAAAAAQAAAAEAAAABAAAAAQAQCAEAAOEAAJBfAQAARAEAAEQBAACQAQAAkAEAkF8BAJBfAQAAQAIAAEACAAAQAwA=",
           "dtype": "i4"
          },
          "sizemode": "area",
          "sizeref": 655.36,
          "symbol": "circle"
         },
         "mode": "markers",
         "name": "efficientnet",
         "orientation": "v",
         "showlegend": true,
         "type": "scatter",
         "x": {
          "bdata": "BFplluAAHD90mcMRpXQgP3SZwxGldCA/dJnDEaV0ID/w5aJEk7sjPz3m1NvfbiU/NKiwLCBvJT960Z6U0+ouP3rRnpTT6i4/etGelNPqLj960Z6U0+ouP8FofHchQjA/ktIFWuTZMT8wxqMIEoEzPzQbQjUDVDQ/NBtCNQNUND/OCLuD3c5AP84Iu4PdzkA/3OkoGR4SRT/SFi4jHCRFP/0f9HIRKFA//R/0chEoUD/wMW6YI7pePw==",
          "dtype": "f8"
         },
         "xaxis": "x",
         "y": {
          "bdata": "j8L1KFzfUkBI4XoUrtdTQPhT46WbpFNABoGVQ4tsU0DjpZvEIJBTQAAAAAAAwFJA2c73U+OFU0Cyne+nxltUQGDl0CLbGVRAUI2XbhKzU0C8dJMYBGZTQCcxCKwc+lNAN4lBYOXQU0ArhxbZzjdUQNejcD0KJ1RA9ihcj8LVU0BQjZduEpNUQHWTGARWXlRAiUFg5dASVEDdJAaBlVNUQHWTGARW3lRAYOXQItupVEAMAiuHFnlVQA==",
          "dtype": "f8"
         },
         "yaxis": "y"
        },
        {
         "customdata": {
          "bdata": "4ADgAOAA4ADgAOAA4ADgAOAA4ADgAOAA4ADgAOAA4ADgAEABQAFAAUABQAFAAUABQAE=",
          "dtype": "i2",
          "shape": "25, 1"
         },
         "hovertemplate": "<b>%{hovertext}</b><br><br>family=resnetd<br>secs=%{x}<br>top1=%{y}<br>size=%{marker.size}<br>infer_img_size=%{customdata[0]}<extra></extra>",
         "hovertext": [
          "resnet18d.ra2_in1k",
          "resnet18d.ra2_in1k",
          "resnet34d.ra2_in1k",
          "resnet34d.ra2_in1k",
          "resnet26d.bt_in1k",
          "resnet26d.bt_in1k",
          "resnet50d.ra4_e3600_r224_in1k",
          "resnet50d.a1_in1k",
          "resnet50d.ra2_in1k",
          "resnet50d.a2_in1k",
          "resnet50d.ra4_e3600_r224_in1k",
          "resnet50d.a1_in1k",
          "resnet50d.ra2_in1k",
          "resnet50d.a2_in1k",
          "resnet50d.gluon_in1k",
          "resnet50d.a3_in1k",
          "resnet50d.a3_in1k",
          "resnet101d.ra2_in1k",
          "resnet101d.ra2_in1k",
          "resnet101d.gluon_in1k",
          "resnet152d.ra2_in1k",
          "resnet152d.ra2_in1k",
          "resnet152d.gluon_in1k",
          "resnet200d.ra2_in1k",
          "resnet200d.ra2_in1k"
         ],
         "legendgroup": "resnetd",
         "marker": {
          "color": "#FF6692",
          "size": {
           "bdata": "AMQAAADEAAAAxAAAAMQAAADEAAAAxAAAAMQAAADEAAAAxAAAAMQAAADEAAAAxAAAAMQAAADEAAAAxAAAAMQAAADEAAAAkAEAAJABAACQAQAAkAEAAJABAACQAQAAkAEAAJABAA==",
           "dtype": "i4"
          },
          "sizemode": "area",
          "sizeref": 655.36,
          "symbol": "circle"
         },
         "mode": "markers",
         "name": "resnetd",
         "orientation": "v",
         "showlegend": true,
         "type": "scatter",
         "x": {
          "bdata": "XlHJJRUVHD9eUcklFRUcPxXMKcssWCY/FcwpyyxYJj/jUYlnqagpP+NRiWepqCk/OazMc+2NMz85rMxz7Y0zPzmszHPtjTM/OazMc+2NMz85rMxz7Y0zPzmszHPtjTM/OazMc+2NMz85rMxz7Y0zPzmszHPtjTM/OazMc+2NMz85rMxz7Y0zP3olKmjmgk8/eiUqaOaCTz96JSpo5oJPP8NQ1CviEVY/w1DUK+IRVj/DUNQr4hFWP8zpG4T+DV4/zOkbhP4NXj8=",
          "dtype": "f8"
         },
         "xaxis": "x",
         "y": {
          "bdata": "iUFg5dByUkD+1HjpJhFSQFyPwvUonFNALbKd76dGU0BCYOXQIltTQOkmMQisLFNAhetRuB51VEAj2/l+alxUQGZmZmZmVlRAmG4Sg8BKVEB3vp8aLz1UQB+F61G4LlRAUI2XbhIjVED+1HjpJhFUQIXrUbgexVNAc2iR7XyvU0CR7Xw/NU5TQP7UeOkmwVRA46WbxCCQVEDn+6nx0h1UQLKd76fG61RARIts5/vJVEBYObTIdh5UQFg5tMh2/lRAj8L1KFzPVEA=",
          "dtype": "f8"
         },
         "yaxis": "y"
        },
        {
         "customdata": {
          "bdata": "AAEAAQABAAEAAQABAAEAAQABAAEAAQABAAE=",
          "dtype": "i2",
          "shape": "13, 1"
         },
         "hovertemplate": "<b>%{hovertext}</b><br><br>family=mobilevitv2<br>secs=%{x}<br>top1=%{y}<br>size=%{marker.size}<br>infer_img_size=%{customdata[0]}<extra></extra>",
         "hovertext": [
          "mobilevitv2_050.cvnets_in1k",
          "mobilevitv2_075.cvnets_in1k",
          "mobilevitv2_100.cvnets_in1k",
          "mobilevitv2_125.cvnets_in1k",
          "mobilevitv2_150.cvnets_in22k_ft_in1k_384",
          "mobilevitv2_150.cvnets_in22k_ft_in1k",
          "mobilevitv2_150.cvnets_in1k",
          "mobilevitv2_175.cvnets_in22k_ft_in1k_384",
          "mobilevitv2_175.cvnets_in22k_ft_in1k",
          "mobilevitv2_175.cvnets_in1k",
          "mobilevitv2_200.cvnets_in22k_ft_in1k_384",
          "mobilevitv2_200.cvnets_in22k_ft_in1k",
          "mobilevitv2_200.cvnets_in1k"
         ],
         "legendgroup": "mobilevitv2",
         "marker": {
          "color": "#B6E880",
          "size": {
           "bdata": "AAABAAAAAQAAAAEAAAABAAAAAQAAAAEAAAABAAAAAQAAAAEAAAABAAAAAQAAAAEAAAABAA==",
           "dtype": "i4"
          },
          "sizemode": "area",
          "sizeref": 655.36,
          "symbol": "circle"
         },
         "mode": "markers",
         "name": "mobilevitv2",
         "orientation": "v",
         "showlegend": true,
         "type": "scatter",
         "x": {
          "bdata": "+tH58kMjIz/0gKqBpdQtP2kMZT5XtjM/bI+TiiGCOj/K+bQgnaM/P8r5tCCdoz8/yvm0IJ2jPz9CF7H/LohDP0IXsf8uiEM/Qhex/y6IQz9GaAvUU4FGP0ZoC9RTgUY/RmgL1FOBRj8=",
          "dtype": "f8"
         },
         "xaxis": "x",
         "y": {
          "bdata": "JzEIrByKUUAtsp3vp+ZSQNnO91PjhVNACKwcWmTrU0AQWDm0yKZUQK5H4XoUXlRAYOXQItsZVEAIrBxaZLtUQCPb+X5qfFRADi2yne83VEAK16NwPdpUQPhT46WblFRAtvP91HhJVEA=",
          "dtype": "f8"
         },
         "yaxis": "y"
        },
        {
         "customdata": {
          "bdata": "AAEAAQAB",
          "dtype": "i2",
          "shape": "3, 1"
         },
         "hovertemplate": "<b>%{hovertext}</b><br><br>family=mobilevit<br>secs=%{x}<br>top1=%{y}<br>size=%{marker.size}<br>infer_img_size=%{customdata[0]}<extra></extra>",
         "hovertext": [
          "mobilevit_xxs.cvnets_in1k",
          "mobilevit_xs.cvnets_in1k",
          "mobilevit_s.cvnets_in1k"
         ],
         "legendgroup": "mobilevit",
         "marker": {
          "color": "#FF97FF",
          "size": {
           "bdata": "AAABAAAAAQAAAAEA",
           "dtype": "i4"
          },
          "sizemode": "area",
          "sizeref": 655.36,
          "symbol": "circle"
         },
         "mode": "markers",
         "name": "mobilevit",
         "orientation": "v",
         "showlegend": true,
         "type": "scatter",
         "x": {
          "bdata": "MGIp4Fe5Jz9YLRrymSY0P/glecF7Vzk/",
          "dtype": "f8"
         },
         "xaxis": "x",
         "y": {
          "bdata": "CKwcWmQ7UUCcxCCwcqhSQBfZzvdTk1NA",
          "dtype": "f8"
         },
         "yaxis": "y"
        },
        {
         "customdata": {
          "bdata": "IAEgASABIAEgASABIAEgASABIAEgASABIAEgASABIAEgASABIAEgASABIAEgASABIAEgASABIAEgASABIAEgASABIAEgASABIAEgASABIAEgASABIAEgASABIAEgASABIAEgASABIAEgAeAA",
          "dtype": "i2",
          "shape": "54, 1"
         },
         "hovertemplate": "<b>%{hovertext}</b><br><br>family=convnext<br>secs=%{x}<br>top1=%{y}<br>size=%{marker.size}<br>infer_img_size=%{customdata[0]}<extra></extra>",
         "hovertext": [
          "convnext_atto.d2_in1k",
          "convnext_atto.d2_in1k",
          "convnext_atto_ols.a2_in1k",
          "convnext_atto_ols.a2_in1k",
          "convnext_femto.d1_in1k",
          "convnext_femto.d1_in1k",
          "convnext_femto_ols.d1_in1k",
          "convnext_femto_ols.d1_in1k",
          "convnext_pico.d1_in1k",
          "convnext_pico.d1_in1k",
          "convnext_pico_ols.d1_in1k",
          "convnext_pico_ols.d1_in1k",
          "convnext_nano.in12k_ft_in1k",
          "convnext_nano.in12k_ft_in1k",
          "convnext_nano.d1h_in1k",
          "convnext_nano.d1h_in1k",
          "convnext_nano_ols.d1h_in1k",
          "convnext_nano_ols.d1h_in1k",
          "convnext_tiny_hnf.a2h_in1k",
          "convnext_tiny_hnf.a2h_in1k",
          "convnext_tiny.in12k_ft_in1k_384",
          "convnext_tiny.in12k_ft_in1k",
          "convnext_tiny.in12k_ft_in1k",
          "convnext_tiny.fb_in22k_ft_in1k_384",
          "convnext_tiny.fb_in22k_ft_in1k",
          "convnext_tiny.fb_in1k",
          "convnext_tiny.fb_in1k",
          "convnext_tiny.fb_in22k_ft_in1k",
          "convnext_small.in12k_ft_in1k_384",
          "convnext_small.fb_in22k_ft_in1k_384",
          "convnext_small.in12k_ft_in1k",
          "convnext_small.fb_in22k_ft_in1k",
          "convnext_small.in12k_ft_in1k",
          "convnext_small.fb_in22k_ft_in1k",
          "convnext_small.fb_in1k",
          "convnext_small.fb_in1k",
          "convnext_base.clip_laion2b_augreg_ft_in12k_in1k_384",
          "convnext_base.fb_in22k_ft_in1k_384",
          "convnext_base.clip_laiona_augreg_ft_in1k_384",
          "convnext_base.clip_laion2b_augreg_ft_in12k_in1k",
          "convnext_base.fb_in22k_ft_in1k",
          "convnext_base.clip_laion2b_augreg_ft_in1k",
          "convnext_base.fb_in22k_ft_in1k",
          "convnext_base.fb_in1k",
          "convnext_base.fb_in1k",
          "convnext_large.fb_in22k_ft_in1k_384",
          "convnext_large.fb_in22k_ft_in1k",
          "convnext_large.fb_in22k_ft_in1k",
          "convnext_large.fb_in1k",
          "convnext_large.fb_in1k",
          "convnext_xlarge.fb_in22k_ft_in1k_384",
          "convnext_xlarge.fb_in22k_ft_in1k",
          "convnext_xlarge.fb_in22k_ft_in1k",
          "convnext_xxlarge.clip_laion2b_soup_ft_in1k"
         ],
         "legendgroup": "convnext",
         "marker": {
          "color": "#FECB52",
          "size": {
           "bdata": "AEQBAABEAQAARAEAAEQBAABEAQAARAEAAEQBAABEAQAARAEAAEQBAABEAQAARAEAAEQBAABEAQAARAEAAEQBAABEAQAARAEAAEQBAABEAQAARAEAAEQBAABEAQAARAEAAEQBAABEAQAARAEAAEQBAABEAQAARAEAAEQBAABEAQAARAEAAEQBAABEAQAARAEAAEQBAABEAQAARAEAAEQBAABEAQAARAEAAEQBAABEAQAARAEAAEQBAABEAQAARAEAAEQBAABEAQAARAEAAEQBAABEAQAAxAAA",
           "dtype": "i4"
          },
          "sizemode": "area",
          "sizeref": 655.36,
          "symbol": "circle"
         },
         "mode": "markers",
         "name": "convnext",
         "orientation": "v",
         "showlegend": true,
         "type": "scatter",
         "x": {
          "bdata": "wrlgg+QAKD/CuWCD5AAoP+d79plDyCg/53v2mUPIKD8cwDdgZpkrPxzAN2BmmSs/AhPlhn1hLD8CE+WGfWEsPw9Jy7rrfDE/D0nLuut8MT/dYTeIz/IxP91hN4jP8jE/Yw6Z1KsXOT9jDpnUqxc5P2MOmdSrFzk/Yw6Z1KsXOT/2yVXwBuo6P/bJVfAG6jo/aX0nhKiMQz9pfSeEqIxDP87Gd9BW9EM/zsZ30Fb0Qz/OxnfQVvRDP87Gd9BW9EM/zsZ30Fb0Qz/OxnfQVvRDP87Gd9BW9EM/zsZ30Fb0Qz+Pq/NT9ZNQP4+r81P1k1A/j6vzU/WTUD+Pq/NT9ZNQP4+r81P1k1A/j6vzU/WTUD+Pq/NT9ZNQP4+r81P1k1A/VQ1XiQDYVz9VDVeJANhXP1UNV4kA2Fc/VQ1XiQDYVz9VDVeJANhXP1UNV4kA2Fc/VQ1XiQDYVz9VDVeJANhXP1UNV4kA2Fc/97YqCBf2ZT/3tioIF/ZlP/e2KggX9mU/97YqCBf2ZT/3tioIF/ZlP+lkPDy14XA/6WQ8PLXhcD/pZDw8teFwPwOEFPe1THY/",
          "dtype": "f8"
         },
         "xaxis": "x",
         "y": {
          "bdata": "N4lBYOVAU0CYbhKDwOpSQK5H4XoUTlNAfT81Xrr5UkA9CtejcK1TQI2XbhKDYFNA0SLb+X66U0C8dJMYBHZTQOxRuB6FG1RAGy/dJAbhU0BaZDvfTx1UQKabxCCw4lNAnMQgsHK4VEDdJAaBlZNUQHWTGARWXlRAVOOlm8QwVEC6SQwCK2dUQESLbOf7OVRA9P3UeOmmVEAfhetRuI5UQGDl0CLbSVVA6SYxCKwcVUA/NV66SQxVQIPAyqFFBlVARrbz/dS4VEAj2/l+aqxUQE5iEFg5hFRAzczMzMy8U0CWQ4ts54tVQMdLN4lBcFVA2/l+arxUVUCLbOf7qVFVQNEi2/l+SlVAaJHtfD8lVUCTGARWDu1UQPCnxks3yVRAmpmZmZnJVUC+nxov3bRVQKwcWmQ7n1VAYhBYObSYVUBQjZduEpNVQLKd76fGi1VATmIQWDl0VUDn+6nx0h1VQEw3iUFg9VRAd76fGi/dVUA3iUFg5cBVQLpJDAIrp1VAukkMAis3VUBQjZduEhNVQBsv3SQG8VVADi2yne/XVUCuR+F6FL5VQCuHFtnOJ1ZA",
          "dtype": "f8"
         },
         "yaxis": "y"
        },
        {
         "customdata": {
          "bdata": "4ADgAOAA4ADgAOAA4ADgAA==",
          "dtype": "i2",
          "shape": "8, 1"
         },
         "hovertemplate": "<b>%{hovertext}</b><br><br>family=repvgg<br>secs=%{x}<br>top1=%{y}<br>size=%{marker.size}<br>infer_img_size=%{customdata[0]}<extra></extra>",
         "hovertext": [
          "repvgg_b0.rvgg_in1k",
          "repvgg_a2.rvgg_in1k",
          "repvgg_b1g4.rvgg_in1k",
          "repvgg_b1.rvgg_in1k",
          "repvgg_b2.rvgg_in1k",
          "repvgg_b3.rvgg_in1k",
          "repvgg_b2g4.rvgg_in1k",
          "repvgg_b3g4.rvgg_in1k"
         ],
         "legendgroup": "repvgg",
         "marker": {
          "color": "#636efa",
          "size": {
           "bdata": "AMQAAADEAAAAxAAAAMQAAADEAAAAxAAAAMQAAADEAAA=",
           "dtype": "i4"
          },
          "sizemode": "area",
          "sizeref": 655.36,
          "symbol": "circle"
         },
         "mode": "markers",
         "name": "repvgg",
         "orientation": "v",
         "showlegend": true,
         "type": "scatter",
         "x": {
          "bdata": "7ebCcBX0KD8ywNbzF28wPzJk/wE5fzo/n8pM4hqBQD/rzl/49xpJP7trD0WlelA/mREhSRWRUD8XMUG/RGhUPw==",
          "dtype": "f8"
         },
         "xaxis": "x",
         "y": {
          "bdata": "7nw/NV7KUkBzaJHtfB9TQEoMAiuHZlNAK4cW2c6XU0CJQWDl0LJTQP7UeOkmIVRA001iEFjZU0AdWmQ73w9UQA==",
          "dtype": "f8"
         },
         "yaxis": "y"
        },
        {
         "customdata": {
          "bdata": "4ADgAOAA",
          "dtype": "i2",
          "shape": "3, 1"
         },
         "hovertemplate": "<b>%{hovertext}</b><br><br>family=efficientformer<br>secs=%{x}<br>top1=%{y}<br>size=%{marker.size}<br>infer_img_size=%{customdata[0]}<extra></extra>",
         "hovertext": [
          "efficientformer_l1.snap_dist_in1k",
          "efficientformer_l3.snap_dist_in1k",
          "efficientformer_l7.snap_dist_in1k"
         ],
         "legendgroup": "efficientformer",
         "marker": {
          "color": "#EF553B",
          "size": {
           "bdata": "AMQAAADEAAAAxAAA",
           "dtype": "i4"
          },
          "sizemode": "area",
          "sizeref": 655.36,
          "symbol": "circle"
         },
         "mode": "markers",
         "name": "efficientformer",
         "orientation": "v",
         "showlegend": true,
         "type": "scatter",
         "x": {
          "bdata": "ISGciIi0LD87oLowdQxAP9p92Ph9BVE/",
          "dtype": "f8"
         },
         "xaxis": "x",
         "y": {
          "bdata": "46WbxCAgVEBqvHSTGKRUQGIQWDm02FRA",
          "dtype": "f8"
         },
         "yaxis": "y"
        },
        {
         "customdata": {
          "bdata": "8ADwAPAA8ADwAPAA8ADwAPAAmAGYAQ==",
          "dtype": "i2",
          "shape": "11, 1"
         },
         "hovertemplate": "<b>%{hovertext}</b><br><br>family=crossvit<br>secs=%{x}<br>top1=%{y}<br>size=%{marker.size}<br>infer_img_size=%{customdata[0]}<extra></extra>",
         "hovertext": [
          "crossvit_tiny_240.in1k",
          "crossvit_9_240.in1k",
          "crossvit_9_dagger_240.in1k",
          "crossvit_small_240.in1k",
          "crossvit_15_240.in1k",
          "crossvit_15_dagger_240.in1k",
          "crossvit_18_240.in1k",
          "crossvit_18_dagger_240.in1k",
          "crossvit_base_240.in1k",
          "crossvit_15_dagger_408.in1k",
          "crossvit_18_dagger_408.in1k"
         ],
         "legendgroup": "crossvit",
         "marker": {
          "color": "#00cc96",
          "size": {
           "bdata": "AOEAAADhAAAA4QAAAOEAAADhAAAA4QAAAOEAAADhAAAA4QAAQIoCAECKAgA=",
           "dtype": "i4"
          },
          "sizemode": "area",
          "sizeref": 655.36,
          "symbol": "circle"
         },
         "mode": "markers",
         "name": "crossvit",
         "orientation": "v",
         "showlegend": true,
         "type": "scatter",
         "x": {
          "bdata": "MzxmFQE/LT8/CS2LsB0vP/pb+mD4ADA/sg4bGCh8Pz85i4S/pVBBP00CgC+xtEE/PDE82RRLSD9H67XoF/FIPztEBA+chFM/X/JMXWf3ZD9m0mOYyLlsPw==",
          "dtype": "f8"
         },
         "xaxis": "x",
         "y": {
          "bdata": "hetRuB5VUkBYObTIdn5SQMl2vp8aP1NAw/UoXI9CVED+1HjpJmFUQN0kBoGVk1RAYhBYObSYVEDHSzeJQaBUQDvfT42XjlRA9ihcj8L1VECwcmiR7QxVQA==",
          "dtype": "f8"
         },
         "yaxis": "y"
        },
        {
         "customdata": {
          "bdata": "4ADgAOAA4AA=",
          "dtype": "i2",
          "shape": "4, 1"
         },
         "hovertemplate": "<b>%{hovertext}</b><br><br>family=resnetv2<br>secs=%{x}<br>top1=%{y}<br>size=%{marker.size}<br>infer_img_size=%{customdata[0]}<extra></extra>",
         "hovertext": [
          "resnetv2_50.a1h_in1k",
          "resnetv2_50.a1h_in1k",
          "resnetv2_101.a1h_in1k",
          "resnetv2_101.a1h_in1k"
         ],
         "legendgroup": "resnetv2",
         "marker": {
          "color": "#ab63fa",
          "size": {
           "bdata": "AMQAAADEAAAAxAAAAMQAAA==",
           "dtype": "i4"
          },
          "sizemode": "area",
          "sizeref": 655.36,
          "symbol": "circle"
         },
         "mode": "markers",
         "name": "resnetv2",
         "orientation": "v",
         "showlegend": true,
         "type": "scatter",
         "x": {
          "bdata": "ez5phkH0MD97PmmGQfQwP7MMJgyrHjw/swwmDKsePD8=",
          "dtype": "f8"
         },
         "xaxis": "x",
         "y": {
          "bdata": "JzEIrBxaVEBEi2zn+xlUQOOlm8QgwFRAppvEILCCVEA=",
          "dtype": "f8"
         },
         "yaxis": "y"
        },
        {
         "customdata": {
          "bdata": "4ADgAOAA",
          "dtype": "i2",
          "shape": "3, 1"
         },
         "hovertemplate": "<b>%{hovertext}</b><br><br>family=convit<br>secs=%{x}<br>top1=%{y}<br>size=%{marker.size}<br>infer_img_size=%{customdata[0]}<extra></extra>",
         "hovertext": [
          "convit_tiny.fb_in1k",
          "convit_small.fb_in1k",
          "convit_base.fb_in1k"
         ],
         "legendgroup": "convit",
         "marker": {
          "color": "#FFA15A",
          "size": {
           "bdata": "AMQAAADEAAAAxAAA",
           "dtype": "i4"
          },
          "sizemode": "area",
          "sizeref": 655.36,
          "symbol": "circle"
         },
         "mode": "markers",
         "name": "convit",
         "orientation": "v",
         "showlegend": true,
         "type": "scatter",
         "x": {
          "bdata": "rJFhlwpHMz/eFHy5UXtGP7M1uD0OaVY/",
          "dtype": "f8"
         },
         "xaxis": "x",
         "y": {
          "bdata": "8tJNYhBIUkDRItv5flpUQIlBYOXQklRA",
          "dtype": "f8"
         },
         "yaxis": "y"
        },
        {
         "customdata": {
          "bdata": "IAEgASABIAEgASABIAEgASABIAEgASABIAEgASABIAEgASABIAEgASABIAEgASABIAEgAYABgAGAAYAB",
          "dtype": "i2",
          "shape": "30, 1"
         },
         "hovertemplate": "<b>%{hovertext}</b><br><br>family=convnextv2<br>secs=%{x}<br>top1=%{y}<br>size=%{marker.size}<br>infer_img_size=%{customdata[0]}<extra></extra>",
         "hovertext": [
          "convnextv2_atto.fcmae_ft_in1k",
          "convnextv2_atto.fcmae_ft_in1k",
          "convnextv2_femto.fcmae_ft_in1k",
          "convnextv2_femto.fcmae_ft_in1k",
          "convnextv2_pico.fcmae_ft_in1k",
          "convnextv2_pico.fcmae_ft_in1k",
          "convnextv2_nano.fcmae_ft_in22k_in1k_384",
          "convnextv2_nano.fcmae_ft_in22k_in1k",
          "convnextv2_nano.fcmae_ft_in1k",
          "convnextv2_nano.fcmae_ft_in22k_in1k",
          "convnextv2_nano.fcmae_ft_in1k",
          "convnextv2_tiny.fcmae_ft_in22k_in1k_384",
          "convnextv2_tiny.fcmae_ft_in22k_in1k",
          "convnextv2_tiny.fcmae_ft_in22k_in1k",
          "convnextv2_tiny.fcmae_ft_in1k",
          "convnextv2_tiny.fcmae_ft_in1k",
          "convnextv2_base.fcmae_ft_in22k_in1k_384",
          "convnextv2_base.fcmae_ft_in22k_in1k",
          "convnextv2_base.fcmae_ft_in22k_in1k",
          "convnextv2_base.fcmae_ft_in1k",
          "convnextv2_base.fcmae_ft_in1k",
          "convnextv2_large.fcmae_ft_in22k_in1k_384",
          "convnextv2_large.fcmae_ft_in22k_in1k",
          "convnextv2_large.fcmae_ft_in22k_in1k",
          "convnextv2_large.fcmae_ft_in1k",
          "convnextv2_large.fcmae_ft_in1k",
          "convnextv2_huge.fcmae_ft_in22k_in1k_512",
          "convnextv2_huge.fcmae_ft_in22k_in1k_384",
          "convnextv2_huge.fcmae_ft_in1k",
          "convnextv2_huge.fcmae_ft_in1k"
         ],
         "legendgroup": "convnextv2",
         "marker": {
          "color": "#19d3f3",
          "size": {
           "bdata": "AEQBAABEAQAARAEAAEQBAABEAQAARAEAAEQBAABEAQAARAEAAEQBAABEAQAARAEAAEQBAABEAQAARAEAAEQBAABEAQAARAEAAEQBAABEAQAARAEAAEQBAABEAQAARAEAAEQBAABEAQAAQAIAAEACAABAAgAAQAIA",
           "dtype": "i4"
          },
          "sizemode": "area",
          "sizeref": 655.36,
          "symbol": "circle"
         },
         "mode": "markers",
         "name": "convnextv2",
         "orientation": "v",
         "showlegend": true,
         "type": "scatter",
         "x": {
          "bdata": "OutqOD6AND8662o4PoA0P/TMyqA59Dc/9MzKoDn0Nz/rKM6c8RQ/P+sozpzxFD8/OpV/b8LVRT86lX9vwtVFPzqVf2/C1UU/OpV/b8LVRT86lX9vwtVFP9KNbf8HmlE/0o1t/weaUT/SjW3/B5pRP9KNbf8HmlE/0o1t/weaUT+tQPRjPkxkP61A9GM+TGQ/rUD0Yz5MZD+tQPRjPkxkP61A9GM+TGQ/cB7+gtIZcT9wHv6C0hlxP3Ae/oLSGXE/cB7+gtIZcT9wHv6C0hlxP2fXgj5fL5I/Z9eCPl8vkj9n14I+Xy+SP2fXgj5fL5I/",
          "dtype": "f8"
         },
         "xaxis": "x",
         "y": {
          "bdata": "w/UoXI9yU0DTTWIQWClTQGiR7Xw/1VNA5dAi2/meU0DdJAaBlUNUQPp+arx0E1RAukkMAivXVEC0yHa+n6pUQDm0yHa+n1RA30+Nl26CVEAQWDm0yHZUQBBYObTIRlVAXrpJDAIbVUBg5dAi2/lUQFg5tMh23lRA6SYxCKy8VEBGtvP91OhVQB1aZDvfv1VA46WbxCCwVUCPwvUoXF9VQEa28/3UOFVACKwcWmQLVkBWDi2ynd9VQDeJQWDl0FVA8tJNYhCIVUBU46WbxHBVQNejcD0KN1ZA7nw/NV4qVkBkO99PjadVQHE9CtejkFVA",
          "dtype": "f8"
         },
         "yaxis": "y"
        },
        {
         "customdata": {
          "bdata": "4ADgAOAA4AA=",
          "dtype": "i2",
          "shape": "4, 1"
         },
         "hovertemplate": "<b>%{hovertext}</b><br><br>family=resnetaad<br>secs=%{x}<br>top1=%{y}<br>size=%{marker.size}<br>infer_img_size=%{customdata[0]}<extra></extra>",
         "hovertext": [
          "resnetaa50d.sw_in12k_ft_in1k",
          "resnetaa50d.sw_in12k_ft_in1k",
          "resnetaa101d.sw_in12k_ft_in1k",
          "resnetaa101d.sw_in12k_ft_in1k"
         ],
         "legendgroup": "resnetaad",
         "marker": {
          "color": "#FF6692",
          "size": {
           "bdata": "AMQAAADEAAAAxAAAAMQAAA==",
           "dtype": "i4"
          },
          "sizemode": "area",
          "sizeref": 655.36,
          "symbol": "circle"
         },
         "mode": "markers",
         "name": "resnetaad",
         "orientation": "v",
         "showlegend": true,
         "type": "scatter",
         "x": {
          "bdata": "cxiMuW3lNT9zGIy5beU1P1U+estNhkA/VT56y02GQD8=",
          "dtype": "f8"
         },
         "xaxis": "x",
         "y": {
          "bdata": "8KfGSzepVEA1XrpJDHJUQEoMAiuHBlVAiUFg5dDiVEA=",
          "dtype": "f8"
         },
         "yaxis": "y"
        },
        {
         "customdata": {
          "bdata": "4ADgAOAA4ADgAOAA4ADgAA==",
          "dtype": "i2",
          "shape": "8, 1"
         },
         "hovertemplate": "<b>%{hovertext}</b><br><br>family=vgg<br>secs=%{x}<br>top1=%{y}<br>size=%{marker.size}<br>infer_img_size=%{customdata[0]}<extra></extra>",
         "hovertext": [
          "vgg11.tv_in1k",
          "vgg11_bn.tv_in1k",
          "vgg13.tv_in1k",
          "vgg13_bn.tv_in1k",
          "vgg16.tv_in1k",
          "vgg16_bn.tv_in1k",
          "vgg19.tv_in1k",
          "vgg19_bn.tv_in1k"
         ],
         "legendgroup": "vgg",
         "marker": {
          "color": "#B6E880",
          "size": {
           "bdata": "AMQAAADEAAAAxAAAAMQAAADEAAAAxAAAAMQAAADEAAA=",
           "dtype": "i4"
          },
          "sizemode": "area",
          "sizeref": 655.36,
          "symbol": "circle"
         },
         "mode": "markers",
         "name": "vgg",
         "orientation": "v",
         "showlegend": true,
         "type": "scatter",
         "x": {
          "bdata": "DqcG5WP3NT+9pypZ3b03P+8vDLJofD4//nsnsLBuQT9icu4PXhRDPy9rg3bXgEU/25H2qeeCRz8N2Iwln0lKPw==",
          "dtype": "f8"
         },
         "xaxis": "x",
         "y": {
          "bdata": "UI2XbhJDUUB/arx0k5hRQFyPwvUofFFA3SQGgZXjUUBmZmZmZuZRQBBYObTIVlJAmpmZmZkZUkDJdr6fGo9SQA==",
          "dtype": "f8"
         },
         "yaxis": "y"
        },
        {
         "customdata": {
          "bdata": "4ADgACABIAFAAUABQAFAAWABYAGAAYABoAGgAQ==",
          "dtype": "i2",
          "shape": "14, 1"
         },
         "hovertemplate": "<b>%{hovertext}</b><br><br>family=resnetrs<br>secs=%{x}<br>top1=%{y}<br>size=%{marker.size}<br>infer_img_size=%{customdata[0]}<extra></extra>",
         "hovertext": [
          "resnetrs50.tf_in1k",
          "resnetrs50.tf_in1k",
          "resnetrs101.tf_in1k",
          "resnetrs101.tf_in1k",
          "resnetrs152.tf_in1k",
          "resnetrs152.tf_in1k",
          "resnetrs200.tf_in1k",
          "resnetrs200.tf_in1k",
          "resnetrs270.tf_in1k",
          "resnetrs270.tf_in1k",
          "resnetrs350.tf_in1k",
          "resnetrs350.tf_in1k",
          "resnetrs420.tf_in1k",
          "resnetrs420.tf_in1k"
         ],
         "legendgroup": "resnetrs",
         "marker": {
          "color": "#FF97FF",
          "size": {
           "bdata": "AMQAAADEAAAARAEAAEQBAACQAQAAkAEAAJABAACQAQAA5AEAAOQBAABAAgAAQAIAAKQCAACkAgA=",
           "dtype": "i4"
          },
          "sizemode": "area",
          "sizeref": 655.36,
          "symbol": "circle"
         },
         "mode": "markers",
         "name": "resnetrs",
         "orientation": "v",
         "showlegend": true,
         "type": "scatter",
         "x": {
          "bdata": "umtQ528dNj+6a1Dnbx02PyZvyln+4Ew/Jm/KWf7gTD/P2AmURTVZP8/YCZRFNVk/Bq5rCiJeYT8GrmsKIl5hP9dI/sbUlWs/10j+xtSVaz+gNLVLsuB0P6A0tUuy4HQ/RVO9qyXFfD9FU72rJcV8Pw==",
          "dtype": "f8"
         },
         "xaxis": "x",
         "y": {
          "bdata": "tMh2vp/6U0BmZmZmZnZTQIlBYOXQklRAPQrXo3AtVEA9CtejcO1UQGIQWDm0uFRABoGVQ4scVUBiEFg5tPhUQFyPwvUoHFVAvHSTGATmVECR7Xw/NS5VQMHKoUW2E1VAN4lBYOVAVUAAAAAAABBVQA==",
          "dtype": "f8"
         },
         "yaxis": "y"
        },
        {
         "customdata": {
          "bdata": "8ADwAPAA8ADwAPAA8ADwAPAA",
          "dtype": "i2",
          "shape": "9, 1"
         },
         "hovertemplate": "<b>%{hovertext}</b><br><br>family=flexivit<br>secs=%{x}<br>top1=%{y}<br>size=%{marker.size}<br>infer_img_size=%{customdata[0]}<extra></extra>",
         "hovertext": [
          "flexivit_small.1200ep_in1k",
          "flexivit_small.600ep_in1k",
          "flexivit_small.300ep_in1k",
          "flexivit_base.1200ep_in1k",
          "flexivit_base.600ep_in1k",
          "flexivit_base.300ep_in1k",
          "flexivit_large.1200ep_in1k",
          "flexivit_large.600ep_in1k",
          "flexivit_large.300ep_in1k"
         ],
         "legendgroup": "flexivit",
         "marker": {
          "color": "#FECB52",
          "size": {
           "bdata": "AOEAAADhAAAA4QAAAOEAAADhAAAA4QAAAOEAAADhAAAA4QAA",
           "dtype": "i4"
          },
          "sizemode": "area",
          "sizeref": 655.36,
          "symbol": "circle"
         },
         "mode": "markers",
         "name": "flexivit",
         "orientation": "v",
         "showlegend": true,
         "type": "scatter",
         "x": {
          "bdata": "wR6TOYT0Nz/BHpM5hPQ3P8EekzmE9Dc/1wCze6qXTz/XALN7qpdPP9cAs3uql08/ylx7IJ9taD/KXHsgn21oP8pceyCfbWg/",
          "dtype": "f8"
         },
         "xaxis": "x",
         "y": {
          "bdata": "2c73U+OlVEAMAiuHFplUQHsUrkfhilRAeekmMQgsVUCkcD0K1yNVQH0/NV66GVVA8KfGSzdpVUBSuB6F62FVQDVeukkMUlVA",
          "dtype": "f8"
         },
         "yaxis": "y"
        },
        {
         "customdata": {
          "bdata": "4ADgAA==",
          "dtype": "i2",
          "shape": "2, 1"
         },
         "hovertemplate": "<b>%{hovertext}</b><br><br>family=resnetblur<br>secs=%{x}<br>top1=%{y}<br>size=%{marker.size}<br>infer_img_size=%{customdata[0]}<extra></extra>",
         "hovertext": [
          "resnetblur50.bt_in1k",
          "resnetblur50.bt_in1k"
         ],
         "legendgroup": "resnetblur",
         "marker": {
          "color": "#636efa",
          "size": {
           "bdata": "AMQAAADEAAA=",
           "dtype": "i4"
          },
          "sizemode": "area",
          "sizeref": 655.36,
          "symbol": "circle"
         },
         "mode": "markers",
         "name": "resnetblur",
         "orientation": "v",
         "showlegend": true,
         "type": "scatter",
         "x": {
          "bdata": "a4Orsz1mOD9rg6uzPWY4Pw==",
          "dtype": "f8"
         },
         "xaxis": "x",
         "y": {
          "bdata": "HVpkO98PVEDdJAaBldNTQA==",
          "dtype": "f8"
         },
         "yaxis": "y"
        },
        {
         "customdata": {
          "bdata": "IAEgAUABQAFAAUABQAFAAUABQAFAAUABQAFAAUABQAE=",
          "dtype": "i2",
          "shape": "16, 1"
         },
         "hovertemplate": "<b>%{hovertext}</b><br><br>family=regnetz<br>secs=%{x}<br>top1=%{y}<br>size=%{marker.size}<br>infer_img_size=%{customdata[0]}<extra></extra>",
         "hovertext": [
          "regnetz_b16.ra3_in1k",
          "regnetz_b16.ra3_in1k",
          "regnetz_c16.ra3_in1k",
          "regnetz_c16.ra3_in1k",
          "regnetz_d32.ra3_in1k",
          "regnetz_d32.ra3_in1k",
          "regnetz_d8.ra3_in1k",
          "regnetz_d8.ra3_in1k",
          "regnetz_040.ra3_in1k",
          "regnetz_040.ra3_in1k",
          "regnetz_e8.ra3_in1k",
          "regnetz_e8.ra3_in1k",
          "regnetz_c16_evos.ch_in1k",
          "regnetz_c16_evos.ch_in1k",
          "regnetz_d8_evos.ch_in1k",
          "regnetz_d8_evos.ch_in1k"
         ],
         "legendgroup": "regnetz",
         "marker": {
          "color": "#EF553B",
          "size": {
           "bdata": "AEQBAABEAQAAkAEAAJABAACQAQAAkAEAAJABAACQAQAAkAEAAJABAACQAQAAkAEAAJABAACQAQAAkAEAAJABAA==",
           "dtype": "i4"
          },
          "sizemode": "area",
          "sizeref": 655.36,
          "symbol": "circle"
         },
         "mode": "markers",
         "name": "regnetz",
         "orientation": "v",
         "showlegend": true,
         "type": "scatter",
         "x": {
          "bdata": "leu42yjzOD+V67jbKPM4P5pCbxsRJ0M/mkJvGxEnQz/j41LALshKP+PjUsAuyEo/R2sr/u8oTD9Hayv+7yhMP5PFzaB0ylA/k8XNoHTKUD+PXxwncZ9ZP49fHCdxn1k/NLNDbnVyWz80s0NudXJbP/09LhR1xWQ//T0uFHXFZD8=",
          "dtype": "f8"
         },
         "xaxis": "x",
         "y": {
          "bdata": "rBxaZDsvVEAOLbKd7/dTQArXo3A9qlRACtejcD2KVEBvEoPAygFVQAisHFpk21RAppvEILACVUBQjZduEuNUQKrx0k1iEFVACtejcD3qVEDD9Shcj0JVQJhuEoPAGlVA8KfGSzepVEA/NV66SXxUQH0/NV66CVVA8KfGSzfZVEA=",
          "dtype": "f8"
         },
         "yaxis": "y"
        },
        {
         "customdata": {
          "bdata": "IAEgAYABgAGgAaAB",
          "dtype": "i2",
          "shape": "6, 1"
         },
         "hovertemplate": "<b>%{hovertext}</b><br><br>family=efficientnetv2<br>secs=%{x}<br>top1=%{y}<br>size=%{marker.size}<br>infer_img_size=%{customdata[0]}<extra></extra>",
         "hovertext": [
          "efficientnetv2_rw_t.ra2_in1k",
          "efficientnetv2_rw_t.ra2_in1k",
          "efficientnetv2_rw_s.ra2_in1k",
          "efficientnetv2_rw_s.ra2_in1k",
          "efficientnetv2_rw_m.agc_in1k",
          "efficientnetv2_rw_m.agc_in1k"
         ],
         "legendgroup": "efficientnetv2",
         "marker": {
          "color": "#00cc96",
          "size": {
           "bdata": "AEQBAABEAQAAQAIAAEACAACkAgAApAIA",
           "dtype": "i4"
          },
          "sizemode": "area",
          "sizeref": 655.36,
          "symbol": "circle"
         },
         "mode": "markers",
         "name": "efficientnetv2",
         "orientation": "v",
         "showlegend": true,
         "type": "scatter",
         "x": {
          "bdata": "uPpuXhQxOT+4+m5eFDE5P1ZhBJlDT0s/VmEEmUNPSz/bx0yXDideP9vHTJcOJ14/",
          "dtype": "f8"
         },
         "xaxis": "x",
         "y": {
          "bdata": "LbKd76eWVEArhxbZzldUQIXrUbge9VRARrbz/dS4VEDb+X5qvDRVQIlBYOXQElVA",
          "dtype": "f8"
         },
         "yaxis": "y"
        },
        {
         "customdata": {
          "bdata": "4ADgAOAA4ADgAA==",
          "dtype": "i2",
          "shape": "5, 1"
         },
         "hovertemplate": "<b>%{hovertext}</b><br><br>family=gcvit<br>secs=%{x}<br>top1=%{y}<br>size=%{marker.size}<br>infer_img_size=%{customdata[0]}<extra></extra>",
         "hovertext": [
          "gcvit_xxtiny.in1k",
          "gcvit_xtiny.in1k",
          "gcvit_tiny.in1k",
          "gcvit_small.in1k",
          "gcvit_base.in1k"
         ],
         "legendgroup": "gcvit",
         "marker": {
          "color": "#ab63fa",
          "size": {
           "bdata": "AMQAAADEAAAAxAAAAMQAAADEAAA=",
           "dtype": "i4"
          },
          "sizemode": "area",
          "sizeref": 655.36,
          "symbol": "circle"
         },
         "mode": "markers",
         "name": "gcvit",
         "orientation": "v",
         "showlegend": true,
         "type": "scatter",
         "x": {
          "bdata": "ASYTDf6VOT9JBHRS3qJAP7AYqG/KdUg/BOzixt4YVD95GFnFbDJbPw==",
          "dtype": "f8"
         },
         "xaxis": "x",
         "y": {
          "bdata": "AAAAAADwU0DLoUW2831UQJqZmZmZ2VRAJzEIrBz6VECTGARWDh1VQA==",
          "dtype": "f8"
         },
         "yaxis": "y"
        },
        {
         "customdata": {
          "bdata": "AAEAAQAB4ADgAAAB4ADgAOAA4ACAAeAAgAEAAoABgAGAAQACgAGAAQACAAKAAQACAAIAAg==",
          "dtype": "i2",
          "shape": "26, 1"
         },
         "hovertemplate": "<b>%{hovertext}</b><br><br>family=maxvit<br>secs=%{x}<br>top1=%{y}<br>size=%{marker.size}<br>infer_img_size=%{customdata[0]}<extra></extra>",
         "hovertext": [
          "maxvit_rmlp_pico_rw_256.sw_in1k",
          "maxvit_rmlp_nano_rw_256.sw_in1k",
          "maxvit_nano_rw_256.sw_in1k",
          "maxvit_tiny_rw_224.sw_in1k",
          "maxvit_tiny_tf_224.in1k",
          "maxvit_rmlp_tiny_rw_256.sw_in1k",
          "maxvit_rmlp_small_rw_224.sw_in1k",
          "maxvit_small_tf_224.in1k",
          "maxvit_rmlp_base_rw_224.sw_in12k_ft_in1k",
          "maxvit_base_tf_224.in1k",
          "maxvit_tiny_tf_384.in1k",
          "maxvit_large_tf_224.in1k",
          "maxvit_small_tf_384.in1k",
          "maxvit_tiny_tf_512.in1k",
          "maxvit_rmlp_base_rw_384.sw_in12k_ft_in1k",
          "maxvit_base_tf_384.in21k_ft_in1k",
          "maxvit_base_tf_384.in1k",
          "maxvit_small_tf_512.in1k",
          "maxvit_large_tf_384.in21k_ft_in1k",
          "maxvit_large_tf_384.in1k",
          "maxvit_base_tf_512.in21k_ft_in1k",
          "maxvit_base_tf_512.in1k",
          "maxvit_xlarge_tf_384.in21k_ft_in1k",
          "maxvit_large_tf_512.in21k_ft_in1k",
          "maxvit_large_tf_512.in1k",
          "maxvit_xlarge_tf_512.in21k_ft_in1k"
         ],
         "legendgroup": "maxvit",
         "marker": {
          "color": "#FFA15A",
          "size": {
           "bdata": "AAABAAAAAQAAAAEAAMQAAADEAAAAAAEAAMQAAADEAAAAxAAAAMQAAABAAgAAxAAAAEACAAAABAAAQAIAAEACAABAAgAAAAQAAEACAABAAgAAAAQAAAAEAABAAgAAAAQAAAAEAAAABAA=",
           "dtype": "i4"
          },
          "sizemode": "area",
          "sizeref": 655.36,
          "symbol": "circle"
         },
         "mode": "markers",
         "name": "maxvit",
         "orientation": "v",
         "showlegend": true,
         "type": "scatter",
         "x": {
          "bdata": "6LRAs/hPQD+C6sWpjR1FP+5vawMrmEU/Marcj7ZDSD8yRxJtwkxLPyB6BNg21k8/X90gCPARVD/zvO/4yxVVPwP6N82NWmE/O1TC14cMYz+sPIfjMdBnP5ywe+RXLWs/++c1E+9Icj/rNyrhsAR5Pw+FrRnnH38/EEaH1Zm4gD8QRofVmbiAPzAOuAAlLIM/NvwfElexhz82/B8SV7GHP4oXzgOpspE/ihfOA6mykT8YIpujYSyUPzmP4TyG85g/OY/hPIbzmD+x/RjDNQClPw==",
          "dtype": "f8"
         },
         "xaxis": "x",
         "y": {
          "bdata": "MzMzMzMjVEAfhetRuL5UQD81XrpJvFRAxSCwcmjhVEBeukkMAttUQOXQItv5DlVA5dAi2/keVUB3vp8aLx1VQCcxCKwculVASOF6FK43VUBKDAIrh0ZVQLKd76fGO1VAGQRWDi1iVUAK16NwPWpVQIcW2c7381VACKwcWmT7VUCJQWDl0JJVQC2yne+nhlVAObTIdr7/VUDJdr6fGo9VQCGwcmiRDVZAg8DKoUWmVUD6fmq8dBNWQMl2vp8aD1ZAGQRWDi2iVUDD9ShcjyJWQA==",
          "dtype": "f8"
         },
         "yaxis": "y"
        },
        {
         "customdata": {
          "bdata": "4ADgAOAA4ADgAOAA4ADgAOAA4ACAAYABgAE=",
          "dtype": "i2",
          "shape": "13, 1"
         },
         "hovertemplate": "<b>%{hovertext}</b><br><br>family=swin<br>secs=%{x}<br>top1=%{y}<br>size=%{marker.size}<br>infer_img_size=%{customdata[0]}<extra></extra>",
         "hovertext": [
          "swin_tiny_patch4_window7_224.ms_in1k",
          "swin_tiny_patch4_window7_224.ms_in22k_ft_in1k",
          "swin_s3_tiny_224.ms_in1k",
          "swin_small_patch4_window7_224.ms_in22k_ft_in1k",
          "swin_small_patch4_window7_224.ms_in1k",
          "swin_s3_small_224.ms_in1k",
          "swin_base_patch4_window7_224.ms_in22k_ft_in1k",
          "swin_base_patch4_window7_224.ms_in1k",
          "swin_s3_base_224.ms_in1k",
          "swin_large_patch4_window7_224.ms_in22k_ft_in1k",
          "swin_base_patch4_window12_384.ms_in22k_ft_in1k",
          "swin_base_patch4_window12_384.ms_in1k",
          "swin_large_patch4_window12_384.ms_in22k_ft_in1k"
         ],
         "legendgroup": "swin",
         "marker": {
          "color": "#19d3f3",
          "size": {
           "bdata": "AMQAAADEAAAAxAAAAMQAAADEAAAAxAAAAMQAAADEAAAAxAAAAMQAAABAAgAAQAIAAEACAA==",
           "dtype": "i4"
          },
          "sizemode": "area",
          "sizeref": 655.36,
          "symbol": "circle"
         },
         "mode": "markers",
         "name": "swin",
         "orientation": "v",
         "showlegend": true,
         "type": "scatter",
         "x": {
          "bdata": "XZZWX4VsQD9dllZfhWxAP/umTxd3B0I/8TBU4FOESj/xMFTgU4RKP7s03ftwNFI/p+Rj0Wi3Uj+n5GPRaLdSPzkAQNz/V1Y/EHA4Urc9YD9n6u1O3FhxP2fq7U7cWHE/uWFWDw+afT8=",
          "dtype": "f8"
         },
         "xaxis": "x",
         "y": {
          "bdata": "Rrbz/dRYVEDn+6nx0j1UQNV46SYxiFRAhetRuB7VVEA730+Nl85UQG8Sg8DK8VRA4XoUrkdRVUDXo3A9CudUQHsUrkfh+lRAhetRuB6VVUB56SYxCJxVQFg5tMh2HlVARrbz/dTIVUA=",
          "dtype": "f8"
         },
         "yaxis": "y"
        },
        {
         "customdata": {
          "bdata": "IAEgAQ==",
          "dtype": "i2",
          "shape": "2, 1"
         },
         "hovertemplate": "<b>%{hovertext}</b><br><br>family=resnetaa<br>secs=%{x}<br>top1=%{y}<br>size=%{marker.size}<br>infer_img_size=%{customdata[0]}<extra></extra>",
         "hovertext": [
          "resnetaa50.a1h_in1k",
          "resnetaa50.a1h_in1k"
         ],
         "legendgroup": "resnetaa",
         "marker": {
          "color": "#FF6692",
          "size": {
           "bdata": "AEQBAABEAQA=",
           "dtype": "i4"
          },
          "sizemode": "area",
          "sizeref": 655.36,
          "symbol": "circle"
         },
         "mode": "markers",
         "name": "resnetaa",
         "orientation": "v",
         "showlegend": true,
         "type": "scatter",
         "x": {
          "bdata": "cs5GEPK7QD9yzkYQ8rtAPw==",
          "dtype": "f8"
         },
         "xaxis": "x",
         "y": {
          "bdata": "LbKd76dmVECe76fGSydUQA==",
          "dtype": "f8"
         },
         "yaxis": "y"
        },
        {
         "customdata": {
          "bdata": "IAEgASABIAE=",
          "dtype": "i2",
          "shape": "4, 1"
         },
         "hovertemplate": "<b>%{hovertext}</b><br><br>family=regnetv<br>secs=%{x}<br>top1=%{y}<br>size=%{marker.size}<br>infer_img_size=%{customdata[0]}<extra></extra>",
         "hovertext": [
          "regnetv_040.ra3_in1k",
          "regnetv_040.ra3_in1k",
          "regnetv_064.ra3_in1k",
          "regnetv_064.ra3_in1k"
         ],
         "legendgroup": "regnetv",
         "marker": {
          "color": "#B6E880",
          "size": {
           "bdata": "AEQBAABEAQAARAEAAEQBAA==",
           "dtype": "i4"
          },
          "sizemode": "area",
          "sizeref": 655.36,
          "symbol": "circle"
         },
         "mode": "markers",
         "name": "regnetv",
         "orientation": "v",
         "showlegend": true,
         "type": "scatter",
         "x": {
          "bdata": "r0a3L454Qz+vRrcvjnhDP6Qohi4RG1k/pCiGLhEbWT8=",
          "dtype": "f8"
         },
         "xaxis": "x",
         "y": {
          "bdata": "zczMzMzMVEDpJjEIrJxUQB1aZDvf71RAZDvfT43HVEA=",
          "dtype": "f8"
         },
         "yaxis": "y"
        },
        {
         "customdata": {
          "bdata": "4AAAAeAA4AAAAQABAAEAAQAB",
          "dtype": "i2",
          "shape": "9, 1"
         },
         "hovertemplate": "<b>%{hovertext}</b><br><br>family=swinv2<br>secs=%{x}<br>top1=%{y}<br>size=%{marker.size}<br>infer_img_size=%{customdata[0]}<extra></extra>",
         "hovertext": [
          "swinv2_cr_tiny_ns_224.sw_in1k",
          "swinv2_tiny_window8_256.ms_in1k",
          "swinv2_cr_small_224.sw_in1k",
          "swinv2_cr_small_ns_224.sw_in1k",
          "swinv2_tiny_window16_256.ms_in1k",
          "swinv2_small_window8_256.ms_in1k",
          "swinv2_base_window8_256.ms_in1k",
          "swinv2_small_window16_256.ms_in1k",
          "swinv2_base_window16_256.ms_in1k"
         ],
         "legendgroup": "swinv2",
         "marker": {
          "color": "#FF97FF",
          "size": {
           "bdata": "AMQAAAAAAQAAxAAAAMQAAAAAAQAAAAEAAAABAAAAAQAAAAEA",
           "dtype": "i4"
          },
          "sizemode": "area",
          "sizeref": 655.36,
          "symbol": "circle"
         },
         "mode": "markers",
         "name": "swinv2",
         "orientation": "v",
         "showlegend": true,
         "type": "scatter",
         "x": {
          "bdata": "032xqnh5RD/CR487KE5LPxusgD5GTFA/NMPP6q58UD/yBPqBPPZUP5ChLe0UFVY/4VxKyNjOXj+0pp/i6sBgPyn8w+qzvWY/",
          "dtype": "f8"
         },
         "xaxis": "x",
         "y": {
          "bdata": "bef7qfFyVEDb+X5qvHRUQPLSTWIQyFRAj8L1KFzfVECiRbbz/bRUQLx0kxgE9lRAObTIdr4PVUDn+6nx0g1VQPT91HjpJlVA",
          "dtype": "f8"
         },
         "yaxis": "y"
        },
        {
         "customdata": {
          "bdata": "4ADgAOAA4AA=",
          "dtype": "i2",
          "shape": "4, 1"
         },
         "hovertemplate": "<b>%{hovertext}</b><br><br>family=mvitv2<br>secs=%{x}<br>top1=%{y}<br>size=%{marker.size}<br>infer_img_size=%{customdata[0]}<extra></extra>",
         "hovertext": [
          "mvitv2_tiny.fb_in1k",
          "mvitv2_small.fb_in1k",
          "mvitv2_base.fb_in1k",
          "mvitv2_large.fb_in1k"
         ],
         "legendgroup": "mvitv2",
         "marker": {
          "color": "#FECB52",
          "size": {
           "bdata": "AMQAAADEAAAAxAAAAMQAAA==",
           "dtype": "i4"
          },
          "sizemode": "area",
          "sizeref": 655.36,
          "symbol": "circle"
         },
         "mode": "markers",
         "name": "mvitv2",
         "orientation": "v",
         "showlegend": true,
         "type": "scatter",
         "x": {
          "bdata": "lZ2+/txPRT/FgsnWB5JMP4wlmUXjX1Q/jgaAxnhicD8=",
          "dtype": "f8"
         },
         "xaxis": "x",
         "y": {
          "bdata": "JzEIrByaVEDFILByaPFUQHnpJjEIHFVAN4lBYOVQVUA=",
          "dtype": "f8"
         },
         "yaxis": "y"
        },
        {
         "customdata": {
          "bdata": "AAEAAQ==",
          "dtype": "i2",
          "shape": "2, 1"
         },
         "hovertemplate": "<b>%{hovertext}</b><br><br>family=maxxvit<br>secs=%{x}<br>top1=%{y}<br>size=%{marker.size}<br>infer_img_size=%{customdata[0]}<extra></extra>",
         "hovertext": [
          "maxxvit_rmlp_nano_rw_256.sw_in1k",
          "maxxvit_rmlp_small_rw_256.sw_in1k"
         ],
         "legendgroup": "maxxvit",
         "marker": {
          "color": "#636efa",
          "size": {
           "bdata": "AAABAAAAAQA=",
           "dtype": "i4"
          },
          "sizemode": "area",
          "sizeref": 655.36,
          "symbol": "circle"
         },
         "mode": "markers",
         "name": "maxxvit",
         "orientation": "v",
         "showlegend": true,
         "type": "scatter",
         "x": {
          "bdata": "1g3/6T9QSD9B0H9X0sJbPw==",
          "dtype": "f8"
         },
         "xaxis": "x",
         "y": {
          "bdata": "i2zn+6nBVEApXI/C9ShVQA==",
          "dtype": "f8"
         },
         "yaxis": "y"
        },
        {
         "customdata": {
          "bdata": "AAHgAIAB",
          "dtype": "i2",
          "shape": "3, 1"
         },
         "hovertemplate": "<b>%{hovertext}</b><br><br>family=maxxvitv2<br>secs=%{x}<br>top1=%{y}<br>size=%{marker.size}<br>infer_img_size=%{customdata[0]}<extra></extra>",
         "hovertext": [
          "maxxvitv2_nano_rw_256.sw_in1k",
          "maxxvitv2_rmlp_base_rw_224.sw_in12k_ft_in1k",
          "maxxvitv2_rmlp_base_rw_384.sw_in12k_ft_in1k"
         ],
         "legendgroup": "maxxvitv2",
         "marker": {
          "color": "#EF553B",
          "size": {
           "bdata": "AAABAADEAAAAQAIA",
           "dtype": "i4"
          },
          "sizemode": "area",
          "sizeref": 655.36,
          "symbol": "circle"
         },
         "mode": "markers",
         "name": "maxxvitv2",
         "orientation": "v",
         "showlegend": true,
         "type": "scatter",
         "x": {
          "bdata": "Qq8Q/zUDSj9o4Jl8NSpfP4BUrPxbnXo/",
          "dtype": "f8"
         },
         "xaxis": "x",
         "y": {
          "bdata": "LbKd76fGVEBGtvP91KhVQDvfT42X3lVA",
          "dtype": "f8"
         },
         "yaxis": "y"
        },
        {
         "customdata": {
          "bdata": "4ADgAIABgAEAAg==",
          "dtype": "i2",
          "shape": "5, 1"
         },
         "hovertemplate": "<b>%{hovertext}</b><br><br>family=beit<br>secs=%{x}<br>top1=%{y}<br>size=%{marker.size}<br>infer_img_size=%{customdata[0]}<extra></extra>",
         "hovertext": [
          "beit_base_patch16_224.in22k_ft_in22k_in1k",
          "beit_large_patch16_224.in22k_ft_in22k_in1k",
          "beit_base_patch16_384.in22k_ft_in22k_in1k",
          "beit_large_patch16_384.in22k_ft_in22k_in1k",
          "beit_large_patch16_512.in22k_ft_in22k_in1k"
         ],
         "legendgroup": "beit",
         "marker": {
          "color": "#00cc96",
          "size": {
           "bdata": "AMQAAADEAAAAQAIAAEACAAAABAA=",
           "dtype": "i4"
          },
          "sizemode": "area",
          "sizeref": 655.36,
          "symbol": "circle"
         },
         "mode": "markers",
         "name": "beit",
         "orientation": "v",
         "showlegend": true,
         "type": "scatter",
         "x": {
          "bdata": "uIsw5vJ1TT92awEkaLdmP2kqaPfCWm8/kjM7ACUghz/IVCar3vucPw==",
          "dtype": "f8"
         },
         "xaxis": "x",
         "y": {
          "bdata": "Vg4tsp1PVUCsHFpkO99VQE5iEFg5tFVAnMQgsHIYVkCiRbbz/SRWQA==",
          "dtype": "f8"
         },
         "yaxis": "y"
        },
        {
         "customdata": {
          "bdata": "4ADgAOAA4AA=",
          "dtype": "i2",
          "shape": "4, 1"
         },
         "hovertemplate": "<b>%{hovertext}</b><br><br>family=beitv2<br>secs=%{x}<br>top1=%{y}<br>size=%{marker.size}<br>infer_img_size=%{customdata[0]}<extra></extra>",
         "hovertext": [
          "beitv2_base_patch16_224.in1k_ft_in22k_in1k",
          "beitv2_base_patch16_224.in1k_ft_in1k",
          "beitv2_large_patch16_224.in1k_ft_in22k_in1k",
          "beitv2_large_patch16_224.in1k_ft_in1k"
         ],
         "legendgroup": "beitv2",
         "marker": {
          "color": "#ab63fa",
          "size": {
           "bdata": "AMQAAADEAAAAxAAAAMQAAA==",
           "dtype": "i4"
          },
          "sizemode": "area",
          "sizeref": 655.36,
          "symbol": "circle"
         },
         "mode": "markers",
         "name": "beitv2",
         "orientation": "v",
         "showlegend": true,
         "type": "scatter",
         "x": {
          "bdata": "8MbJhzCPTT/wxsmHMI9NP1zvY0oNuGY/XO9jSg24Zj8=",
          "dtype": "f8"
         },
         "xaxis": "x",
         "y": {
          "bdata": "Vg4tsp2fVUCgGi/dJGZVQESLbOf7GVZA0SLb+X7aVUA=",
          "dtype": "f8"
         },
         "yaxis": "y"
        },
        {
         "customdata": {
          "bdata": "IAEgAQ==",
          "dtype": "i2",
          "shape": "2, 1"
         },
         "hovertemplate": "<b>%{hovertext}</b><br><br>family=resnetv2d<br>secs=%{x}<br>top1=%{y}<br>size=%{marker.size}<br>infer_img_size=%{customdata[0]}<extra></extra>",
         "hovertext": [
          "resnetv2_50d_evos.ah_in1k",
          "resnetv2_50d_evos.ah_in1k"
         ],
         "legendgroup": "resnetv2d",
         "marker": {
          "color": "#FFA15A",
          "size": {
           "bdata": "AEQBAABEAQA=",
           "dtype": "i4"
          },
          "sizemode": "area",
          "sizeref": 655.36,
          "symbol": "circle"
         },
         "mode": "markers",
         "name": "resnetv2d",
         "orientation": "v",
         "showlegend": true,
         "type": "scatter",
         "x": {
          "bdata": "mRlW1aYqUz+ZGVbVpipTPw==",
          "dtype": "f8"
         },
         "xaxis": "x",
         "y": {
          "bdata": "AAAAAACAVECiRbbz/TRUQA==",
          "dtype": "f8"
         },
         "yaxis": "y"
        }
       ],
       "layout": {
        "height": 800,
        "legend": {
         "itemsizing": "constant",
         "title": {
          "text": "family"
         },
         "tracegroupgap": 0
        },
        "template": {
         "data": {
          "bar": [
           {
            "error_x": {
             "color": "#2a3f5f"
            },
            "error_y": {
             "color": "#2a3f5f"
            },
            "marker": {
             "line": {
              "color": "#E5ECF6",
              "width": 0.5
             },
             "pattern": {
              "fillmode": "overlay",
              "size": 10,
              "solidity": 0.2
             }
            },
            "type": "bar"
           }
          ],
          "barpolar": [
           {
            "marker": {
             "line": {
              "color": "#E5ECF6",
              "width": 0.5
             },
             "pattern": {
              "fillmode": "overlay",
              "size": 10,
              "solidity": 0.2
             }
            },
            "type": "barpolar"
           }
          ],
          "carpet": [
           {
            "aaxis": {
             "endlinecolor": "#2a3f5f",
             "gridcolor": "white",
             "linecolor": "white",
             "minorgridcolor": "white",
             "startlinecolor": "#2a3f5f"
            },
            "baxis": {
             "endlinecolor": "#2a3f5f",
             "gridcolor": "white",
             "linecolor": "white",
             "minorgridcolor": "white",
             "startlinecolor": "#2a3f5f"
            },
            "type": "carpet"
           }
          ],
          "choropleth": [
           {
            "colorbar": {
             "outlinewidth": 0,
             "ticks": ""
            },
            "type": "choropleth"
           }
          ],
          "contour": [
           {
            "colorbar": {
             "outlinewidth": 0,
             "ticks": ""
            },
            "colorscale": [
             [
              0,
              "#0d0887"
             ],
             [
              0.1111111111111111,
              "#46039f"
             ],
             [
              0.2222222222222222,
              "#7201a8"
             ],
             [
              0.3333333333333333,
              "#9c179e"
             ],
             [
              0.4444444444444444,
              "#bd3786"
             ],
             [
              0.5555555555555556,
              "#d8576b"
             ],
             [
              0.6666666666666666,
              "#ed7953"
             ],
             [
              0.7777777777777778,
              "#fb9f3a"
             ],
             [
              0.8888888888888888,
              "#fdca26"
             ],
             [
              1,
              "#f0f921"
             ]
            ],
            "type": "contour"
           }
          ],
          "contourcarpet": [
           {
            "colorbar": {
             "outlinewidth": 0,
             "ticks": ""
            },
            "type": "contourcarpet"
           }
          ],
          "heatmap": [
           {
            "colorbar": {
             "outlinewidth": 0,
             "ticks": ""
            },
            "colorscale": [
             [
              0,
              "#0d0887"
             ],
             [
              0.1111111111111111,
              "#46039f"
             ],
             [
              0.2222222222222222,
              "#7201a8"
             ],
             [
              0.3333333333333333,
              "#9c179e"
             ],
             [
              0.4444444444444444,
              "#bd3786"
             ],
             [
              0.5555555555555556,
              "#d8576b"
             ],
             [
              0.6666666666666666,
              "#ed7953"
             ],
             [
              0.7777777777777778,
              "#fb9f3a"
             ],
             [
              0.8888888888888888,
              "#fdca26"
             ],
             [
              1,
              "#f0f921"
             ]
            ],
            "type": "heatmap"
           }
          ],
          "histogram": [
           {
            "marker": {
             "pattern": {
              "fillmode": "overlay",
              "size": 10,
              "solidity": 0.2
             }
            },
            "type": "histogram"
           }
          ],
          "histogram2d": [
           {
            "colorbar": {
             "outlinewidth": 0,
             "ticks": ""
            },
            "colorscale": [
             [
              0,
              "#0d0887"
             ],
             [
              0.1111111111111111,
              "#46039f"
             ],
             [
              0.2222222222222222,
              "#7201a8"
             ],
             [
              0.3333333333333333,
              "#9c179e"
             ],
             [
              0.4444444444444444,
              "#bd3786"
             ],
             [
              0.5555555555555556,
              "#d8576b"
             ],
             [
              0.6666666666666666,
              "#ed7953"
             ],
             [
              0.7777777777777778,
              "#fb9f3a"
             ],
             [
              0.8888888888888888,
              "#fdca26"
             ],
             [
              1,
              "#f0f921"
             ]
            ],
            "type": "histogram2d"
           }
          ],
          "histogram2dcontour": [
           {
            "colorbar": {
             "outlinewidth": 0,
             "ticks": ""
            },
            "colorscale": [
             [
              0,
              "#0d0887"
             ],
             [
              0.1111111111111111,
              "#46039f"
             ],
             [
              0.2222222222222222,
              "#7201a8"
             ],
             [
              0.3333333333333333,
              "#9c179e"
             ],
             [
              0.4444444444444444,
              "#bd3786"
             ],
             [
              0.5555555555555556,
              "#d8576b"
             ],
             [
              0.6666666666666666,
              "#ed7953"
             ],
             [
              0.7777777777777778,
              "#fb9f3a"
             ],
             [
              0.8888888888888888,
              "#fdca26"
             ],
             [
              1,
              "#f0f921"
             ]
            ],
            "type": "histogram2dcontour"
           }
          ],
          "mesh3d": [
           {
            "colorbar": {
             "outlinewidth": 0,
             "ticks": ""
            },
            "type": "mesh3d"
           }
          ],
          "parcoords": [
           {
            "line": {
             "colorbar": {
              "outlinewidth": 0,
              "ticks": ""
             }
            },
            "type": "parcoords"
           }
          ],
          "pie": [
           {
            "automargin": true,
            "type": "pie"
           }
          ],
          "scatter": [
           {
            "fillpattern": {
             "fillmode": "overlay",
             "size": 10,
             "solidity": 0.2
            },
            "type": "scatter"
           }
          ],
          "scatter3d": [
           {
            "line": {
             "colorbar": {
              "outlinewidth": 0,
              "ticks": ""
             }
            },
            "marker": {
             "colorbar": {
              "outlinewidth": 0,
              "ticks": ""
             }
            },
            "type": "scatter3d"
           }
          ],
          "scattercarpet": [
           {
            "marker": {
             "colorbar": {
              "outlinewidth": 0,
              "ticks": ""
             }
            },
            "type": "scattercarpet"
           }
          ],
          "scattergeo": [
           {
            "marker": {
             "colorbar": {
              "outlinewidth": 0,
              "ticks": ""
             }
            },
            "type": "scattergeo"
           }
          ],
          "scattergl": [
           {
            "marker": {
             "colorbar": {
              "outlinewidth": 0,
              "ticks": ""
             }
            },
            "type": "scattergl"
           }
          ],
          "scattermap": [
           {
            "marker": {
             "colorbar": {
              "outlinewidth": 0,
              "ticks": ""
             }
            },
            "type": "scattermap"
           }
          ],
          "scattermapbox": [
           {
            "marker": {
             "colorbar": {
              "outlinewidth": 0,
              "ticks": ""
             }
            },
            "type": "scattermapbox"
           }
          ],
          "scatterpolar": [
           {
            "marker": {
             "colorbar": {
              "outlinewidth": 0,
              "ticks": ""
             }
            },
            "type": "scatterpolar"
           }
          ],
          "scatterpolargl": [
           {
            "marker": {
             "colorbar": {
              "outlinewidth": 0,
              "ticks": ""
             }
            },
            "type": "scatterpolargl"
           }
          ],
          "scatterternary": [
           {
            "marker": {
             "colorbar": {
              "outlinewidth": 0,
              "ticks": ""
             }
            },
            "type": "scatterternary"
           }
          ],
          "surface": [
           {
            "colorbar": {
             "outlinewidth": 0,
             "ticks": ""
            },
            "colorscale": [
             [
              0,
              "#0d0887"
             ],
             [
              0.1111111111111111,
              "#46039f"
             ],
             [
              0.2222222222222222,
              "#7201a8"
             ],
             [
              0.3333333333333333,
              "#9c179e"
             ],
             [
              0.4444444444444444,
              "#bd3786"
             ],
             [
              0.5555555555555556,
              "#d8576b"
             ],
             [
              0.6666666666666666,
              "#ed7953"
             ],
             [
              0.7777777777777778,
              "#fb9f3a"
             ],
             [
              0.8888888888888888,
              "#fdca26"
             ],
             [
              1,
              "#f0f921"
             ]
            ],
            "type": "surface"
           }
          ],
          "table": [
           {
            "cells": {
             "fill": {
              "color": "#EBF0F8"
             },
             "line": {
              "color": "white"
             }
            },
            "header": {
             "fill": {
              "color": "#C8D4E3"
             },
             "line": {
              "color": "white"
             }
            },
            "type": "table"
           }
          ]
         },
         "layout": {
          "annotationdefaults": {
           "arrowcolor": "#2a3f5f",
           "arrowhead": 0,
           "arrowwidth": 1
          },
          "autotypenumbers": "strict",
          "coloraxis": {
           "colorbar": {
            "outlinewidth": 0,
            "ticks": ""
           }
          },
          "colorscale": {
           "diverging": [
            [
             0,
             "#8e0152"
            ],
            [
             0.1,
             "#c51b7d"
            ],
            [
             0.2,
             "#de77ae"
            ],
            [
             0.3,
             "#f1b6da"
            ],
            [
             0.4,
             "#fde0ef"
            ],
            [
             0.5,
             "#f7f7f7"
            ],
            [
             0.6,
             "#e6f5d0"
            ],
            [
             0.7,
             "#b8e186"
            ],
            [
             0.8,
             "#7fbc41"
            ],
            [
             0.9,
             "#4d9221"
            ],
            [
             1,
             "#276419"
            ]
           ],
           "sequential": [
            [
             0,
             "#0d0887"
            ],
            [
             0.1111111111111111,
             "#46039f"
            ],
            [
             0.2222222222222222,
             "#7201a8"
            ],
            [
             0.3333333333333333,
             "#9c179e"
            ],
            [
             0.4444444444444444,
             "#bd3786"
            ],
            [
             0.5555555555555556,
             "#d8576b"
            ],
            [
             0.6666666666666666,
             "#ed7953"
            ],
            [
             0.7777777777777778,
             "#fb9f3a"
            ],
            [
             0.8888888888888888,
             "#fdca26"
            ],
            [
             1,
             "#f0f921"
            ]
           ],
           "sequentialminus": [
            [
             0,
             "#0d0887"
            ],
            [
             0.1111111111111111,
             "#46039f"
            ],
            [
             0.2222222222222222,
             "#7201a8"
            ],
            [
             0.3333333333333333,
             "#9c179e"
            ],
            [
             0.4444444444444444,
             "#bd3786"
            ],
            [
             0.5555555555555556,
             "#d8576b"
            ],
            [
             0.6666666666666666,
             "#ed7953"
            ],
            [
             0.7777777777777778,
             "#fb9f3a"
            ],
            [
             0.8888888888888888,
             "#fdca26"
            ],
            [
             1,
             "#f0f921"
            ]
           ]
          },
          "colorway": [
           "#636efa",
           "#EF553B",
           "#00cc96",
           "#ab63fa",
           "#FFA15A",
           "#19d3f3",
           "#FF6692",
           "#B6E880",
           "#FF97FF",
           "#FECB52"
          ],
          "font": {
           "color": "#2a3f5f"
          },
          "geo": {
           "bgcolor": "white",
           "lakecolor": "white",
           "landcolor": "#E5ECF6",
           "showlakes": true,
           "showland": true,
           "subunitcolor": "white"
          },
          "hoverlabel": {
           "align": "left"
          },
          "hovermode": "closest",
          "mapbox": {
           "style": "light"
          },
          "paper_bgcolor": "white",
          "plot_bgcolor": "#E5ECF6",
          "polar": {
           "angularaxis": {
            "gridcolor": "white",
            "linecolor": "white",
            "ticks": ""
           },
           "bgcolor": "#E5ECF6",
           "radialaxis": {
            "gridcolor": "white",
            "linecolor": "white",
            "ticks": ""
           }
          },
          "scene": {
           "xaxis": {
            "backgroundcolor": "#E5ECF6",
            "gridcolor": "white",
            "gridwidth": 2,
            "linecolor": "white",
            "showbackground": true,
            "ticks": "",
            "zerolinecolor": "white"
           },
           "yaxis": {
            "backgroundcolor": "#E5ECF6",
            "gridcolor": "white",
            "gridwidth": 2,
            "linecolor": "white",
            "showbackground": true,
            "ticks": "",
            "zerolinecolor": "white"
           },
           "zaxis": {
            "backgroundcolor": "#E5ECF6",
            "gridcolor": "white",
            "gridwidth": 2,
            "linecolor": "white",
            "showbackground": true,
            "ticks": "",
            "zerolinecolor": "white"
           }
          },
          "shapedefaults": {
           "line": {
            "color": "#2a3f5f"
           }
          },
          "ternary": {
           "aaxis": {
            "gridcolor": "white",
            "linecolor": "white",
            "ticks": ""
           },
           "baxis": {
            "gridcolor": "white",
            "linecolor": "white",
            "ticks": ""
           },
           "bgcolor": "#E5ECF6",
           "caxis": {
            "gridcolor": "white",
            "linecolor": "white",
            "ticks": ""
           }
          },
          "title": {
           "x": 0.05
          },
          "xaxis": {
           "automargin": true,
           "gridcolor": "white",
           "linecolor": "white",
           "ticks": "",
           "title": {
            "standoff": 15
           },
           "zerolinecolor": "white",
           "zerolinewidth": 2
          },
          "yaxis": {
           "automargin": true,
           "gridcolor": "white",
           "linecolor": "white",
           "ticks": "",
           "title": {
            "standoff": 15
           },
           "zerolinecolor": "white",
           "zerolinewidth": 2
          }
         }
        },
        "title": {
         "text": "Inference"
        },
        "width": 1000,
        "xaxis": {
         "anchor": "y",
         "domain": [
          0,
          1
         ],
         "title": {
          "text": "secs"
         },
         "type": "log"
        },
        "yaxis": {
         "anchor": "x",
         "domain": [
          0,
          1
         ],
         "title": {
          "text": "top1"
         }
        }
       }
      }
     },
     "metadata": {},
     "output_type": "display_data"
    }
   ],
   "source": [
    "show_all(df, 'Inference', 'infer_img_size')"
   ]
  },
  {
   "cell_type": "markdown",
   "metadata": {},
   "source": [
    "That number of families can be a bit overwhelming, so I'll just pick a subset which represents a single key model from each of the families that are looking best in our plot. I've also separated convnext models into those which have been pretrained on the larger 22,000 category imagenet sample (`convnext_in22`) vs those that haven't (`convnext`). (Note that many of the best performing models were trained on the larger sample -- see the papers for details before coming to conclusions about the effectiveness of these architectures more generally.)"
   ]
  },
  {
   "cell_type": "code",
   "execution_count": 37,
   "metadata": {
    "execution": {
     "iopub.execute_input": "2023-06-06T00:05:52.051461Z",
     "iopub.status.busy": "2023-06-06T00:05:52.051049Z",
     "iopub.status.idle": "2023-06-06T00:05:52.055869Z",
     "shell.execute_reply": "2023-06-06T00:05:52.055061Z",
     "shell.execute_reply.started": "2023-06-06T00:05:52.051412Z"
    },
    "trusted": true
   },
   "outputs": [],
   "source": [
    "subs = 'levit|resnetd?|regnetx|vgg|convnext.*|efficientnetv2|beit|swin'"
   ]
  },
  {
   "cell_type": "markdown",
   "metadata": {},
   "source": [
    "In this chart, I'll add lines through the points of each family, to help see how they compare -- but note that we can see that a linear fit isn't actually ideal here! It's just there to help visually see the groups."
   ]
  },
  {
   "cell_type": "code",
   "execution_count": 38,
   "metadata": {
    "execution": {
     "iopub.execute_input": "2023-06-06T00:06:02.078455Z",
     "iopub.status.busy": "2023-06-06T00:06:02.077312Z",
     "iopub.status.idle": "2023-06-06T00:06:02.085761Z",
     "shell.execute_reply": "2023-06-06T00:06:02.084577Z",
     "shell.execute_reply.started": "2023-06-06T00:06:02.078388Z"
    },
    "trusted": true
   },
   "outputs": [],
   "source": [
    "def show_subs(df, title, size):\n",
    "    df_subs = df[df.family.str.fullmatch(subs)]\n",
    "    return px.scatter(df_subs, width=w, height=h, size=df_subs[size]**2, title=title,\n",
    "        trendline=\"ols\", trendline_options={'log_x':True},\n",
    "        x='secs',  y='top1', log_x=True, color='family', hover_name='model_org', hover_data=[size])"
   ]
  },
  {
   "cell_type": "code",
   "execution_count": 39,
   "metadata": {
    "execution": {
     "iopub.execute_input": "2023-06-06T00:06:02.449211Z",
     "iopub.status.busy": "2023-06-06T00:06:02.448821Z",
     "iopub.status.idle": "2023-06-06T00:06:02.657088Z",
     "shell.execute_reply": "2023-06-06T00:06:02.656158Z",
     "shell.execute_reply.started": "2023-06-06T00:06:02.449169Z"
    },
    "trusted": true
   },
   "outputs": [
    {
     "data": {
      "application/vnd.plotly.v1+json": {
       "config": {
        "plotlyServerURL": "https://plot.ly"
       },
       "data": [
        {
         "customdata": {
          "bdata": "4ADgAOAA4ADgAOAA4ADgAOAA4ADgAOAA4ADgAOAA4ADgAOAA",
          "dtype": "i2",
          "shape": "18, 1"
         },
         "hovertemplate": "<b>%{hovertext}</b><br><br>family=regnetx<br>secs=%{x}<br>top1=%{y}<br>size=%{marker.size}<br>infer_img_size=%{customdata[0]}<extra></extra>",
         "hovertext": [
          "regnetx_002.pycls_in1k",
          "regnetx_004.pycls_in1k",
          "regnetx_006.pycls_in1k",
          "regnetx_008.tv2_in1k",
          "regnetx_008.pycls_in1k",
          "regnetx_016.tv2_in1k",
          "regnetx_016.pycls_in1k",
          "regnetx_032.tv2_in1k",
          "regnetx_032.pycls_in1k",
          "regnetx_040.pycls_in1k",
          "regnetx_064.pycls_in1k",
          "regnetx_160.tv2_in1k",
          "regnetx_160.pycls_in1k",
          "regnetx_080.tv2_in1k",
          "regnetx_080.pycls_in1k",
          "regnetx_120.pycls_in1k",
          "regnetx_320.tv2_in1k",
          "regnetx_320.pycls_in1k"
         ],
         "legendgroup": "regnetx",
         "marker": {
          "color": "#636efa",
          "size": {
           "bdata": "AMQAAADEAAAAxAAAAMQAAADEAAAAxAAAAMQAAADEAAAAxAAAAMQAAADEAAAAxAAAAMQAAADEAAAAxAAAAMQAAADEAAAAxAAA",
           "dtype": "i4"
          },
          "sizemode": "area",
          "sizeref": 655.36,
          "symbol": "circle"
         },
         "mode": "markers",
         "name": "regnetx",
         "orientation": "v",
         "showlegend": true,
         "type": "scatter",
         "x": {
          "bdata": "crjlrUbcBT/FVVD3xkITP7EZBiitSB8/jdFsrYW5IT+N0WythbkhPwf6TQn+AjE/B/pNCf4CMT/RyZE42vk6P9HJkTja+To/ZUrpY4n0QD+7GVisMCJFP0RjIyZJa0s/RGMjJklrSz+lgIb9eE9QP6WAhv14T1A/MzNFOtCVWT/kg5zOjE1sP+SDnM6MTWw/",
          "dtype": "f8"
         },
         "xaxis": "x",
         "y": {
          "bdata": "cT0K16MwUUDP91PjpRtSQH9qvHSTeFJA30+Nl25SU0CHFtnO98NSQLByaJHt3FNAQmDl0CI7U0AlBoGVQztUQLTIdr6filNAVg4tsp2fU0CkcD0K18NTQL6fGi/dpFRA9P3UeOn2U0CkcD0K12NUQOf7qfHSzVNA9P3UeOnmU0Db+X5qvLRUQFTjpZvEEFRA",
          "dtype": "f8"
         },
         "yaxis": "y"
        },
        {
         "hovertemplate": "<b>OLS trendline</b><br>top1 = 5.80886 * log10(secs) + 97.6491<br>R<sup>2</sup>=0.742497<br><br>family=regnetx<br>secs=%{x}<br>top1=%{y} <b>(trend)</b><extra></extra>",
         "legendgroup": "regnetx",
         "marker": {
          "color": "#636efa",
          "symbol": "circle"
         },
         "mode": "lines",
         "name": "regnetx",
         "showlegend": false,
         "type": "scatter",
         "x": {
          "bdata": "crjlrUbcBT/FVVD3xkITP7EZBiitSB8/jdFsrYW5IT+N0WythbkhPwf6TQn+AjE/B/pNCf4CMT/RyZE42vk6P9HJkTja+To/ZUrpY4n0QD+7GVisMCJFP0RjIyZJa0s/RGMjJklrSz+lgIb9eE9QP6WAhv14T1A/MzNFOtCVWT/kg5zOjE1sP+SDnM6MTWw/",
          "dtype": "f8"
         },
         "xaxis": "x",
         "y": {
          "bdata": "G8kiLT0NUkAx4eD5tWhSQNDAS5cFt1JAUDMHTzTLUkBQMwdPNMtSQLRwCf18NFNAtHAJ/Xw0U0CrPMNW7X5TQKs8w1btflNAP0q5S92jU0AUNUtZbsdTQK8l1Xl48VNAryXVeXjxU0DMyVSJhA1UQMzJVImEDVRAqYyT8jRWVEBVeo9Ea9ZUQFV6j0Rr1lRA",
          "dtype": "f8"
         },
         "yaxis": "y"
        },
        {
         "customdata": {
          "bdata": "4ADgAOAA4ADgAA==",
          "dtype": "i2",
          "shape": "5, 1"
         },
         "hovertemplate": "<b>%{hovertext}</b><br><br>family=levit<br>secs=%{x}<br>top1=%{y}<br>size=%{marker.size}<br>infer_img_size=%{customdata[0]}<extra></extra>",
         "hovertext": [
          "levit_128s.fb_dist_in1k",
          "levit_128.fb_dist_in1k",
          "levit_192.fb_dist_in1k",
          "levit_256.fb_dist_in1k",
          "levit_384.fb_dist_in1k"
         ],
         "legendgroup": "levit",
         "marker": {
          "color": "#EF553B",
          "size": {
           "bdata": "AMQAAADEAAAAxAAAAMQAAADEAAA=",
           "dtype": "i4"
          },
          "sizemode": "area",
          "sizeref": 655.36,
          "symbol": "circle"
         },
         "mode": "markers",
         "name": "levit",
         "orientation": "v",
         "showlegend": true,
         "type": "scatter",
         "x": {
          "bdata": "j/hd7QAfBz+PBHh0bRcRP3yJxWUnYhM/gA0tD3yXGj9FGYnbJUomPw==",
          "dtype": "f8"
         },
         "xaxis": "x",
         "y": {
          "bdata": "xSCwcmghU0DJdr6fGp9TQGZmZmZm9lNAqvHSTWJgVECDwMqhRaZUQA==",
          "dtype": "f8"
         },
         "yaxis": "y"
        },
        {
         "hovertemplate": "<b>OLS trendline</b><br>top1 = 10.6297 * log10(secs) + 123.237<br>R<sup>2</sup>=0.941259<br><br>family=levit<br>secs=%{x}<br>top1=%{y} <b>(trend)</b><extra></extra>",
         "legendgroup": "levit",
         "marker": {
          "color": "#EF553B",
          "symbol": "circle"
         },
         "mode": "lines",
         "name": "levit",
         "showlegend": false,
         "type": "scatter",
         "x": {
          "bdata": "j/hd7QAfBz+PBHh0bRcRP3yJxWUnYhM/gA0tD3yXGj9FGYnbJUomPw==",
          "dtype": "f8"
         },
         "xaxis": "x",
         "y": {
          "bdata": "gbP30Rg8U0DNNdYAna9TQOJJm6LK1FNAgi8uQDUyVECKTduy28pUQA==",
          "dtype": "f8"
         },
         "yaxis": "y"
        },
        {
         "customdata": {
          "bdata": "4ADgAOAA4ADgAOAA4ADgAOAA4ADgAOAA4ADgAOAA4ADgAOAA4ADgAOAA4ADgAOAA4ADgAAABAAHgAOAA4ADgAOAA4ADgAOAA4ADgAOAA4ADgAOAA4ADgAOAA4ADgAOAA4ADgAOAA4ADgAOAA4ADgAOAA4ADgAAABAAEAAQAB4ADgAOAA4ADgAOAA4ADgAOAA4ADgAOAAIAEgASABIAHgAOAA4ADgAOAA4ADgAOAA4ADgAOAA4AA=",
          "dtype": "i2",
          "shape": "91, 1"
         },
         "hovertemplate": "<b>%{hovertext}</b><br><br>family=resnet<br>secs=%{x}<br>top1=%{y}<br>size=%{marker.size}<br>infer_img_size=%{customdata[0]}<extra></extra>",
         "hovertext": [
          "resnet10t.c3_in1k",
          "resnet10t.c3_in1k",
          "resnet18.fb_swsl_ig1b_ft_in1k",
          "resnet18.a1_in1k",
          "resnet18.fb_ssl_yfcc100m_ft_in1k",
          "resnet18.a2_in1k",
          "resnet18.a1_in1k",
          "resnet18.gluon_in1k",
          "resnet18.a2_in1k",
          "resnet18.tv_in1k",
          "resnet18.a3_in1k",
          "resnet18.a3_in1k",
          "resnet14t.c3_in1k",
          "resnet14t.c3_in1k",
          "resnet34.a1_in1k",
          "resnet34.a2_in1k",
          "resnet34.bt_in1k",
          "resnet34.a1_in1k",
          "resnet34.a2_in1k",
          "resnet34.bt_in1k",
          "resnet34.gluon_in1k",
          "resnet34.tv_in1k",
          "resnet34.a3_in1k",
          "resnet34.a3_in1k",
          "resnet26.bt_in1k",
          "resnet26.bt_in1k",
          "resnet26t.ra2_in1k",
          "resnet26t.ra2_in1k",
          "resnet50.a1_in1k",
          "resnet50.fb_swsl_ig1b_ft_in1k",
          "resnet50.d_in1k",
          "resnet50.c1_in1k",
          "resnet50.c2_in1k",
          "resnet50.tv2_in1k",
          "resnet50.a2_in1k",
          "resnet50.b1k_in1k",
          "resnet50.a1h_in1k",
          "resnet50.b2k_in1k",
          "resnet50.a1_in1k",
          "resnet50.ram_in1k",
          "resnet50.d_in1k",
          "resnet50.c2_in1k",
          "resnet50.ra_in1k",
          "resnet50.a2_in1k",
          "resnet50.c1_in1k",
          "resnet50.bt_in1k",
          "resnet50.b1k_in1k",
          "resnet50.tv2_in1k",
          "resnet50.b2k_in1k",
          "resnet50.a1h_in1k",
          "resnet50.fb_ssl_yfcc100m_ft_in1k",
          "resnet50.ram_in1k",
          "resnet50.am_in1k",
          "resnet50.ra_in1k",
          "resnet50.bt_in1k",
          "resnet50.a3_in1k",
          "resnet50.gluon_in1k",
          "resnet50.tv_in1k",
          "resnet50.a3_in1k",
          "resnet32ts.ra2_in1k",
          "resnet32ts.ra2_in1k",
          "resnet33ts.ra2_in1k",
          "resnet33ts.ra2_in1k",
          "resnet101.a1h_in1k",
          "resnet101.a1_in1k",
          "resnet101.a2_in1k",
          "resnet101.a1h_in1k",
          "resnet101.tv2_in1k",
          "resnet101.a1_in1k",
          "resnet101.a2_in1k",
          "resnet101.tv2_in1k",
          "resnet101.a3_in1k",
          "resnet101.gluon_in1k",
          "resnet101.a3_in1k",
          "resnet101.tv_in1k",
          "resnet51q.ra2_in1k",
          "resnet51q.ra2_in1k",
          "resnet61q.ra2_in1k",
          "resnet61q.ra2_in1k",
          "resnet152.a1h_in1k",
          "resnet152.a1h_in1k",
          "resnet152.a1_in1k",
          "resnet152.a2_in1k",
          "resnet152.tv2_in1k",
          "resnet152.a1_in1k",
          "resnet152.a2_in1k",
          "resnet152.a3_in1k",
          "resnet152.tv2_in1k",
          "resnet152.gluon_in1k",
          "resnet152.a3_in1k",
          "resnet152.tv_in1k"
         ],
         "legendgroup": "resnet",
         "marker": {
          "color": "#00cc96",
          "size": {
           "bdata": "AMQAAADEAAAAxAAAAMQAAADEAAAAxAAAAMQAAADEAAAAxAAAAMQAAADEAAAAxAAAAMQAAADEAAAAxAAAAMQAAADEAAAAxAAAAMQAAADEAAAAxAAAAMQAAADEAAAAxAAAAMQAAADEAAAAAAEAAAABAADEAAAAxAAAAMQAAADEAAAAxAAAAMQAAADEAAAAxAAAAMQAAADEAAAAxAAAAMQAAADEAAAAxAAAAMQAAADEAAAAxAAAAMQAAADEAAAAxAAAAMQAAADEAAAAxAAAAMQAAADEAAAAxAAAAMQAAADEAAAAxAAAAMQAAADEAAAAAAEAAAABAAAAAQAAAAEAAMQAAADEAAAAxAAAAMQAAADEAAAAxAAAAMQAAADEAAAAxAAAAMQAAADEAAAAxAAAAEQBAABEAQAARAEAAEQBAADEAAAAxAAAAMQAAADEAAAAxAAAAMQAAADEAAAAxAAAAMQAAADEAAAAxAAAAMQAAA==",
           "dtype": "i4"
          },
          "sizemode": "area",
          "sizeref": 655.36,
          "symbol": "circle"
         },
         "mode": "markers",
         "name": "resnet",
         "orientation": "v",
         "showlegend": true,
         "type": "scatter",
         "x": {
          "bdata": "NjLUUWyTEj82MtRRbJMSPzp5xAQQpxc/OnnEBBCnFz86ecQEEKcXPzp5xAQQpxc/OnnEBBCnFz86ecQEEKcXPzp5xAQQpxc/OnnEBBCnFz86ecQEEKcXPzp5xAQQpxc/OmBF0ESkIT86YEXQRKQhP3iANKgQLSQ/eIA0qBAtJD94gDSoEC0kP3iANKgQLSQ/eIA0qBAtJD94gDSoEC0kP3iANKgQLSQ/eIA0qBAtJD94gDSoEC0kP3iANKgQLSQ/r4aWFtA7Jj+vhpYW0DsmP8cDfqXCojA/xwN+pcKiMD91fDvNN90xP3V8O8033TE/dXw7zTfdMT91fDvNN90xP3V8O8033TE/dXw7zTfdMT91fDvNN90xP3V8O8033TE/dXw7zTfdMT91fDvNN90xP3V8O8033TE/dXw7zTfdMT91fDvNN90xP3V8O8033TE/dXw7zTfdMT91fDvNN90xP3V8O8033TE/dXw7zTfdMT91fDvNN90xP3V8O8033TE/dXw7zTfdMT91fDvNN90xP3V8O8033TE/dXw7zTfdMT91fDvNN90xP3V8O8033TE/dXw7zTfdMT91fDvNN90xP3V8O8033TE/dXw7zTfdMT91fDvNN90xP9/psHqewzI/3+mwep7DMj9iQXNB0O8yP2JBc0HQ7zI/NL69czMFPT80vr1zMwU9PzS+vXMzBT0/NL69czMFPT80vr1zMwU9PzS+vXMzBT0/NL69czMFPT80vr1zMwU9PzS+vXMzBT0/NL69czMFPT80vr1zMwU9PzS+vXMzBT0/tiF6j1wbQD+2IXqPXBtAP6pyyLt4ykE/qnLIu3jKQT80rbz+0blEPzStvP7RuUQ/NK28/tG5RD80rbz+0blEPzStvP7RuUQ/NK28/tG5RD80rbz+0blEPzStvP7RuUQ/NK28/tG5RD80rbz+0blEPzStvP7RuUQ/NK28/tG5RD8=",
          "dtype": "f8"
         },
         "xaxis": "x",
         "y": {
          "bdata": "oBov3SQWUUB1kxgEVq5QQN9PjZduUlJA0SLb+X5KUkBiEFg5tChSQLpJDAIrF1JArBxaZDvfUUC8dJMYBLZRQH9qvHSTqFFA46WbxCBwUUA5tMh2vg9RQNEi2/l+alBAc2iR7XwPUkAxCKwcWtRRQHnpJjEIfFNAtvP91HhJU0CNl24SgyBTQNEi2/l+GlNAGy/dJAbhUkDufD81XspSQNv5fmq8pFJAUI2XbhJTUkACK4cW2T5SQPhT46WbpFFA1XjpJjEYU0Cmm8QgsNJSQIXrUbgelVNAf2q8dJN4U0CPwvUoXE9UQNNNYhBYSVRAVOOlm8RAVEAIrBxaZDtUQBBYObTINlRAvHSTGAQ2VEBSuB6F6zFUQHe+nxovLVRAfT81XropVECuR+F6FB5UQJzEILByGFRAdZMYBFb+U0Bg5dAi2/lTQGQ730+N91NA16NwPQr3U0CiRbbz/fRTQBsv3SQG8VNAfT81XrrpU0BqvHSTGORTQM/3U+Ol21NAuB6F61HYU0BxPQrXo9BTQOOlm8Qg0FNANV66SQzCU0DHSzeJQcBTQGq8dJMYtFNAz/dT46WbU0AX2c73U4NTQIXrUbgeZVNARIts5/sJU0BWDi2ynf9SQEa28/3U2FNA+n5qvHTDU0BaZDvfT+1TQOf7qfHSzVNAF9nO91OzVED4U+Olm5RUQHWTGARWjlRAzczMzMx8VEBEi2zn+3lUQFYOLbKdX1RAvHSTGARWVEBEi2zn+/lTQBSuR+F69FNA3SQGgZXTU0AIrBxaZHtTQGDl0CLbWVNAEFg5tMiWVEBvEoPAynFUQKjGSzeJoVRA5/up8dJ9VEBWDi2ynd9UQDEIrBxatFRAVg4tsp2vVEBI4XoUrqdUQIlBYOXQklRAHVpkO99/VEA3iUFg5XBUQFCNl24SI1RAIbByaJENVEAhsHJoke1TQNNNYhBYuVNAhetRuB6VU0A=",
          "dtype": "f8"
         },
         "yaxis": "y"
        },
        {
         "hovertemplate": "<b>OLS trendline</b><br>top1 = 13.4691 * log10(secs) + 126.269<br>R<sup>2</sup>=0.760839<br><br>family=resnet<br>secs=%{x}<br>top1=%{y} <b>(trend)</b><extra></extra>",
         "legendgroup": "resnet",
         "marker": {
          "color": "#00cc96",
          "symbol": "circle"
         },
         "mode": "lines",
         "name": "resnet",
         "showlegend": false,
         "type": "scatter",
         "x": {
          "bdata": "NjLUUWyTEj82MtRRbJMSPzp5xAQQpxc/OnnEBBCnFz86ecQEEKcXPzp5xAQQpxc/OnnEBBCnFz86ecQEEKcXPzp5xAQQpxc/OnnEBBCnFz86ecQEEKcXPzp5xAQQpxc/OmBF0ESkIT86YEXQRKQhP3iANKgQLSQ/eIA0qBAtJD94gDSoEC0kP3iANKgQLSQ/eIA0qBAtJD94gDSoEC0kP3iANKgQLSQ/eIA0qBAtJD94gDSoEC0kP3iANKgQLSQ/r4aWFtA7Jj+vhpYW0DsmP8cDfqXCojA/xwN+pcKiMD91fDvNN90xP3V8O8033TE/dXw7zTfdMT91fDvNN90xP3V8O8033TE/dXw7zTfdMT91fDvNN90xP3V8O8033TE/dXw7zTfdMT91fDvNN90xP3V8O8033TE/dXw7zTfdMT91fDvNN90xP3V8O8033TE/dXw7zTfdMT91fDvNN90xP3V8O8033TE/dXw7zTfdMT91fDvNN90xP3V8O8033TE/dXw7zTfdMT91fDvNN90xP3V8O8033TE/dXw7zTfdMT91fDvNN90xP3V8O8033TE/dXw7zTfdMT91fDvNN90xP3V8O8033TE/dXw7zTfdMT91fDvNN90xP9/psHqewzI/3+mwep7DMj9iQXNB0O8yP2JBc0HQ7zI/NL69czMFPT80vr1zMwU9PzS+vXMzBT0/NL69czMFPT80vr1zMwU9PzS+vXMzBT0/NL69czMFPT80vr1zMwU9PzS+vXMzBT0/NL69czMFPT80vr1zMwU9PzS+vXMzBT0/tiF6j1wbQD+2IXqPXBtAP6pyyLt4ykE/qnLIu3jKQT80rbz+0blEPzStvP7RuUQ/NK28/tG5RD80rbz+0blEPzStvP7RuUQ/NK28/tG5RD80rbz+0blEPzStvP7RuUQ/NK28/tG5RD80rbz+0blEPzStvP7RuUQ/NK28/tG5RD8=",
          "dtype": "f8"
         },
         "xaxis": "x",
         "y": {
          "bdata": "pJbiliiYUUCkluKWKJhRQD5Exyec8lFAPkTHJ5zyUUA+RMcnnPJRQD5Exyec8lFAPkTHJ5zyUUA+RMcnnPJRQD5Exyec8lFAPkTHJ5zyUUA+RMcnnPJRQD5Exyec8lFAblPl3lWIUkBuU+XeVYhSQPLzQHyWulJA8vNAfJa6UkDy80B8lrpSQPLzQHyWulJA8vNAfJa6UkDy80B8lrpSQPLzQHyWulJA8vNAfJa6UkDy80B8lrpSQPLzQHyWulJApCHeg/HeUkCkId6D8d5SQJlAcuDZdVNAmUBy4Nl1U0Aif45ZhZBTQCJ/jlmFkFNAIn+OWYWQU0Aif45ZhZBTQCJ/jlmFkFNAIn+OWYWQU0Aif45ZhZBTQCJ/jlmFkFNAIn+OWYWQU0Aif45ZhZBTQCJ/jlmFkFNAIn+OWYWQU0Aif45ZhZBTQCJ/jlmFkFNAIn+OWYWQU0Aif45ZhZBTQCJ/jlmFkFNAIn+OWYWQU0Aif45ZhZBTQCJ/jlmFkFNAIn+OWYWQU0Aif45ZhZBTQCJ/jlmFkFNAIn+OWYWQU0Aif45ZhZBTQCJ/jlmFkFNAIn+OWYWQU0Aif45ZhZBTQCJ/jlmFkFNAIn+OWYWQU0Aif45ZhZBTQPjtSxPsolNA+O1LE+yiU0DjwRbJWaZTQOPBFslZplNAqvsqiypGVECq+yqLKkZUQKr7KosqRlRAqvsqiypGVECq+yqLKkZUQKr7KosqRlRAqvsqiypGVECq+yqLKkZUQKr7KosqRlRAqvsqiypGVECq+yqLKkZUQKr7KosqRlRAZkDC5z9tVEBmQMLnP21UQHSPjDV6klRAdI+MNXqSVEAgnq9UpMtUQCCer1Sky1RAIJ6vVKTLVEAgnq9UpMtUQCCer1Sky1RAIJ6vVKTLVEAgnq9UpMtUQCCer1Sky1RAIJ6vVKTLVEAgnq9UpMtUQCCer1Sky1RAIJ6vVKTLVEA=",
          "dtype": "f8"
         },
         "yaxis": "y"
        },
        {
         "customdata": {
          "bdata": "4ADgAOAA4ADgAOAA4ADgAOAA4ADgAOAA4ADgAOAA4ADgAEABQAFAAUABQAFAAUABQAE=",
          "dtype": "i2",
          "shape": "25, 1"
         },
         "hovertemplate": "<b>%{hovertext}</b><br><br>family=resnetd<br>secs=%{x}<br>top1=%{y}<br>size=%{marker.size}<br>infer_img_size=%{customdata[0]}<extra></extra>",
         "hovertext": [
          "resnet18d.ra2_in1k",
          "resnet18d.ra2_in1k",
          "resnet34d.ra2_in1k",
          "resnet34d.ra2_in1k",
          "resnet26d.bt_in1k",
          "resnet26d.bt_in1k",
          "resnet50d.ra4_e3600_r224_in1k",
          "resnet50d.a1_in1k",
          "resnet50d.ra2_in1k",
          "resnet50d.a2_in1k",
          "resnet50d.ra4_e3600_r224_in1k",
          "resnet50d.a1_in1k",
          "resnet50d.ra2_in1k",
          "resnet50d.a2_in1k",
          "resnet50d.gluon_in1k",
          "resnet50d.a3_in1k",
          "resnet50d.a3_in1k",
          "resnet101d.ra2_in1k",
          "resnet101d.ra2_in1k",
          "resnet101d.gluon_in1k",
          "resnet152d.ra2_in1k",
          "resnet152d.ra2_in1k",
          "resnet152d.gluon_in1k",
          "resnet200d.ra2_in1k",
          "resnet200d.ra2_in1k"
         ],
         "legendgroup": "resnetd",
         "marker": {
          "color": "#ab63fa",
          "size": {
           "bdata": "AMQAAADEAAAAxAAAAMQAAADEAAAAxAAAAMQAAADEAAAAxAAAAMQAAADEAAAAxAAAAMQAAADEAAAAxAAAAMQAAADEAAAAkAEAAJABAACQAQAAkAEAAJABAACQAQAAkAEAAJABAA==",
           "dtype": "i4"
          },
          "sizemode": "area",
          "sizeref": 655.36,
          "symbol": "circle"
         },
         "mode": "markers",
         "name": "resnetd",
         "orientation": "v",
         "showlegend": true,
         "type": "scatter",
         "x": {
          "bdata": "XlHJJRUVHD9eUcklFRUcPxXMKcssWCY/FcwpyyxYJj/jUYlnqagpP+NRiWepqCk/OazMc+2NMz85rMxz7Y0zPzmszHPtjTM/OazMc+2NMz85rMxz7Y0zPzmszHPtjTM/OazMc+2NMz85rMxz7Y0zPzmszHPtjTM/OazMc+2NMz85rMxz7Y0zP3olKmjmgk8/eiUqaOaCTz96JSpo5oJPP8NQ1CviEVY/w1DUK+IRVj/DUNQr4hFWP8zpG4T+DV4/zOkbhP4NXj8=",
          "dtype": "f8"
         },
         "xaxis": "x",
         "y": {
          "bdata": "iUFg5dByUkD+1HjpJhFSQFyPwvUonFNALbKd76dGU0BCYOXQIltTQOkmMQisLFNAhetRuB51VEAj2/l+alxUQGZmZmZmVlRAmG4Sg8BKVEB3vp8aLz1UQB+F61G4LlRAUI2XbhIjVED+1HjpJhFUQIXrUbgexVNAc2iR7XyvU0CR7Xw/NU5TQP7UeOkmwVRA46WbxCCQVEDn+6nx0h1UQLKd76fG61RARIts5/vJVEBYObTIdh5UQFg5tMh2/lRAj8L1KFzPVEA=",
          "dtype": "f8"
         },
         "yaxis": "y"
        },
        {
         "hovertemplate": "<b>OLS trendline</b><br>top1 = 6.34314 * log10(secs) + 101.491<br>R<sup>2</sup>=0.654556<br><br>family=resnetd<br>secs=%{x}<br>top1=%{y} <b>(trend)</b><extra></extra>",
         "legendgroup": "resnetd",
         "marker": {
          "color": "#ab63fa",
          "symbol": "circle"
         },
         "mode": "lines",
         "name": "resnetd",
         "showlegend": false,
         "type": "scatter",
         "x": {
          "bdata": "XlHJJRUVHD9eUcklFRUcPxXMKcssWCY/FcwpyyxYJj/jUYlnqagpP+NRiWepqCk/OazMc+2NMz85rMxz7Y0zPzmszHPtjTM/OazMc+2NMz85rMxz7Y0zPzmszHPtjTM/OazMc+2NMz85rMxz7Y0zPzmszHPtjTM/OazMc+2NMz85rMxz7Y0zP3olKmjmgk8/eiUqaOaCTz96JSpo5oJPP8NQ1CviEVY/w1DUK+IRVj/DUNQr4hFWP8zpG4T+DV4/zOkbhP4NXj8=",
          "dtype": "f8"
         },
         "xaxis": "x",
         "y": {
          "bdata": "DCPLtLcTU0AMI8u0txNTQGokYm+gZVNAaiRib6BlU0CKUskFA35TQIpSyQUDflNAjKvbZ1HIU0CMq9tnUchTQIyr22dRyFNAjKvbZ1HIU0CMq9tnUchTQIyr22dRyFNAjKvbZ1HIU0CMq9tnUchTQIyr22dRyFNAjKvbZ1HIU0CMq9tnUchTQI2L5AumllRAjYvkC6aWVECNi+QLppZUQP6fD/UQ0lRA/p8P9RDSVED+nw/1ENJUQNiQJ7qCCFVA2JAnuoIIVUA=",
          "dtype": "f8"
         },
         "yaxis": "y"
        },
        {
         "customdata": {
          "bdata": "IAEgASABIAEgASABIAEgASABIAEgASABIAEgASABIAEgASABIAEgASABIAEgASABIAEgASABIAEgASABIAEgASABIAEgASABIAEgASABIAEgASABIAEgASABIAEgASABIAEgASABIAEgAeAA",
          "dtype": "i2",
          "shape": "54, 1"
         },
         "hovertemplate": "<b>%{hovertext}</b><br><br>family=convnext<br>secs=%{x}<br>top1=%{y}<br>size=%{marker.size}<br>infer_img_size=%{customdata[0]}<extra></extra>",
         "hovertext": [
          "convnext_atto.d2_in1k",
          "convnext_atto.d2_in1k",
          "convnext_atto_ols.a2_in1k",
          "convnext_atto_ols.a2_in1k",
          "convnext_femto.d1_in1k",
          "convnext_femto.d1_in1k",
          "convnext_femto_ols.d1_in1k",
          "convnext_femto_ols.d1_in1k",
          "convnext_pico.d1_in1k",
          "convnext_pico.d1_in1k",
          "convnext_pico_ols.d1_in1k",
          "convnext_pico_ols.d1_in1k",
          "convnext_nano.in12k_ft_in1k",
          "convnext_nano.in12k_ft_in1k",
          "convnext_nano.d1h_in1k",
          "convnext_nano.d1h_in1k",
          "convnext_nano_ols.d1h_in1k",
          "convnext_nano_ols.d1h_in1k",
          "convnext_tiny_hnf.a2h_in1k",
          "convnext_tiny_hnf.a2h_in1k",
          "convnext_tiny.in12k_ft_in1k_384",
          "convnext_tiny.in12k_ft_in1k",
          "convnext_tiny.in12k_ft_in1k",
          "convnext_tiny.fb_in22k_ft_in1k_384",
          "convnext_tiny.fb_in22k_ft_in1k",
          "convnext_tiny.fb_in1k",
          "convnext_tiny.fb_in1k",
          "convnext_tiny.fb_in22k_ft_in1k",
          "convnext_small.in12k_ft_in1k_384",
          "convnext_small.fb_in22k_ft_in1k_384",
          "convnext_small.in12k_ft_in1k",
          "convnext_small.fb_in22k_ft_in1k",
          "convnext_small.in12k_ft_in1k",
          "convnext_small.fb_in22k_ft_in1k",
          "convnext_small.fb_in1k",
          "convnext_small.fb_in1k",
          "convnext_base.clip_laion2b_augreg_ft_in12k_in1k_384",
          "convnext_base.fb_in22k_ft_in1k_384",
          "convnext_base.clip_laiona_augreg_ft_in1k_384",
          "convnext_base.clip_laion2b_augreg_ft_in12k_in1k",
          "convnext_base.fb_in22k_ft_in1k",
          "convnext_base.clip_laion2b_augreg_ft_in1k",
          "convnext_base.fb_in22k_ft_in1k",
          "convnext_base.fb_in1k",
          "convnext_base.fb_in1k",
          "convnext_large.fb_in22k_ft_in1k_384",
          "convnext_large.fb_in22k_ft_in1k",
          "convnext_large.fb_in22k_ft_in1k",
          "convnext_large.fb_in1k",
          "convnext_large.fb_in1k",
          "convnext_xlarge.fb_in22k_ft_in1k_384",
          "convnext_xlarge.fb_in22k_ft_in1k",
          "convnext_xlarge.fb_in22k_ft_in1k",
          "convnext_xxlarge.clip_laion2b_soup_ft_in1k"
         ],
         "legendgroup": "convnext",
         "marker": {
          "color": "#FFA15A",
          "size": {
           "bdata": "AEQBAABEAQAARAEAAEQBAABEAQAARAEAAEQBAABEAQAARAEAAEQBAABEAQAARAEAAEQBAABEAQAARAEAAEQBAABEAQAARAEAAEQBAABEAQAARAEAAEQBAABEAQAARAEAAEQBAABEAQAARAEAAEQBAABEAQAARAEAAEQBAABEAQAARAEAAEQBAABEAQAARAEAAEQBAABEAQAARAEAAEQBAABEAQAARAEAAEQBAABEAQAARAEAAEQBAABEAQAARAEAAEQBAABEAQAARAEAAEQBAABEAQAAxAAA",
           "dtype": "i4"
          },
          "sizemode": "area",
          "sizeref": 655.36,
          "symbol": "circle"
         },
         "mode": "markers",
         "name": "convnext",
         "orientation": "v",
         "showlegend": true,
         "type": "scatter",
         "x": {
          "bdata": "wrlgg+QAKD/CuWCD5AAoP+d79plDyCg/53v2mUPIKD8cwDdgZpkrPxzAN2BmmSs/AhPlhn1hLD8CE+WGfWEsPw9Jy7rrfDE/D0nLuut8MT/dYTeIz/IxP91hN4jP8jE/Yw6Z1KsXOT9jDpnUqxc5P2MOmdSrFzk/Yw6Z1KsXOT/2yVXwBuo6P/bJVfAG6jo/aX0nhKiMQz9pfSeEqIxDP87Gd9BW9EM/zsZ30Fb0Qz/OxnfQVvRDP87Gd9BW9EM/zsZ30Fb0Qz/OxnfQVvRDP87Gd9BW9EM/zsZ30Fb0Qz+Pq/NT9ZNQP4+r81P1k1A/j6vzU/WTUD+Pq/NT9ZNQP4+r81P1k1A/j6vzU/WTUD+Pq/NT9ZNQP4+r81P1k1A/VQ1XiQDYVz9VDVeJANhXP1UNV4kA2Fc/VQ1XiQDYVz9VDVeJANhXP1UNV4kA2Fc/VQ1XiQDYVz9VDVeJANhXP1UNV4kA2Fc/97YqCBf2ZT/3tioIF/ZlP/e2KggX9mU/97YqCBf2ZT/3tioIF/ZlP+lkPDy14XA/6WQ8PLXhcD/pZDw8teFwPwOEFPe1THY/",
          "dtype": "f8"
         },
         "xaxis": "x",
         "y": {
          "bdata": "N4lBYOVAU0CYbhKDwOpSQK5H4XoUTlNAfT81Xrr5UkA9CtejcK1TQI2XbhKDYFNA0SLb+X66U0C8dJMYBHZTQOxRuB6FG1RAGy/dJAbhU0BaZDvfTx1UQKabxCCw4lNAnMQgsHK4VEDdJAaBlZNUQHWTGARWXlRAVOOlm8QwVEC6SQwCK2dUQESLbOf7OVRA9P3UeOmmVEAfhetRuI5UQGDl0CLbSVVA6SYxCKwcVUA/NV66SQxVQIPAyqFFBlVARrbz/dS4VEAj2/l+aqxUQE5iEFg5hFRAzczMzMy8U0CWQ4ts54tVQMdLN4lBcFVA2/l+arxUVUCLbOf7qVFVQNEi2/l+SlVAaJHtfD8lVUCTGARWDu1UQPCnxks3yVRAmpmZmZnJVUC+nxov3bRVQKwcWmQ7n1VAYhBYObSYVUBQjZduEpNVQLKd76fGi1VATmIQWDl0VUDn+6nx0h1VQEw3iUFg9VRAd76fGi/dVUA3iUFg5cBVQLpJDAIrp1VAukkMAis3VUBQjZduEhNVQBsv3SQG8VVADi2yne/XVUCuR+F6FL5VQCuHFtnOJ1ZA",
          "dtype": "f8"
         },
         "yaxis": "y"
        },
        {
         "hovertemplate": "<b>OLS trendline</b><br>top1 = 7.54531 * log10(secs) + 106.687<br>R<sup>2</sup>=0.822326<br><br>family=convnext<br>secs=%{x}<br>top1=%{y} <b>(trend)</b><extra></extra>",
         "legendgroup": "convnext",
         "marker": {
          "color": "#FFA15A",
          "symbol": "circle"
         },
         "mode": "lines",
         "name": "convnext",
         "showlegend": false,
         "type": "scatter",
         "x": {
          "bdata": "wrlgg+QAKD/CuWCD5AAoP+d79plDyCg/53v2mUPIKD8cwDdgZpkrPxzAN2BmmSs/AhPlhn1hLD8CE+WGfWEsPw9Jy7rrfDE/D0nLuut8MT/dYTeIz/IxP91hN4jP8jE/Yw6Z1KsXOT9jDpnUqxc5P2MOmdSrFzk/Yw6Z1KsXOT/2yVXwBuo6P/bJVfAG6jo/aX0nhKiMQz9pfSeEqIxDP87Gd9BW9EM/zsZ30Fb0Qz/OxnfQVvRDP87Gd9BW9EM/zsZ30Fb0Qz/OxnfQVvRDP87Gd9BW9EM/zsZ30Fb0Qz+Pq/NT9ZNQP4+r81P1k1A/j6vzU/WTUD+Pq/NT9ZNQP4+r81P1k1A/j6vzU/WTUD+Pq/NT9ZNQP4+r81P1k1A/VQ1XiQDYVz9VDVeJANhXP1UNV4kA2Fc/VQ1XiQDYVz9VDVeJANhXP1UNV4kA2Fc/VQ1XiQDYVz9VDVeJANhXP1UNV4kA2Fc/97YqCBf2ZT/3tioIF/ZlP/e2KggX9mU/97YqCBf2ZT/3tioIF/ZlP+lkPDy14XA/6WQ8PLXhcD/pZDw8teFwPwOEFPe1THY/",
          "dtype": "f8"
         },
         "xaxis": "x",
         "y": {
          "bdata": "Q4VZBUefU0BDhVkFR59TQICZIUn5pVNAgJkhSfmlU0Cct/NOjbxTQJy3806NvFNAZCBNn2jCU0BkIE2faMJTQAYDM6o67lNABgMzqjruU0C30aMjrvNTQLfRoyOu81NARMDvH/M5VEBEwO8f8zlUQETA7x/zOVRARMDvH/M5VEB/pwLlpUhUQH+nAuWlSFRANNa0ZPeWVEA01rRk95ZUQLuQR0lEm1RAu5BHSUSbVEC7kEdJRJtUQLuQR0lEm1RAu5BHSUSbVEC7kEdJRJtUQLuQR0lEm1RAu5BHSUSbVECQn3WmwQVVQJCfdabBBVVAkJ91psEFVUCQn3WmwQVVQJCfdabBBVVAkJ91psEFVUCQn3WmwQVVQJCfdabBBVVAgEwWo/pRVUCATBaj+lFVQIBMFqP6UVVAgEwWo/pRVUCATBaj+lFVQIBMFqP6UVVAgEwWo/pRVUCATBaj+lFVQIBMFqP6UVVAYq8WQhnSVUBirxZCGdJVQGKvFkIZ0lVAYq8WQhnSVUBirxZCGdJVQGIqQ2BMLFZAYipDYEwsVkBiKkNgTCxWQGUmjiqsZlZA",
          "dtype": "f8"
         },
         "yaxis": "y"
        },
        {
         "customdata": {
          "bdata": "IAEgASABIAEgASABIAEgASABIAEgASABIAEgASABIAEgASABIAEgASABIAEgASABIAEgAYABgAGAAYAB",
          "dtype": "i2",
          "shape": "30, 1"
         },
         "hovertemplate": "<b>%{hovertext}</b><br><br>family=convnextv2<br>secs=%{x}<br>top1=%{y}<br>size=%{marker.size}<br>infer_img_size=%{customdata[0]}<extra></extra>",
         "hovertext": [
          "convnextv2_atto.fcmae_ft_in1k",
          "convnextv2_atto.fcmae_ft_in1k",
          "convnextv2_femto.fcmae_ft_in1k",
          "convnextv2_femto.fcmae_ft_in1k",
          "convnextv2_pico.fcmae_ft_in1k",
          "convnextv2_pico.fcmae_ft_in1k",
          "convnextv2_nano.fcmae_ft_in22k_in1k_384",
          "convnextv2_nano.fcmae_ft_in22k_in1k",
          "convnextv2_nano.fcmae_ft_in1k",
          "convnextv2_nano.fcmae_ft_in22k_in1k",
          "convnextv2_nano.fcmae_ft_in1k",
          "convnextv2_tiny.fcmae_ft_in22k_in1k_384",
          "convnextv2_tiny.fcmae_ft_in22k_in1k",
          "convnextv2_tiny.fcmae_ft_in22k_in1k",
          "convnextv2_tiny.fcmae_ft_in1k",
          "convnextv2_tiny.fcmae_ft_in1k",
          "convnextv2_base.fcmae_ft_in22k_in1k_384",
          "convnextv2_base.fcmae_ft_in22k_in1k",
          "convnextv2_base.fcmae_ft_in22k_in1k",
          "convnextv2_base.fcmae_ft_in1k",
          "convnextv2_base.fcmae_ft_in1k",
          "convnextv2_large.fcmae_ft_in22k_in1k_384",
          "convnextv2_large.fcmae_ft_in22k_in1k",
          "convnextv2_large.fcmae_ft_in22k_in1k",
          "convnextv2_large.fcmae_ft_in1k",
          "convnextv2_large.fcmae_ft_in1k",
          "convnextv2_huge.fcmae_ft_in22k_in1k_512",
          "convnextv2_huge.fcmae_ft_in22k_in1k_384",
          "convnextv2_huge.fcmae_ft_in1k",
          "convnextv2_huge.fcmae_ft_in1k"
         ],
         "legendgroup": "convnextv2",
         "marker": {
          "color": "#19d3f3",
          "size": {
           "bdata": "AEQBAABEAQAARAEAAEQBAABEAQAARAEAAEQBAABEAQAARAEAAEQBAABEAQAARAEAAEQBAABEAQAARAEAAEQBAABEAQAARAEAAEQBAABEAQAARAEAAEQBAABEAQAARAEAAEQBAABEAQAAQAIAAEACAABAAgAAQAIA",
           "dtype": "i4"
          },
          "sizemode": "area",
          "sizeref": 655.36,
          "symbol": "circle"
         },
         "mode": "markers",
         "name": "convnextv2",
         "orientation": "v",
         "showlegend": true,
         "type": "scatter",
         "x": {
          "bdata": "OutqOD6AND8662o4PoA0P/TMyqA59Dc/9MzKoDn0Nz/rKM6c8RQ/P+sozpzxFD8/OpV/b8LVRT86lX9vwtVFPzqVf2/C1UU/OpV/b8LVRT86lX9vwtVFP9KNbf8HmlE/0o1t/weaUT/SjW3/B5pRP9KNbf8HmlE/0o1t/weaUT+tQPRjPkxkP61A9GM+TGQ/rUD0Yz5MZD+tQPRjPkxkP61A9GM+TGQ/cB7+gtIZcT9wHv6C0hlxP3Ae/oLSGXE/cB7+gtIZcT9wHv6C0hlxP2fXgj5fL5I/Z9eCPl8vkj9n14I+Xy+SP2fXgj5fL5I/",
          "dtype": "f8"
         },
         "xaxis": "x",
         "y": {
          "bdata": "w/UoXI9yU0DTTWIQWClTQGiR7Xw/1VNA5dAi2/meU0DdJAaBlUNUQPp+arx0E1RAukkMAivXVEC0yHa+n6pUQDm0yHa+n1RA30+Nl26CVEAQWDm0yHZUQBBYObTIRlVAXrpJDAIbVUBg5dAi2/lUQFg5tMh23lRA6SYxCKy8VEBGtvP91OhVQB1aZDvfv1VA46WbxCCwVUCPwvUoXF9VQEa28/3UOFVACKwcWmQLVkBWDi2ynd9VQDeJQWDl0FVA8tJNYhCIVUBU46WbxHBVQNejcD0KN1ZA7nw/NV4qVkBkO99PjadVQHE9CtejkFVA",
          "dtype": "f8"
         },
         "yaxis": "y"
        },
        {
         "hovertemplate": "<b>OLS trendline</b><br>top1 = 5.30625 * log10(secs) + 98.8094<br>R<sup>2</sup>=0.760471<br><br>family=convnextv2<br>secs=%{x}<br>top1=%{y} <b>(trend)</b><extra></extra>",
         "legendgroup": "convnextv2",
         "marker": {
          "color": "#19d3f3",
          "symbol": "circle"
         },
         "mode": "lines",
         "name": "convnextv2",
         "showlegend": false,
         "type": "scatter",
         "x": {
          "bdata": "OutqOD6AND8662o4PoA0P/TMyqA59Dc/9MzKoDn0Nz/rKM6c8RQ/P+sozpzxFD8/OpV/b8LVRT86lX9vwtVFPzqVf2/C1UU/OpV/b8LVRT86lX9vwtVFP9KNbf8HmlE/0o1t/weaUT/SjW3/B5pRP9KNbf8HmlE/0o1t/weaUT+tQPRjPkxkP61A9GM+TGQ/rUD0Yz5MZD+tQPRjPkxkP61A9GM+TGQ/cB7+gtIZcT9wHv6C0hlxP3Ae/oLSGXE/cB7+gtIZcT9wHv6C0hlxP2fXgj5fL5I/Z9eCPl8vkj9n14I+Xy+SP2fXgj5fL5I/",
          "dtype": "f8"
         },
         "xaxis": "x",
         "y": {
          "bdata": "A3KLrZoNVEADcoutmg1UQBCSvgWQJFRAEJK+BZAkVEBAG74e+0pUQEAbvh77SlRASwAjyyF9VEBLACPLIX1UQEsAI8shfVRASwAjyyF9VEBLACPLIX1UQBBJ6FuTw1RAEEnoW5PDVEAQSehbk8NUQBBJ6FuTw1RAEEnoW5PDVECk4Zs50z5VQKThmznTPlVApOGbOdM+VUCk4Zs50z5VQKThmznTPlVAE1PdK8eLVUATU90rx4tVQBNT3SvHi1VAE1PdK8eLVUATU90rx4tVQHLH6b9NYVZAcsfpv01hVkByx+m/TWFWQHLH6b9NYVZA",
          "dtype": "f8"
         },
         "yaxis": "y"
        },
        {
         "customdata": {
          "bdata": "4ADgAOAA4ADgAOAA4ADgAA==",
          "dtype": "i2",
          "shape": "8, 1"
         },
         "hovertemplate": "<b>%{hovertext}</b><br><br>family=vgg<br>secs=%{x}<br>top1=%{y}<br>size=%{marker.size}<br>infer_img_size=%{customdata[0]}<extra></extra>",
         "hovertext": [
          "vgg11.tv_in1k",
          "vgg11_bn.tv_in1k",
          "vgg13.tv_in1k",
          "vgg13_bn.tv_in1k",
          "vgg16.tv_in1k",
          "vgg16_bn.tv_in1k",
          "vgg19.tv_in1k",
          "vgg19_bn.tv_in1k"
         ],
         "legendgroup": "vgg",
         "marker": {
          "color": "#FF6692",
          "size": {
           "bdata": "AMQAAADEAAAAxAAAAMQAAADEAAAAxAAAAMQAAADEAAA=",
           "dtype": "i4"
          },
          "sizemode": "area",
          "sizeref": 655.36,
          "symbol": "circle"
         },
         "mode": "markers",
         "name": "vgg",
         "orientation": "v",
         "showlegend": true,
         "type": "scatter",
         "x": {
          "bdata": "DqcG5WP3NT+9pypZ3b03P+8vDLJofD4//nsnsLBuQT9icu4PXhRDPy9rg3bXgEU/25H2qeeCRz8N2Iwln0lKPw==",
          "dtype": "f8"
         },
         "xaxis": "x",
         "y": {
          "bdata": "UI2XbhJDUUB/arx0k5hRQFyPwvUofFFA3SQGgZXjUUBmZmZmZuZRQBBYObTIVlJAmpmZmZkZUkDJdr6fGo9SQA==",
          "dtype": "f8"
         },
         "yaxis": "y"
        },
        {
         "hovertemplate": "<b>OLS trendline</b><br>top1 = 11.8929 * log10(secs) + 110.484<br>R<sup>2</sup>=0.858935<br><br>family=vgg<br>secs=%{x}<br>top1=%{y} <b>(trend)</b><extra></extra>",
         "legendgroup": "vgg",
         "marker": {
          "color": "#FF6692",
          "symbol": "circle"
         },
         "mode": "lines",
         "name": "vgg",
         "showlegend": false,
         "type": "scatter",
         "x": {
          "bdata": "DqcG5WP3NT+9pypZ3b03P+8vDLJofD4//nsnsLBuQT9icu4PXhRDPy9rg3bXgEU/25H2qeeCRz8N2Iwln0lKPw==",
          "dtype": "f8"
         },
         "xaxis": "x",
         "y": {
          "bdata": "KtQ9MjpKUUCezrUD62NRQHRQL9qRtlFAiccjKu/iUUBjvxGkxwBSQETvTplPKFJAPOsmjNJFUkD6JUaqt2pSQA==",
          "dtype": "f8"
         },
         "yaxis": "y"
        },
        {
         "customdata": {
          "bdata": "IAEgAYABgAGgAaAB",
          "dtype": "i2",
          "shape": "6, 1"
         },
         "hovertemplate": "<b>%{hovertext}</b><br><br>family=efficientnetv2<br>secs=%{x}<br>top1=%{y}<br>size=%{marker.size}<br>infer_img_size=%{customdata[0]}<extra></extra>",
         "hovertext": [
          "efficientnetv2_rw_t.ra2_in1k",
          "efficientnetv2_rw_t.ra2_in1k",
          "efficientnetv2_rw_s.ra2_in1k",
          "efficientnetv2_rw_s.ra2_in1k",
          "efficientnetv2_rw_m.agc_in1k",
          "efficientnetv2_rw_m.agc_in1k"
         ],
         "legendgroup": "efficientnetv2",
         "marker": {
          "color": "#B6E880",
          "size": {
           "bdata": "AEQBAABEAQAAQAIAAEACAACkAgAApAIA",
           "dtype": "i4"
          },
          "sizemode": "area",
          "sizeref": 655.36,
          "symbol": "circle"
         },
         "mode": "markers",
         "name": "efficientnetv2",
         "orientation": "v",
         "showlegend": true,
         "type": "scatter",
         "x": {
          "bdata": "uPpuXhQxOT+4+m5eFDE5P1ZhBJlDT0s/VmEEmUNPSz/bx0yXDideP9vHTJcOJ14/",
          "dtype": "f8"
         },
         "xaxis": "x",
         "y": {
          "bdata": "LbKd76eWVEArhxbZzldUQIXrUbge9VRARrbz/dS4VEDb+X5qvDRVQIlBYOXQElVA",
          "dtype": "f8"
         },
         "yaxis": "y"
        },
        {
         "hovertemplate": "<b>OLS trendline</b><br>top1 = 3.96209 * log10(secs) + 95.4496<br>R<sup>2</sup>=0.868238<br><br>family=efficientnetv2<br>secs=%{x}<br>top1=%{y} <b>(trend)</b><extra></extra>",
         "legendgroup": "efficientnetv2",
         "marker": {
          "color": "#B6E880",
          "symbol": "circle"
         },
         "mode": "lines",
         "name": "efficientnetv2",
         "showlegend": false,
         "type": "scatter",
         "x": {
          "bdata": "uPpuXhQxOT+4+m5eFDE5P1ZhBJlDT0s/VmEEmUNPSz/bx0yXDideP9vHTJcOJ14/",
          "dtype": "f8"
         },
         "xaxis": "x",
         "y": {
          "bdata": "pd9XJMR6VECl31ckxHpUQHY9sUP9z1RAdj2xQ/3PVEA5bmN/OidVQDluY386J1VA",
          "dtype": "f8"
         },
         "yaxis": "y"
        },
        {
         "customdata": {
          "bdata": "4ADgAOAA4ADgAOAA4ADgAOAA4ACAAYABgAE=",
          "dtype": "i2",
          "shape": "13, 1"
         },
         "hovertemplate": "<b>%{hovertext}</b><br><br>family=swin<br>secs=%{x}<br>top1=%{y}<br>size=%{marker.size}<br>infer_img_size=%{customdata[0]}<extra></extra>",
         "hovertext": [
          "swin_tiny_patch4_window7_224.ms_in1k",
          "swin_tiny_patch4_window7_224.ms_in22k_ft_in1k",
          "swin_s3_tiny_224.ms_in1k",
          "swin_small_patch4_window7_224.ms_in22k_ft_in1k",
          "swin_small_patch4_window7_224.ms_in1k",
          "swin_s3_small_224.ms_in1k",
          "swin_base_patch4_window7_224.ms_in22k_ft_in1k",
          "swin_base_patch4_window7_224.ms_in1k",
          "swin_s3_base_224.ms_in1k",
          "swin_large_patch4_window7_224.ms_in22k_ft_in1k",
          "swin_base_patch4_window12_384.ms_in22k_ft_in1k",
          "swin_base_patch4_window12_384.ms_in1k",
          "swin_large_patch4_window12_384.ms_in22k_ft_in1k"
         ],
         "legendgroup": "swin",
         "marker": {
          "color": "#FF97FF",
          "size": {
           "bdata": "AMQAAADEAAAAxAAAAMQAAADEAAAAxAAAAMQAAADEAAAAxAAAAMQAAABAAgAAQAIAAEACAA==",
           "dtype": "i4"
          },
          "sizemode": "area",
          "sizeref": 655.36,
          "symbol": "circle"
         },
         "mode": "markers",
         "name": "swin",
         "orientation": "v",
         "showlegend": true,
         "type": "scatter",
         "x": {
          "bdata": "XZZWX4VsQD9dllZfhWxAP/umTxd3B0I/8TBU4FOESj/xMFTgU4RKP7s03ftwNFI/p+Rj0Wi3Uj+n5GPRaLdSPzkAQNz/V1Y/EHA4Urc9YD9n6u1O3FhxP2fq7U7cWHE/uWFWDw+afT8=",
          "dtype": "f8"
         },
         "xaxis": "x",
         "y": {
          "bdata": "Rrbz/dRYVEDn+6nx0j1UQNV46SYxiFRAhetRuB7VVEA730+Nl85UQG8Sg8DK8VRA4XoUrkdRVUDXo3A9CudUQHsUrkfh+lRAhetRuB6VVUB56SYxCJxVQFg5tMh2HlVARrbz/dTIVUA=",
          "dtype": "f8"
         },
         "yaxis": "y"
        },
        {
         "hovertemplate": "<b>OLS trendline</b><br>top1 = 4.4699 * log10(secs) + 96.838<br>R<sup>2</sup>=0.770387<br><br>family=swin<br>secs=%{x}<br>top1=%{y} <b>(trend)</b><extra></extra>",
         "legendgroup": "swin",
         "marker": {
          "color": "#FF97FF",
          "symbol": "circle"
         },
         "mode": "lines",
         "name": "swin",
         "showlegend": false,
         "type": "scatter",
         "x": {
          "bdata": "XZZWX4VsQD9dllZfhWxAP/umTxd3B0I/8TBU4FOESj/xMFTgU4RKP7s03ftwNFI/p+Rj0Wi3Uj+n5GPRaLdSPzkAQNz/V1Y/EHA4Urc9YD9n6u1O3FhxP2fq7U7cWHE/uWFWDw+afT8=",
          "dtype": "f8"
         },
         "xaxis": "x",
         "y": {
          "bdata": "HEKgdJiFVEAcQqB0mIVUQFb0MWQukVRAZ0mCshzBVEBnSYKyHMFUQLortbeA6FRAYbahMPLrVEBhtqEw8utUQDLQs1j0AVVAKWUTMnAwVUDcRcyBvY5VQNxFzIG9jlVAQJswpiLRVUA=",
          "dtype": "f8"
         },
         "yaxis": "y"
        },
        {
         "customdata": {
          "bdata": "4ADgAIABgAEAAg==",
          "dtype": "i2",
          "shape": "5, 1"
         },
         "hovertemplate": "<b>%{hovertext}</b><br><br>family=beit<br>secs=%{x}<br>top1=%{y}<br>size=%{marker.size}<br>infer_img_size=%{customdata[0]}<extra></extra>",
         "hovertext": [
          "beit_base_patch16_224.in22k_ft_in22k_in1k",
          "beit_large_patch16_224.in22k_ft_in22k_in1k",
          "beit_base_patch16_384.in22k_ft_in22k_in1k",
          "beit_large_patch16_384.in22k_ft_in22k_in1k",
          "beit_large_patch16_512.in22k_ft_in22k_in1k"
         ],
         "legendgroup": "beit",
         "marker": {
          "color": "#FECB52",
          "size": {
           "bdata": "AMQAAADEAAAAQAIAAEACAAAABAA=",
           "dtype": "i4"
          },
          "sizemode": "area",
          "sizeref": 655.36,
          "symbol": "circle"
         },
         "mode": "markers",
         "name": "beit",
         "orientation": "v",
         "showlegend": true,
         "type": "scatter",
         "x": {
          "bdata": "uIsw5vJ1TT92awEkaLdmP2kqaPfCWm8/kjM7ACUghz/IVCar3vucPw==",
          "dtype": "f8"
         },
         "xaxis": "x",
         "y": {
          "bdata": "Vg4tsp1PVUCsHFpkO99VQE5iEFg5tFVAnMQgsHIYVkCiRbbz/SRWQA==",
          "dtype": "f8"
         },
         "yaxis": "y"
        },
        {
         "hovertemplate": "<b>OLS trendline</b><br>top1 = 2.17534 * log10(secs) + 92.3117<br>R<sup>2</sup>=0.859661<br><br>family=beit<br>secs=%{x}<br>top1=%{y} <b>(trend)</b><extra></extra>",
         "legendgroup": "beit",
         "marker": {
          "color": "#FECB52",
          "symbol": "circle"
         },
         "mode": "lines",
         "name": "beit",
         "showlegend": false,
         "type": "scatter",
         "x": {
          "bdata": "uIsw5vJ1TT92awEkaLdmP2kqaPfCWm8/kjM7ACUghz/IVCar3vucPw==",
          "dtype": "f8"
         },
         "xaxis": "x",
         "y": {
          "bdata": "icA+G9prVUDULtQM9K9VQBiwmFlww1VABfs/Q9oEVkAc/YJNajxWQA==",
          "dtype": "f8"
         },
         "yaxis": "y"
        }
       ],
       "layout": {
        "height": 800,
        "legend": {
         "itemsizing": "constant",
         "title": {
          "text": "family"
         },
         "tracegroupgap": 0
        },
        "template": {
         "data": {
          "bar": [
           {
            "error_x": {
             "color": "#2a3f5f"
            },
            "error_y": {
             "color": "#2a3f5f"
            },
            "marker": {
             "line": {
              "color": "#E5ECF6",
              "width": 0.5
             },
             "pattern": {
              "fillmode": "overlay",
              "size": 10,
              "solidity": 0.2
             }
            },
            "type": "bar"
           }
          ],
          "barpolar": [
           {
            "marker": {
             "line": {
              "color": "#E5ECF6",
              "width": 0.5
             },
             "pattern": {
              "fillmode": "overlay",
              "size": 10,
              "solidity": 0.2
             }
            },
            "type": "barpolar"
           }
          ],
          "carpet": [
           {
            "aaxis": {
             "endlinecolor": "#2a3f5f",
             "gridcolor": "white",
             "linecolor": "white",
             "minorgridcolor": "white",
             "startlinecolor": "#2a3f5f"
            },
            "baxis": {
             "endlinecolor": "#2a3f5f",
             "gridcolor": "white",
             "linecolor": "white",
             "minorgridcolor": "white",
             "startlinecolor": "#2a3f5f"
            },
            "type": "carpet"
           }
          ],
          "choropleth": [
           {
            "colorbar": {
             "outlinewidth": 0,
             "ticks": ""
            },
            "type": "choropleth"
           }
          ],
          "contour": [
           {
            "colorbar": {
             "outlinewidth": 0,
             "ticks": ""
            },
            "colorscale": [
             [
              0,
              "#0d0887"
             ],
             [
              0.1111111111111111,
              "#46039f"
             ],
             [
              0.2222222222222222,
              "#7201a8"
             ],
             [
              0.3333333333333333,
              "#9c179e"
             ],
             [
              0.4444444444444444,
              "#bd3786"
             ],
             [
              0.5555555555555556,
              "#d8576b"
             ],
             [
              0.6666666666666666,
              "#ed7953"
             ],
             [
              0.7777777777777778,
              "#fb9f3a"
             ],
             [
              0.8888888888888888,
              "#fdca26"
             ],
             [
              1,
              "#f0f921"
             ]
            ],
            "type": "contour"
           }
          ],
          "contourcarpet": [
           {
            "colorbar": {
             "outlinewidth": 0,
             "ticks": ""
            },
            "type": "contourcarpet"
           }
          ],
          "heatmap": [
           {
            "colorbar": {
             "outlinewidth": 0,
             "ticks": ""
            },
            "colorscale": [
             [
              0,
              "#0d0887"
             ],
             [
              0.1111111111111111,
              "#46039f"
             ],
             [
              0.2222222222222222,
              "#7201a8"
             ],
             [
              0.3333333333333333,
              "#9c179e"
             ],
             [
              0.4444444444444444,
              "#bd3786"
             ],
             [
              0.5555555555555556,
              "#d8576b"
             ],
             [
              0.6666666666666666,
              "#ed7953"
             ],
             [
              0.7777777777777778,
              "#fb9f3a"
             ],
             [
              0.8888888888888888,
              "#fdca26"
             ],
             [
              1,
              "#f0f921"
             ]
            ],
            "type": "heatmap"
           }
          ],
          "histogram": [
           {
            "marker": {
             "pattern": {
              "fillmode": "overlay",
              "size": 10,
              "solidity": 0.2
             }
            },
            "type": "histogram"
           }
          ],
          "histogram2d": [
           {
            "colorbar": {
             "outlinewidth": 0,
             "ticks": ""
            },
            "colorscale": [
             [
              0,
              "#0d0887"
             ],
             [
              0.1111111111111111,
              "#46039f"
             ],
             [
              0.2222222222222222,
              "#7201a8"
             ],
             [
              0.3333333333333333,
              "#9c179e"
             ],
             [
              0.4444444444444444,
              "#bd3786"
             ],
             [
              0.5555555555555556,
              "#d8576b"
             ],
             [
              0.6666666666666666,
              "#ed7953"
             ],
             [
              0.7777777777777778,
              "#fb9f3a"
             ],
             [
              0.8888888888888888,
              "#fdca26"
             ],
             [
              1,
              "#f0f921"
             ]
            ],
            "type": "histogram2d"
           }
          ],
          "histogram2dcontour": [
           {
            "colorbar": {
             "outlinewidth": 0,
             "ticks": ""
            },
            "colorscale": [
             [
              0,
              "#0d0887"
             ],
             [
              0.1111111111111111,
              "#46039f"
             ],
             [
              0.2222222222222222,
              "#7201a8"
             ],
             [
              0.3333333333333333,
              "#9c179e"
             ],
             [
              0.4444444444444444,
              "#bd3786"
             ],
             [
              0.5555555555555556,
              "#d8576b"
             ],
             [
              0.6666666666666666,
              "#ed7953"
             ],
             [
              0.7777777777777778,
              "#fb9f3a"
             ],
             [
              0.8888888888888888,
              "#fdca26"
             ],
             [
              1,
              "#f0f921"
             ]
            ],
            "type": "histogram2dcontour"
           }
          ],
          "mesh3d": [
           {
            "colorbar": {
             "outlinewidth": 0,
             "ticks": ""
            },
            "type": "mesh3d"
           }
          ],
          "parcoords": [
           {
            "line": {
             "colorbar": {
              "outlinewidth": 0,
              "ticks": ""
             }
            },
            "type": "parcoords"
           }
          ],
          "pie": [
           {
            "automargin": true,
            "type": "pie"
           }
          ],
          "scatter": [
           {
            "fillpattern": {
             "fillmode": "overlay",
             "size": 10,
             "solidity": 0.2
            },
            "type": "scatter"
           }
          ],
          "scatter3d": [
           {
            "line": {
             "colorbar": {
              "outlinewidth": 0,
              "ticks": ""
             }
            },
            "marker": {
             "colorbar": {
              "outlinewidth": 0,
              "ticks": ""
             }
            },
            "type": "scatter3d"
           }
          ],
          "scattercarpet": [
           {
            "marker": {
             "colorbar": {
              "outlinewidth": 0,
              "ticks": ""
             }
            },
            "type": "scattercarpet"
           }
          ],
          "scattergeo": [
           {
            "marker": {
             "colorbar": {
              "outlinewidth": 0,
              "ticks": ""
             }
            },
            "type": "scattergeo"
           }
          ],
          "scattergl": [
           {
            "marker": {
             "colorbar": {
              "outlinewidth": 0,
              "ticks": ""
             }
            },
            "type": "scattergl"
           }
          ],
          "scattermap": [
           {
            "marker": {
             "colorbar": {
              "outlinewidth": 0,
              "ticks": ""
             }
            },
            "type": "scattermap"
           }
          ],
          "scattermapbox": [
           {
            "marker": {
             "colorbar": {
              "outlinewidth": 0,
              "ticks": ""
             }
            },
            "type": "scattermapbox"
           }
          ],
          "scatterpolar": [
           {
            "marker": {
             "colorbar": {
              "outlinewidth": 0,
              "ticks": ""
             }
            },
            "type": "scatterpolar"
           }
          ],
          "scatterpolargl": [
           {
            "marker": {
             "colorbar": {
              "outlinewidth": 0,
              "ticks": ""
             }
            },
            "type": "scatterpolargl"
           }
          ],
          "scatterternary": [
           {
            "marker": {
             "colorbar": {
              "outlinewidth": 0,
              "ticks": ""
             }
            },
            "type": "scatterternary"
           }
          ],
          "surface": [
           {
            "colorbar": {
             "outlinewidth": 0,
             "ticks": ""
            },
            "colorscale": [
             [
              0,
              "#0d0887"
             ],
             [
              0.1111111111111111,
              "#46039f"
             ],
             [
              0.2222222222222222,
              "#7201a8"
             ],
             [
              0.3333333333333333,
              "#9c179e"
             ],
             [
              0.4444444444444444,
              "#bd3786"
             ],
             [
              0.5555555555555556,
              "#d8576b"
             ],
             [
              0.6666666666666666,
              "#ed7953"
             ],
             [
              0.7777777777777778,
              "#fb9f3a"
             ],
             [
              0.8888888888888888,
              "#fdca26"
             ],
             [
              1,
              "#f0f921"
             ]
            ],
            "type": "surface"
           }
          ],
          "table": [
           {
            "cells": {
             "fill": {
              "color": "#EBF0F8"
             },
             "line": {
              "color": "white"
             }
            },
            "header": {
             "fill": {
              "color": "#C8D4E3"
             },
             "line": {
              "color": "white"
             }
            },
            "type": "table"
           }
          ]
         },
         "layout": {
          "annotationdefaults": {
           "arrowcolor": "#2a3f5f",
           "arrowhead": 0,
           "arrowwidth": 1
          },
          "autotypenumbers": "strict",
          "coloraxis": {
           "colorbar": {
            "outlinewidth": 0,
            "ticks": ""
           }
          },
          "colorscale": {
           "diverging": [
            [
             0,
             "#8e0152"
            ],
            [
             0.1,
             "#c51b7d"
            ],
            [
             0.2,
             "#de77ae"
            ],
            [
             0.3,
             "#f1b6da"
            ],
            [
             0.4,
             "#fde0ef"
            ],
            [
             0.5,
             "#f7f7f7"
            ],
            [
             0.6,
             "#e6f5d0"
            ],
            [
             0.7,
             "#b8e186"
            ],
            [
             0.8,
             "#7fbc41"
            ],
            [
             0.9,
             "#4d9221"
            ],
            [
             1,
             "#276419"
            ]
           ],
           "sequential": [
            [
             0,
             "#0d0887"
            ],
            [
             0.1111111111111111,
             "#46039f"
            ],
            [
             0.2222222222222222,
             "#7201a8"
            ],
            [
             0.3333333333333333,
             "#9c179e"
            ],
            [
             0.4444444444444444,
             "#bd3786"
            ],
            [
             0.5555555555555556,
             "#d8576b"
            ],
            [
             0.6666666666666666,
             "#ed7953"
            ],
            [
             0.7777777777777778,
             "#fb9f3a"
            ],
            [
             0.8888888888888888,
             "#fdca26"
            ],
            [
             1,
             "#f0f921"
            ]
           ],
           "sequentialminus": [
            [
             0,
             "#0d0887"
            ],
            [
             0.1111111111111111,
             "#46039f"
            ],
            [
             0.2222222222222222,
             "#7201a8"
            ],
            [
             0.3333333333333333,
             "#9c179e"
            ],
            [
             0.4444444444444444,
             "#bd3786"
            ],
            [
             0.5555555555555556,
             "#d8576b"
            ],
            [
             0.6666666666666666,
             "#ed7953"
            ],
            [
             0.7777777777777778,
             "#fb9f3a"
            ],
            [
             0.8888888888888888,
             "#fdca26"
            ],
            [
             1,
             "#f0f921"
            ]
           ]
          },
          "colorway": [
           "#636efa",
           "#EF553B",
           "#00cc96",
           "#ab63fa",
           "#FFA15A",
           "#19d3f3",
           "#FF6692",
           "#B6E880",
           "#FF97FF",
           "#FECB52"
          ],
          "font": {
           "color": "#2a3f5f"
          },
          "geo": {
           "bgcolor": "white",
           "lakecolor": "white",
           "landcolor": "#E5ECF6",
           "showlakes": true,
           "showland": true,
           "subunitcolor": "white"
          },
          "hoverlabel": {
           "align": "left"
          },
          "hovermode": "closest",
          "mapbox": {
           "style": "light"
          },
          "paper_bgcolor": "white",
          "plot_bgcolor": "#E5ECF6",
          "polar": {
           "angularaxis": {
            "gridcolor": "white",
            "linecolor": "white",
            "ticks": ""
           },
           "bgcolor": "#E5ECF6",
           "radialaxis": {
            "gridcolor": "white",
            "linecolor": "white",
            "ticks": ""
           }
          },
          "scene": {
           "xaxis": {
            "backgroundcolor": "#E5ECF6",
            "gridcolor": "white",
            "gridwidth": 2,
            "linecolor": "white",
            "showbackground": true,
            "ticks": "",
            "zerolinecolor": "white"
           },
           "yaxis": {
            "backgroundcolor": "#E5ECF6",
            "gridcolor": "white",
            "gridwidth": 2,
            "linecolor": "white",
            "showbackground": true,
            "ticks": "",
            "zerolinecolor": "white"
           },
           "zaxis": {
            "backgroundcolor": "#E5ECF6",
            "gridcolor": "white",
            "gridwidth": 2,
            "linecolor": "white",
            "showbackground": true,
            "ticks": "",
            "zerolinecolor": "white"
           }
          },
          "shapedefaults": {
           "line": {
            "color": "#2a3f5f"
           }
          },
          "ternary": {
           "aaxis": {
            "gridcolor": "white",
            "linecolor": "white",
            "ticks": ""
           },
           "baxis": {
            "gridcolor": "white",
            "linecolor": "white",
            "ticks": ""
           },
           "bgcolor": "#E5ECF6",
           "caxis": {
            "gridcolor": "white",
            "linecolor": "white",
            "ticks": ""
           }
          },
          "title": {
           "x": 0.05
          },
          "xaxis": {
           "automargin": true,
           "gridcolor": "white",
           "linecolor": "white",
           "ticks": "",
           "title": {
            "standoff": 15
           },
           "zerolinecolor": "white",
           "zerolinewidth": 2
          },
          "yaxis": {
           "automargin": true,
           "gridcolor": "white",
           "linecolor": "white",
           "ticks": "",
           "title": {
            "standoff": 15
           },
           "zerolinecolor": "white",
           "zerolinewidth": 2
          }
         }
        },
        "title": {
         "text": "Inference"
        },
        "width": 1000,
        "xaxis": {
         "anchor": "y",
         "domain": [
          0,
          1
         ],
         "title": {
          "text": "secs"
         },
         "type": "log"
        },
        "yaxis": {
         "anchor": "x",
         "domain": [
          0,
          1
         ],
         "title": {
          "text": "top1"
         }
        }
       }
      }
     },
     "metadata": {},
     "output_type": "display_data"
    }
   ],
   "source": [
    "show_subs(df, 'Inference', 'infer_img_size')"
   ]
  },
  {
   "cell_type": "markdown",
   "metadata": {},
   "source": [
    "From this, we can see that the *levit* family models are extremely fast for image recognition, and clearly the most accurate amongst the faster models. That's not surprising, since these models are a hybrid of the best ideas from CNNs and transformers, so get the benefit of each. In fact, we see a similar thing even in the middle category of speeds -- the best is the ConvNeXt, which is a pure CNN, but which takes advantage of ideas from the transformers literature.\n",
    "\n",
    "For the slowest models, *beit* is the most accurate -- although we need to be a bit careful of interpreting this, since it's trained on a larger dataset (ImageNet-21k, which is also used for *vit* models).\n",
    "\n",
    "I'll add one other plot here, which is of speed vs parameter count. Often, parameter count is used in papers as a proxy for speed. However, as we see, there is a wide variation in speeds at each level of parameter count, so it's really not a useful proxy.\n",
    "\n",
    "(Parameter count may be be useful for identifying how much memory a model needs, but even for that it's not always a great proxy.)"
   ]
  },
  {
   "cell_type": "code",
   "execution_count": 25,
   "metadata": {
    "execution": {
     "iopub.execute_input": "2023-06-06T00:07:08.402982Z",
     "iopub.status.busy": "2023-06-06T00:07:08.402573Z",
     "iopub.status.idle": "2023-06-06T00:07:08.504969Z",
     "shell.execute_reply": "2023-06-06T00:07:08.503885Z",
     "shell.execute_reply.started": "2023-06-06T00:07:08.402942Z"
    },
    "trusted": true
   },
   "outputs": [
    {
     "data": {
      "application/vnd.plotly.v1+json": {
       "config": {
        "plotlyServerURL": "https://plot.ly"
       },
       "data": [
        {
         "customdata": [
          [
           23983.4,
           "regnetx"
          ],
          [
           22675.73,
           "levit"
          ],
          [
           21709.37,
           "regnety"
          ],
          [
           15337.67,
           "levit"
          ],
          [
           14125.39,
           "vit"
          ],
          [
           14112.07,
           "resnet"
          ],
          [
           14112.07,
           "resnet"
          ],
          [
           13799.47,
           "vit"
          ],
          [
           13610.2,
           "regnetx"
          ],
          [
           13524.14,
           "levit"
          ],
          [
           11918.36,
           "regnety"
          ],
          [
           11918.36,
           "regnety"
          ],
          [
           11083.1,
           "resnet"
          ],
          [
           11083.1,
           "resnet"
          ],
          [
           11083.1,
           "resnet"
          ],
          [
           11083.1,
           "resnet"
          ],
          [
           11083.1,
           "resnet"
          ],
          [
           11083.1,
           "resnet"
          ],
          [
           11083.1,
           "resnet"
          ],
          [
           11083.1,
           "resnet"
          ],
          [
           11083.1,
           "resnet"
          ],
          [
           11083.1,
           "resnet"
          ],
          [
           9858.1,
           "levit"
          ],
          [
           9361.14,
           "efficientnet"
          ],
          [
           9334.83,
           "resnetd"
          ],
          [
           9334.83,
           "resnetd"
          ],
          [
           9097.63,
           "regnety"
          ],
          [
           8379.52,
           "regnetx"
          ],
          [
           7965.17,
           "efficientnet"
          ],
          [
           7965.17,
           "efficientnet"
          ],
          [
           7965.17,
           "efficientnet"
          ],
          [
           7429.68,
           "resnet"
          ],
          [
           7429.68,
           "resnet"
          ],
          [
           7424.93,
           "vit"
          ],
          [
           7394.88,
           "regnetx"
          ],
          [
           7394.88,
           "regnetx"
          ],
          [
           6938.46,
           "regnety"
          ],
          [
           6848.87,
           "mobilevitv2"
          ],
          [
           6642.37,
           "efficientnet"
          ],
          [
           6496.42,
           "resnet"
          ],
          [
           6496.42,
           "resnet"
          ],
          [
           6496.42,
           "resnet"
          ],
          [
           6496.42,
           "resnet"
          ],
          [
           6496.42,
           "resnet"
          ],
          [
           6496.42,
           "resnet"
          ],
          [
           6496.42,
           "resnet"
          ],
          [
           6496.42,
           "resnet"
          ],
          [
           6496.42,
           "resnet"
          ],
          [
           6496.42,
           "resnet"
          ],
          [
           6115.4,
           "efficientnet"
          ],
          [
           6115.12,
           "efficientnet"
          ],
          [
           5895.21,
           "resnet"
          ],
          [
           5895.21,
           "resnet"
          ],
          [
           5880.4,
           "levit"
          ],
          [
           5865.98,
           "resnetd"
          ],
          [
           5865.98,
           "resnetd"
          ],
          [
           5524.87,
           "mobilevit"
          ],
          [
           5460.54,
           "convnext"
          ],
          [
           5460.54,
           "convnext"
          ],
          [
           5288.94,
           "convnext"
          ],
          [
           5288.94,
           "convnext"
          ],
          [
           5280.68,
           "vit"
          ],
          [
           5280.68,
           "vit"
          ],
          [
           5280.68,
           "vit"
          ],
          [
           5280.52,
           "vit"
          ],
          [
           5280.52,
           "vit"
          ],
          [
           5280.52,
           "vit"
          ],
          [
           5252.66,
           "repvgg"
          ],
          [
           5108.26,
           "resnetd"
          ],
          [
           5108.26,
           "resnetd"
          ],
          [
           4749.12,
           "convnext"
          ],
          [
           4749.12,
           "convnext"
          ],
          [
           4618.33,
           "convnext"
          ],
          [
           4618.33,
           "convnext"
          ],
          [
           4566.14,
           "efficientformer"
          ],
          [
           4481.69,
           "crossvit"
          ],
          [
           4393.87,
           "mobilevitv2"
          ],
          [
           4239.44,
           "efficientnet"
          ],
          [
           4239.44,
           "efficientnet"
          ],
          [
           4239.44,
           "efficientnet"
          ],
          [
           4239.44,
           "efficientnet"
          ],
          [
           4239.1,
           "vit"
          ],
          [
           4212.37,
           "crossvit"
          ],
          [
           4095.03,
           "crossvit"
          ],
          [
           4030.92,
           "efficientnet"
          ],
          [
           3987.84,
           "repvgg"
          ],
          [
           3963.05,
           "vit"
          ],
          [
           3939.46,
           "resnet"
          ],
          [
           3939.46,
           "resnet"
          ],
          [
           3865.49,
           "resnetv2"
          ],
          [
           3865.49,
           "resnetv2"
          ],
          [
           3852.41,
           "regnetx"
          ],
          [
           3852.41,
           "regnetx"
          ],
          [
           3747.49,
           "convnext"
          ],
          [
           3747.49,
           "convnext"
          ],
          [
           3671.25,
           "efficientnet"
          ],
          [
           3668.58,
           "resnet"
          ],
          [
           3668.58,
           "resnet"
          ],
          [
           3668.58,
           "resnet"
          ],
          [
           3668.58,
           "resnet"
          ],
          [
           3668.58,
           "resnet"
          ],
          [
           3668.58,
           "resnet"
          ],
          [
           3668.58,
           "resnet"
          ],
          [
           3668.58,
           "resnet"
          ],
          [
           3668.58,
           "resnet"
          ],
          [
           3668.58,
           "resnet"
          ],
          [
           3668.58,
           "resnet"
          ],
          [
           3668.58,
           "resnet"
          ],
          [
           3668.58,
           "resnet"
          ],
          [
           3668.58,
           "resnet"
          ],
          [
           3668.58,
           "resnet"
          ],
          [
           3668.58,
           "resnet"
          ],
          [
           3668.58,
           "resnet"
          ],
          [
           3668.58,
           "resnet"
          ],
          [
           3668.58,
           "resnet"
          ],
          [
           3668.58,
           "resnet"
          ],
          [
           3668.58,
           "resnet"
          ],
          [
           3668.58,
           "resnet"
          ],
          [
           3668.58,
           "resnet"
          ],
          [
           3668.58,
           "resnet"
          ],
          [
           3668.58,
           "resnet"
          ],
          [
           3668.58,
           "resnet"
          ],
          [
           3668.58,
           "resnet"
          ],
          [
           3668.58,
           "resnet"
          ],
          [
           3668.58,
           "resnet"
          ],
          [
           3668.58,
           "resnet"
          ],
          [
           3668.58,
           "resnet"
          ],
          [
           3651.34,
           "convnext"
          ],
          [
           3651.34,
           "convnext"
          ],
          [
           3531.88,
           "regnety"
          ],
          [
           3531.88,
           "regnety"
          ],
          [
           3492.62,
           "resnet"
          ],
          [
           3492.62,
           "resnet"
          ],
          [
           3460.78,
           "resnet"
          ],
          [
           3460.78,
           "resnet"
          ],
          [
           3399.61,
           "convit"
          ],
          [
           3360.1,
           "efficientnet"
          ],
          [
           3351.47,
           "resnetd"
          ],
          [
           3351.47,
           "resnetd"
          ],
          [
           3351.47,
           "resnetd"
          ],
          [
           3351.47,
           "resnetd"
          ],
          [
           3351.47,
           "resnetd"
          ],
          [
           3351.47,
           "resnetd"
          ],
          [
           3351.47,
           "resnetd"
          ],
          [
           3351.47,
           "resnetd"
          ],
          [
           3351.47,
           "resnetd"
          ],
          [
           3351.47,
           "resnetd"
          ],
          [
           3351.47,
           "resnetd"
          ],
          [
           3324.63,
           "mobilevitv2"
          ],
          [
           3252.28,
           "mobilevit"
          ],
          [
           3223.9,
           "efficientnet"
          ],
          [
           3223.9,
           "efficientnet"
          ],
          [
           3218.38,
           "vit"
          ],
          [
           3218.38,
           "vit"
          ],
          [
           3196.73,
           "convnextv2"
          ],
          [
           3196.73,
           "convnextv2"
          ],
          [
           3061.92,
           "vit"
          ],
          [
           3026.45,
           "vit"
          ],
          [
           3008.26,
           "vit"
          ],
          [
           3000.96,
           "vit"
          ],
          [
           2993.03,
           "resnetaad"
          ],
          [
           2993.03,
           "resnetaad"
          ],
          [
           2983.47,
           "vgg"
          ],
          [
           2963.42,
           "resnetrs"
          ],
          [
           2963.42,
           "resnetrs"
          ],
          [
           2760.38,
           "vgg"
          ],
          [
           2735.91,
           "convnextv2"
          ],
          [
           2735.91,
           "convnextv2"
          ],
          [
           2735.78,
           "flexivit"
          ],
          [
           2735.78,
           "flexivit"
          ],
          [
           2735.78,
           "flexivit"
          ],
          [
           2685.97,
           "resnetblur"
          ],
          [
           2685.97,
           "resnetblur"
          ],
          [
           2626.71,
           "regnetz"
          ],
          [
           2626.71,
           "regnetz"
          ],
          [
           2611.78,
           "convnext"
          ],
          [
           2611.78,
           "convnext"
          ],
          [
           2611.78,
           "convnext"
          ],
          [
           2611.78,
           "convnext"
          ],
          [
           2601.49,
           "efficientnetv2"
          ],
          [
           2601.49,
           "efficientnetv2"
          ],
          [
           2586.09,
           "mobilevit"
          ],
          [
           2561.41,
           "gcvit"
          ],
          [
           2473.34,
           "repvgg"
          ],
          [
           2472.28,
           "mobilevitv2"
          ],
          [
           2435,
           "convnext"
          ],
          [
           2435,
           "convnext"
          ],
          [
           2429.42,
           "regnetx"
          ],
          [
           2429.42,
           "regnetx"
          ],
          [
           2330.6,
           "resnetv2"
          ],
          [
           2330.6,
           "resnetv2"
          ],
          [
           2258.28,
           "resnet"
          ],
          [
           2258.28,
           "resnet"
          ],
          [
           2258.28,
           "resnet"
          ],
          [
           2258.28,
           "resnet"
          ],
          [
           2258.28,
           "resnet"
          ],
          [
           2258.28,
           "resnet"
          ],
          [
           2258.28,
           "resnet"
          ],
          [
           2258.28,
           "resnet"
          ],
          [
           2258.28,
           "resnet"
          ],
          [
           2258.28,
           "resnet"
          ],
          [
           2258.28,
           "resnet"
          ],
          [
           2258.28,
           "resnet"
          ],
          [
           2149.71,
           "vgg"
          ],
          [
           2108.5,
           "convnextv2"
          ],
          [
           2108.5,
           "convnextv2"
          ],
          [
           2081.5,
           "crossvit"
          ],
          [
           2071.36,
           "mobilevitv2"
          ],
          [
           2071.36,
           "mobilevitv2"
          ],
          [
           2071.36,
           "mobilevitv2"
          ],
          [
           2044.85,
           "vit"
          ],
          [
           2041.79,
           "efficientformer"
          ],
          [
           2037.47,
           "vit"
          ],
          [
           2034.41,
           "resnet"
          ],
          [
           2034.41,
           "resnet"
          ],
          [
           2033.15,
           "vit"
          ],
          [
           2008.78,
           "maxvit"
          ],
          [
           2007.24,
           "vit"
          ],
          [
           1995.14,
           "swin"
          ],
          [
           1995.14,
           "swin"
          ],
          [
           1985.42,
           "repvgg"
          ],
          [
           1982.98,
           "resnetaad"
          ],
          [
           1982.98,
           "resnetaad"
          ],
          [
           1969.68,
           "gcvit"
          ],
          [
           1958.15,
           "resnetaa"
          ],
          [
           1958.15,
           "resnetaa"
          ],
          [
           1949.54,
           "efficientnet"
          ],
          [
           1949.54,
           "efficientnet"
          ],
          [
           1932.62,
           "regnetx"
          ],
          [
           1892.46,
           "crossvit"
          ],
          [
           1879.72,
           "vgg"
          ],
          [
           1850.69,
           "crossvit"
          ],
          [
           1841.84,
           "resnet"
          ],
          [
           1841.84,
           "resnet"
          ],
          [
           1817.5,
           "swin"
          ],
          [
           1717.44,
           "vgg"
          ],
          [
           1710.89,
           "regnetz"
          ],
          [
           1710.89,
           "regnetz"
          ],
          [
           1682.92,
           "regnetv"
          ],
          [
           1682.92,
           "regnetv"
          ],
          [
           1677.66,
           "mobilevitv2"
          ],
          [
           1677.66,
           "mobilevitv2"
          ],
          [
           1677.66,
           "mobilevitv2"
          ],
          [
           1677.03,
           "regnety"
          ],
          [
           1677.03,
           "regnety"
          ],
          [
           1677.03,
           "regnety"
          ],
          [
           1676.16,
           "convnext"
          ],
          [
           1676.16,
           "convnext"
          ],
          [
           1665.76,
           "vit"
          ],
          [
           1649.27,
           "vit"
          ],
          [
           1649.27,
           "vit"
          ],
          [
           1648.64,
           "vit"
          ],
          [
           1648.64,
           "vit"
          ],
          [
           1642.14,
           "convnext"
          ],
          [
           1642.14,
           "convnext"
          ],
          [
           1642.14,
           "convnext"
          ],
          [
           1642.14,
           "convnext"
          ],
          [
           1642.14,
           "convnext"
          ],
          [
           1642.14,
           "convnext"
          ],
          [
           1642.14,
           "convnext"
          ],
          [
           1642.14,
           "convnext"
          ],
          [
           1600.43,
           "swinv2"
          ],
          [
           1581.02,
           "resnet"
          ],
          [
           1581.02,
           "resnet"
          ],
          [
           1581.02,
           "resnet"
          ],
          [
           1581.02,
           "resnet"
          ],
          [
           1581.02,
           "resnet"
          ],
          [
           1581.02,
           "resnet"
          ],
          [
           1581.02,
           "resnet"
          ],
          [
           1581.02,
           "resnet"
          ],
          [
           1581.02,
           "resnet"
          ],
          [
           1581.02,
           "resnet"
          ],
          [
           1581.02,
           "resnet"
          ],
          [
           1581.02,
           "resnet"
          ],
          [
           1564.22,
           "vit"
          ],
          [
           1555.14,
           "efficientnet"
          ],
          [
           1551.85,
           "maxvit"
          ],
          [
           1550.52,
           "regnetx"
          ],
          [
           1549.97,
           "efficientnet"
          ],
          [
           1537.54,
           "mvitv2"
          ],
          [
           1523.86,
           "vgg"
          ],
          [
           1517.43,
           "maxvit"
          ],
          [
           1500.71,
           "convnextv2"
          ],
          [
           1500.71,
           "convnextv2"
          ],
          [
           1500.71,
           "convnextv2"
          ],
          [
           1500.71,
           "convnextv2"
          ],
          [
           1500.71,
           "convnextv2"
          ],
          [
           1467.85,
           "regnety"
          ],
          [
           1467.85,
           "regnety"
          ],
          [
           1467.85,
           "regnety"
          ],
          [
           1467.85,
           "regnety"
          ],
          [
           1457.54,
           "convit"
          ],
          [
           1456.02,
           "mobilevitv2"
          ],
          [
           1456.02,
           "mobilevitv2"
          ],
          [
           1456.02,
           "mobilevitv2"
          ],
          [
           1393.71,
           "vgg"
          ],
          [
           1350.45,
           "maxvit"
          ],
          [
           1348.85,
           "crossvit"
          ],
          [
           1347.73,
           "maxxvit"
          ],
          [
           1339.65,
           "gcvit"
          ],
          [
           1313.78,
           "crossvit"
          ],
          [
           1305.22,
           "repvgg"
          ],
          [
           1259.7,
           "maxxvitv2"
          ],
          [
           1246.52,
           "vgg"
          ],
          [
           1235.74,
           "swin"
          ],
          [
           1235.74,
           "swin"
          ],
          [
           1223.51,
           "regnetz"
          ],
          [
           1223.51,
           "regnetz"
          ],
          [
           1211.82,
           "vit"
          ],
          [
           1211.82,
           "vit"
          ],
          [
           1211.82,
           "vit"
          ],
          [
           1211.82,
           "vit"
          ],
          [
           1211.26,
           "vit"
          ],
          [
           1210.28,
           "vit"
          ],
          [
           1210.28,
           "vit"
          ],
          [
           1210.28,
           "vit"
          ],
          [
           1210.28,
           "vit"
          ],
          [
           1210.28,
           "vit"
          ],
          [
           1200.3,
           "maxvit"
          ],
          [
           1200.06,
           "swinv2"
          ],
          [
           1199.87,
           "efficientnetv2"
          ],
          [
           1199.87,
           "efficientnetv2"
          ],
          [
           1195.08,
           "regnetx"
          ],
          [
           1195.08,
           "regnetx"
          ],
          [
           1180.39,
           "vit"
          ],
          [
           1163.64,
           "regnetz"
          ],
          [
           1163.64,
           "regnetz"
          ],
          [
           1154.21,
           "vit"
          ],
          [
           1146.92,
           "mvitv2"
          ],
          [
           1141.31,
           "vit"
          ],
          [
           1134.67,
           "resnetrs"
          ],
          [
           1134.67,
           "resnetrs"
          ],
          [
           1128.94,
           "vit"
          ],
          [
           1112.26,
           "beit"
          ],
          [
           1108.55,
           "beitv2"
          ],
          [
           1108.55,
           "beitv2"
          ],
          [
           1039.88,
           "resnetd"
          ],
          [
           1039.88,
           "resnetd"
          ],
          [
           1039.88,
           "resnetd"
          ],
          [
           1037.21,
           "flexivit"
          ],
          [
           1037.21,
           "flexivit"
          ],
          [
           1037.21,
           "flexivit"
          ],
          [
           1030.67,
           "vit"
          ],
          [
           1029.25,
           "maxvit"
          ],
          [
           1014.08,
           "efficientnet"
          ],
          [
           1014.08,
           "efficientnet"
          ],
          [
           1005.28,
           "swinv2"
          ],
          [
           1004.51,
           "regnetx"
          ],
          [
           1004.51,
           "regnetx"
          ],
          [
           994.23,
           "repvgg"
          ],
          [
           993.75,
           "swinv2"
          ],
          [
           988.97,
           "repvgg"
          ],
          [
           988.3,
           "convnext"
          ],
          [
           988.3,
           "convnext"
          ],
          [
           988.3,
           "convnext"
          ],
          [
           988.3,
           "convnext"
          ],
          [
           988.3,
           "convnext"
          ],
          [
           988.3,
           "convnext"
          ],
          [
           988.3,
           "convnext"
          ],
          [
           988.3,
           "convnext"
          ],
          [
           982.68,
           "vit"
          ],
          [
           975.77,
           "regnetz"
          ],
          [
           975.77,
           "regnetz"
          ],
          [
           962.55,
           "efficientformer"
          ],
          [
           930.82,
           "convnextv2"
          ],
          [
           930.82,
           "convnextv2"
          ],
          [
           930.82,
           "convnextv2"
          ],
          [
           930.82,
           "convnextv2"
          ],
          [
           930.82,
           "convnextv2"
          ],
          [
           899.98,
           "swin"
          ],
          [
           875.38,
           "swin"
          ],
          [
           875.38,
           "swin"
          ],
          [
           854.82,
           "resnetv2d"
          ],
          [
           854.82,
           "resnetv2d"
          ],
          [
           839.43,
           "crossvit"
          ],
          [
           816.34,
           "maxvit"
          ],
          [
           815.24,
           "gcvit"
          ],
          [
           811.28,
           "regnety"
          ],
          [
           811.28,
           "regnety"
          ],
          [
           811.28,
           "regnety"
          ],
          [
           804.14,
           "mvitv2"
          ],
          [
           802.85,
           "repvgg"
          ],
          [
           781.61,
           "swinv2"
          ],
          [
           777.04,
           "maxvit"
          ],
          [
           753.82,
           "vit"
          ],
          [
           753.82,
           "vit"
          ],
          [
           742.37,
           "resnetd"
          ],
          [
           742.37,
           "resnetd"
          ],
          [
           742.37,
           "resnetd"
          ],
          [
           741.95,
           "swinv2"
          ],
          [
           733.27,
           "swin"
          ],
          [
           731.09,
           "convit"
          ],
          [
           687.14,
           "convnext"
          ],
          [
           687.14,
           "convnext"
          ],
          [
           687.14,
           "convnext"
          ],
          [
           687.14,
           "convnext"
          ],
          [
           687.14,
           "convnext"
          ],
          [
           687.14,
           "convnext"
          ],
          [
           687.14,
           "convnext"
          ],
          [
           687.14,
           "convnext"
          ],
          [
           687.14,
           "convnext"
          ],
          [
           657.71,
           "regnety"
          ],
          [
           657.71,
           "regnety"
          ],
          [
           657.71,
           "regnety"
          ],
          [
           652.6,
           "regnetv"
          ],
          [
           652.6,
           "regnetv"
          ],
          [
           649.95,
           "resnetrs"
          ],
          [
           649.95,
           "resnetrs"
          ],
          [
           640.37,
           "regnetx"
          ],
          [
           639.43,
           "regnetz"
          ],
          [
           639.43,
           "regnetz"
          ],
          [
           625.75,
           "regnety"
          ],
          [
           625.75,
           "regnety"
          ],
          [
           625.75,
           "regnety"
          ],
          [
           605.31,
           "regnety"
          ],
          [
           605.31,
           "regnety"
          ],
          [
           605.31,
           "regnety"
          ],
          [
           605.31,
           "regnety"
          ],
          [
           605.31,
           "regnety"
          ],
          [
           602.42,
           "gcvit"
          ],
          [
           596.93,
           "regnetz"
          ],
          [
           596.93,
           "regnetz"
          ],
          [
           590.18,
           "maxxvit"
          ],
          [
           545.14,
           "resnetd"
          ],
          [
           545.14,
           "resnetd"
          ],
          [
           543.45,
           "vit"
          ],
          [
           543.37,
           "efficientnetv2"
          ],
          [
           543.37,
           "efficientnetv2"
          ],
          [
           539.24,
           "vit"
          ],
          [
           533.21,
           "efficientnet"
          ],
          [
           531.81,
           "swinv2"
          ],
          [
           525.72,
           "maxxvitv2"
          ],
          [
           504.4,
           "swin"
          ],
          [
           488.97,
           "swinv2"
          ],
          [
           472.06,
           "maxvit"
          ],
          [
           471.68,
           "resnetrs"
          ],
          [
           471.68,
           "resnetrs"
          ],
          [
           430.05,
           "maxvit"
          ],
          [
           403.59,
           "convnextv2"
          ],
          [
           403.59,
           "convnextv2"
          ],
          [
           403.59,
           "convnextv2"
          ],
          [
           403.59,
           "convnextv2"
          ],
          [
           403.59,
           "convnextv2"
          ],
          [
           394.39,
           "regnetz"
          ],
          [
           394.39,
           "regnetz"
          ],
          [
           390.72,
           "crossvit"
          ],
          [
           390.66,
           "vit"
          ],
          [
           373.02,
           "convnext"
          ],
          [
           373.02,
           "convnext"
          ],
          [
           373.02,
           "convnext"
          ],
          [
           373.02,
           "convnext"
          ],
          [
           373.02,
           "convnext"
          ],
          [
           360.62,
           "beit"
          ],
          [
           360.58,
           "beitv2"
          ],
          [
           360.58,
           "beitv2"
          ],
          [
           360.23,
           "swinv2"
          ],
          [
           353.5,
           "regnety"
          ],
          [
           353.5,
           "regnety"
          ],
          [
           353.5,
           "regnety"
          ],
          [
           353.5,
           "regnety"
          ],
          [
           353.5,
           "regnety"
          ],
          [
           353.5,
           "regnety"
          ],
          [
           353.5,
           "regnety"
          ],
          [
           353.5,
           "regnety"
          ],
          [
           353.5,
           "regnety"
          ],
          [
           353.5,
           "regnety"
          ],
          [
           344.01,
           "maxvit"
          ],
          [
           335.35,
           "flexivit"
          ],
          [
           335.35,
           "flexivit"
          ],
          [
           335.35,
           "flexivit"
          ],
          [
           329.8,
           "vit"
          ],
          [
           307.09,
           "vit"
          ],
          [
           307.09,
           "vit"
          ],
          [
           307.09,
           "vit"
          ],
          [
           306.29,
           "vit"
          ],
          [
           306.29,
           "vit"
          ],
          [
           306.29,
           "vit"
          ],
          [
           306.29,
           "vit"
          ],
          [
           301.43,
           "maxvit"
          ],
          [
           296.97,
           "resnetrs"
          ],
          [
           296.97,
           "resnetrs"
          ],
          [
           289.44,
           "regnetx"
          ],
          [
           289.44,
           "regnetx"
          ],
          [
           285.99,
           "vit"
          ],
          [
           285.99,
           "vit"
          ],
          [
           285.99,
           "vit"
          ],
          [
           285.99,
           "vit"
          ],
          [
           285.18,
           "crossvit"
          ],
          [
           261.27,
           "beit"
          ],
          [
           249.99,
           "mvitv2"
          ],
          [
           242.63,
           "convnext"
          ],
          [
           242.63,
           "convnext"
          ],
          [
           242.63,
           "convnext"
          ],
          [
           239.52,
           "convnextv2"
          ],
          [
           239.52,
           "convnextv2"
          ],
          [
           239.52,
           "convnextv2"
          ],
          [
           239.52,
           "convnextv2"
          ],
          [
           239.52,
           "convnextv2"
          ],
          [
           236.12,
           "swin"
          ],
          [
           236.12,
           "swin"
          ],
          [
           226.32,
           "vit"
          ],
          [
           224.01,
           "maxvit"
          ],
          [
           199.67,
           "vit"
          ],
          [
           199.67,
           "vit"
          ],
          [
           196.19,
           "resnetrs"
          ],
          [
           196.19,
           "resnetrs"
          ],
          [
           183.68,
           "convnext"
          ],
          [
           174.81,
           "regnety"
          ],
          [
           163.72,
           "maxvit"
          ],
          [
           154.17,
           "vit"
          ],
          [
           154.17,
           "vit"
          ],
          [
           153.9,
           "maxxvitv2"
          ],
          [
           142.37,
           "resnetrs"
          ],
          [
           142.37,
           "resnetrs"
          ],
          [
           138.37,
           "swin"
          ],
          [
           131.6,
           "maxvit"
          ],
          [
           122.48,
           "maxvit"
          ],
          [
           122.48,
           "maxvit"
          ],
          [
           106.82,
           "maxvit"
          ],
          [
           102.52,
           "vit"
          ],
          [
           102.52,
           "vit"
          ],
          [
           102.52,
           "vit"
          ],
          [
           102.5,
           "vit"
          ],
          [
           88.56,
           "beit"
          ],
          [
           86.44,
           "maxvit"
          ],
          [
           86.44,
           "maxvit"
          ],
          [
           82.49,
           "regnety"
          ],
          [
           82.49,
           "regnety"
          ],
          [
           82.49,
           "regnety"
          ],
          [
           57.86,
           "maxvit"
          ],
          [
           57.86,
           "maxvit"
          ],
          [
           57.4,
           "vit"
          ],
          [
           56.31,
           "convnextv2"
          ],
          [
           56.31,
           "convnextv2"
          ],
          [
           56.31,
           "convnextv2"
          ],
          [
           56.31,
           "convnextv2"
          ],
          [
           50.76,
           "maxvit"
          ],
          [
           47.69,
           "regnety"
          ],
          [
           41.04,
           "maxvit"
          ],
          [
           41.04,
           "maxvit"
          ],
          [
           35.33,
           "beit"
          ],
          [
           24.38,
           "maxvit"
          ]
         ],
         "hovertemplate": "<b>%{hovertext}</b><br><br>param_count_x=%{x}<br>secs=%{y}<br>infer_samples_per_sec=%{customdata[0]}<br>family=%{customdata[1]}<br>infer_img_size=%{marker.color}<extra></extra>",
         "hovertext": [
          "regnetx_002.pycls_in1k",
          "levit_128s.fb_dist_in1k",
          "regnety_002.pycls_in1k",
          "levit_128.fb_dist_in1k",
          "vit_tiny_r_s16_p8_224.augreg_in21k_ft_in1k",
          "resnet10t.c3_in1k",
          "resnet10t.c3_in1k",
          "vit_small_patch32_224.augreg_in21k_ft_in1k",
          "regnetx_004.pycls_in1k",
          "levit_192.fb_dist_in1k",
          "regnety_004.tv2_in1k",
          "regnety_004.pycls_in1k",
          "resnet18.fb_swsl_ig1b_ft_in1k",
          "resnet18.a1_in1k",
          "resnet18.fb_ssl_yfcc100m_ft_in1k",
          "resnet18.a2_in1k",
          "resnet18.a1_in1k",
          "resnet18.gluon_in1k",
          "resnet18.a2_in1k",
          "resnet18.tv_in1k",
          "resnet18.a3_in1k",
          "resnet18.a3_in1k",
          "levit_256.fb_dist_in1k",
          "efficientnet_lite0.ra_in1k",
          "resnet18d.ra2_in1k",
          "resnet18d.ra2_in1k",
          "regnety_006.pycls_in1k",
          "regnetx_006.pycls_in1k",
          "efficientnet_b0.ra4_e3600_r224_in1k",
          "efficientnet_b0.ra4_e3600_r224_in1k",
          "efficientnet_b0.ra_in1k",
          "resnet14t.c3_in1k",
          "resnet14t.c3_in1k",
          "vit_tiny_patch16_224.augreg_in21k_ft_in1k",
          "regnetx_008.tv2_in1k",
          "regnetx_008.pycls_in1k",
          "regnety_008.pycls_in1k",
          "mobilevitv2_050.cvnets_in1k",
          "efficientnet_b1_pruned.in1k",
          "resnet34.a1_in1k",
          "resnet34.a2_in1k",
          "resnet34.bt_in1k",
          "resnet34.a1_in1k",
          "resnet34.a2_in1k",
          "resnet34.bt_in1k",
          "resnet34.gluon_in1k",
          "resnet34.tv_in1k",
          "resnet34.a3_in1k",
          "resnet34.a3_in1k",
          "efficientnet_es_pruned.in1k",
          "efficientnet_es.ra_in1k",
          "resnet26.bt_in1k",
          "resnet26.bt_in1k",
          "levit_384.fb_dist_in1k",
          "resnet34d.ra2_in1k",
          "resnet34d.ra2_in1k",
          "mobilevit_xxs.cvnets_in1k",
          "convnext_atto.d2_in1k",
          "convnext_atto.d2_in1k",
          "convnext_atto_ols.a2_in1k",
          "convnext_atto_ols.a2_in1k",
          "vit_base_patch32_clip_224.laion2b_ft_in12k_in1k",
          "vit_base_patch32_clip_224.laion2b_ft_in1k",
          "vit_base_patch32_clip_224.openai_ft_in1k",
          "vit_base_patch32_224.augreg_in21k_ft_in1k",
          "vit_base_patch32_224.augreg_in1k",
          "vit_base_patch32_224.sam_in1k",
          "repvgg_b0.rvgg_in1k",
          "resnet26d.bt_in1k",
          "resnet26d.bt_in1k",
          "convnext_femto.d1_in1k",
          "convnext_femto.d1_in1k",
          "convnext_femto_ols.d1_in1k",
          "convnext_femto_ols.d1_in1k",
          "efficientformer_l1.snap_dist_in1k",
          "crossvit_tiny_240.in1k",
          "mobilevitv2_075.cvnets_in1k",
          "efficientnet_b1.ra4_e3600_r240_in1k",
          "efficientnet_b1.ra4_e3600_r240_in1k",
          "efficientnet_b1.ft_in1k",
          "efficientnet_b1.ft_in1k",
          "vit_small_patch32_384.augreg_in21k_ft_in1k",
          "crossvit_9_240.in1k",
          "crossvit_9_dagger_240.in1k",
          "efficientnet_b2_pruned.in1k",
          "repvgg_a2.rvgg_in1k",
          "vit_tiny_r_s16_p8_384.augreg_in21k_ft_in1k",
          "resnet26t.ra2_in1k",
          "resnet26t.ra2_in1k",
          "resnetv2_50.a1h_in1k",
          "resnetv2_50.a1h_in1k",
          "regnetx_016.tv2_in1k",
          "regnetx_016.pycls_in1k",
          "convnext_pico.d1_in1k",
          "convnext_pico.d1_in1k",
          "efficientnet_em.ra2_in1k",
          "resnet50.a1_in1k",
          "resnet50.fb_swsl_ig1b_ft_in1k",
          "resnet50.d_in1k",
          "resnet50.c1_in1k",
          "resnet50.c2_in1k",
          "resnet50.tv2_in1k",
          "resnet50.a2_in1k",
          "resnet50.b1k_in1k",
          "resnet50.a1h_in1k",
          "resnet50.b2k_in1k",
          "resnet50.a1_in1k",
          "resnet50.ram_in1k",
          "resnet50.d_in1k",
          "resnet50.c2_in1k",
          "resnet50.ra_in1k",
          "resnet50.a2_in1k",
          "resnet50.c1_in1k",
          "resnet50.bt_in1k",
          "resnet50.b1k_in1k",
          "resnet50.tv2_in1k",
          "resnet50.b2k_in1k",
          "resnet50.a1h_in1k",
          "resnet50.fb_ssl_yfcc100m_ft_in1k",
          "resnet50.ram_in1k",
          "resnet50.am_in1k",
          "resnet50.ra_in1k",
          "resnet50.bt_in1k",
          "resnet50.a3_in1k",
          "resnet50.gluon_in1k",
          "resnet50.tv_in1k",
          "resnet50.a3_in1k",
          "convnext_pico_ols.d1_in1k",
          "convnext_pico_ols.d1_in1k",
          "regnety_016.tv2_in1k",
          "regnety_016.pycls_in1k",
          "resnet32ts.ra2_in1k",
          "resnet32ts.ra2_in1k",
          "resnet33ts.ra2_in1k",
          "resnet33ts.ra2_in1k",
          "convit_tiny.fb_in1k",
          "efficientnet_b3_pruned.in1k",
          "resnet50d.ra4_e3600_r224_in1k",
          "resnet50d.a1_in1k",
          "resnet50d.ra2_in1k",
          "resnet50d.a2_in1k",
          "resnet50d.ra4_e3600_r224_in1k",
          "resnet50d.a1_in1k",
          "resnet50d.ra2_in1k",
          "resnet50d.a2_in1k",
          "resnet50d.gluon_in1k",
          "resnet50d.a3_in1k",
          "resnet50d.a3_in1k",
          "mobilevitv2_100.cvnets_in1k",
          "mobilevit_xs.cvnets_in1k",
          "efficientnet_b2.ra_in1k",
          "efficientnet_b2.ra_in1k",
          "vit_small_patch16_224.augreg_in21k_ft_in1k",
          "vit_small_patch16_224.augreg_in1k",
          "convnextv2_atto.fcmae_ft_in1k",
          "convnextv2_atto.fcmae_ft_in1k",
          "vit_small_r26_s32_224.augreg_in21k_ft_in1k",
          "vit_relpos_base_patch32_plus_rpn_256.sw_in1k",
          "vit_relpos_small_patch16_224.sw_in1k",
          "vit_srelpos_small_patch16_224.sw_in1k",
          "resnetaa50d.sw_in12k_ft_in1k",
          "resnetaa50d.sw_in12k_ft_in1k",
          "vgg11.tv_in1k",
          "resnetrs50.tf_in1k",
          "resnetrs50.tf_in1k",
          "vgg11_bn.tv_in1k",
          "convnextv2_femto.fcmae_ft_in1k",
          "convnextv2_femto.fcmae_ft_in1k",
          "flexivit_small.1200ep_in1k",
          "flexivit_small.600ep_in1k",
          "flexivit_small.300ep_in1k",
          "resnetblur50.bt_in1k",
          "resnetblur50.bt_in1k",
          "regnetz_b16.ra3_in1k",
          "regnetz_b16.ra3_in1k",
          "convnext_nano.in12k_ft_in1k",
          "convnext_nano.in12k_ft_in1k",
          "convnext_nano.d1h_in1k",
          "convnext_nano.d1h_in1k",
          "efficientnetv2_rw_t.ra2_in1k",
          "efficientnetv2_rw_t.ra2_in1k",
          "mobilevit_s.cvnets_in1k",
          "gcvit_xxtiny.in1k",
          "repvgg_b1g4.rvgg_in1k",
          "mobilevitv2_125.cvnets_in1k",
          "convnext_nano_ols.d1h_in1k",
          "convnext_nano_ols.d1h_in1k",
          "regnetx_032.tv2_in1k",
          "regnetx_032.pycls_in1k",
          "resnetv2_101.a1h_in1k",
          "resnetv2_101.a1h_in1k",
          "resnet101.a1h_in1k",
          "resnet101.a1_in1k",
          "resnet101.a2_in1k",
          "resnet101.a1h_in1k",
          "resnet101.tv2_in1k",
          "resnet101.a1_in1k",
          "resnet101.a2_in1k",
          "resnet101.tv2_in1k",
          "resnet101.a3_in1k",
          "resnet101.gluon_in1k",
          "resnet101.a3_in1k",
          "resnet101.tv_in1k",
          "vgg13.tv_in1k",
          "convnextv2_pico.fcmae_ft_in1k",
          "convnextv2_pico.fcmae_ft_in1k",
          "crossvit_small_240.in1k",
          "mobilevitv2_150.cvnets_in22k_ft_in1k_384",
          "mobilevitv2_150.cvnets_in22k_ft_in1k",
          "mobilevitv2_150.cvnets_in1k",
          "vit_relpos_medium_patch16_rpn_224.sw_in1k",
          "efficientformer_l3.snap_dist_in1k",
          "vit_relpos_medium_patch16_224.sw_in1k",
          "resnet51q.ra2_in1k",
          "resnet51q.ra2_in1k",
          "vit_srelpos_medium_patch16_224.sw_in1k",
          "maxvit_rmlp_pico_rw_256.sw_in1k",
          "vit_relpos_medium_patch16_cls_224.sw_in1k",
          "swin_tiny_patch4_window7_224.ms_in1k",
          "swin_tiny_patch4_window7_224.ms_in22k_ft_in1k",
          "repvgg_b1.rvgg_in1k",
          "resnetaa101d.sw_in12k_ft_in1k",
          "resnetaa101d.sw_in12k_ft_in1k",
          "gcvit_xtiny.in1k",
          "resnetaa50.a1h_in1k",
          "resnetaa50.a1h_in1k",
          "efficientnet_b3.ra2_in1k",
          "efficientnet_b3.ra2_in1k",
          "regnetx_040.pycls_in1k",
          "crossvit_15_240.in1k",
          "vgg13_bn.tv_in1k",
          "crossvit_15_dagger_240.in1k",
          "resnet61q.ra2_in1k",
          "resnet61q.ra2_in1k",
          "swin_s3_tiny_224.ms_in1k",
          "vgg16.tv_in1k",
          "regnetz_c16.ra3_in1k",
          "regnetz_c16.ra3_in1k",
          "regnetv_040.ra3_in1k",
          "regnetv_040.ra3_in1k",
          "mobilevitv2_175.cvnets_in22k_ft_in1k_384",
          "mobilevitv2_175.cvnets_in22k_ft_in1k",
          "mobilevitv2_175.cvnets_in1k",
          "regnety_040.ra3_in1k",
          "regnety_040.ra3_in1k",
          "regnety_040.pycls_in1k",
          "convnext_tiny_hnf.a2h_in1k",
          "convnext_tiny_hnf.a2h_in1k",
          "vit_tiny_patch16_384.augreg_in21k_ft_in1k",
          "vit_base_patch32_384.augreg_in21k_ft_in1k",
          "vit_base_patch32_384.augreg_in1k",
          "vit_base_patch32_clip_384.laion2b_ft_in12k_in1k",
          "vit_base_patch32_clip_384.openai_ft_in12k_in1k",
          "convnext_tiny.in12k_ft_in1k_384",
          "convnext_tiny.in12k_ft_in1k",
          "convnext_tiny.in12k_ft_in1k",
          "convnext_tiny.fb_in22k_ft_in1k_384",
          "convnext_tiny.fb_in22k_ft_in1k",
          "convnext_tiny.fb_in1k",
          "convnext_tiny.fb_in1k",
          "convnext_tiny.fb_in22k_ft_in1k",
          "swinv2_cr_tiny_ns_224.sw_in1k",
          "resnet152.a1h_in1k",
          "resnet152.a1h_in1k",
          "resnet152.a1_in1k",
          "resnet152.a2_in1k",
          "resnet152.tv2_in1k",
          "resnet152.a1_in1k",
          "resnet152.a2_in1k",
          "resnet152.a3_in1k",
          "resnet152.tv2_in1k",
          "resnet152.gluon_in1k",
          "resnet152.a3_in1k",
          "resnet152.tv_in1k",
          "vit_medium_patch16_gap_256.sw_in12k_ft_in1k",
          "efficientnet_el_pruned.in1k",
          "maxvit_rmlp_nano_rw_256.sw_in1k",
          "regnetx_064.pycls_in1k",
          "efficientnet_el.ra_in1k",
          "mvitv2_tiny.fb_in1k",
          "vgg16_bn.tv_in1k",
          "maxvit_nano_rw_256.sw_in1k",
          "convnextv2_nano.fcmae_ft_in22k_in1k_384",
          "convnextv2_nano.fcmae_ft_in22k_in1k",
          "convnextv2_nano.fcmae_ft_in1k",
          "convnextv2_nano.fcmae_ft_in22k_in1k",
          "convnextv2_nano.fcmae_ft_in1k",
          "regnety_032.ra_in1k",
          "regnety_032.ra_in1k",
          "regnety_032.tv2_in1k",
          "regnety_032.pycls_in1k",
          "convit_small.fb_in1k",
          "mobilevitv2_200.cvnets_in22k_ft_in1k_384",
          "mobilevitv2_200.cvnets_in22k_ft_in1k",
          "mobilevitv2_200.cvnets_in1k",
          "vgg19.tv_in1k",
          "maxvit_tiny_rw_224.sw_in1k",
          "crossvit_18_240.in1k",
          "maxxvit_rmlp_nano_rw_256.sw_in1k",
          "gcvit_tiny.in1k",
          "crossvit_18_dagger_240.in1k",
          "repvgg_b2.rvgg_in1k",
          "maxxvitv2_nano_rw_256.sw_in1k",
          "vgg19_bn.tv_in1k",
          "swin_small_patch4_window7_224.ms_in22k_ft_in1k",
          "swin_small_patch4_window7_224.ms_in1k",
          "regnetz_d32.ra3_in1k",
          "regnetz_d32.ra3_in1k",
          "vit_base_patch16_clip_224.laion2b_ft_in12k_in1k",
          "vit_base_patch16_clip_224.openai_ft_in12k_in1k",
          "vit_base_patch16_clip_224.laion2b_ft_in1k",
          "vit_base_patch16_clip_224.openai_ft_in1k",
          "vit_base_patch16_224_miil.in21k_ft_in1k",
          "vit_base_patch16_224.augreg2_in21k_ft_in1k",
          "vit_base_patch16_224.augreg_in21k_ft_in1k",
          "vit_base_patch16_224.orig_in21k_ft_in1k",
          "vit_base_patch16_224.sam_in1k",
          "vit_base_patch16_224.augreg_in1k",
          "maxvit_tiny_tf_224.in1k",
          "swinv2_tiny_window8_256.ms_in1k",
          "efficientnetv2_rw_s.ra2_in1k",
          "efficientnetv2_rw_s.ra2_in1k",
          "regnetx_160.tv2_in1k",
          "regnetx_160.pycls_in1k",
          "vit_base_patch16_rpn_224.sw_in1k",
          "regnetz_d8.ra3_in1k",
          "regnetz_d8.ra3_in1k",
          "vit_base_patch32_clip_448.laion2b_ft_in12k_in1k",
          "mvitv2_small.fb_in1k",
          "vit_relpos_base_patch16_224.sw_in1k",
          "resnetrs101.tf_in1k",
          "resnetrs101.tf_in1k",
          "vit_relpos_base_patch16_clsgap_224.sw_in1k",
          "beit_base_patch16_224.in22k_ft_in22k_in1k",
          "beitv2_base_patch16_224.in1k_ft_in22k_in1k",
          "beitv2_base_patch16_224.in1k_ft_in1k",
          "resnet101d.ra2_in1k",
          "resnet101d.ra2_in1k",
          "resnet101d.gluon_in1k",
          "flexivit_base.1200ep_in1k",
          "flexivit_base.600ep_in1k",
          "flexivit_base.300ep_in1k",
          "vit_large_r50_s32_224.augreg_in21k_ft_in1k",
          "maxvit_rmlp_tiny_rw_256.sw_in1k",
          "efficientnet_b4.ra2_in1k",
          "efficientnet_b4.ra2_in1k",
          "swinv2_cr_small_224.sw_in1k",
          "regnetx_080.tv2_in1k",
          "regnetx_080.pycls_in1k",
          "repvgg_b3.rvgg_in1k",
          "swinv2_cr_small_ns_224.sw_in1k",
          "repvgg_b2g4.rvgg_in1k",
          "convnext_small.in12k_ft_in1k_384",
          "convnext_small.fb_in22k_ft_in1k_384",
          "convnext_small.in12k_ft_in1k",
          "convnext_small.fb_in22k_ft_in1k",
          "convnext_small.in12k_ft_in1k",
          "convnext_small.fb_in22k_ft_in1k",
          "convnext_small.fb_in1k",
          "convnext_small.fb_in1k",
          "vit_small_r26_s32_384.augreg_in21k_ft_in1k",
          "regnetz_040.ra3_in1k",
          "regnetz_040.ra3_in1k",
          "efficientformer_l7.snap_dist_in1k",
          "convnextv2_tiny.fcmae_ft_in22k_in1k_384",
          "convnextv2_tiny.fcmae_ft_in22k_in1k",
          "convnextv2_tiny.fcmae_ft_in22k_in1k",
          "convnextv2_tiny.fcmae_ft_in1k",
          "convnextv2_tiny.fcmae_ft_in1k",
          "swin_s3_small_224.ms_in1k",
          "swin_base_patch4_window7_224.ms_in22k_ft_in1k",
          "swin_base_patch4_window7_224.ms_in1k",
          "resnetv2_50d_evos.ah_in1k",
          "resnetv2_50d_evos.ah_in1k",
          "crossvit_base_240.in1k",
          "maxvit_rmlp_small_rw_224.sw_in1k",
          "gcvit_small.in1k",
          "regnety_080.ra3_in1k",
          "regnety_080.ra3_in1k",
          "regnety_080.pycls_in1k",
          "mvitv2_base.fb_in1k",
          "repvgg_b3g4.rvgg_in1k",
          "swinv2_tiny_window16_256.ms_in1k",
          "maxvit_small_tf_224.in1k",
          "vit_small_patch16_384.augreg_in21k_ft_in1k",
          "vit_small_patch16_384.augreg_in1k",
          "resnet152d.ra2_in1k",
          "resnet152d.ra2_in1k",
          "resnet152d.gluon_in1k",
          "swinv2_small_window8_256.ms_in1k",
          "swin_s3_base_224.ms_in1k",
          "convit_base.fb_in1k",
          "convnext_base.clip_laion2b_augreg_ft_in12k_in1k_384",
          "convnext_base.fb_in22k_ft_in1k_384",
          "convnext_base.clip_laiona_augreg_ft_in1k_384",
          "convnext_base.clip_laion2b_augreg_ft_in12k_in1k",
          "convnext_base.fb_in22k_ft_in1k",
          "convnext_base.clip_laion2b_augreg_ft_in1k",
          "convnext_base.fb_in22k_ft_in1k",
          "convnext_base.fb_in1k",
          "convnext_base.fb_in1k",
          "regnety_064.ra3_in1k",
          "regnety_064.ra3_in1k",
          "regnety_064.pycls_in1k",
          "regnetv_064.ra3_in1k",
          "regnetv_064.ra3_in1k",
          "resnetrs152.tf_in1k",
          "resnetrs152.tf_in1k",
          "regnetx_120.pycls_in1k",
          "regnetz_e8.ra3_in1k",
          "regnetz_e8.ra3_in1k",
          "regnety_120.sw_in12k_ft_in1k",
          "regnety_120.sw_in12k_ft_in1k",
          "regnety_120.pycls_in1k",
          "regnety_320.swag_ft_in1k",
          "regnety_320.swag_lc_in1k",
          "regnety_320.seer_ft_in1k",
          "regnety_320.tv2_in1k",
          "regnety_320.pycls_in1k",
          "gcvit_base.in1k",
          "regnetz_c16_evos.ch_in1k",
          "regnetz_c16_evos.ch_in1k",
          "maxxvit_rmlp_small_rw_256.sw_in1k",
          "resnet200d.ra2_in1k",
          "resnet200d.ra2_in1k",
          "vit_large_patch32_384.orig_in21k_ft_in1k",
          "efficientnetv2_rw_m.agc_in1k",
          "efficientnetv2_rw_m.agc_in1k",
          "vit_medium_patch16_gap_384.sw_in12k_ft_in1k",
          "efficientnet_b5.sw_in12k_ft_in1k",
          "swinv2_base_window8_256.ms_in1k",
          "maxxvitv2_rmlp_base_rw_224.sw_in12k_ft_in1k",
          "swin_large_patch4_window7_224.ms_in22k_ft_in1k",
          "swinv2_small_window16_256.ms_in1k",
          "maxvit_rmlp_base_rw_224.sw_in12k_ft_in1k",
          "resnetrs200.tf_in1k",
          "resnetrs200.tf_in1k",
          "maxvit_base_tf_224.in1k",
          "convnextv2_base.fcmae_ft_in22k_in1k_384",
          "convnextv2_base.fcmae_ft_in22k_in1k",
          "convnextv2_base.fcmae_ft_in22k_in1k",
          "convnextv2_base.fcmae_ft_in1k",
          "convnextv2_base.fcmae_ft_in1k",
          "regnetz_d8_evos.ch_in1k",
          "regnetz_d8_evos.ch_in1k",
          "crossvit_15_dagger_408.in1k",
          "vit_large_patch16_224.augreg_in21k_ft_in1k",
          "convnext_large.fb_in22k_ft_in1k_384",
          "convnext_large.fb_in22k_ft_in1k",
          "convnext_large.fb_in22k_ft_in1k",
          "convnext_large.fb_in1k",
          "convnext_large.fb_in1k",
          "beit_large_patch16_224.in22k_ft_in22k_in1k",
          "beitv2_large_patch16_224.in1k_ft_in22k_in1k",
          "beitv2_large_patch16_224.in1k_ft_in1k",
          "swinv2_base_window16_256.ms_in1k",
          "regnety_160.sw_in12k_ft_in1k",
          "regnety_160.swag_ft_in1k",
          "regnety_160.lion_in12k_ft_in1k",
          "regnety_160.lion_in12k_ft_in1k",
          "regnety_160.sw_in12k_ft_in1k",
          "regnety_160.swag_lc_in1k",
          "regnety_160.deit_in1k",
          "regnety_160.deit_in1k",
          "regnety_160.tv2_in1k",
          "regnety_160.pycls_in1k",
          "maxvit_tiny_tf_384.in1k",
          "flexivit_large.1200ep_in1k",
          "flexivit_large.600ep_in1k",
          "flexivit_large.300ep_in1k",
          "vit_large_r50_s32_384.augreg_in21k_ft_in1k",
          "vit_base_patch16_384.augreg_in21k_ft_in1k",
          "vit_base_patch16_384.orig_in21k_ft_in1k",
          "vit_base_patch16_384.augreg_in1k",
          "vit_base_patch16_clip_384.laion2b_ft_in12k_in1k",
          "vit_base_patch16_clip_384.openai_ft_in12k_in1k",
          "vit_base_patch16_clip_384.laion2b_ft_in1k",
          "vit_base_patch16_clip_384.openai_ft_in1k",
          "maxvit_large_tf_224.in1k",
          "resnetrs270.tf_in1k",
          "resnetrs270.tf_in1k",
          "regnetx_320.tv2_in1k",
          "regnetx_320.pycls_in1k",
          "vit_large_patch14_clip_224.openai_ft_in12k_in1k",
          "vit_large_patch14_clip_224.laion2b_ft_in12k_in1k",
          "vit_large_patch14_clip_224.openai_ft_in1k",
          "vit_large_patch14_clip_224.laion2b_ft_in1k",
          "crossvit_18_dagger_408.in1k",
          "beit_base_patch16_384.in22k_ft_in22k_in1k",
          "mvitv2_large.fb_in1k",
          "convnext_xlarge.fb_in22k_ft_in1k_384",
          "convnext_xlarge.fb_in22k_ft_in1k",
          "convnext_xlarge.fb_in22k_ft_in1k",
          "convnextv2_large.fcmae_ft_in22k_in1k_384",
          "convnextv2_large.fcmae_ft_in22k_in1k",
          "convnextv2_large.fcmae_ft_in22k_in1k",
          "convnextv2_large.fcmae_ft_in1k",
          "convnextv2_large.fcmae_ft_in1k",
          "swin_base_patch4_window12_384.ms_in22k_ft_in1k",
          "swin_base_patch4_window12_384.ms_in1k",
          "vit_base_r50_s16_384.orig_in21k_ft_in1k",
          "maxvit_small_tf_384.in1k",
          "vit_base_patch8_224.augreg2_in21k_ft_in1k",
          "vit_base_patch8_224.augreg_in21k_ft_in1k",
          "resnetrs350.tf_in1k",
          "resnetrs350.tf_in1k",
          "convnext_xxlarge.clip_laion2b_soup_ft_in1k",
          "regnety_640.seer_ft_in1k",
          "maxvit_tiny_tf_512.in1k",
          "vit_huge_patch14_clip_224.laion2b_ft_in12k_in1k",
          "vit_huge_patch14_clip_224.laion2b_ft_in1k",
          "maxxvitv2_rmlp_base_rw_384.sw_in12k_ft_in1k",
          "resnetrs420.tf_in1k",
          "resnetrs420.tf_in1k",
          "swin_large_patch4_window12_384.ms_in22k_ft_in1k",
          "maxvit_rmlp_base_rw_384.sw_in12k_ft_in1k",
          "maxvit_base_tf_384.in21k_ft_in1k",
          "maxvit_base_tf_384.in1k",
          "maxvit_small_tf_512.in1k",
          "vit_large_patch14_clip_336.openai_ft_in12k_in1k",
          "vit_large_patch14_clip_336.laion2b_ft_in12k_in1k",
          "vit_large_patch14_clip_336.laion2b_ft_in1k",
          "vit_large_patch16_384.augreg_in21k_ft_in1k",
          "beit_large_patch16_384.in22k_ft_in22k_in1k",
          "maxvit_large_tf_384.in21k_ft_in1k",
          "maxvit_large_tf_384.in1k",
          "regnety_1280.swag_ft_in1k",
          "regnety_1280.swag_lc_in1k",
          "regnety_1280.seer_ft_in1k",
          "maxvit_base_tf_512.in21k_ft_in1k",
          "maxvit_base_tf_512.in1k",
          "vit_huge_patch14_clip_336.laion2b_ft_in12k_in1k",
          "convnextv2_huge.fcmae_ft_in22k_in1k_512",
          "convnextv2_huge.fcmae_ft_in22k_in1k_384",
          "convnextv2_huge.fcmae_ft_in1k",
          "convnextv2_huge.fcmae_ft_in1k",
          "maxvit_xlarge_tf_384.in21k_ft_in1k",
          "regnety_2560.seer_ft_in1k",
          "maxvit_large_tf_512.in21k_ft_in1k",
          "maxvit_large_tf_512.in1k",
          "beit_large_patch16_512.in22k_ft_in22k_in1k",
          "maxvit_xlarge_tf_512.in21k_ft_in1k"
         ],
         "legendgroup": "",
         "marker": {
          "color": {
           "bdata": "4ADgAOAA4ADgAOAA4ADgAOAA4ADgAOAA4ADgAOAA4ADgAOAA4ADgAOAA4ADgAOAA4ADgAOAA4ADgAOAA4ADgAOAA4ADgAOAA4AAAAfAA4ADgAOAA4ADgAOAA4ADgAOAA4ADgAOAA4ADgAOAA4ADgAAABIAEgASABIAHgAOAA4ADgAOAA4ADgAOAA4AAgASABIAEgAeAA8AAAAQABAAEAAQABgAHwAPAABAHgAIABAAEAAeAA4ADgAOAAIAEgAfAA4ADgAOAA4ADgAOAA4ADgAOAA4ADgAOAA4ADgAOAA4ADgAOAA4ADgAOAA4ADgAOAA4ADgAOAA4ADgAOAA4AAgASAB4ADgAAABAAEAAQAB4AAsAeAA4ADgAOAA4ADgAOAA4ADgAOAA4AAAAQABIAEgAeAA4AAgASAB4AAAAeAA4ADgAOAA4ADgAOAA4AAgASAB8ADwAPAA4ADgACABIAEgASABIAEgASABIAEAAeAA4AAAASABIAHgAOAA4ADgAOAA4ADgAOAA4ADgAOAA4ADgAOAA4ADgAOAAIAEgAfAAAAEAAQAB4ADgAOAAIAEgAeAAAAHgAOAA4ADgAOAA4ADgACABIAFAAUAB4ADwAOAA8AAgASAB4ADgAEABQAEgASABAAEAAQABIAEgASABIAEgAYABgAGAAYABgAEgASABIAEgASABIAEgASAB4ADgAOAA4ADgAOAA4ADgAOAA4ADgAOAA4AAAASwBAAHgACwB4ADgAAABIAEgASABIAEgASABIAEgASAB4AAAAQABAAHgAOAA8AAAAeAA8ADgAAAB4ADgAOAAQAFAAeAA4ADgAOAA4ADgAOAA4ADgAOAA4AAAAYABgAHgAOAA4ABAAUABwAHgAOAAIAEgAeAA4ADgAOAAQAFAAUAB8ADwAPAA4AAAAYABgAHgAOAA4ADgAOAA4AAgASABIAEgASABIAEgASABgAFAAUAB4AAgASABIAEgASAB4ADgAOAAIAEgAfAA4ADgACABIAEgAeAA4AAAAeAAgAGAAUABQAFAAQAB4ADgACABIAEgASABIAEgASABIAEgASABIAEgASABIAFAAUAB4ABAAUAB4ADgAOAA4ADgAOAA4ADgAOAAQAFAAQABQAFAAYABoAGgAYABwAEAAeAA4AAAAeAAQAFAAeAAIAEgASABIAEgAUABQAGYAeAAIAEgASABIAEgAeAA4ADgAAABIAEgASABIAEgASABIAEgASABIAGAAfAA8ADwAIABgAGAAYABgAGAAYABgAHgAGABYAHgAOAA4ADgAOAA4ACYAYAB4AAgASABIAEgASABIAEgASABgAGAAYABgAHgAOAAgAGAAeAA4AAAAuAA4ACAAaABoAGAAYABgAGAAQACUAFQAVABgAGAAYABgAHgAOAA4AAAAgACUAGAAYABgAGAAYAB4AAAAgACAAIAAg==",
           "dtype": "i2"
          },
          "coloraxis": "coloraxis",
          "symbol": "circle"
         },
         "mode": "markers",
         "name": "",
         "orientation": "v",
         "showlegend": false,
         "type": "scatter",
         "x": {
          "bdata": "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",
          "dtype": "f8"
         },
         "xaxis": "x",
         "y": {
          "bdata": "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",
          "dtype": "f8"
         },
         "yaxis": "y"
        }
       ],
       "layout": {
        "coloraxis": {
         "colorbar": {
          "title": {
           "text": "infer_img_size"
          }
         },
         "colorscale": [
          [
           0,
           "#0d0887"
          ],
          [
           0.1111111111111111,
           "#46039f"
          ],
          [
           0.2222222222222222,
           "#7201a8"
          ],
          [
           0.3333333333333333,
           "#9c179e"
          ],
          [
           0.4444444444444444,
           "#bd3786"
          ],
          [
           0.5555555555555556,
           "#d8576b"
          ],
          [
           0.6666666666666666,
           "#ed7953"
          ],
          [
           0.7777777777777778,
           "#fb9f3a"
          ],
          [
           0.8888888888888888,
           "#fdca26"
          ],
          [
           1,
           "#f0f921"
          ]
         ]
        },
        "height": 800,
        "legend": {
         "tracegroupgap": 0
        },
        "margin": {
         "t": 60
        },
        "template": {
         "data": {
          "bar": [
           {
            "error_x": {
             "color": "#2a3f5f"
            },
            "error_y": {
             "color": "#2a3f5f"
            },
            "marker": {
             "line": {
              "color": "#E5ECF6",
              "width": 0.5
             },
             "pattern": {
              "fillmode": "overlay",
              "size": 10,
              "solidity": 0.2
             }
            },
            "type": "bar"
           }
          ],
          "barpolar": [
           {
            "marker": {
             "line": {
              "color": "#E5ECF6",
              "width": 0.5
             },
             "pattern": {
              "fillmode": "overlay",
              "size": 10,
              "solidity": 0.2
             }
            },
            "type": "barpolar"
           }
          ],
          "carpet": [
           {
            "aaxis": {
             "endlinecolor": "#2a3f5f",
             "gridcolor": "white",
             "linecolor": "white",
             "minorgridcolor": "white",
             "startlinecolor": "#2a3f5f"
            },
            "baxis": {
             "endlinecolor": "#2a3f5f",
             "gridcolor": "white",
             "linecolor": "white",
             "minorgridcolor": "white",
             "startlinecolor": "#2a3f5f"
            },
            "type": "carpet"
           }
          ],
          "choropleth": [
           {
            "colorbar": {
             "outlinewidth": 0,
             "ticks": ""
            },
            "type": "choropleth"
           }
          ],
          "contour": [
           {
            "colorbar": {
             "outlinewidth": 0,
             "ticks": ""
            },
            "colorscale": [
             [
              0,
              "#0d0887"
             ],
             [
              0.1111111111111111,
              "#46039f"
             ],
             [
              0.2222222222222222,
              "#7201a8"
             ],
             [
              0.3333333333333333,
              "#9c179e"
             ],
             [
              0.4444444444444444,
              "#bd3786"
             ],
             [
              0.5555555555555556,
              "#d8576b"
             ],
             [
              0.6666666666666666,
              "#ed7953"
             ],
             [
              0.7777777777777778,
              "#fb9f3a"
             ],
             [
              0.8888888888888888,
              "#fdca26"
             ],
             [
              1,
              "#f0f921"
             ]
            ],
            "type": "contour"
           }
          ],
          "contourcarpet": [
           {
            "colorbar": {
             "outlinewidth": 0,
             "ticks": ""
            },
            "type": "contourcarpet"
           }
          ],
          "heatmap": [
           {
            "colorbar": {
             "outlinewidth": 0,
             "ticks": ""
            },
            "colorscale": [
             [
              0,
              "#0d0887"
             ],
             [
              0.1111111111111111,
              "#46039f"
             ],
             [
              0.2222222222222222,
              "#7201a8"
             ],
             [
              0.3333333333333333,
              "#9c179e"
             ],
             [
              0.4444444444444444,
              "#bd3786"
             ],
             [
              0.5555555555555556,
              "#d8576b"
             ],
             [
              0.6666666666666666,
              "#ed7953"
             ],
             [
              0.7777777777777778,
              "#fb9f3a"
             ],
             [
              0.8888888888888888,
              "#fdca26"
             ],
             [
              1,
              "#f0f921"
             ]
            ],
            "type": "heatmap"
           }
          ],
          "histogram": [
           {
            "marker": {
             "pattern": {
              "fillmode": "overlay",
              "size": 10,
              "solidity": 0.2
             }
            },
            "type": "histogram"
           }
          ],
          "histogram2d": [
           {
            "colorbar": {
             "outlinewidth": 0,
             "ticks": ""
            },
            "colorscale": [
             [
              0,
              "#0d0887"
             ],
             [
              0.1111111111111111,
              "#46039f"
             ],
             [
              0.2222222222222222,
              "#7201a8"
             ],
             [
              0.3333333333333333,
              "#9c179e"
             ],
             [
              0.4444444444444444,
              "#bd3786"
             ],
             [
              0.5555555555555556,
              "#d8576b"
             ],
             [
              0.6666666666666666,
              "#ed7953"
             ],
             [
              0.7777777777777778,
              "#fb9f3a"
             ],
             [
              0.8888888888888888,
              "#fdca26"
             ],
             [
              1,
              "#f0f921"
             ]
            ],
            "type": "histogram2d"
           }
          ],
          "histogram2dcontour": [
           {
            "colorbar": {
             "outlinewidth": 0,
             "ticks": ""
            },
            "colorscale": [
             [
              0,
              "#0d0887"
             ],
             [
              0.1111111111111111,
              "#46039f"
             ],
             [
              0.2222222222222222,
              "#7201a8"
             ],
             [
              0.3333333333333333,
              "#9c179e"
             ],
             [
              0.4444444444444444,
              "#bd3786"
             ],
             [
              0.5555555555555556,
              "#d8576b"
             ],
             [
              0.6666666666666666,
              "#ed7953"
             ],
             [
              0.7777777777777778,
              "#fb9f3a"
             ],
             [
              0.8888888888888888,
              "#fdca26"
             ],
             [
              1,
              "#f0f921"
             ]
            ],
            "type": "histogram2dcontour"
           }
          ],
          "mesh3d": [
           {
            "colorbar": {
             "outlinewidth": 0,
             "ticks": ""
            },
            "type": "mesh3d"
           }
          ],
          "parcoords": [
           {
            "line": {
             "colorbar": {
              "outlinewidth": 0,
              "ticks": ""
             }
            },
            "type": "parcoords"
           }
          ],
          "pie": [
           {
            "automargin": true,
            "type": "pie"
           }
          ],
          "scatter": [
           {
            "fillpattern": {
             "fillmode": "overlay",
             "size": 10,
             "solidity": 0.2
            },
            "type": "scatter"
           }
          ],
          "scatter3d": [
           {
            "line": {
             "colorbar": {
              "outlinewidth": 0,
              "ticks": ""
             }
            },
            "marker": {
             "colorbar": {
              "outlinewidth": 0,
              "ticks": ""
             }
            },
            "type": "scatter3d"
           }
          ],
          "scattercarpet": [
           {
            "marker": {
             "colorbar": {
              "outlinewidth": 0,
              "ticks": ""
             }
            },
            "type": "scattercarpet"
           }
          ],
          "scattergeo": [
           {
            "marker": {
             "colorbar": {
              "outlinewidth": 0,
              "ticks": ""
             }
            },
            "type": "scattergeo"
           }
          ],
          "scattergl": [
           {
            "marker": {
             "colorbar": {
              "outlinewidth": 0,
              "ticks": ""
             }
            },
            "type": "scattergl"
           }
          ],
          "scattermap": [
           {
            "marker": {
             "colorbar": {
              "outlinewidth": 0,
              "ticks": ""
             }
            },
            "type": "scattermap"
           }
          ],
          "scattermapbox": [
           {
            "marker": {
             "colorbar": {
              "outlinewidth": 0,
              "ticks": ""
             }
            },
            "type": "scattermapbox"
           }
          ],
          "scatterpolar": [
           {
            "marker": {
             "colorbar": {
              "outlinewidth": 0,
              "ticks": ""
             }
            },
            "type": "scatterpolar"
           }
          ],
          "scatterpolargl": [
           {
            "marker": {
             "colorbar": {
              "outlinewidth": 0,
              "ticks": ""
             }
            },
            "type": "scatterpolargl"
           }
          ],
          "scatterternary": [
           {
            "marker": {
             "colorbar": {
              "outlinewidth": 0,
              "ticks": ""
             }
            },
            "type": "scatterternary"
           }
          ],
          "surface": [
           {
            "colorbar": {
             "outlinewidth": 0,
             "ticks": ""
            },
            "colorscale": [
             [
              0,
              "#0d0887"
             ],
             [
              0.1111111111111111,
              "#46039f"
             ],
             [
              0.2222222222222222,
              "#7201a8"
             ],
             [
              0.3333333333333333,
              "#9c179e"
             ],
             [
              0.4444444444444444,
              "#bd3786"
             ],
             [
              0.5555555555555556,
              "#d8576b"
             ],
             [
              0.6666666666666666,
              "#ed7953"
             ],
             [
              0.7777777777777778,
              "#fb9f3a"
             ],
             [
              0.8888888888888888,
              "#fdca26"
             ],
             [
              1,
              "#f0f921"
             ]
            ],
            "type": "surface"
           }
          ],
          "table": [
           {
            "cells": {
             "fill": {
              "color": "#EBF0F8"
             },
             "line": {
              "color": "white"
             }
            },
            "header": {
             "fill": {
              "color": "#C8D4E3"
             },
             "line": {
              "color": "white"
             }
            },
            "type": "table"
           }
          ]
         },
         "layout": {
          "annotationdefaults": {
           "arrowcolor": "#2a3f5f",
           "arrowhead": 0,
           "arrowwidth": 1
          },
          "autotypenumbers": "strict",
          "coloraxis": {
           "colorbar": {
            "outlinewidth": 0,
            "ticks": ""
           }
          },
          "colorscale": {
           "diverging": [
            [
             0,
             "#8e0152"
            ],
            [
             0.1,
             "#c51b7d"
            ],
            [
             0.2,
             "#de77ae"
            ],
            [
             0.3,
             "#f1b6da"
            ],
            [
             0.4,
             "#fde0ef"
            ],
            [
             0.5,
             "#f7f7f7"
            ],
            [
             0.6,
             "#e6f5d0"
            ],
            [
             0.7,
             "#b8e186"
            ],
            [
             0.8,
             "#7fbc41"
            ],
            [
             0.9,
             "#4d9221"
            ],
            [
             1,
             "#276419"
            ]
           ],
           "sequential": [
            [
             0,
             "#0d0887"
            ],
            [
             0.1111111111111111,
             "#46039f"
            ],
            [
             0.2222222222222222,
             "#7201a8"
            ],
            [
             0.3333333333333333,
             "#9c179e"
            ],
            [
             0.4444444444444444,
             "#bd3786"
            ],
            [
             0.5555555555555556,
             "#d8576b"
            ],
            [
             0.6666666666666666,
             "#ed7953"
            ],
            [
             0.7777777777777778,
             "#fb9f3a"
            ],
            [
             0.8888888888888888,
             "#fdca26"
            ],
            [
             1,
             "#f0f921"
            ]
           ],
           "sequentialminus": [
            [
             0,
             "#0d0887"
            ],
            [
             0.1111111111111111,
             "#46039f"
            ],
            [
             0.2222222222222222,
             "#7201a8"
            ],
            [
             0.3333333333333333,
             "#9c179e"
            ],
            [
             0.4444444444444444,
             "#bd3786"
            ],
            [
             0.5555555555555556,
             "#d8576b"
            ],
            [
             0.6666666666666666,
             "#ed7953"
            ],
            [
             0.7777777777777778,
             "#fb9f3a"
            ],
            [
             0.8888888888888888,
             "#fdca26"
            ],
            [
             1,
             "#f0f921"
            ]
           ]
          },
          "colorway": [
           "#636efa",
           "#EF553B",
           "#00cc96",
           "#ab63fa",
           "#FFA15A",
           "#19d3f3",
           "#FF6692",
           "#B6E880",
           "#FF97FF",
           "#FECB52"
          ],
          "font": {
           "color": "#2a3f5f"
          },
          "geo": {
           "bgcolor": "white",
           "lakecolor": "white",
           "landcolor": "#E5ECF6",
           "showlakes": true,
           "showland": true,
           "subunitcolor": "white"
          },
          "hoverlabel": {
           "align": "left"
          },
          "hovermode": "closest",
          "mapbox": {
           "style": "light"
          },
          "paper_bgcolor": "white",
          "plot_bgcolor": "#E5ECF6",
          "polar": {
           "angularaxis": {
            "gridcolor": "white",
            "linecolor": "white",
            "ticks": ""
           },
           "bgcolor": "#E5ECF6",
           "radialaxis": {
            "gridcolor": "white",
            "linecolor": "white",
            "ticks": ""
           }
          },
          "scene": {
           "xaxis": {
            "backgroundcolor": "#E5ECF6",
            "gridcolor": "white",
            "gridwidth": 2,
            "linecolor": "white",
            "showbackground": true,
            "ticks": "",
            "zerolinecolor": "white"
           },
           "yaxis": {
            "backgroundcolor": "#E5ECF6",
            "gridcolor": "white",
            "gridwidth": 2,
            "linecolor": "white",
            "showbackground": true,
            "ticks": "",
            "zerolinecolor": "white"
           },
           "zaxis": {
            "backgroundcolor": "#E5ECF6",
            "gridcolor": "white",
            "gridwidth": 2,
            "linecolor": "white",
            "showbackground": true,
            "ticks": "",
            "zerolinecolor": "white"
           }
          },
          "shapedefaults": {
           "line": {
            "color": "#2a3f5f"
           }
          },
          "ternary": {
           "aaxis": {
            "gridcolor": "white",
            "linecolor": "white",
            "ticks": ""
           },
           "baxis": {
            "gridcolor": "white",
            "linecolor": "white",
            "ticks": ""
           },
           "bgcolor": "#E5ECF6",
           "caxis": {
            "gridcolor": "white",
            "linecolor": "white",
            "ticks": ""
           }
          },
          "title": {
           "x": 0.05
          },
          "xaxis": {
           "automargin": true,
           "gridcolor": "white",
           "linecolor": "white",
           "ticks": "",
           "title": {
            "standoff": 15
           },
           "zerolinecolor": "white",
           "zerolinewidth": 2
          },
          "yaxis": {
           "automargin": true,
           "gridcolor": "white",
           "linecolor": "white",
           "ticks": "",
           "title": {
            "standoff": 15
           },
           "zerolinecolor": "white",
           "zerolinewidth": 2
          }
         }
        },
        "width": 1000,
        "xaxis": {
         "anchor": "y",
         "domain": [
          0,
          1
         ],
         "title": {
          "text": "param_count_x"
         },
         "type": "log"
        },
        "yaxis": {
         "anchor": "x",
         "domain": [
          0,
          1
         ],
         "title": {
          "text": "secs"
         },
         "type": "log"
        }
       }
      }
     },
     "metadata": {},
     "output_type": "display_data"
    }
   ],
   "source": [
    "px.scatter(df, width=w, height=h,\n",
    "    x='param_count_x',  y='secs', log_x=True, log_y=True, color='infer_img_size',\n",
    "    hover_name='model_org', hover_data=['infer_samples_per_sec', 'family']\n",
    ")"
   ]
  },
  {
   "cell_type": "markdown",
   "metadata": {},
   "source": [
    "## Training results"
   ]
  },
  {
   "cell_type": "markdown",
   "metadata": {},
   "source": [
    "We'll now replicate the above analysis for training performance. First we grab the data:"
   ]
  },
  {
   "cell_type": "code",
   "execution_count": 40,
   "metadata": {
    "execution": {
     "iopub.execute_input": "2023-06-06T00:08:05.275381Z",
     "iopub.status.busy": "2023-06-06T00:08:05.275013Z",
     "iopub.status.idle": "2023-06-06T00:08:05.306283Z",
     "shell.execute_reply": "2023-06-06T00:08:05.305205Z",
     "shell.execute_reply.started": "2023-06-06T00:08:05.275346Z"
    },
    "trusted": true
   },
   "outputs": [],
   "source": [
    "tdf = get_data('train', 'train_samples_per_sec')"
   ]
  },
  {
   "cell_type": "markdown",
   "metadata": {},
   "source": [
    "Now we can repeat the same *family* plot we did above:"
   ]
  },
  {
   "cell_type": "code",
   "execution_count": 41,
   "metadata": {
    "execution": {
     "iopub.execute_input": "2023-06-06T00:08:05.822353Z",
     "iopub.status.busy": "2023-06-06T00:08:05.82198Z",
     "iopub.status.idle": "2023-06-06T00:08:06.068111Z",
     "shell.execute_reply": "2023-06-06T00:08:06.067152Z",
     "shell.execute_reply.started": "2023-06-06T00:08:05.822314Z"
    },
    "trusted": true
   },
   "outputs": [
    {
     "data": {
      "application/vnd.plotly.v1+json": {
       "config": {
        "plotlyServerURL": "https://plot.ly"
       },
       "data": [
        {
         "customdata": {
          "bdata": "4ADgAOAA4ADgAA==",
          "dtype": "i2",
          "shape": "5, 1"
         },
         "hovertemplate": "<b>%{hovertext}</b><br><br>family=levit<br>secs=%{x}<br>top1=%{y}<br>size=%{marker.size}<br>train_img_size=%{customdata[0]}<extra></extra>",
         "hovertext": [
          "levit_128s.fb_dist_in1k",
          "levit_128.fb_dist_in1k",
          "levit_192.fb_dist_in1k",
          "levit_256.fb_dist_in1k",
          "levit_384.fb_dist_in1k"
         ],
         "legendgroup": "levit",
         "marker": {
          "color": "#636efa",
          "size": {
           "bdata": "AMQAAADEAAAAxAAAAMQAAADEAAA=",
           "dtype": "i4"
          },
          "sizemode": "area",
          "sizeref": 655.36,
          "symbol": "circle"
         },
         "mode": "markers",
         "name": "levit",
         "orientation": "v",
         "showlegend": true,
         "type": "scatter",
         "x": {
          "bdata": "DBicYE4LJD8rh+tkNMEsPxcggPUulTE/fDbOmtIqNj8F4BgJwDFCPw==",
          "dtype": "f8"
         },
         "xaxis": "x",
         "y": {
          "bdata": "xSCwcmghU0DJdr6fGp9TQGZmZmZm9lNAqvHSTWJgVECDwMqhRaZUQA==",
          "dtype": "f8"
         },
         "yaxis": "y"
        },
        {
         "customdata": {
          "bdata": "sACwAOAA4ADgAOAA4ADgAOAA4ADgAOAAsACwAOAA4ADgAOAA4ADgAOAA4ADgAOAA4ADgAAABAAHgAOAA4ADgAOAA4ADgAOAA4ADgAOAA4ADgAOAA4ADgAOAA4ADgAOAA4ADgAOAA4ADgAOAA4ADgAOAA4ADgAAABAAEAAQAB4ADgAOAA4ADgAOAA4ADgAOAA4ADgAOAA4ADgAOAA4ADgAOAA4ADgAOAA4ADgAOAAAAEAAQABAAE=",
          "dtype": "i2",
          "shape": "91, 1"
         },
         "hovertemplate": "<b>%{hovertext}</b><br><br>family=resnet<br>secs=%{x}<br>top1=%{y}<br>size=%{marker.size}<br>train_img_size=%{customdata[0]}<extra></extra>",
         "hovertext": [
          "resnet10t.c3_in1k",
          "resnet10t.c3_in1k",
          "resnet18.fb_swsl_ig1b_ft_in1k",
          "resnet18.a1_in1k",
          "resnet18.fb_ssl_yfcc100m_ft_in1k",
          "resnet18.a2_in1k",
          "resnet18.a1_in1k",
          "resnet18.gluon_in1k",
          "resnet18.a2_in1k",
          "resnet18.tv_in1k",
          "resnet18.a3_in1k",
          "resnet18.a3_in1k",
          "resnet14t.c3_in1k",
          "resnet14t.c3_in1k",
          "resnet34.a1_in1k",
          "resnet34.a2_in1k",
          "resnet34.bt_in1k",
          "resnet34.a1_in1k",
          "resnet34.a2_in1k",
          "resnet34.bt_in1k",
          "resnet34.gluon_in1k",
          "resnet34.tv_in1k",
          "resnet34.a3_in1k",
          "resnet34.a3_in1k",
          "resnet26.bt_in1k",
          "resnet26.bt_in1k",
          "resnet26t.ra2_in1k",
          "resnet26t.ra2_in1k",
          "resnet50.a1_in1k",
          "resnet50.fb_swsl_ig1b_ft_in1k",
          "resnet50.d_in1k",
          "resnet50.c1_in1k",
          "resnet50.c2_in1k",
          "resnet50.tv2_in1k",
          "resnet50.a2_in1k",
          "resnet50.b1k_in1k",
          "resnet50.a1h_in1k",
          "resnet50.b2k_in1k",
          "resnet50.a1_in1k",
          "resnet50.ram_in1k",
          "resnet50.d_in1k",
          "resnet50.c2_in1k",
          "resnet50.ra_in1k",
          "resnet50.a2_in1k",
          "resnet50.c1_in1k",
          "resnet50.bt_in1k",
          "resnet50.b1k_in1k",
          "resnet50.tv2_in1k",
          "resnet50.b2k_in1k",
          "resnet50.a1h_in1k",
          "resnet50.fb_ssl_yfcc100m_ft_in1k",
          "resnet50.ram_in1k",
          "resnet50.am_in1k",
          "resnet50.ra_in1k",
          "resnet50.bt_in1k",
          "resnet50.a3_in1k",
          "resnet50.gluon_in1k",
          "resnet50.tv_in1k",
          "resnet50.a3_in1k",
          "resnet32ts.ra2_in1k",
          "resnet32ts.ra2_in1k",
          "resnet33ts.ra2_in1k",
          "resnet33ts.ra2_in1k",
          "resnet101.a1h_in1k",
          "resnet101.a1_in1k",
          "resnet101.a2_in1k",
          "resnet101.a1h_in1k",
          "resnet101.tv2_in1k",
          "resnet101.a1_in1k",
          "resnet101.a2_in1k",
          "resnet101.tv2_in1k",
          "resnet101.a3_in1k",
          "resnet101.gluon_in1k",
          "resnet101.a3_in1k",
          "resnet101.tv_in1k",
          "resnet152.a1h_in1k",
          "resnet152.a1h_in1k",
          "resnet152.a1_in1k",
          "resnet152.a2_in1k",
          "resnet152.tv2_in1k",
          "resnet152.a1_in1k",
          "resnet152.a2_in1k",
          "resnet152.a3_in1k",
          "resnet152.tv2_in1k",
          "resnet152.gluon_in1k",
          "resnet152.a3_in1k",
          "resnet152.tv_in1k",
          "resnet51q.ra2_in1k",
          "resnet51q.ra2_in1k",
          "resnet61q.ra2_in1k",
          "resnet61q.ra2_in1k"
         ],
         "legendgroup": "resnet",
         "marker": {
          "color": "#EF553B",
          "size": {
           "bdata": "AHkAAAB5AAAAxAAAAMQAAADEAAAAxAAAAMQAAADEAAAAxAAAAMQAAADEAAAAxAAAAHkAAAB5AAAAxAAAAMQAAADEAAAAxAAAAMQAAADEAAAAxAAAAMQAAADEAAAAxAAAAMQAAADEAAAAAAEAAAABAADEAAAAxAAAAMQAAADEAAAAxAAAAMQAAADEAAAAxAAAAMQAAADEAAAAxAAAAMQAAADEAAAAxAAAAMQAAADEAAAAxAAAAMQAAADEAAAAxAAAAMQAAADEAAAAxAAAAMQAAADEAAAAxAAAAMQAAADEAAAAxAAAAMQAAADEAAAAAAEAAAABAAAAAQAAAAEAAMQAAADEAAAAxAAAAMQAAADEAAAAxAAAAMQAAADEAAAAxAAAAMQAAADEAAAAxAAAAMQAAADEAAAAxAAAAMQAAADEAAAAxAAAAMQAAADEAAAAxAAAAMQAAADEAAAAxAAAAAABAAAAAQAAAAEAAAABAA==",
           "dtype": "i4"
          },
          "sizemode": "area",
          "sizeref": 655.36,
          "symbol": "circle"
         },
         "mode": "markers",
         "name": "resnet",
         "orientation": "v",
         "showlegend": true,
         "type": "scatter",
         "x": {
          "bdata": "Q7kpj2W+JD9DuSmPZb4kP1sSXAyT0jI/WxJcDJPSMj9bElwMk9IyP1sSXAyT0jI/WxJcDJPSMj9bElwMk9IyP1sSXAyT0jI/WxJcDJPSMj9bElwMk9IyP1sSXAyT0jI/rOVZ8KHfMj+s5Vnwod8yP9vAPBIcF0A/28A8EhwXQD/bwDwSHBdAP9vAPBIcF0A/28A8EhwXQD/bwDwSHBdAP9vAPBIcF0A/28A8EhwXQD/bwDwSHBdAP9vAPBIcF0A/OQsBDIqzQD85CwEMirNAP2rWxbeMe0o/atbFt4x7Sj+G1mVjJOdKP4bWZWMk50o/htZlYyTnSj+G1mVjJOdKP4bWZWMk50o/htZlYyTnSj+G1mVjJOdKP4bWZWMk50o/htZlYyTnSj+G1mVjJOdKP4bWZWMk50o/htZlYyTnSj+G1mVjJOdKP4bWZWMk50o/htZlYyTnSj+G1mVjJOdKP4bWZWMk50o/htZlYyTnSj+G1mVjJOdKP4bWZWMk50o/htZlYyTnSj+G1mVjJOdKP4bWZWMk50o/htZlYyTnSj+G1mVjJOdKP4bWZWMk50o/htZlYyTnSj+G1mVjJOdKP4bWZWMk50o/htZlYyTnSj+G1mVjJOdKPyjHiFsedU4/KMeIWx51Tj9gpib/o99OP2CmJv+j304/M16A2i7oVT8zXoDaLuhVPzNegNou6FU/M16A2i7oVT8zXoDaLuhVPzNegNou6FU/M16A2i7oVT8zXoDaLuhVPzNegNou6FU/M16A2i7oVT8zXoDaLuhVPzNegNou6FU/zs/4U0JWYD/Oz/hTQlZgP87P+FNCVmA/zs/4U0JWYD/Oz/hTQlZgP87P+FNCVmA/zs/4U0JWYD/Oz/hTQlZgP87P+FNCVmA/zs/4U0JWYD/Oz/hTQlZgP87P+FNCVmA/I9p7XZOpYT8j2ntdk6lhP09MU0i04GI/T0xTSLTgYj8=",
          "dtype": "f8"
         },
         "xaxis": "x",
         "y": {
          "bdata": "oBov3SQWUUB1kxgEVq5QQN9PjZduUlJA0SLb+X5KUkBiEFg5tChSQLpJDAIrF1JArBxaZDvfUUC8dJMYBLZRQH9qvHSTqFFA46WbxCBwUUA5tMh2vg9RQNEi2/l+alBAc2iR7XwPUkAxCKwcWtRRQHnpJjEIfFNAtvP91HhJU0CNl24SgyBTQNEi2/l+GlNAGy/dJAbhUkDufD81XspSQNv5fmq8pFJAUI2XbhJTUkACK4cW2T5SQPhT46WbpFFA1XjpJjEYU0Cmm8QgsNJSQIXrUbgelVNAf2q8dJN4U0CPwvUoXE9UQNNNYhBYSVRAVOOlm8RAVEAIrBxaZDtUQBBYObTINlRAvHSTGAQ2VEBSuB6F6zFUQHe+nxovLVRAfT81XropVECuR+F6FB5UQJzEILByGFRAdZMYBFb+U0Bg5dAi2/lTQGQ730+N91NA16NwPQr3U0CiRbbz/fRTQBsv3SQG8VNAfT81XrrpU0BqvHSTGORTQM/3U+Ol21NAuB6F61HYU0BxPQrXo9BTQOOlm8Qg0FNANV66SQzCU0DHSzeJQcBTQGq8dJMYtFNAz/dT46WbU0AX2c73U4NTQIXrUbgeZVNARIts5/sJU0BWDi2ynf9SQEa28/3U2FNA+n5qvHTDU0BaZDvfT+1TQOf7qfHSzVNAF9nO91OzVED4U+Olm5RUQHWTGARWjlRAzczMzMx8VEBEi2zn+3lUQFYOLbKdX1RAvHSTGARWVEBEi2zn+/lTQBSuR+F69FNA3SQGgZXTU0AIrBxaZHtTQGDl0CLbWVNAVg4tsp3fVEAxCKwcWrRUQFYOLbKdr1RASOF6FK6nVECJQWDl0JJUQB1aZDvff1RAN4lBYOVwVEBQjZduEiNUQCGwcmiRDVRAIbByaJHtU0DTTWIQWLlTQIXrUbgelVNAEFg5tMiWVEBvEoPAynFUQKjGSzeJoVRA5/up8dJ9VEA=",
          "dtype": "f8"
         },
         "yaxis": "y"
        },
        {
         "customdata": {
          "bdata": "4ADgAOAA4ADgAOAAgAGAAeAA4AAAAeAA4ADgAOAA4ADgAOAAgAGAAYAB4ADgAOAA4ADgAOAA4ADgAOAAgAGAAeAAgAGAAeAAgAGAAYABgAHgAOAAgAGAAQ==",
          "dtype": "i2",
          "shape": "44, 1"
         },
         "hovertemplate": "<b>%{hovertext}</b><br><br>family=vit<br>secs=%{x}<br>top1=%{y}<br>size=%{marker.size}<br>train_img_size=%{customdata[0]}<extra></extra>",
         "hovertext": [
          "vit_small_patch32_224.augreg_in21k_ft_in1k",
          "vit_tiny_r_s16_p8_224.augreg_in21k_ft_in1k",
          "vit_tiny_patch16_224.augreg_in21k_ft_in1k",
          "vit_base_patch32_224.augreg_in21k_ft_in1k",
          "vit_base_patch32_224.augreg_in1k",
          "vit_base_patch32_224.sam_in1k",
          "vit_small_patch32_384.augreg_in21k_ft_in1k",
          "vit_tiny_r_s16_p8_384.augreg_in21k_ft_in1k",
          "vit_small_patch16_224.augreg_in21k_ft_in1k",
          "vit_small_patch16_224.augreg_in1k",
          "vit_relpos_base_patch32_plus_rpn_256.sw_in1k",
          "vit_srelpos_small_patch16_224.sw_in1k",
          "vit_relpos_small_patch16_224.sw_in1k",
          "vit_small_r26_s32_224.augreg_in21k_ft_in1k",
          "vit_relpos_medium_patch16_rpn_224.sw_in1k",
          "vit_relpos_medium_patch16_cls_224.sw_in1k",
          "vit_srelpos_medium_patch16_224.sw_in1k",
          "vit_relpos_medium_patch16_224.sw_in1k",
          "vit_base_patch32_384.augreg_in21k_ft_in1k",
          "vit_base_patch32_384.augreg_in1k",
          "vit_tiny_patch16_384.augreg_in21k_ft_in1k",
          "vit_base_patch16_224_miil.in21k_ft_in1k",
          "vit_base_patch16_224.augreg2_in21k_ft_in1k",
          "vit_base_patch16_224.augreg_in21k_ft_in1k",
          "vit_base_patch16_224.orig_in21k_ft_in1k",
          "vit_base_patch16_224.sam_in1k",
          "vit_base_patch16_224.augreg_in1k",
          "vit_base_patch16_rpn_224.sw_in1k",
          "vit_relpos_base_patch16_clsgap_224.sw_in1k",
          "vit_relpos_base_patch16_224.sw_in1k",
          "vit_small_patch16_384.augreg_in21k_ft_in1k",
          "vit_small_patch16_384.augreg_in1k",
          "vit_large_r50_s32_224.augreg_in21k_ft_in1k",
          "vit_small_r26_s32_384.augreg_in21k_ft_in1k",
          "vit_large_patch32_384.orig_in21k_ft_in1k",
          "vit_large_patch16_224.augreg_in21k_ft_in1k",
          "vit_base_patch16_384.augreg_in21k_ft_in1k",
          "vit_base_patch16_384.orig_in21k_ft_in1k",
          "vit_base_patch16_384.augreg_in1k",
          "vit_large_r50_s32_384.augreg_in21k_ft_in1k",
          "vit_base_patch8_224.augreg2_in21k_ft_in1k",
          "vit_base_patch8_224.augreg_in21k_ft_in1k",
          "vit_base_r50_s16_384.orig_in21k_ft_in1k",
          "vit_large_patch16_384.augreg_in21k_ft_in1k"
         ],
         "legendgroup": "vit",
         "marker": {
          "color": "#00cc96",
          "size": {
           "bdata": "AMQAAADEAAAAxAAAAMQAAADEAAAAxAAAAEACAABAAgAAxAAAAMQAAAAAAQAAxAAAAMQAAADEAAAAxAAAAMQAAADEAAAAxAAAAEACAABAAgAAQAIAAMQAAADEAAAAxAAAAMQAAADEAAAAxAAAAMQAAADEAAAAxAAAAEACAABAAgAAxAAAAEACAABAAgAAxAAAAEACAABAAgAAQAIAAEACAADEAAAAxAAAAEACAABAAgA=",
           "dtype": "i4"
          },
          "sizemode": "area",
          "sizeref": 655.36,
          "symbol": "circle"
         },
         "mode": "markers",
         "name": "vit",
         "orientation": "v",
         "showlegend": true,
         "type": "scatter",
         "x": {
          "bdata": "MmLjXIN7LT8iTOWlA0gwPwzKE2TWfzw/VI8/Vo0tQz9Ujz9WjS1DP1SPP1aNLUM/0HaWhteBRj/U9fUzcltIPz0BGDFX+U4/PQEYMVf5Tj9CKf7ykwhQPxub8OWu51A/dyfi89f5UD8gYgnZFlNWP6tnHkcX2Fc/3a1wOALCWD9YUeZmKdRYP1h0/N2J71g/28dMlw4nXj/bx0yXDideP2HuhpEYCGA/2m4yjRSXZD/hwb+BZthkP+HBv4Fm2GQ/4cG/gWbYZD/hwb+BZthkP+HBv4Fm2GQ/WYFXkCzvZD+ZVAUjXBhmPw7T8MZqNGY/qY5rAj8icT+pjmsCPyJxPydYqI0KVnE/pemgr6Mccj+mq90GZYV4P3cYFHVyeYE/YB9753YXhT9gH3vndheFP2Afe+d2F4U/mO2hdgB7ij95Tq9PgSOQP3lOr0+BI5A/scdF/bzIkD8Vqrh1ApKhPw==",
          "dtype": "f8"
         },
         "xaxis": "x",
         "y": {
          "bdata": "ObTIdr7/UkAUrkfhevRRQLByaJHt3FJAyXa+nxovVEBEi2zn+7lSQHe+nxovbVJAAiuHFtkeVEAhsHJokf1SQNEi2/l+WlRA2c73U+O1U0A5tMh2vt9TQPT91HjpRlRAWDm0yHZeVEC8dJMYBHZUQMHKoUW2k1RA+FPjpZukVEAAAAAAAJBUQOf7qfHSnVRASgwCK4fWVEDHSzeJQbBTQAaBlUOLnFNAxSCwcmgRVUDXo3A9CkdVQDVeukkMIlVA/Knx0k1yVEBzaJHtfA9UQAwCK4cWyVNA5/up8dKNVEBU46WbxLBUQFg5tMh2nlRA+n5qvHTzVEB/arx0k0hUQM/3U+OlG1VA2/l+arwEVUCq8dJNYmBUQGZmZmZmdlVAqvHSTWKAVUBaZDvfTw1VQKAaL90kRlRAsp3vp8aLVUA730+Nl45VQC/dJAaBdVVAVg4tsp0/VUC8dJMYBMZVQA==",
          "dtype": "f8"
         },
         "yaxis": "y"
        },
        {
         "customdata": {
          "bdata": "4ADgAOAA4ADgAOAA4ADgAOAA4ADgAOAA4ADgAOAA4ADgAOAA",
          "dtype": "i2",
          "shape": "18, 1"
         },
         "hovertemplate": "<b>%{hovertext}</b><br><br>family=regnetx<br>secs=%{x}<br>top1=%{y}<br>size=%{marker.size}<br>train_img_size=%{customdata[0]}<extra></extra>",
         "hovertext": [
          "regnetx_002.pycls_in1k",
          "regnetx_004.pycls_in1k",
          "regnetx_006.pycls_in1k",
          "regnetx_008.tv2_in1k",
          "regnetx_008.pycls_in1k",
          "regnetx_016.tv2_in1k",
          "regnetx_016.pycls_in1k",
          "regnetx_040.pycls_in1k",
          "regnetx_032.tv2_in1k",
          "regnetx_032.pycls_in1k",
          "regnetx_080.tv2_in1k",
          "regnetx_080.pycls_in1k",
          "regnetx_064.pycls_in1k",
          "regnetx_160.tv2_in1k",
          "regnetx_160.pycls_in1k",
          "regnetx_120.pycls_in1k",
          "regnetx_320.tv2_in1k",
          "regnetx_320.pycls_in1k"
         ],
         "legendgroup": "regnetx",
         "marker": {
          "color": "#ab63fa",
          "size": {
           "bdata": "AMQAAADEAAAAxAAAAMQAAADEAAAAxAAAAMQAAADEAAAAxAAAAMQAAADEAAAAxAAAAMQAAADEAAAAxAAAAMQAAADEAAAAxAAA",
           "dtype": "i4"
          },
          "sizemode": "area",
          "sizeref": 655.36,
          "symbol": "circle"
         },
         "mode": "markers",
         "name": "regnetx",
         "orientation": "v",
         "showlegend": true,
         "type": "scatter",
         "x": {
          "bdata": "YMtztvXtLz9VHrMuFmdCP2bzztHKeEk/FqqF1gyrTz8WqoXWDKtPP8b98Rdu/1c/xv3xF27/Vz9ux6wD74RiP7Yc01CJhWo/thzTUImFaj/qivz4JJR2P+qK/PgklHY/myHEKSeNfz+Pkn6nkAiDP4+SfqeQCIM/RXqPnsDHhT8c83Ljg06VPxzzcuODTpU/",
          "dtype": "f8"
         },
         "xaxis": "x",
         "y": {
          "bdata": "cT0K16MwUUDP91PjpRtSQH9qvHSTeFJA30+Nl25SU0CHFtnO98NSQLByaJHt3FNAQmDl0CI7U0BWDi2ynZ9TQCUGgZVDO1RAtMh2vp+KU0CkcD0K12NUQOf7qfHSzVNApHA9CtfDU0C+nxov3aRUQPT91Hjp9lNA9P3UeOnmU0Db+X5qvLRUQFTjpZvEEFRA",
          "dtype": "f8"
         },
         "yaxis": "y"
        },
        {
         "customdata": {
          "bdata": "4ADgAOAA4ADgAOAA4ADgAOAA4ADgAOAA4ADgAOAA4ADgAOAA4ADgAOAA4ADgAOAA4ADgAOAA4ADgAOAA4ADgAOAA4ADgAOAA4ADgAA==",
          "dtype": "i2",
          "shape": "38, 1"
         },
         "hovertemplate": "<b>%{hovertext}</b><br><br>family=regnety<br>secs=%{x}<br>top1=%{y}<br>size=%{marker.size}<br>train_img_size=%{customdata[0]}<extra></extra>",
         "hovertext": [
          "regnety_002.pycls_in1k",
          "regnety_004.tv2_in1k",
          "regnety_004.pycls_in1k",
          "regnety_006.pycls_in1k",
          "regnety_008.pycls_in1k",
          "regnety_016.tv2_in1k",
          "regnety_016.pycls_in1k",
          "regnety_032.ra_in1k",
          "regnety_032.ra_in1k",
          "regnety_032.tv2_in1k",
          "regnety_032.pycls_in1k",
          "regnety_040.ra3_in1k",
          "regnety_040.ra3_in1k",
          "regnety_040.pycls_in1k",
          "regnety_064.ra3_in1k",
          "regnety_064.ra3_in1k",
          "regnety_064.pycls_in1k",
          "regnety_080.ra3_in1k",
          "regnety_080.ra3_in1k",
          "regnety_080.pycls_in1k",
          "regnety_120.sw_in12k_ft_in1k",
          "regnety_120.sw_in12k_ft_in1k",
          "regnety_120.pycls_in1k",
          "regnety_160.sw_in12k_ft_in1k",
          "regnety_160.swag_ft_in1k",
          "regnety_160.lion_in12k_ft_in1k",
          "regnety_160.lion_in12k_ft_in1k",
          "regnety_160.sw_in12k_ft_in1k",
          "regnety_160.swag_lc_in1k",
          "regnety_160.deit_in1k",
          "regnety_160.deit_in1k",
          "regnety_160.tv2_in1k",
          "regnety_160.pycls_in1k",
          "regnety_320.swag_ft_in1k",
          "regnety_320.swag_lc_in1k",
          "regnety_320.seer_ft_in1k",
          "regnety_320.tv2_in1k",
          "regnety_320.pycls_in1k"
         ],
         "legendgroup": "regnety",
         "marker": {
          "color": "#FFA15A",
          "size": {
           "bdata": "AMQAAADEAAAAxAAAAMQAAADEAAAAxAAAAMQAAADEAAAAxAAAAMQAAADEAAAAxAAAAMQAAADEAAAAxAAAAMQAAADEAAAAxAAAAMQAAADEAAAAxAAAAMQAAADEAAAAxAAAAMQAAADEAAAAxAAAAMQAAADEAAAAxAAAAMQAAADEAAAAxAAAAMQAAADEAAAAxAAAAMQAAADEAAA=",
           "dtype": "i4"
          },
          "sizemode": "area",
          "sizeref": 655.36,
          "symbol": "circle"
         },
         "mode": "markers",
         "name": "regnety",
         "orientation": "v",
         "showlegend": true,
         "type": "scatter",
         "x": {
          "bdata": "x8Ylaf1YMT+MczPDsWs/P4xzM8Oxaz8/NgBBiJ0RSD8Jp2trmH5QP9e/m54UNFk/17+bnhQ0WT/LfNRI5XxgP8t81EjlfGA/y3zUSOV8YD/LfNRI5XxgP1LVmu7BinU/UtWa7sGKdT9S1ZruwYp1P/W2AR6NJYE/9bYBHo0lgT/1tgEejSWBP0u1c0SkX4E/S7VzRKRfgT9LtXNEpF+BP3ikAytzPoY/eKQDK3M+hj94pAMrcz6GPxwBF6WCmog/HAEXpYKaiD8cARelgpqIPxwBF6WCmog/HAEXpYKaiD8cARelgpqIPxwBF6WCmog/HAEXpYKaiD8cARelgpqIPxwBF6WCmog/KKdNhDzgjj8op02EPOCOPyinTYQ84I4/KKdNhDzgjj8op02EPOCOPw==",
          "dtype": "f8"
         },
         "xaxis": "x",
         "y": {
          "bdata": "iUFg5dCSUUASg8DKoeVSQKrx0k1igFJAVOOlm8TQUkBMN4lBYBVTQAaBlUOLLFRAJzEIrBx6U0B1kxgEVq5UQD81XrpJfFRAUI2XbhJzVEDTTWIQWLlTQMHKoUW2w1RATmIQWDmUVEDJdr6fGs9TQCGwcmiR7VRAqvHSTWLAVEA730+Nl+5TQFyPwvUo/FRA7nw/NV7KVECcxCCwcvhTQD81XrpJXFVAyXa+nxo/VUCcxCCwchhUQDVeukkMglVA/tR46SaBVUBxPQrXo4BVQEoMAiuHZlVAvHSTGARmVUDByqFFtvNUQM3MzMzM7FRAVg4tsp2/VEDTTWIQWKlUQBkEVg4tElRA16NwPQq3VUCcxCCwcihVQL6fGi/d1FRAQmDl0CLLVEBt5/up8TJUQA==",
          "dtype": "f8"
         },
         "yaxis": "y"
        },
        {
         "customdata": {
          "bdata": "4ADgAOAA4ADgAOAA4ADgAOAA4ADgAOAA4ADgAOAA4ADgAAABAAEAAQABAAEAAQABAAE=",
          "dtype": "i2",
          "shape": "25, 1"
         },
         "hovertemplate": "<b>%{hovertext}</b><br><br>family=resnetd<br>secs=%{x}<br>top1=%{y}<br>size=%{marker.size}<br>train_img_size=%{customdata[0]}<extra></extra>",
         "hovertext": [
          "resnet18d.ra2_in1k",
          "resnet18d.ra2_in1k",
          "resnet34d.ra2_in1k",
          "resnet34d.ra2_in1k",
          "resnet26d.bt_in1k",
          "resnet26d.bt_in1k",
          "resnet50d.ra4_e3600_r224_in1k",
          "resnet50d.a1_in1k",
          "resnet50d.ra2_in1k",
          "resnet50d.a2_in1k",
          "resnet50d.ra4_e3600_r224_in1k",
          "resnet50d.a1_in1k",
          "resnet50d.ra2_in1k",
          "resnet50d.a2_in1k",
          "resnet50d.gluon_in1k",
          "resnet50d.a3_in1k",
          "resnet50d.a3_in1k",
          "resnet101d.ra2_in1k",
          "resnet101d.ra2_in1k",
          "resnet101d.gluon_in1k",
          "resnet152d.ra2_in1k",
          "resnet152d.ra2_in1k",
          "resnet152d.gluon_in1k",
          "resnet200d.ra2_in1k",
          "resnet200d.ra2_in1k"
         ],
         "legendgroup": "resnetd",
         "marker": {
          "color": "#19d3f3",
          "size": {
           "bdata": "AMQAAADEAAAAxAAAAMQAAADEAAAAxAAAAMQAAADEAAAAxAAAAMQAAADEAAAAxAAAAMQAAADEAAAAxAAAAMQAAADEAAAAAAEAAAABAAAAAQAAAAEAAAABAAAAAQAAAAEAAAABAA==",
           "dtype": "i4"
          },
          "sizemode": "area",
          "sizeref": 655.36,
          "symbol": "circle"
         },
         "mode": "markers",
         "name": "resnetd",
         "orientation": "v",
         "showlegend": true,
         "type": "scatter",
         "x": {
          "bdata": "DVmOzPHKNj8NWY7M8co2P3RguUiDEkI/dGC5SIMSQj/qrho4mC9EP+quGjiYL0Q/a03n26NlTj9rTefbo2VOP2tN59ujZU4/a03n26NlTj9rTefbo2VOP2tN59ujZU4/a03n26NlTj9rTefbo2VOP2tN59ujZU4/a03n26NlTj9rTefbo2VOP4ImOF6wRl8/giY4XrBGXz+CJjhesEZfPwgmIM+A6WY/CCYgz4DpZj8IJiDPgOlmP+c0qKuPq24/5zSoq4+rbj8=",
          "dtype": "f8"
         },
         "xaxis": "x",
         "y": {
          "bdata": "iUFg5dByUkD+1HjpJhFSQFyPwvUonFNALbKd76dGU0BCYOXQIltTQOkmMQisLFNAhetRuB51VEAj2/l+alxUQGZmZmZmVlRAmG4Sg8BKVEB3vp8aLz1UQB+F61G4LlRAUI2XbhIjVED+1HjpJhFUQIXrUbgexVNAc2iR7XyvU0CR7Xw/NU5TQP7UeOkmwVRA46WbxCCQVEDn+6nx0h1UQLKd76fG61RARIts5/vJVEBYObTIdh5UQFg5tMh2/lRAj8L1KFzPVEA=",
          "dtype": "f8"
         },
         "yaxis": "y"
        },
        {
         "customdata": {
          "bdata": "4ADgAOAA4ADgAOAA8ADgAOAA4ADgAPAAAAEAAQQBLAEgASABLAEsAUABQAHIAQ==",
          "dtype": "i2",
          "shape": "23, 1"
         },
         "hovertemplate": "<b>%{hovertext}</b><br><br>family=efficientnet<br>secs=%{x}<br>top1=%{y}<br>size=%{marker.size}<br>train_img_size=%{customdata[0]}<extra></extra>",
         "hovertext": [
          "efficientnet_lite0.ra_in1k",
          "efficientnet_b0.ra4_e3600_r224_in1k",
          "efficientnet_b0.ra4_e3600_r224_in1k",
          "efficientnet_b0.ra_in1k",
          "efficientnet_es_pruned.in1k",
          "efficientnet_es.ra_in1k",
          "efficientnet_b1_pruned.in1k",
          "efficientnet_b1.ra4_e3600_r240_in1k",
          "efficientnet_b1.ra4_e3600_r240_in1k",
          "efficientnet_b1.ft_in1k",
          "efficientnet_b1.ft_in1k",
          "efficientnet_em.ra2_in1k",
          "efficientnet_b2.ra_in1k",
          "efficientnet_b2.ra_in1k",
          "efficientnet_b2_pruned.in1k",
          "efficientnet_b3_pruned.in1k",
          "efficientnet_b3.ra2_in1k",
          "efficientnet_b3.ra2_in1k",
          "efficientnet_el_pruned.in1k",
          "efficientnet_el.ra_in1k",
          "efficientnet_b4.ra2_in1k",
          "efficientnet_b4.ra2_in1k",
          "efficientnet_b5.sw_in12k_ft_in1k"
         ],
         "legendgroup": "efficientnet",
         "marker": {
          "color": "#FF6692",
          "size": {
           "bdata": "AMQAAADEAAAAxAAAAMQAAADEAAAAxAAAAOEAAADEAAAAxAAAAMQAAADEAAAA4QAAAAABAAAAAQAQCAEAkF8BAABEAQAARAEAkF8BAJBfAQAAkAEAAJABAEAsAwA=",
           "dtype": "i4"
          },
          "sizemode": "area",
          "sizeref": 655.36,
          "symbol": "circle"
         },
         "mode": "markers",
         "name": "efficientnet",
         "orientation": "v",
         "showlegend": true,
         "type": "scatter",
         "x": {
          "bdata": "DnC5I8OEPz9G1LeZyLRCP0bUt5nItEI/RtS3mci0Qj+zub+ojmtDPx8vd/8fb0M/XIatYfalRj90vyVS97ZIP3S/JVL3tkg/dL8lUve2SD90vyVS97ZIPwqsd7tcRFA/t29psay9UD+3b2mxrL1QP+MbGCOGv1I/clcecG+vVj8Dpxh9ZKJcPwOnGH1kolw/zE4Oj3y7YT/DDN22lbthP4ysmwejE2c/jKybB6MTZz9R1BAn/gWCPw==",
          "dtype": "f8"
         },
         "xaxis": "x",
         "y": {
          "bdata": "j8L1KFzfUkBI4XoUrtdTQPhT46WbpFNABoGVQ4tsU0AAAAAAAMBSQNnO91PjhVNA46WbxCCQU0Cyne+nxltUQGDl0CLbGVRAUI2XbhKzU0C8dJMYBGZTQDeJQWDl0FNA16NwPQonVED2KFyPwtVTQCcxCKwc+lNAK4cW2c43VEBQjZduEpNUQHWTGARWXlRAiUFg5dASVEDdJAaBlVNUQHWTGARW3lRAYOXQItupVEAMAiuHFnlVQA==",
          "dtype": "f8"
         },
         "yaxis": "y"
        },
        {
         "customdata": {
          "bdata": "AAEAAQABAAEAAQABAAEAAQABAAEAAQABAAE=",
          "dtype": "i2",
          "shape": "13, 1"
         },
         "hovertemplate": "<b>%{hovertext}</b><br><br>family=mobilevitv2<br>secs=%{x}<br>top1=%{y}<br>size=%{marker.size}<br>train_img_size=%{customdata[0]}<extra></extra>",
         "hovertext": [
          "mobilevitv2_050.cvnets_in1k",
          "mobilevitv2_075.cvnets_in1k",
          "mobilevitv2_100.cvnets_in1k",
          "mobilevitv2_125.cvnets_in1k",
          "mobilevitv2_150.cvnets_in22k_ft_in1k_384",
          "mobilevitv2_150.cvnets_in22k_ft_in1k",
          "mobilevitv2_150.cvnets_in1k",
          "mobilevitv2_175.cvnets_in22k_ft_in1k_384",
          "mobilevitv2_175.cvnets_in22k_ft_in1k",
          "mobilevitv2_175.cvnets_in1k",
          "mobilevitv2_200.cvnets_in22k_ft_in1k_384",
          "mobilevitv2_200.cvnets_in22k_ft_in1k",
          "mobilevitv2_200.cvnets_in1k"
         ],
         "legendgroup": "mobilevitv2",
         "marker": {
          "color": "#B6E880",
          "size": {
           "bdata": "AAABAAAAAQAAAAEAAAABAAAAAQAAAAEAAAABAAAAAQAAAAEAAAABAAAAAQAAAAEAAAABAA==",
           "dtype": "i4"
          },
          "sizemode": "area",
          "sizeref": 655.36,
          "symbol": "circle"
         },
         "mode": "markers",
         "name": "mobilevitv2",
         "orientation": "v",
         "showlegend": true,
         "type": "scatter",
         "x": {
          "bdata": "xSPYMdP0QT+FOrGwjudLP/N1nsYTDlI/vg45PnJnWj/EHU/GobdeP8QdT8aht14/xB1PxqG3Xj96WUuQXtZiP3pZS5Be1mI/ellLkF7WYj9j6UtKdDBkP2PpS0p0MGQ/Y+lLSnQwZD8=",
          "dtype": "f8"
         },
         "xaxis": "x",
         "y": {
          "bdata": "JzEIrByKUUAtsp3vp+ZSQNnO91PjhVNACKwcWmTrU0AQWDm0yKZUQK5H4XoUXlRAYOXQItsZVEAIrBxaZLtUQCPb+X5qfFRADi2yne83VEAK16NwPdpUQPhT46WblFRAtvP91HhJVEA=",
          "dtype": "f8"
         },
         "yaxis": "y"
        },
        {
         "customdata": {
          "bdata": "oACgAMAAwAAAAQABAAEAAQABAAEgASABQAFAAQ==",
          "dtype": "i2",
          "shape": "14, 1"
         },
         "hovertemplate": "<b>%{hovertext}</b><br><br>family=resnetrs<br>secs=%{x}<br>top1=%{y}<br>size=%{marker.size}<br>train_img_size=%{customdata[0]}<extra></extra>",
         "hovertext": [
          "resnetrs50.tf_in1k",
          "resnetrs50.tf_in1k",
          "resnetrs101.tf_in1k",
          "resnetrs101.tf_in1k",
          "resnetrs152.tf_in1k",
          "resnetrs152.tf_in1k",
          "resnetrs200.tf_in1k",
          "resnetrs200.tf_in1k",
          "resnetrs270.tf_in1k",
          "resnetrs270.tf_in1k",
          "resnetrs350.tf_in1k",
          "resnetrs350.tf_in1k",
          "resnetrs420.tf_in1k",
          "resnetrs420.tf_in1k"
         ],
         "legendgroup": "resnetrs",
         "marker": {
          "color": "#FF97FF",
          "size": {
           "bdata": "AGQAAABkAAAAkAAAAJAAAAAAAQAAAAEAAAABAAAAAQAAAAEAAAABAABEAQAARAEAAJABAACQAQA=",
           "dtype": "i4"
          },
          "sizemode": "area",
          "sizeref": 655.36,
          "symbol": "circle"
         },
         "mode": "markers",
         "name": "resnetrs",
         "orientation": "v",
         "showlegend": true,
         "type": "scatter",
         "x": {
          "bdata": "hMeROR9uQz+Ex5E5H25DPw/FPzFV71Y/D8U/MVXvVj9b5Rzn2wVtP1vlHOfbBW0/knO30BVLdD+Sc7fQFUt0P+F/kIS0anw/4X+QhLRqfD8rbeJ5I1eIPytt4nkjV4g/fAUXxIkgkj98BRfEiSCSPw==",
          "dtype": "f8"
         },
         "xaxis": "x",
         "y": {
          "bdata": "tMh2vp/6U0BmZmZmZnZTQIlBYOXQklRAPQrXo3AtVEA9CtejcO1UQGIQWDm0uFRABoGVQ4scVUBiEFg5tPhUQFyPwvUoHFVAvHSTGATmVECR7Xw/NS5VQMHKoUW2E1VAN4lBYOVAVUAAAAAAABBVQA==",
          "dtype": "f8"
         },
         "yaxis": "y"
        },
        {
         "customdata": {
          "bdata": "AAEAAQAB",
          "dtype": "i2",
          "shape": "3, 1"
         },
         "hovertemplate": "<b>%{hovertext}</b><br><br>family=mobilevit<br>secs=%{x}<br>top1=%{y}<br>size=%{marker.size}<br>train_img_size=%{customdata[0]}<extra></extra>",
         "hovertext": [
          "mobilevit_xxs.cvnets_in1k",
          "mobilevit_xs.cvnets_in1k",
          "mobilevit_s.cvnets_in1k"
         ],
         "legendgroup": "mobilevit",
         "marker": {
          "color": "#FECB52",
          "size": {
           "bdata": "AAABAAAAAQAAAAEA",
           "dtype": "i4"
          },
          "sizemode": "area",
          "sizeref": 655.36,
          "symbol": "circle"
         },
         "mode": "markers",
         "name": "mobilevit",
         "orientation": "v",
         "showlegend": true,
         "type": "scatter",
         "x": {
          "bdata": "jqi2NrBxRD85n5LF1bhRP1cz0T0bWlY/",
          "dtype": "f8"
         },
         "xaxis": "x",
         "y": {
          "bdata": "CKwcWmQ7UUCcxCCwcqhSQBfZzvdTk1NA",
          "dtype": "f8"
         },
         "yaxis": "y"
        },
        {
         "customdata": {
          "bdata": "4ADgAOAA4ADgAOAA4ADgAA==",
          "dtype": "i2",
          "shape": "8, 1"
         },
         "hovertemplate": "<b>%{hovertext}</b><br><br>family=repvgg<br>secs=%{x}<br>top1=%{y}<br>size=%{marker.size}<br>train_img_size=%{customdata[0]}<extra></extra>",
         "hovertext": [
          "repvgg_b0.rvgg_in1k",
          "repvgg_a2.rvgg_in1k",
          "repvgg_b1.rvgg_in1k",
          "repvgg_b2.rvgg_in1k",
          "repvgg_b3.rvgg_in1k",
          "repvgg_b1g4.rvgg_in1k",
          "repvgg_b2g4.rvgg_in1k",
          "repvgg_b3g4.rvgg_in1k"
         ],
         "legendgroup": "repvgg",
         "marker": {
          "color": "#636efa",
          "size": {
           "bdata": "AMQAAADEAAAAxAAAAMQAAADEAAAAxAAAAMQAAADEAAA=",
           "dtype": "i4"
          },
          "sizemode": "area",
          "sizeref": 655.36,
          "symbol": "circle"
         },
         "mode": "markers",
         "name": "repvgg",
         "orientation": "v",
         "showlegend": true,
         "type": "scatter",
         "x": {
          "bdata": "zZ+ItftNRT/oauxi8fhKPxk3nOp9Rlo/0Jpe1vhEZz8gIuSFm+BpP7Xu8xnLcHg/zCzZVJShfj/FEdERJ9SCPw==",
          "dtype": "f8"
         },
         "xaxis": "x",
         "y": {
          "bdata": "7nw/NV7KUkBzaJHtfB9TQCuHFtnOl1NAiUFg5dCyU0D+1HjpJiFUQEoMAiuHZlNA001iEFjZU0AdWmQ73w9UQA==",
          "dtype": "f8"
         },
         "yaxis": "y"
        },
        {
         "customdata": {
          "bdata": "8ADwAPAA8ADwAPAA8ADwAPAAmAGYAQ==",
          "dtype": "i2",
          "shape": "11, 1"
         },
         "hovertemplate": "<b>%{hovertext}</b><br><br>family=crossvit<br>secs=%{x}<br>top1=%{y}<br>size=%{marker.size}<br>train_img_size=%{customdata[0]}<extra></extra>",
         "hovertext": [
          "crossvit_tiny_240.in1k",
          "crossvit_9_240.in1k",
          "crossvit_9_dagger_240.in1k",
          "crossvit_small_240.in1k",
          "crossvit_15_240.in1k",
          "crossvit_15_dagger_240.in1k",
          "crossvit_18_240.in1k",
          "crossvit_18_dagger_240.in1k",
          "crossvit_base_240.in1k",
          "crossvit_15_dagger_408.in1k",
          "crossvit_18_dagger_408.in1k"
         ],
         "legendgroup": "crossvit",
         "marker": {
          "color": "#EF553B",
          "size": {
           "bdata": "AOEAAADhAAAA4QAAAOEAAADhAAAA4QAAAOEAAADhAAAA4QAAQIoCAECKAgA=",
           "dtype": "i4"
          },
          "sizemode": "area",
          "sizeref": 655.36,
          "symbol": "circle"
         },
         "mode": "markers",
         "name": "crossvit",
         "orientation": "v",
         "showlegend": true,
         "type": "scatter",
         "x": {
          "bdata": "Y3MK8fROSD8+Yau2VwhKP8Q/z/YM5Uo/fADBPOmlWT8HBCnq0zlcP/CIOEqsIF0/MWgrUoc/ZD96fCYmsqtkP2yWtO6FFnA/wI6iemVggT8sWWZHpfeGPw==",
          "dtype": "f8"
         },
         "xaxis": "x",
         "y": {
          "bdata": "hetRuB5VUkBYObTIdn5SQMl2vp8aP1NAw/UoXI9CVED+1HjpJmFUQN0kBoGVk1RAYhBYObSYVEDHSzeJQaBUQDvfT42XjlRA9ihcj8L1VECwcmiR7QxVQA==",
          "dtype": "f8"
         },
         "yaxis": "y"
        },
        {
         "customdata": {
          "bdata": "4ADgAOAA4AA=",
          "dtype": "i2",
          "shape": "4, 1"
         },
         "hovertemplate": "<b>%{hovertext}</b><br><br>family=resnetv2<br>secs=%{x}<br>top1=%{y}<br>size=%{marker.size}<br>train_img_size=%{customdata[0]}<extra></extra>",
         "hovertext": [
          "resnetv2_50.a1h_in1k",
          "resnetv2_50.a1h_in1k",
          "resnetv2_101.a1h_in1k",
          "resnetv2_101.a1h_in1k"
         ],
         "legendgroup": "resnetv2",
         "marker": {
          "color": "#00cc96",
          "size": {
           "bdata": "AMQAAADEAAAAxAAAAMQAAA==",
           "dtype": "i4"
          },
          "sizemode": "area",
          "sizeref": 655.36,
          "symbol": "circle"
         },
         "mode": "markers",
         "name": "resnetv2",
         "orientation": "v",
         "showlegend": true,
         "type": "scatter",
         "x": {
          "bdata": "GblxtM9tST8ZuXG0z21JP0lEPwbfNVU/SUQ/Bt81VT8=",
          "dtype": "f8"
         },
         "xaxis": "x",
         "y": {
          "bdata": "JzEIrBxaVEBEi2zn+xlUQOOlm8QgwFRAppvEILCCVEA=",
          "dtype": "f8"
         },
         "yaxis": "y"
        },
        {
         "customdata": {
          "bdata": "4ADgAOAA4ADgAOAA4ADgAOAA4ADgAOAA4ADgAOAA4ADgAOAA4ADgAOAA4ADgAOAA4ADgAOAA4ADgAOAA4ADgAOAA4ADgAOAA4ADgAA==",
          "dtype": "i2",
          "shape": "38, 1"
         },
         "hovertemplate": "<b>%{hovertext}</b><br><br>family=convnext<br>secs=%{x}<br>top1=%{y}<br>size=%{marker.size}<br>train_img_size=%{customdata[0]}<extra></extra>",
         "hovertext": [
          "convnext_nano_ols.d1h_in1k",
          "convnext_nano_ols.d1h_in1k",
          "convnext_nano.in12k_ft_in1k",
          "convnext_nano.in12k_ft_in1k",
          "convnext_nano.d1h_in1k",
          "convnext_nano.d1h_in1k",
          "convnext_tiny_hnf.a2h_in1k",
          "convnext_tiny_hnf.a2h_in1k",
          "convnext_tiny.in12k_ft_in1k_384",
          "convnext_tiny.in12k_ft_in1k",
          "convnext_tiny.in12k_ft_in1k",
          "convnext_tiny.fb_in22k_ft_in1k_384",
          "convnext_tiny.fb_in22k_ft_in1k",
          "convnext_tiny.fb_in1k",
          "convnext_tiny.fb_in1k",
          "convnext_tiny.fb_in22k_ft_in1k",
          "convnext_small.in12k_ft_in1k_384",
          "convnext_small.fb_in22k_ft_in1k_384",
          "convnext_small.in12k_ft_in1k",
          "convnext_small.fb_in22k_ft_in1k",
          "convnext_small.in12k_ft_in1k",
          "convnext_small.fb_in22k_ft_in1k",
          "convnext_small.fb_in1k",
          "convnext_small.fb_in1k",
          "convnext_base.clip_laion2b_augreg_ft_in12k_in1k_384",
          "convnext_base.fb_in22k_ft_in1k_384",
          "convnext_base.clip_laiona_augreg_ft_in1k_384",
          "convnext_base.clip_laion2b_augreg_ft_in12k_in1k",
          "convnext_base.fb_in22k_ft_in1k",
          "convnext_base.clip_laion2b_augreg_ft_in1k",
          "convnext_base.fb_in22k_ft_in1k",
          "convnext_base.fb_in1k",
          "convnext_base.fb_in1k",
          "convnext_large.fb_in22k_ft_in1k_384",
          "convnext_large.fb_in22k_ft_in1k",
          "convnext_large.fb_in22k_ft_in1k",
          "convnext_large.fb_in1k",
          "convnext_large.fb_in1k"
         ],
         "legendgroup": "convnext",
         "marker": {
          "color": "#ab63fa",
          "size": {
           "bdata": "AMQAAADEAAAAxAAAAMQAAADEAAAAxAAAAMQAAADEAAAAxAAAAMQAAADEAAAAxAAAAMQAAADEAAAAxAAAAMQAAADEAAAAxAAAAMQAAADEAAAAxAAAAMQAAADEAAAAxAAAAMQAAADEAAAAxAAAAMQAAADEAAAAxAAAAMQAAADEAAAAxAAAAMQAAADEAAAAxAAAAMQAAADEAAA=",
           "dtype": "i4"
          },
          "sizemode": "area",
          "sizeref": 655.36,
          "symbol": "circle"
         },
         "mode": "markers",
         "name": "convnext",
         "orientation": "v",
         "showlegend": true,
         "type": "scatter",
         "x": {
          "bdata": "cUV/jGYqSj9xRX+MZipKP45qUx16N0o/jmpTHXo3Sj+OalMdejdKP45qUx16N0o/+w3KIWD+Uz/7DcohYP5TPz3KzADA/1M/PcrMAMD/Uz89yswAwP9TPz3KzADA/1M/PcrMAMD/Uz89yswAwP9TPz3KzADA/1M/PcrMAMD/Uz/okkfk8NBgP+iSR+Tw0GA/6JJH5PDQYD/okkfk8NBgP+iSR+Tw0GA/6JJH5PDQYD/okkfk8NBgP+iSR+Tw0GA/3JzUWCIwaD/cnNRYIjBoP9yc1FgiMGg/3JzUWCIwaD/cnNRYIjBoP9yc1FgiMGg/3JzUWCIwaD/cnNRYIjBoP9yc1FgiMGg/wK+KA5zLdT/Ar4oDnMt1P8CvigOcy3U/wK+KA5zLdT/Ar4oDnMt1Pw==",
          "dtype": "f8"
         },
         "xaxis": "x",
         "y": {
          "bdata": "ukkMAitnVEBEi2zn+zlUQJzEILByuFRA3SQGgZWTVEB1kxgEVl5UQFTjpZvEMFRA9P3UeOmmVEAfhetRuI5UQGDl0CLbSVVA6SYxCKwcVUA/NV66SQxVQIPAyqFFBlVARrbz/dS4VEAj2/l+aqxUQE5iEFg5hFRAzczMzMy8U0CWQ4ts54tVQMdLN4lBcFVA2/l+arxUVUCLbOf7qVFVQNEi2/l+SlVAaJHtfD8lVUCTGARWDu1UQPCnxks3yVRAmpmZmZnJVUC+nxov3bRVQKwcWmQ7n1VAYhBYObSYVUBQjZduEpNVQLKd76fGi1VATmIQWDl0VUDn+6nx0h1VQEw3iUFg9VRAd76fGi/dVUA3iUFg5cBVQLpJDAIrp1VAukkMAis3VUBQjZduEhNVQA==",
          "dtype": "f8"
         },
         "yaxis": "y"
        },
        {
         "customdata": {
          "bdata": "4ADgAOAA",
          "dtype": "i2",
          "shape": "3, 1"
         },
         "hovertemplate": "<b>%{hovertext}</b><br><br>family=convit<br>secs=%{x}<br>top1=%{y}<br>size=%{marker.size}<br>train_img_size=%{customdata[0]}<extra></extra>",
         "hovertext": [
          "convit_tiny.fb_in1k",
          "convit_small.fb_in1k",
          "convit_base.fb_in1k"
         ],
         "legendgroup": "convit",
         "marker": {
          "color": "#FFA15A",
          "size": {
           "bdata": "AMQAAADEAAAAxAAA",
           "dtype": "i4"
          },
          "sizemode": "area",
          "sizeref": 655.36,
          "symbol": "circle"
         },
         "mode": "markers",
         "name": "convit",
         "orientation": "v",
         "showlegend": true,
         "type": "scatter",
         "x": {
          "bdata": "EV/z56dITT9vbseh9gNiP0uRA38cunE/",
          "dtype": "f8"
         },
         "xaxis": "x",
         "y": {
          "bdata": "8tJNYhBIUkDRItv5flpUQIlBYOXQklRA",
          "dtype": "f8"
         },
         "yaxis": "y"
        },
        {
         "customdata": {
          "bdata": "4ADgACABIAFAAUAB",
          "dtype": "i2",
          "shape": "6, 1"
         },
         "hovertemplate": "<b>%{hovertext}</b><br><br>family=efficientnetv2<br>secs=%{x}<br>top1=%{y}<br>size=%{marker.size}<br>train_img_size=%{customdata[0]}<extra></extra>",
         "hovertext": [
          "efficientnetv2_rw_t.ra2_in1k",
          "efficientnetv2_rw_t.ra2_in1k",
          "efficientnetv2_rw_s.ra2_in1k",
          "efficientnetv2_rw_s.ra2_in1k",
          "efficientnetv2_rw_m.agc_in1k",
          "efficientnetv2_rw_m.agc_in1k"
         ],
         "legendgroup": "efficientnetv2",
         "marker": {
          "color": "#19d3f3",
          "size": {
           "bdata": "AMQAAADEAAAARAEAAEQBAACQAQAAkAEA",
           "dtype": "i4"
          },
          "sizemode": "area",
          "sizeref": 655.36,
          "symbol": "circle"
         },
         "mode": "markers",
         "name": "efficientnetv2",
         "orientation": "v",
         "showlegend": true,
         "type": "scatter",
         "x": {
          "bdata": "tCy6NevRTT+0LLo169FNP7SUbgULdl8/tJRuBQt2Xz91o86rjD9yP3WjzquMP3I/",
          "dtype": "f8"
         },
         "xaxis": "x",
         "y": {
          "bdata": "LbKd76eWVEArhxbZzldUQIXrUbge9VRARrbz/dS4VEDb+X5qvDRVQIlBYOXQElVA",
          "dtype": "f8"
         },
         "yaxis": "y"
        },
        {
         "customdata": {
          "bdata": "4ADgAA==",
          "dtype": "i2",
          "shape": "2, 1"
         },
         "hovertemplate": "<b>%{hovertext}</b><br><br>family=resnetaa<br>secs=%{x}<br>top1=%{y}<br>size=%{marker.size}<br>train_img_size=%{customdata[0]}<extra></extra>",
         "hovertext": [
          "resnetaa50.a1h_in1k",
          "resnetaa50.a1h_in1k"
         ],
         "legendgroup": "resnetaa",
         "marker": {
          "color": "#FF6692",
          "size": {
           "bdata": "AMQAAADEAAA=",
           "dtype": "i4"
          },
          "sizemode": "area",
          "sizeref": 655.36,
          "symbol": "circle"
         },
         "mode": "markers",
         "name": "resnetaa",
         "orientation": "v",
         "showlegend": true,
         "type": "scatter",
         "x": {
          "bdata": "cNMb08P6Tj9w0xvTw/pOPw==",
          "dtype": "f8"
         },
         "xaxis": "x",
         "y": {
          "bdata": "LbKd76dmVECe76fGSydUQA==",
          "dtype": "f8"
         },
         "yaxis": "y"
        },
        {
         "customdata": {
          "bdata": "4ADgAOAA4ADgAOAA4ADgAA==",
          "dtype": "i2",
          "shape": "8, 1"
         },
         "hovertemplate": "<b>%{hovertext}</b><br><br>family=vgg<br>secs=%{x}<br>top1=%{y}<br>size=%{marker.size}<br>train_img_size=%{customdata[0]}<extra></extra>",
         "hovertext": [
          "vgg11.tv_in1k",
          "vgg11_bn.tv_in1k",
          "vgg13.tv_in1k",
          "vgg13_bn.tv_in1k",
          "vgg16.tv_in1k",
          "vgg16_bn.tv_in1k",
          "vgg19.tv_in1k",
          "vgg19_bn.tv_in1k"
         ],
         "legendgroup": "vgg",
         "marker": {
          "color": "#B6E880",
          "size": {
           "bdata": "AMQAAADEAAAAxAAAAMQAAADEAAAAxAAAAMQAAADEAAA=",
           "dtype": "i4"
          },
          "sizemode": "area",
          "sizeref": 655.36,
          "symbol": "circle"
         },
         "mode": "markers",
         "name": "vgg",
         "orientation": "v",
         "showlegend": true,
         "type": "scatter",
         "x": {
          "bdata": "kql1JWgsUT+OVlo/wKxTP9gy0cBPL1g/JRFVMOeRXD8TgxMJCAFePwB8JuMta2E/PsST4D3pYT/RBOVjnY5kPw==",
          "dtype": "f8"
         },
         "xaxis": "x",
         "y": {
          "bdata": "UI2XbhJDUUB/arx0k5hRQFyPwvUofFFA3SQGgZXjUUBmZmZmZuZRQBBYObTIVlJAmpmZmZkZUkDJdr6fGo9SQA==",
          "dtype": "f8"
         },
         "yaxis": "y"
        },
        {
         "customdata": {
          "bdata": "4ADgAOAA4AA=",
          "dtype": "i2",
          "shape": "4, 1"
         },
         "hovertemplate": "<b>%{hovertext}</b><br><br>family=resnetaad<br>secs=%{x}<br>top1=%{y}<br>size=%{marker.size}<br>train_img_size=%{customdata[0]}<extra></extra>",
         "hovertext": [
          "resnetaa50d.sw_in12k_ft_in1k",
          "resnetaa50d.sw_in12k_ft_in1k",
          "resnetaa101d.sw_in12k_ft_in1k",
          "resnetaa101d.sw_in12k_ft_in1k"
         ],
         "legendgroup": "resnetaad",
         "marker": {
          "color": "#FF97FF",
          "size": {
           "bdata": "AMQAAADEAAAAxAAAAMQAAA==",
           "dtype": "i4"
          },
          "sizemode": "area",
          "sizeref": 655.36,
          "symbol": "circle"
         },
         "mode": "markers",
         "name": "resnetaad",
         "orientation": "v",
         "showlegend": true,
         "type": "scatter",
         "x": {
          "bdata": "nm/Hb2M7UT+eb8dvYztRP490deSozlk/j3R15KjOWT8=",
          "dtype": "f8"
         },
         "xaxis": "x",
         "y": {
          "bdata": "8KfGSzepVEA1XrpJDHJUQEoMAiuHBlVAiUFg5dDiVEA=",
          "dtype": "f8"
         },
         "yaxis": "y"
        },
        {
         "customdata": {
          "bdata": "4ADgAA==",
          "dtype": "i2",
          "shape": "2, 1"
         },
         "hovertemplate": "<b>%{hovertext}</b><br><br>family=resnetblur<br>secs=%{x}<br>top1=%{y}<br>size=%{marker.size}<br>train_img_size=%{customdata[0]}<extra></extra>",
         "hovertext": [
          "resnetblur50.bt_in1k",
          "resnetblur50.bt_in1k"
         ],
         "legendgroup": "resnetblur",
         "marker": {
          "color": "#FECB52",
          "size": {
           "bdata": "AMQAAADEAAA=",
           "dtype": "i4"
          },
          "sizemode": "area",
          "sizeref": 655.36,
          "symbol": "circle"
         },
         "mode": "markers",
         "name": "resnetblur",
         "orientation": "v",
         "showlegend": true,
         "type": "scatter",
         "x": {
          "bdata": "wxA7sHj3UT/DEDuwePdRPw==",
          "dtype": "f8"
         },
         "xaxis": "x",
         "y": {
          "bdata": "HVpkO98PVEDdJAaBldNTQA==",
          "dtype": "f8"
         },
         "yaxis": "y"
        },
        {
         "customdata": {
          "bdata": "4ADgAAABAAEAAQABAAEAAQABAAEAAQABAAEAAQABAAE=",
          "dtype": "i2",
          "shape": "16, 1"
         },
         "hovertemplate": "<b>%{hovertext}</b><br><br>family=regnetz<br>secs=%{x}<br>top1=%{y}<br>size=%{marker.size}<br>train_img_size=%{customdata[0]}<extra></extra>",
         "hovertext": [
          "regnetz_b16.ra3_in1k",
          "regnetz_b16.ra3_in1k",
          "regnetz_d8.ra3_in1k",
          "regnetz_d8.ra3_in1k",
          "regnetz_c16.ra3_in1k",
          "regnetz_c16.ra3_in1k",
          "regnetz_d32.ra3_in1k",
          "regnetz_d32.ra3_in1k",
          "regnetz_040.ra3_in1k",
          "regnetz_040.ra3_in1k",
          "regnetz_e8.ra3_in1k",
          "regnetz_e8.ra3_in1k",
          "regnetz_c16_evos.ch_in1k",
          "regnetz_c16_evos.ch_in1k",
          "regnetz_d8_evos.ch_in1k",
          "regnetz_d8_evos.ch_in1k"
         ],
         "legendgroup": "regnetz",
         "marker": {
          "color": "#636efa",
          "size": {
           "bdata": "AMQAAADEAAAAAAEAAAABAAAAAQAAAAEAAAABAAAAAQAAAAEAAAABAAAAAQAAAAEAAAABAAAAAQAAAAEAAAABAA==",
           "dtype": "i4"
          },
          "sizemode": "area",
          "sizeref": 655.36,
          "symbol": "circle"
         },
         "mode": "markers",
         "name": "regnetz",
         "orientation": "v",
         "showlegend": true,
         "type": "scatter",
         "x": {
          "bdata": "SvMX638BUz9K8xfrfwFTP6EzHjhCU2A/oTMeOEJTYD9jFInhuTdhP2MUieG5N2E/hfM79odcYT+F8zv2h1xhP+ACpmzoXGE/4AKmbOhcYT9Jmftitu9vP0mZ+2K2728/FA6O7RggdT8UDo7tGCB1P5fewOGAX3o/l97A4YBfej8=",
          "dtype": "f8"
         },
         "xaxis": "x",
         "y": {
          "bdata": "rBxaZDsvVEAOLbKd7/dTQKabxCCwAlVAUI2XbhLjVEAK16NwPapUQArXo3A9ilRAbxKDwMoBVUAIrBxaZNtUQKrx0k1iEFVACtejcD3qVEDD9Shcj0JVQJhuEoPAGlVA8KfGSzepVEA/NV66SXxUQH0/NV66CVVA8KfGSzfZVEA=",
          "dtype": "f8"
         },
         "yaxis": "y"
        },
        {
         "customdata": {
          "bdata": "4ADgAOAA4ADgAOAA4ADgAOAA4ACAAYABgAE=",
          "dtype": "i2",
          "shape": "13, 1"
         },
         "hovertemplate": "<b>%{hovertext}</b><br><br>family=swin<br>secs=%{x}<br>top1=%{y}<br>size=%{marker.size}<br>train_img_size=%{customdata[0]}<extra></extra>",
         "hovertext": [
          "swin_tiny_patch4_window7_224.ms_in1k",
          "swin_tiny_patch4_window7_224.ms_in22k_ft_in1k",
          "swin_s3_tiny_224.ms_in1k",
          "swin_small_patch4_window7_224.ms_in22k_ft_in1k",
          "swin_small_patch4_window7_224.ms_in1k",
          "swin_s3_small_224.ms_in1k",
          "swin_base_patch4_window7_224.ms_in22k_ft_in1k",
          "swin_base_patch4_window7_224.ms_in1k",
          "swin_s3_base_224.ms_in1k",
          "swin_large_patch4_window7_224.ms_in22k_ft_in1k",
          "swin_base_patch4_window12_384.ms_in22k_ft_in1k",
          "swin_base_patch4_window12_384.ms_in1k",
          "swin_large_patch4_window12_384.ms_in22k_ft_in1k"
         ],
         "legendgroup": "swin",
         "marker": {
          "color": "#EF553B",
          "size": {
           "bdata": "AMQAAADEAAAAxAAAAMQAAADEAAAAxAAAAMQAAADEAAAAxAAAAMQAAABAAgAAQAIAAEACAA==",
           "dtype": "i4"
          },
          "sizemode": "area",
          "sizeref": 655.36,
          "symbol": "circle"
         },
         "mode": "markers",
         "name": "swin",
         "orientation": "v",
         "showlegend": true,
         "type": "scatter",
         "x": {
          "bdata": "TJ/qdM5BWT9Mn+p0zkFZPypGnA9D1ls/lKTR6Qh2ZD+UpNHpCHZkP1IdYgOfMWw/Glv8oywnbT8aW/yjLCdtP5IkSZIkSXI/jtRFjzuiej+6sClvw2eLP7qwKW/DZ4s/SrCr8OWGmD8=",
          "dtype": "f8"
         },
         "xaxis": "x",
         "y": {
          "bdata": "Rrbz/dRYVEDn+6nx0j1UQNV46SYxiFRAhetRuB7VVEA730+Nl85UQG8Sg8DK8VRA4XoUrkdRVUDXo3A9CudUQHsUrkfh+lRAhetRuB6VVUB56SYxCJxVQFg5tMh2HlVARrbz/dTIVUA=",
          "dtype": "f8"
         },
         "yaxis": "y"
        },
        {
         "customdata": {
          "bdata": "4AAAAeAA4AAAAQABAAEAAQAB",
          "dtype": "i2",
          "shape": "9, 1"
         },
         "hovertemplate": "<b>%{hovertext}</b><br><br>family=swinv2<br>secs=%{x}<br>top1=%{y}<br>size=%{marker.size}<br>train_img_size=%{customdata[0]}<extra></extra>",
         "hovertext": [
          "swinv2_cr_tiny_ns_224.sw_in1k",
          "swinv2_tiny_window8_256.ms_in1k",
          "swinv2_cr_small_ns_224.sw_in1k",
          "swinv2_cr_small_224.sw_in1k",
          "swinv2_tiny_window16_256.ms_in1k",
          "swinv2_small_window8_256.ms_in1k",
          "swinv2_base_window8_256.ms_in1k",
          "swinv2_small_window16_256.ms_in1k",
          "swinv2_base_window16_256.ms_in1k"
         ],
         "legendgroup": "swinv2",
         "marker": {
          "color": "#00cc96",
          "size": {
           "bdata": "AMQAAAAAAQAAxAAAAMQAAAAAAQAAAAEAAAABAAAAAQAAAAEA",
           "dtype": "i4"
          },
          "sizemode": "area",
          "sizeref": 655.36,
          "symbol": "circle"
         },
         "mode": "markers",
         "name": "swinv2",
         "orientation": "v",
         "showlegend": true,
         "type": "scatter",
         "x": {
          "bdata": "t0GSwDBAYD8XYPIWYPJmP5r2Co2DN2s/B5Wv0e9Saz/JwkGmNCdxP5ZZMHSBOXM/SeOfXJEWez/vNzytIYp8P+BbLOYNt4M/",
          "dtype": "f8"
         },
         "xaxis": "x",
         "y": {
          "bdata": "bef7qfFyVEDb+X5qvHRUQI/C9Shc31RA8tJNYhDIVECiRbbz/bRUQLx0kxgE9lRAObTIdr4PVUDn+6nx0g1VQPT91HjpJlVA",
          "dtype": "f8"
         },
         "yaxis": "y"
        },
        {
         "customdata": {
          "bdata": "4ADgAA==",
          "dtype": "i2",
          "shape": "2, 1"
         },
         "hovertemplate": "<b>%{hovertext}</b><br><br>family=resnetv2d<br>secs=%{x}<br>top1=%{y}<br>size=%{marker.size}<br>train_img_size=%{customdata[0]}<extra></extra>",
         "hovertext": [
          "resnetv2_50d_evos.ah_in1k",
          "resnetv2_50d_evos.ah_in1k"
         ],
         "legendgroup": "resnetv2d",
         "marker": {
          "color": "#ab63fa",
          "size": {
           "bdata": "AMQAAADEAAA=",
           "dtype": "i4"
          },
          "sizemode": "area",
          "sizeref": 655.36,
          "symbol": "circle"
         },
         "mode": "markers",
         "name": "resnetv2d",
         "orientation": "v",
         "showlegend": true,
         "type": "scatter",
         "x": {
          "bdata": "2hxiKFDjZT/aHGIoUONlPw==",
          "dtype": "f8"
         },
         "xaxis": "x",
         "y": {
          "bdata": "AAAAAACAVECiRbbz/TRUQA==",
          "dtype": "f8"
         },
         "yaxis": "y"
        },
        {
         "customdata": {
          "bdata": "4ADgAIABgAEAAg==",
          "dtype": "i2",
          "shape": "5, 1"
         },
         "hovertemplate": "<b>%{hovertext}</b><br><br>family=beit<br>secs=%{x}<br>top1=%{y}<br>size=%{marker.size}<br>train_img_size=%{customdata[0]}<extra></extra>",
         "hovertext": [
          "beit_base_patch16_224.in22k_ft_in22k_in1k",
          "beit_large_patch16_224.in22k_ft_in22k_in1k",
          "beit_base_patch16_384.in22k_ft_in22k_in1k",
          "beit_large_patch16_384.in22k_ft_in22k_in1k",
          "beit_large_patch16_512.in22k_ft_in22k_in1k"
         ],
         "legendgroup": "beit",
         "marker": {
          "color": "#FFA15A",
          "size": {
           "bdata": "AMQAAADEAAAAQAIAAEACAAAABAA=",
           "dtype": "i4"
          },
          "sizemode": "area",
          "sizeref": 655.36,
          "symbol": "circle"
         },
         "mode": "markers",
         "name": "beit",
         "orientation": "v",
         "showlegend": true,
         "type": "scatter",
         "x": {
          "bdata": "rIQz3GTVZj8Jhk5oGcmCP6WtrcIya4g/oTVnIrY8pD8iDorOHC27Pw==",
          "dtype": "f8"
         },
         "xaxis": "x",
         "y": {
          "bdata": "Vg4tsp1PVUCsHFpkO99VQE5iEFg5tFVAnMQgsHIYVkCiRbbz/SRWQA==",
          "dtype": "f8"
         },
         "yaxis": "y"
        },
        {
         "customdata": {
          "bdata": "4ADgAOAA4AA=",
          "dtype": "i2",
          "shape": "4, 1"
         },
         "hovertemplate": "<b>%{hovertext}</b><br><br>family=regnetv<br>secs=%{x}<br>top1=%{y}<br>size=%{marker.size}<br>train_img_size=%{customdata[0]}<extra></extra>",
         "hovertext": [
          "regnetv_040.ra3_in1k",
          "regnetv_040.ra3_in1k",
          "regnetv_064.ra3_in1k",
          "regnetv_064.ra3_in1k"
         ],
         "legendgroup": "regnetv",
         "marker": {
          "color": "#19d3f3",
          "size": {
           "bdata": "AMQAAADEAAAAxAAAAMQAAA==",
           "dtype": "i4"
          },
          "sizemode": "area",
          "sizeref": 655.36,
          "symbol": "circle"
         },
         "mode": "markers",
         "name": "regnetv",
         "orientation": "v",
         "showlegend": true,
         "type": "scatter",
         "x": {
          "bdata": "vkLfB/HAdT++Qt8H8cB1PyozCwDyf4E/KjMLAPJ/gT8=",
          "dtype": "f8"
         },
         "xaxis": "x",
         "y": {
          "bdata": "zczMzMzMVEDpJjEIrJxUQB1aZDvf71RAZDvfT43HVEA=",
          "dtype": "f8"
         },
         "yaxis": "y"
        }
       ],
       "layout": {
        "height": 800,
        "legend": {
         "itemsizing": "constant",
         "title": {
          "text": "family"
         },
         "tracegroupgap": 0
        },
        "template": {
         "data": {
          "bar": [
           {
            "error_x": {
             "color": "#2a3f5f"
            },
            "error_y": {
             "color": "#2a3f5f"
            },
            "marker": {
             "line": {
              "color": "#E5ECF6",
              "width": 0.5
             },
             "pattern": {
              "fillmode": "overlay",
              "size": 10,
              "solidity": 0.2
             }
            },
            "type": "bar"
           }
          ],
          "barpolar": [
           {
            "marker": {
             "line": {
              "color": "#E5ECF6",
              "width": 0.5
             },
             "pattern": {
              "fillmode": "overlay",
              "size": 10,
              "solidity": 0.2
             }
            },
            "type": "barpolar"
           }
          ],
          "carpet": [
           {
            "aaxis": {
             "endlinecolor": "#2a3f5f",
             "gridcolor": "white",
             "linecolor": "white",
             "minorgridcolor": "white",
             "startlinecolor": "#2a3f5f"
            },
            "baxis": {
             "endlinecolor": "#2a3f5f",
             "gridcolor": "white",
             "linecolor": "white",
             "minorgridcolor": "white",
             "startlinecolor": "#2a3f5f"
            },
            "type": "carpet"
           }
          ],
          "choropleth": [
           {
            "colorbar": {
             "outlinewidth": 0,
             "ticks": ""
            },
            "type": "choropleth"
           }
          ],
          "contour": [
           {
            "colorbar": {
             "outlinewidth": 0,
             "ticks": ""
            },
            "colorscale": [
             [
              0,
              "#0d0887"
             ],
             [
              0.1111111111111111,
              "#46039f"
             ],
             [
              0.2222222222222222,
              "#7201a8"
             ],
             [
              0.3333333333333333,
              "#9c179e"
             ],
             [
              0.4444444444444444,
              "#bd3786"
             ],
             [
              0.5555555555555556,
              "#d8576b"
             ],
             [
              0.6666666666666666,
              "#ed7953"
             ],
             [
              0.7777777777777778,
              "#fb9f3a"
             ],
             [
              0.8888888888888888,
              "#fdca26"
             ],
             [
              1,
              "#f0f921"
             ]
            ],
            "type": "contour"
           }
          ],
          "contourcarpet": [
           {
            "colorbar": {
             "outlinewidth": 0,
             "ticks": ""
            },
            "type": "contourcarpet"
           }
          ],
          "heatmap": [
           {
            "colorbar": {
             "outlinewidth": 0,
             "ticks": ""
            },
            "colorscale": [
             [
              0,
              "#0d0887"
             ],
             [
              0.1111111111111111,
              "#46039f"
             ],
             [
              0.2222222222222222,
              "#7201a8"
             ],
             [
              0.3333333333333333,
              "#9c179e"
             ],
             [
              0.4444444444444444,
              "#bd3786"
             ],
             [
              0.5555555555555556,
              "#d8576b"
             ],
             [
              0.6666666666666666,
              "#ed7953"
             ],
             [
              0.7777777777777778,
              "#fb9f3a"
             ],
             [
              0.8888888888888888,
              "#fdca26"
             ],
             [
              1,
              "#f0f921"
             ]
            ],
            "type": "heatmap"
           }
          ],
          "histogram": [
           {
            "marker": {
             "pattern": {
              "fillmode": "overlay",
              "size": 10,
              "solidity": 0.2
             }
            },
            "type": "histogram"
           }
          ],
          "histogram2d": [
           {
            "colorbar": {
             "outlinewidth": 0,
             "ticks": ""
            },
            "colorscale": [
             [
              0,
              "#0d0887"
             ],
             [
              0.1111111111111111,
              "#46039f"
             ],
             [
              0.2222222222222222,
              "#7201a8"
             ],
             [
              0.3333333333333333,
              "#9c179e"
             ],
             [
              0.4444444444444444,
              "#bd3786"
             ],
             [
              0.5555555555555556,
              "#d8576b"
             ],
             [
              0.6666666666666666,
              "#ed7953"
             ],
             [
              0.7777777777777778,
              "#fb9f3a"
             ],
             [
              0.8888888888888888,
              "#fdca26"
             ],
             [
              1,
              "#f0f921"
             ]
            ],
            "type": "histogram2d"
           }
          ],
          "histogram2dcontour": [
           {
            "colorbar": {
             "outlinewidth": 0,
             "ticks": ""
            },
            "colorscale": [
             [
              0,
              "#0d0887"
             ],
             [
              0.1111111111111111,
              "#46039f"
             ],
             [
              0.2222222222222222,
              "#7201a8"
             ],
             [
              0.3333333333333333,
              "#9c179e"
             ],
             [
              0.4444444444444444,
              "#bd3786"
             ],
             [
              0.5555555555555556,
              "#d8576b"
             ],
             [
              0.6666666666666666,
              "#ed7953"
             ],
             [
              0.7777777777777778,
              "#fb9f3a"
             ],
             [
              0.8888888888888888,
              "#fdca26"
             ],
             [
              1,
              "#f0f921"
             ]
            ],
            "type": "histogram2dcontour"
           }
          ],
          "mesh3d": [
           {
            "colorbar": {
             "outlinewidth": 0,
             "ticks": ""
            },
            "type": "mesh3d"
           }
          ],
          "parcoords": [
           {
            "line": {
             "colorbar": {
              "outlinewidth": 0,
              "ticks": ""
             }
            },
            "type": "parcoords"
           }
          ],
          "pie": [
           {
            "automargin": true,
            "type": "pie"
           }
          ],
          "scatter": [
           {
            "fillpattern": {
             "fillmode": "overlay",
             "size": 10,
             "solidity": 0.2
            },
            "type": "scatter"
           }
          ],
          "scatter3d": [
           {
            "line": {
             "colorbar": {
              "outlinewidth": 0,
              "ticks": ""
             }
            },
            "marker": {
             "colorbar": {
              "outlinewidth": 0,
              "ticks": ""
             }
            },
            "type": "scatter3d"
           }
          ],
          "scattercarpet": [
           {
            "marker": {
             "colorbar": {
              "outlinewidth": 0,
              "ticks": ""
             }
            },
            "type": "scattercarpet"
           }
          ],
          "scattergeo": [
           {
            "marker": {
             "colorbar": {
              "outlinewidth": 0,
              "ticks": ""
             }
            },
            "type": "scattergeo"
           }
          ],
          "scattergl": [
           {
            "marker": {
             "colorbar": {
              "outlinewidth": 0,
              "ticks": ""
             }
            },
            "type": "scattergl"
           }
          ],
          "scattermap": [
           {
            "marker": {
             "colorbar": {
              "outlinewidth": 0,
              "ticks": ""
             }
            },
            "type": "scattermap"
           }
          ],
          "scattermapbox": [
           {
            "marker": {
             "colorbar": {
              "outlinewidth": 0,
              "ticks": ""
             }
            },
            "type": "scattermapbox"
           }
          ],
          "scatterpolar": [
           {
            "marker": {
             "colorbar": {
              "outlinewidth": 0,
              "ticks": ""
             }
            },
            "type": "scatterpolar"
           }
          ],
          "scatterpolargl": [
           {
            "marker": {
             "colorbar": {
              "outlinewidth": 0,
              "ticks": ""
             }
            },
            "type": "scatterpolargl"
           }
          ],
          "scatterternary": [
           {
            "marker": {
             "colorbar": {
              "outlinewidth": 0,
              "ticks": ""
             }
            },
            "type": "scatterternary"
           }
          ],
          "surface": [
           {
            "colorbar": {
             "outlinewidth": 0,
             "ticks": ""
            },
            "colorscale": [
             [
              0,
              "#0d0887"
             ],
             [
              0.1111111111111111,
              "#46039f"
             ],
             [
              0.2222222222222222,
              "#7201a8"
             ],
             [
              0.3333333333333333,
              "#9c179e"
             ],
             [
              0.4444444444444444,
              "#bd3786"
             ],
             [
              0.5555555555555556,
              "#d8576b"
             ],
             [
              0.6666666666666666,
              "#ed7953"
             ],
             [
              0.7777777777777778,
              "#fb9f3a"
             ],
             [
              0.8888888888888888,
              "#fdca26"
             ],
             [
              1,
              "#f0f921"
             ]
            ],
            "type": "surface"
           }
          ],
          "table": [
           {
            "cells": {
             "fill": {
              "color": "#EBF0F8"
             },
             "line": {
              "color": "white"
             }
            },
            "header": {
             "fill": {
              "color": "#C8D4E3"
             },
             "line": {
              "color": "white"
             }
            },
            "type": "table"
           }
          ]
         },
         "layout": {
          "annotationdefaults": {
           "arrowcolor": "#2a3f5f",
           "arrowhead": 0,
           "arrowwidth": 1
          },
          "autotypenumbers": "strict",
          "coloraxis": {
           "colorbar": {
            "outlinewidth": 0,
            "ticks": ""
           }
          },
          "colorscale": {
           "diverging": [
            [
             0,
             "#8e0152"
            ],
            [
             0.1,
             "#c51b7d"
            ],
            [
             0.2,
             "#de77ae"
            ],
            [
             0.3,
             "#f1b6da"
            ],
            [
             0.4,
             "#fde0ef"
            ],
            [
             0.5,
             "#f7f7f7"
            ],
            [
             0.6,
             "#e6f5d0"
            ],
            [
             0.7,
             "#b8e186"
            ],
            [
             0.8,
             "#7fbc41"
            ],
            [
             0.9,
             "#4d9221"
            ],
            [
             1,
             "#276419"
            ]
           ],
           "sequential": [
            [
             0,
             "#0d0887"
            ],
            [
             0.1111111111111111,
             "#46039f"
            ],
            [
             0.2222222222222222,
             "#7201a8"
            ],
            [
             0.3333333333333333,
             "#9c179e"
            ],
            [
             0.4444444444444444,
             "#bd3786"
            ],
            [
             0.5555555555555556,
             "#d8576b"
            ],
            [
             0.6666666666666666,
             "#ed7953"
            ],
            [
             0.7777777777777778,
             "#fb9f3a"
            ],
            [
             0.8888888888888888,
             "#fdca26"
            ],
            [
             1,
             "#f0f921"
            ]
           ],
           "sequentialminus": [
            [
             0,
             "#0d0887"
            ],
            [
             0.1111111111111111,
             "#46039f"
            ],
            [
             0.2222222222222222,
             "#7201a8"
            ],
            [
             0.3333333333333333,
             "#9c179e"
            ],
            [
             0.4444444444444444,
             "#bd3786"
            ],
            [
             0.5555555555555556,
             "#d8576b"
            ],
            [
             0.6666666666666666,
             "#ed7953"
            ],
            [
             0.7777777777777778,
             "#fb9f3a"
            ],
            [
             0.8888888888888888,
             "#fdca26"
            ],
            [
             1,
             "#f0f921"
            ]
           ]
          },
          "colorway": [
           "#636efa",
           "#EF553B",
           "#00cc96",
           "#ab63fa",
           "#FFA15A",
           "#19d3f3",
           "#FF6692",
           "#B6E880",
           "#FF97FF",
           "#FECB52"
          ],
          "font": {
           "color": "#2a3f5f"
          },
          "geo": {
           "bgcolor": "white",
           "lakecolor": "white",
           "landcolor": "#E5ECF6",
           "showlakes": true,
           "showland": true,
           "subunitcolor": "white"
          },
          "hoverlabel": {
           "align": "left"
          },
          "hovermode": "closest",
          "mapbox": {
           "style": "light"
          },
          "paper_bgcolor": "white",
          "plot_bgcolor": "#E5ECF6",
          "polar": {
           "angularaxis": {
            "gridcolor": "white",
            "linecolor": "white",
            "ticks": ""
           },
           "bgcolor": "#E5ECF6",
           "radialaxis": {
            "gridcolor": "white",
            "linecolor": "white",
            "ticks": ""
           }
          },
          "scene": {
           "xaxis": {
            "backgroundcolor": "#E5ECF6",
            "gridcolor": "white",
            "gridwidth": 2,
            "linecolor": "white",
            "showbackground": true,
            "ticks": "",
            "zerolinecolor": "white"
           },
           "yaxis": {
            "backgroundcolor": "#E5ECF6",
            "gridcolor": "white",
            "gridwidth": 2,
            "linecolor": "white",
            "showbackground": true,
            "ticks": "",
            "zerolinecolor": "white"
           },
           "zaxis": {
            "backgroundcolor": "#E5ECF6",
            "gridcolor": "white",
            "gridwidth": 2,
            "linecolor": "white",
            "showbackground": true,
            "ticks": "",
            "zerolinecolor": "white"
           }
          },
          "shapedefaults": {
           "line": {
            "color": "#2a3f5f"
           }
          },
          "ternary": {
           "aaxis": {
            "gridcolor": "white",
            "linecolor": "white",
            "ticks": ""
           },
           "baxis": {
            "gridcolor": "white",
            "linecolor": "white",
            "ticks": ""
           },
           "bgcolor": "#E5ECF6",
           "caxis": {
            "gridcolor": "white",
            "linecolor": "white",
            "ticks": ""
           }
          },
          "title": {
           "x": 0.05
          },
          "xaxis": {
           "automargin": true,
           "gridcolor": "white",
           "linecolor": "white",
           "ticks": "",
           "title": {
            "standoff": 15
           },
           "zerolinecolor": "white",
           "zerolinewidth": 2
          },
          "yaxis": {
           "automargin": true,
           "gridcolor": "white",
           "linecolor": "white",
           "ticks": "",
           "title": {
            "standoff": 15
           },
           "zerolinecolor": "white",
           "zerolinewidth": 2
          }
         }
        },
        "title": {
         "text": "Training"
        },
        "width": 1000,
        "xaxis": {
         "anchor": "y",
         "domain": [
          0,
          1
         ],
         "title": {
          "text": "secs"
         },
         "type": "log"
        },
        "yaxis": {
         "anchor": "x",
         "domain": [
          0,
          1
         ],
         "title": {
          "text": "top1"
         }
        }
       }
      }
     },
     "metadata": {},
     "output_type": "display_data"
    }
   ],
   "source": [
    "show_all(tdf, 'Training', 'train_img_size')"
   ]
  },
  {
   "cell_type": "markdown",
   "metadata": {},
   "source": [
    "...and we'll also look at our chosen subset of models:"
   ]
  },
  {
   "cell_type": "code",
   "execution_count": 42,
   "metadata": {
    "execution": {
     "iopub.execute_input": "2023-06-06T00:08:07.196293Z",
     "iopub.status.busy": "2023-06-06T00:08:07.19592Z",
     "iopub.status.idle": "2023-06-06T00:08:07.40089Z",
     "shell.execute_reply": "2023-06-06T00:08:07.399949Z",
     "shell.execute_reply.started": "2023-06-06T00:08:07.196252Z"
    },
    "trusted": true
   },
   "outputs": [
    {
     "data": {
      "application/vnd.plotly.v1+json": {
       "config": {
        "plotlyServerURL": "https://plot.ly"
       },
       "data": [
        {
         "customdata": {
          "bdata": "4ADgAOAA4ADgAA==",
          "dtype": "i2",
          "shape": "5, 1"
         },
         "hovertemplate": "<b>%{hovertext}</b><br><br>family=levit<br>secs=%{x}<br>top1=%{y}<br>size=%{marker.size}<br>train_img_size=%{customdata[0]}<extra></extra>",
         "hovertext": [
          "levit_128s.fb_dist_in1k",
          "levit_128.fb_dist_in1k",
          "levit_192.fb_dist_in1k",
          "levit_256.fb_dist_in1k",
          "levit_384.fb_dist_in1k"
         ],
         "legendgroup": "levit",
         "marker": {
          "color": "#636efa",
          "size": {
           "bdata": "AMQAAADEAAAAxAAAAMQAAADEAAA=",
           "dtype": "i4"
          },
          "sizemode": "area",
          "sizeref": 655.36,
          "symbol": "circle"
         },
         "mode": "markers",
         "name": "levit",
         "orientation": "v",
         "showlegend": true,
         "type": "scatter",
         "x": {
          "bdata": "DBicYE4LJD8rh+tkNMEsPxcggPUulTE/fDbOmtIqNj8F4BgJwDFCPw==",
          "dtype": "f8"
         },
         "xaxis": "x",
         "y": {
          "bdata": "xSCwcmghU0DJdr6fGp9TQGZmZmZm9lNAqvHSTWJgVECDwMqhRaZUQA==",
          "dtype": "f8"
         },
         "yaxis": "y"
        },
        {
         "hovertemplate": "<b>OLS trendline</b><br>top1 = 11.2194 * log10(secs) + 119.671<br>R<sup>2</sup>=0.952739<br><br>family=levit<br>secs=%{x}<br>top1=%{y} <b>(trend)</b><extra></extra>",
         "legendgroup": "levit",
         "marker": {
          "color": "#636efa",
          "symbol": "circle"
         },
         "mode": "lines",
         "name": "levit",
         "showlegend": false,
         "type": "scatter",
         "x": {
          "bdata": "DBicYE4LJD8rh+tkNMEsPxcggPUulTE/fDbOmtIqNj8F4BgJwDFCPw==",
          "dtype": "f8"
         },
         "xaxis": "x",
         "y": {
          "bdata": "8Nf5iDc3U0A6CkPAv6dTQEISH+2C5lNAxHyuxcMuVEDAPmhsU8lUQA==",
          "dtype": "f8"
         },
         "yaxis": "y"
        },
        {
         "customdata": {
          "bdata": "sACwAOAA4ADgAOAA4ADgAOAA4ADgAOAAsACwAOAA4ADgAOAA4ADgAOAA4ADgAOAA4ADgAAABAAHgAOAA4ADgAOAA4ADgAOAA4ADgAOAA4ADgAOAA4ADgAOAA4ADgAOAA4ADgAOAA4ADgAOAA4ADgAOAA4ADgAAABAAEAAQAB4ADgAOAA4ADgAOAA4ADgAOAA4ADgAOAA4ADgAOAA4ADgAOAA4ADgAOAA4ADgAOAAAAEAAQABAAE=",
          "dtype": "i2",
          "shape": "91, 1"
         },
         "hovertemplate": "<b>%{hovertext}</b><br><br>family=resnet<br>secs=%{x}<br>top1=%{y}<br>size=%{marker.size}<br>train_img_size=%{customdata[0]}<extra></extra>",
         "hovertext": [
          "resnet10t.c3_in1k",
          "resnet10t.c3_in1k",
          "resnet18.fb_swsl_ig1b_ft_in1k",
          "resnet18.a1_in1k",
          "resnet18.fb_ssl_yfcc100m_ft_in1k",
          "resnet18.a2_in1k",
          "resnet18.a1_in1k",
          "resnet18.gluon_in1k",
          "resnet18.a2_in1k",
          "resnet18.tv_in1k",
          "resnet18.a3_in1k",
          "resnet18.a3_in1k",
          "resnet14t.c3_in1k",
          "resnet14t.c3_in1k",
          "resnet34.a1_in1k",
          "resnet34.a2_in1k",
          "resnet34.bt_in1k",
          "resnet34.a1_in1k",
          "resnet34.a2_in1k",
          "resnet34.bt_in1k",
          "resnet34.gluon_in1k",
          "resnet34.tv_in1k",
          "resnet34.a3_in1k",
          "resnet34.a3_in1k",
          "resnet26.bt_in1k",
          "resnet26.bt_in1k",
          "resnet26t.ra2_in1k",
          "resnet26t.ra2_in1k",
          "resnet50.a1_in1k",
          "resnet50.fb_swsl_ig1b_ft_in1k",
          "resnet50.d_in1k",
          "resnet50.c1_in1k",
          "resnet50.c2_in1k",
          "resnet50.tv2_in1k",
          "resnet50.a2_in1k",
          "resnet50.b1k_in1k",
          "resnet50.a1h_in1k",
          "resnet50.b2k_in1k",
          "resnet50.a1_in1k",
          "resnet50.ram_in1k",
          "resnet50.d_in1k",
          "resnet50.c2_in1k",
          "resnet50.ra_in1k",
          "resnet50.a2_in1k",
          "resnet50.c1_in1k",
          "resnet50.bt_in1k",
          "resnet50.b1k_in1k",
          "resnet50.tv2_in1k",
          "resnet50.b2k_in1k",
          "resnet50.a1h_in1k",
          "resnet50.fb_ssl_yfcc100m_ft_in1k",
          "resnet50.ram_in1k",
          "resnet50.am_in1k",
          "resnet50.ra_in1k",
          "resnet50.bt_in1k",
          "resnet50.a3_in1k",
          "resnet50.gluon_in1k",
          "resnet50.tv_in1k",
          "resnet50.a3_in1k",
          "resnet32ts.ra2_in1k",
          "resnet32ts.ra2_in1k",
          "resnet33ts.ra2_in1k",
          "resnet33ts.ra2_in1k",
          "resnet101.a1h_in1k",
          "resnet101.a1_in1k",
          "resnet101.a2_in1k",
          "resnet101.a1h_in1k",
          "resnet101.tv2_in1k",
          "resnet101.a1_in1k",
          "resnet101.a2_in1k",
          "resnet101.tv2_in1k",
          "resnet101.a3_in1k",
          "resnet101.gluon_in1k",
          "resnet101.a3_in1k",
          "resnet101.tv_in1k",
          "resnet152.a1h_in1k",
          "resnet152.a1h_in1k",
          "resnet152.a1_in1k",
          "resnet152.a2_in1k",
          "resnet152.tv2_in1k",
          "resnet152.a1_in1k",
          "resnet152.a2_in1k",
          "resnet152.a3_in1k",
          "resnet152.tv2_in1k",
          "resnet152.gluon_in1k",
          "resnet152.a3_in1k",
          "resnet152.tv_in1k",
          "resnet51q.ra2_in1k",
          "resnet51q.ra2_in1k",
          "resnet61q.ra2_in1k",
          "resnet61q.ra2_in1k"
         ],
         "legendgroup": "resnet",
         "marker": {
          "color": "#EF553B",
          "size": {
           "bdata": "AHkAAAB5AAAAxAAAAMQAAADEAAAAxAAAAMQAAADEAAAAxAAAAMQAAADEAAAAxAAAAHkAAAB5AAAAxAAAAMQAAADEAAAAxAAAAMQAAADEAAAAxAAAAMQAAADEAAAAxAAAAMQAAADEAAAAAAEAAAABAADEAAAAxAAAAMQAAADEAAAAxAAAAMQAAADEAAAAxAAAAMQAAADEAAAAxAAAAMQAAADEAAAAxAAAAMQAAADEAAAAxAAAAMQAAADEAAAAxAAAAMQAAADEAAAAxAAAAMQAAADEAAAAxAAAAMQAAADEAAAAxAAAAMQAAADEAAAAAAEAAAABAAAAAQAAAAEAAMQAAADEAAAAxAAAAMQAAADEAAAAxAAAAMQAAADEAAAAxAAAAMQAAADEAAAAxAAAAMQAAADEAAAAxAAAAMQAAADEAAAAxAAAAMQAAADEAAAAxAAAAMQAAADEAAAAxAAAAAABAAAAAQAAAAEAAAABAA==",
           "dtype": "i4"
          },
          "sizemode": "area",
          "sizeref": 655.36,
          "symbol": "circle"
         },
         "mode": "markers",
         "name": "resnet",
         "orientation": "v",
         "showlegend": true,
         "type": "scatter",
         "x": {
          "bdata": "Q7kpj2W+JD9DuSmPZb4kP1sSXAyT0jI/WxJcDJPSMj9bElwMk9IyP1sSXAyT0jI/WxJcDJPSMj9bElwMk9IyP1sSXAyT0jI/WxJcDJPSMj9bElwMk9IyP1sSXAyT0jI/rOVZ8KHfMj+s5Vnwod8yP9vAPBIcF0A/28A8EhwXQD/bwDwSHBdAP9vAPBIcF0A/28A8EhwXQD/bwDwSHBdAP9vAPBIcF0A/28A8EhwXQD/bwDwSHBdAP9vAPBIcF0A/OQsBDIqzQD85CwEMirNAP2rWxbeMe0o/atbFt4x7Sj+G1mVjJOdKP4bWZWMk50o/htZlYyTnSj+G1mVjJOdKP4bWZWMk50o/htZlYyTnSj+G1mVjJOdKP4bWZWMk50o/htZlYyTnSj+G1mVjJOdKP4bWZWMk50o/htZlYyTnSj+G1mVjJOdKP4bWZWMk50o/htZlYyTnSj+G1mVjJOdKP4bWZWMk50o/htZlYyTnSj+G1mVjJOdKP4bWZWMk50o/htZlYyTnSj+G1mVjJOdKP4bWZWMk50o/htZlYyTnSj+G1mVjJOdKP4bWZWMk50o/htZlYyTnSj+G1mVjJOdKP4bWZWMk50o/htZlYyTnSj+G1mVjJOdKPyjHiFsedU4/KMeIWx51Tj9gpib/o99OP2CmJv+j304/M16A2i7oVT8zXoDaLuhVPzNegNou6FU/M16A2i7oVT8zXoDaLuhVPzNegNou6FU/M16A2i7oVT8zXoDaLuhVPzNegNou6FU/M16A2i7oVT8zXoDaLuhVPzNegNou6FU/zs/4U0JWYD/Oz/hTQlZgP87P+FNCVmA/zs/4U0JWYD/Oz/hTQlZgP87P+FNCVmA/zs/4U0JWYD/Oz/hTQlZgP87P+FNCVmA/zs/4U0JWYD/Oz/hTQlZgP87P+FNCVmA/I9p7XZOpYT8j2ntdk6lhP09MU0i04GI/T0xTSLTgYj8=",
          "dtype": "f8"
         },
         "xaxis": "x",
         "y": {
          "bdata": "oBov3SQWUUB1kxgEVq5QQN9PjZduUlJA0SLb+X5KUkBiEFg5tChSQLpJDAIrF1JArBxaZDvfUUC8dJMYBLZRQH9qvHSTqFFA46WbxCBwUUA5tMh2vg9RQNEi2/l+alBAc2iR7XwPUkAxCKwcWtRRQHnpJjEIfFNAtvP91HhJU0CNl24SgyBTQNEi2/l+GlNAGy/dJAbhUkDufD81XspSQNv5fmq8pFJAUI2XbhJTUkACK4cW2T5SQPhT46WbpFFA1XjpJjEYU0Cmm8QgsNJSQIXrUbgelVNAf2q8dJN4U0CPwvUoXE9UQNNNYhBYSVRAVOOlm8RAVEAIrBxaZDtUQBBYObTINlRAvHSTGAQ2VEBSuB6F6zFUQHe+nxovLVRAfT81XropVECuR+F6FB5UQJzEILByGFRAdZMYBFb+U0Bg5dAi2/lTQGQ730+N91NA16NwPQr3U0CiRbbz/fRTQBsv3SQG8VNAfT81XrrpU0BqvHSTGORTQM/3U+Ol21NAuB6F61HYU0BxPQrXo9BTQOOlm8Qg0FNANV66SQzCU0DHSzeJQcBTQGq8dJMYtFNAz/dT46WbU0AX2c73U4NTQIXrUbgeZVNARIts5/sJU0BWDi2ynf9SQEa28/3U2FNA+n5qvHTDU0BaZDvfT+1TQOf7qfHSzVNAF9nO91OzVED4U+Olm5RUQHWTGARWjlRAzczMzMx8VEBEi2zn+3lUQFYOLbKdX1RAvHSTGARWVEBEi2zn+/lTQBSuR+F69FNA3SQGgZXTU0AIrBxaZHtTQGDl0CLbWVNAVg4tsp3fVEAxCKwcWrRUQFYOLbKdr1RASOF6FK6nVECJQWDl0JJUQB1aZDvff1RAN4lBYOVwVEBQjZduEiNUQCGwcmiRDVRAIbByaJHtU0DTTWIQWLlTQIXrUbgelVNAEFg5tMiWVEBvEoPAynFUQKjGSzeJoVRA5/up8dJ9VEA=",
          "dtype": "f8"
         },
         "yaxis": "y"
        },
        {
         "hovertemplate": "<b>OLS trendline</b><br>top1 = 12.6071 * log10(secs) + 117.009<br>R<sup>2</sup>=0.759488<br><br>family=resnet<br>secs=%{x}<br>top1=%{y} <b>(trend)</b><extra></extra>",
         "legendgroup": "resnet",
         "marker": {
          "color": "#EF553B",
          "symbol": "circle"
         },
         "mode": "lines",
         "name": "resnet",
         "showlegend": false,
         "type": "scatter",
         "x": {
          "bdata": "Q7kpj2W+JD9DuSmPZb4kP1sSXAyT0jI/WxJcDJPSMj9bElwMk9IyP1sSXAyT0jI/WxJcDJPSMj9bElwMk9IyP1sSXAyT0jI/WxJcDJPSMj9bElwMk9IyP1sSXAyT0jI/rOVZ8KHfMj+s5Vnwod8yP9vAPBIcF0A/28A8EhwXQD/bwDwSHBdAP9vAPBIcF0A/28A8EhwXQD/bwDwSHBdAP9vAPBIcF0A/28A8EhwXQD/bwDwSHBdAP9vAPBIcF0A/OQsBDIqzQD85CwEMirNAP2rWxbeMe0o/atbFt4x7Sj+G1mVjJOdKP4bWZWMk50o/htZlYyTnSj+G1mVjJOdKP4bWZWMk50o/htZlYyTnSj+G1mVjJOdKP4bWZWMk50o/htZlYyTnSj+G1mVjJOdKP4bWZWMk50o/htZlYyTnSj+G1mVjJOdKP4bWZWMk50o/htZlYyTnSj+G1mVjJOdKP4bWZWMk50o/htZlYyTnSj+G1mVjJOdKP4bWZWMk50o/htZlYyTnSj+G1mVjJOdKP4bWZWMk50o/htZlYyTnSj+G1mVjJOdKP4bWZWMk50o/htZlYyTnSj+G1mVjJOdKP4bWZWMk50o/htZlYyTnSj+G1mVjJOdKPyjHiFsedU4/KMeIWx51Tj9gpib/o99OP2CmJv+j304/M16A2i7oVT8zXoDaLuhVPzNegNou6FU/M16A2i7oVT8zXoDaLuhVPzNegNou6FU/M16A2i7oVT8zXoDaLuhVPzNegNou6FU/M16A2i7oVT8zXoDaLuhVPzNegNou6FU/zs/4U0JWYD/Oz/hTQlZgP87P+FNCVmA/zs/4U0JWYD/Oz/hTQlZgP87P+FNCVmA/zs/4U0JWYD/Oz/hTQlZgP87P+FNCVmA/zs/4U0JWYD/Oz/hTQlZgP87P+FNCVmA/I9p7XZOpYT8j2ntdk6lhP09MU0i04GI/T0xTSLTgYj8=",
          "dtype": "f8"
         },
         "xaxis": "x",
         "y": {
          "bdata": "zK/VQANGUUDMr9VAA0ZRQHx1kRjYFlJAfHWRGNgWUkB8dZEY2BZSQHx1kRjYFlJAfHWRGNgWUkB8dZEY2BZSQHx1kRjYFlJAfHWRGNgWUkB8dZEY2BZSQHx1kRjYFlJA2Ry/3coXUkDZHL/dyhdSQFJuxsLF0lJAUm7GwsXSUkBSbsbCxdJSQFJuxsLF0lJAUm7GwsXSUkBSbsbCxdJSQFJuxsLF0lJAUm7GwsXSUkBSbsbCxdJSQFJuxsLF0lJA584sYNXfUkDnzixg1d9SQDewhLNfgVNAN7CEs1+BU0DS+fwp5IZTQNL5/CnkhlNA0vn8KeSGU0DS+fwp5IZTQNL5/CnkhlNA0vn8KeSGU0DS+fwp5IZTQNL5/CnkhlNA0vn8KeSGU0DS+fwp5IZTQNL5/CnkhlNA0vn8KeSGU0DS+fwp5IZTQNL5/CnkhlNA0vn8KeSGU0DS+fwp5IZTQNL5/CnkhlNA0vn8KeSGU0DS+fwp5IZTQNL5/CnkhlNA0vn8KeSGU0DS+fwp5IZTQNL5/CnkhlNA0vn8KeSGU0DS+fwp5IZTQNL5/CnkhlNA0vn8KeSGU0DS+fwp5IZTQNL5/CnkhlNA0vn8KeSGU0DS+fwp5IZTQMhpOHRgslNAyGk4dGCyU0Dc6c6wIbdTQNzpzrAht1NAoCl3LssxVECgKXcuyzFUQKApdy7LMVRAoCl3LssxVECgKXcuyzFUQKApdy7LMVRAoCl3LssxVECgKXcuyzFUQKApdy7LMVRAoCl3LssxVECgKXcuyzFUQKApdy7LMVRAQNSo9+C9VEBA1Kj34L1UQEDUqPfgvVRAQNSo9+C9VEBA1Kj34L1UQEDUqPfgvVRAQNSo9+C9VEBA1Kj34L1UQEDUqPfgvVRAQNSo9+C9VEBA1Kj34L1UQEDUqPfgvVRAb3xSzzbZVEBvfFLPNtlUQFqPSlSI8FRAWo9KVIjwVEA=",
          "dtype": "f8"
         },
         "yaxis": "y"
        },
        {
         "customdata": {
          "bdata": "4ADgAOAA4ADgAOAA4ADgAOAA4ADgAOAA4ADgAOAA4ADgAOAA",
          "dtype": "i2",
          "shape": "18, 1"
         },
         "hovertemplate": "<b>%{hovertext}</b><br><br>family=regnetx<br>secs=%{x}<br>top1=%{y}<br>size=%{marker.size}<br>train_img_size=%{customdata[0]}<extra></extra>",
         "hovertext": [
          "regnetx_002.pycls_in1k",
          "regnetx_004.pycls_in1k",
          "regnetx_006.pycls_in1k",
          "regnetx_008.tv2_in1k",
          "regnetx_008.pycls_in1k",
          "regnetx_016.tv2_in1k",
          "regnetx_016.pycls_in1k",
          "regnetx_040.pycls_in1k",
          "regnetx_032.tv2_in1k",
          "regnetx_032.pycls_in1k",
          "regnetx_080.tv2_in1k",
          "regnetx_080.pycls_in1k",
          "regnetx_064.pycls_in1k",
          "regnetx_160.tv2_in1k",
          "regnetx_160.pycls_in1k",
          "regnetx_120.pycls_in1k",
          "regnetx_320.tv2_in1k",
          "regnetx_320.pycls_in1k"
         ],
         "legendgroup": "regnetx",
         "marker": {
          "color": "#00cc96",
          "size": {
           "bdata": "AMQAAADEAAAAxAAAAMQAAADEAAAAxAAAAMQAAADEAAAAxAAAAMQAAADEAAAAxAAAAMQAAADEAAAAxAAAAMQAAADEAAAAxAAA",
           "dtype": "i4"
          },
          "sizemode": "area",
          "sizeref": 655.36,
          "symbol": "circle"
         },
         "mode": "markers",
         "name": "regnetx",
         "orientation": "v",
         "showlegend": true,
         "type": "scatter",
         "x": {
          "bdata": "YMtztvXtLz9VHrMuFmdCP2bzztHKeEk/FqqF1gyrTz8WqoXWDKtPP8b98Rdu/1c/xv3xF27/Vz9ux6wD74RiP7Yc01CJhWo/thzTUImFaj/qivz4JJR2P+qK/PgklHY/myHEKSeNfz+Pkn6nkAiDP4+SfqeQCIM/RXqPnsDHhT8c83Ljg06VPxzzcuODTpU/",
          "dtype": "f8"
         },
         "xaxis": "x",
         "y": {
          "bdata": "cT0K16MwUUDP91PjpRtSQH9qvHSTeFJA30+Nl25SU0CHFtnO98NSQLByaJHt3FNAQmDl0CI7U0BWDi2ynZ9TQCUGgZVDO1RAtMh2vp+KU0CkcD0K12NUQOf7qfHSzVNApHA9CtfDU0C+nxov3aRUQPT91Hjp9lNA9P3UeOnmU0Db+X5qvLRUQFTjpZvEEFRA",
          "dtype": "f8"
         },
         "yaxis": "y"
        },
        {
         "hovertemplate": "<b>OLS trendline</b><br>top1 = 5.68959 * log10(secs) + 92.4583<br>R<sup>2</sup>=0.757706<br><br>family=regnetx<br>secs=%{x}<br>top1=%{y} <b>(trend)</b><extra></extra>",
         "legendgroup": "regnetx",
         "marker": {
          "color": "#00cc96",
          "symbol": "circle"
         },
         "mode": "lines",
         "name": "regnetx",
         "showlegend": false,
         "type": "scatter",
         "x": {
          "bdata": "YMtztvXtLz9VHrMuFmdCP2bzztHKeEk/FqqF1gyrTz8WqoXWDKtPP8b98Rdu/1c/xv3xF27/Vz9ux6wD74RiP7Yc01CJhWo/thzTUImFaj/qivz4JJR2P+qK/PgklHY/myHEKSeNfz+Pkn6nkAiDP4+SfqeQCIM/RXqPnsDHhT8c83Ljg06VPxzzcuODTpU/",
          "dtype": "f8"
         },
         "xaxis": "x",
         "y": {
          "bdata": "R+C5i5n5UUCs20ZNsH1SQEwNKMYYsVJA9F9Ft4fTUkD0X0W3h9NSQFb4ut5IFVNAVvi63kgVU0CLPI7n6llTQJKPGrm2klNAko8aubaSU0BTaVca4OZTQFNpVxrg5lNArF3Ph8obVEA7XIiLejlUQDtciIt6OVRALaaEFMxOVEDO0wCP77hUQM7TAI/vuFRA",
          "dtype": "f8"
         },
         "yaxis": "y"
        },
        {
         "customdata": {
          "bdata": "4ADgAOAA4ADgAOAA4ADgAOAA4ADgAOAA4ADgAOAA4ADgAAABAAEAAQABAAEAAQABAAE=",
          "dtype": "i2",
          "shape": "25, 1"
         },
         "hovertemplate": "<b>%{hovertext}</b><br><br>family=resnetd<br>secs=%{x}<br>top1=%{y}<br>size=%{marker.size}<br>train_img_size=%{customdata[0]}<extra></extra>",
         "hovertext": [
          "resnet18d.ra2_in1k",
          "resnet18d.ra2_in1k",
          "resnet34d.ra2_in1k",
          "resnet34d.ra2_in1k",
          "resnet26d.bt_in1k",
          "resnet26d.bt_in1k",
          "resnet50d.ra4_e3600_r224_in1k",
          "resnet50d.a1_in1k",
          "resnet50d.ra2_in1k",
          "resnet50d.a2_in1k",
          "resnet50d.ra4_e3600_r224_in1k",
          "resnet50d.a1_in1k",
          "resnet50d.ra2_in1k",
          "resnet50d.a2_in1k",
          "resnet50d.gluon_in1k",
          "resnet50d.a3_in1k",
          "resnet50d.a3_in1k",
          "resnet101d.ra2_in1k",
          "resnet101d.ra2_in1k",
          "resnet101d.gluon_in1k",
          "resnet152d.ra2_in1k",
          "resnet152d.ra2_in1k",
          "resnet152d.gluon_in1k",
          "resnet200d.ra2_in1k",
          "resnet200d.ra2_in1k"
         ],
         "legendgroup": "resnetd",
         "marker": {
          "color": "#ab63fa",
          "size": {
           "bdata": "AMQAAADEAAAAxAAAAMQAAADEAAAAxAAAAMQAAADEAAAAxAAAAMQAAADEAAAAxAAAAMQAAADEAAAAxAAAAMQAAADEAAAAAAEAAAABAAAAAQAAAAEAAAABAAAAAQAAAAEAAAABAA==",
           "dtype": "i4"
          },
          "sizemode": "area",
          "sizeref": 655.36,
          "symbol": "circle"
         },
         "mode": "markers",
         "name": "resnetd",
         "orientation": "v",
         "showlegend": true,
         "type": "scatter",
         "x": {
          "bdata": "DVmOzPHKNj8NWY7M8co2P3RguUiDEkI/dGC5SIMSQj/qrho4mC9EP+quGjiYL0Q/a03n26NlTj9rTefbo2VOP2tN59ujZU4/a03n26NlTj9rTefbo2VOP2tN59ujZU4/a03n26NlTj9rTefbo2VOP2tN59ujZU4/a03n26NlTj9rTefbo2VOP4ImOF6wRl8/giY4XrBGXz+CJjhesEZfPwgmIM+A6WY/CCYgz4DpZj8IJiDPgOlmP+c0qKuPq24/5zSoq4+rbj8=",
          "dtype": "f8"
         },
         "xaxis": "x",
         "y": {
          "bdata": "iUFg5dByUkD+1HjpJhFSQFyPwvUonFNALbKd76dGU0BCYOXQIltTQOkmMQisLFNAhetRuB51VEAj2/l+alxUQGZmZmZmVlRAmG4Sg8BKVEB3vp8aLz1UQB+F61G4LlRAUI2XbhIjVED+1HjpJhFUQIXrUbgexVNAc2iR7XyvU0CR7Xw/NU5TQP7UeOkmwVRA46WbxCCQVEDn+6nx0h1UQLKd76fG61RARIts5/vJVEBYObTIdh5UQFg5tMh2/lRAj8L1KFzPVEA=",
          "dtype": "f8"
         },
         "yaxis": "y"
        },
        {
         "hovertemplate": "<b>OLS trendline</b><br>top1 = 8.44776 * log10(secs) + 104.94<br>R<sup>2</sup>=0.707064<br><br>family=resnetd<br>secs=%{x}<br>top1=%{y} <b>(trend)</b><extra></extra>",
         "legendgroup": "resnetd",
         "marker": {
          "color": "#ab63fa",
          "symbol": "circle"
         },
         "mode": "lines",
         "name": "resnetd",
         "showlegend": false,
         "type": "scatter",
         "x": {
          "bdata": "DVmOzPHKNj8NWY7M8co2P3RguUiDEkI/dGC5SIMSQj/qrho4mC9EP+quGjiYL0Q/a03n26NlTj9rTefbo2VOP2tN59ujZU4/a03n26NlTj9rTefbo2VOP2tN59ujZU4/a03n26NlTj9rTefbo2VOP2tN59ujZU4/a03n26NlTj9rTefbo2VOP4ImOF6wRl8/giY4XrBGXz+CJjhesEZfPwgmIM+A6WY/CCYgz4DpZj8IJiDPgOlmP+c0qKuPq24/5zSoq4+rbj8=",
          "dtype": "f8"
         },
         "xaxis": "x",
         "y": {
          "bdata": "GLNt3S/uUkAYs23dL+5SQLhCHbFzWlNAuEIdsXNaU0DvIhIVbHRTQO8iEhVsdFNA5gt7qYrUU0DmC3upitRTQOYLe6mK1FNA5gt7qYrUU0DmC3upitRTQOYLe6mK1FNA5gt7qYrUU0DmC3upitRTQOYLe6mK1FNA5gt7qYrUU0DmC3upitRTQOEaYWv9fVRA4Rpha/19VEDhGmFr/X1UQKytRuOs11RArK1G46zXVECsrUbjrNdUQHYUB2MmHFVAdhQHYyYcVUA=",
          "dtype": "f8"
         },
         "yaxis": "y"
        },
        {
         "customdata": {
          "bdata": "4ADgAOAA4ADgAOAA4ADgAOAA4ADgAOAA4ADgAOAA4ADgAOAA4ADgAOAA4ADgAOAA4ADgAOAA4ADgAOAA4ADgAOAA4ADgAOAA4ADgAA==",
          "dtype": "i2",
          "shape": "38, 1"
         },
         "hovertemplate": "<b>%{hovertext}</b><br><br>family=convnext<br>secs=%{x}<br>top1=%{y}<br>size=%{marker.size}<br>train_img_size=%{customdata[0]}<extra></extra>",
         "hovertext": [
          "convnext_nano_ols.d1h_in1k",
          "convnext_nano_ols.d1h_in1k",
          "convnext_nano.in12k_ft_in1k",
          "convnext_nano.in12k_ft_in1k",
          "convnext_nano.d1h_in1k",
          "convnext_nano.d1h_in1k",
          "convnext_tiny_hnf.a2h_in1k",
          "convnext_tiny_hnf.a2h_in1k",
          "convnext_tiny.in12k_ft_in1k_384",
          "convnext_tiny.in12k_ft_in1k",
          "convnext_tiny.in12k_ft_in1k",
          "convnext_tiny.fb_in22k_ft_in1k_384",
          "convnext_tiny.fb_in22k_ft_in1k",
          "convnext_tiny.fb_in1k",
          "convnext_tiny.fb_in1k",
          "convnext_tiny.fb_in22k_ft_in1k",
          "convnext_small.in12k_ft_in1k_384",
          "convnext_small.fb_in22k_ft_in1k_384",
          "convnext_small.in12k_ft_in1k",
          "convnext_small.fb_in22k_ft_in1k",
          "convnext_small.in12k_ft_in1k",
          "convnext_small.fb_in22k_ft_in1k",
          "convnext_small.fb_in1k",
          "convnext_small.fb_in1k",
          "convnext_base.clip_laion2b_augreg_ft_in12k_in1k_384",
          "convnext_base.fb_in22k_ft_in1k_384",
          "convnext_base.clip_laiona_augreg_ft_in1k_384",
          "convnext_base.clip_laion2b_augreg_ft_in12k_in1k",
          "convnext_base.fb_in22k_ft_in1k",
          "convnext_base.clip_laion2b_augreg_ft_in1k",
          "convnext_base.fb_in22k_ft_in1k",
          "convnext_base.fb_in1k",
          "convnext_base.fb_in1k",
          "convnext_large.fb_in22k_ft_in1k_384",
          "convnext_large.fb_in22k_ft_in1k",
          "convnext_large.fb_in22k_ft_in1k",
          "convnext_large.fb_in1k",
          "convnext_large.fb_in1k"
         ],
         "legendgroup": "convnext",
         "marker": {
          "color": "#FFA15A",
          "size": {
           "bdata": "AMQAAADEAAAAxAAAAMQAAADEAAAAxAAAAMQAAADEAAAAxAAAAMQAAADEAAAAxAAAAMQAAADEAAAAxAAAAMQAAADEAAAAxAAAAMQAAADEAAAAxAAAAMQAAADEAAAAxAAAAMQAAADEAAAAxAAAAMQAAADEAAAAxAAAAMQAAADEAAAAxAAAAMQAAADEAAAAxAAAAMQAAADEAAA=",
           "dtype": "i4"
          },
          "sizemode": "area",
          "sizeref": 655.36,
          "symbol": "circle"
         },
         "mode": "markers",
         "name": "convnext",
         "orientation": "v",
         "showlegend": true,
         "type": "scatter",
         "x": {
          "bdata": "cUV/jGYqSj9xRX+MZipKP45qUx16N0o/jmpTHXo3Sj+OalMdejdKP45qUx16N0o/+w3KIWD+Uz/7DcohYP5TPz3KzADA/1M/PcrMAMD/Uz89yswAwP9TPz3KzADA/1M/PcrMAMD/Uz89yswAwP9TPz3KzADA/1M/PcrMAMD/Uz/okkfk8NBgP+iSR+Tw0GA/6JJH5PDQYD/okkfk8NBgP+iSR+Tw0GA/6JJH5PDQYD/okkfk8NBgP+iSR+Tw0GA/3JzUWCIwaD/cnNRYIjBoP9yc1FgiMGg/3JzUWCIwaD/cnNRYIjBoP9yc1FgiMGg/3JzUWCIwaD/cnNRYIjBoP9yc1FgiMGg/wK+KA5zLdT/Ar4oDnMt1P8CvigOcy3U/wK+KA5zLdT/Ar4oDnMt1Pw==",
          "dtype": "f8"
         },
         "xaxis": "x",
         "y": {
          "bdata": "ukkMAitnVEBEi2zn+zlUQJzEILByuFRA3SQGgZWTVEB1kxgEVl5UQFTjpZvEMFRA9P3UeOmmVEAfhetRuI5UQGDl0CLbSVVA6SYxCKwcVUA/NV66SQxVQIPAyqFFBlVARrbz/dS4VEAj2/l+aqxUQE5iEFg5hFRAzczMzMy8U0CWQ4ts54tVQMdLN4lBcFVA2/l+arxUVUCLbOf7qVFVQNEi2/l+SlVAaJHtfD8lVUCTGARWDu1UQPCnxks3yVRAmpmZmZnJVUC+nxov3bRVQKwcWmQ7n1VAYhBYObSYVUBQjZduEpNVQLKd76fGi1VATmIQWDl0VUDn+6nx0h1VQEw3iUFg9VRAd76fGi/dVUA3iUFg5cBVQLpJDAIrp1VAukkMAis3VUBQjZduEhNVQA==",
          "dtype": "f8"
         },
         "yaxis": "y"
        },
        {
         "hovertemplate": "<b>OLS trendline</b><br>top1 = 6.05727 * log10(secs) + 100.741<br>R<sup>2</sup>=0.592734<br><br>family=convnext<br>secs=%{x}<br>top1=%{y} <b>(trend)</b><extra></extra>",
         "legendgroup": "convnext",
         "marker": {
          "color": "#FFA15A",
          "symbol": "circle"
         },
         "mode": "lines",
         "name": "convnext",
         "showlegend": false,
         "type": "scatter",
         "x": {
          "bdata": "cUV/jGYqSj9xRX+MZipKP45qUx16N0o/jmpTHXo3Sj+OalMdejdKP45qUx16N0o/+w3KIWD+Uz/7DcohYP5TPz3KzADA/1M/PcrMAMD/Uz89yswAwP9TPz3KzADA/1M/PcrMAMD/Uz89yswAwP9TPz3KzADA/1M/PcrMAMD/Uz/okkfk8NBgP+iSR+Tw0GA/6JJH5PDQYD/okkfk8NBgP+iSR+Tw0GA/6JJH5PDQYD/okkfk8NBgP+iSR+Tw0GA/3JzUWCIwaD/cnNRYIjBoP9yc1FgiMGg/3JzUWCIwaD/cnNRYIjBoP9yc1FgiMGg/3JzUWCIwaD/cnNRYIjBoP9yc1FgiMGg/wK+KA5zLdT/Ar4oDnMt1P8CvigOcy3U/wK+KA5zLdT/Ar4oDnMt1Pw==",
          "dtype": "f8"
         },
         "xaxis": "x",
         "y": {
          "bdata": "pg69t4l+VECmDr23iX5UQGZvZ8bdflRAZm9nxt1+VEBmb2fG3X5UQGZvZ8bdflRAIZi9P/HFVEAhmL0/8cVUQL4RWdL8xVRAvhFZ0vzFVEC+EVnS/MVUQL4RWdL8xVRAvhFZ0vzFVEC+EVnS/MVUQL4RWdL8xVRAvhFZ0vzFVEDFAbmagB1VQMUBuZqAHVVAxQG5moAdVUDFAbmagB1VQMUBuZqAHVVAxQG5moAdVUDFAbmagB1VQMUBuZqAHVVAUUGJSrRaVUBRQYlKtFpVQFFBiUq0WlVAUUGJSrRaVUBRQYlKtFpVQFFBiUq0WlVAUUGJSrRaVUBRQYlKtFpVQFFBiUq0WlVAq7OFzt29VUCrs4XO3b1VQKuzhc7dvVVAq7OFzt29VUCrs4XO3b1VQA==",
          "dtype": "f8"
         },
         "yaxis": "y"
        },
        {
         "customdata": {
          "bdata": "4ADgACABIAFAAUAB",
          "dtype": "i2",
          "shape": "6, 1"
         },
         "hovertemplate": "<b>%{hovertext}</b><br><br>family=efficientnetv2<br>secs=%{x}<br>top1=%{y}<br>size=%{marker.size}<br>train_img_size=%{customdata[0]}<extra></extra>",
         "hovertext": [
          "efficientnetv2_rw_t.ra2_in1k",
          "efficientnetv2_rw_t.ra2_in1k",
          "efficientnetv2_rw_s.ra2_in1k",
          "efficientnetv2_rw_s.ra2_in1k",
          "efficientnetv2_rw_m.agc_in1k",
          "efficientnetv2_rw_m.agc_in1k"
         ],
         "legendgroup": "efficientnetv2",
         "marker": {
          "color": "#19d3f3",
          "size": {
           "bdata": "AMQAAADEAAAARAEAAEQBAACQAQAAkAEA",
           "dtype": "i4"
          },
          "sizemode": "area",
          "sizeref": 655.36,
          "symbol": "circle"
         },
         "mode": "markers",
         "name": "efficientnetv2",
         "orientation": "v",
         "showlegend": true,
         "type": "scatter",
         "x": {
          "bdata": "tCy6NevRTT+0LLo169FNP7SUbgULdl8/tJRuBQt2Xz91o86rjD9yP3WjzquMP3I/",
          "dtype": "f8"
         },
         "xaxis": "x",
         "y": {
          "bdata": "LbKd76eWVEArhxbZzldUQIXrUbge9VRARrbz/dS4VEDb+X5qvDRVQIlBYOXQElVA",
          "dtype": "f8"
         },
         "yaxis": "y"
        },
        {
         "hovertemplate": "<b>OLS trendline</b><br>top1 = 3.89518 * log10(secs) + 93.7887<br>R<sup>2</sup>=0.864197<br><br>family=efficientnetv2<br>secs=%{x}<br>top1=%{y} <b>(trend)</b><extra></extra>",
         "legendgroup": "efficientnetv2",
         "marker": {
          "color": "#19d3f3",
          "symbol": "circle"
         },
         "mode": "lines",
         "name": "efficientnetv2",
         "showlegend": false,
         "type": "scatter",
         "x": {
          "bdata": "tCy6NevRTT+0LLo169FNP7SUbgULdl8/tJRuBQt2Xz91o86rjD9yP3WjzquMP3I/",
          "dtype": "f8"
         },
         "xaxis": "x",
         "y": {
          "bdata": "g6afemR8VECDpp96ZHxUQF9vJqI8zVRAX28mojzNVEBhdabKWihVQGF1pspaKFVA",
          "dtype": "f8"
         },
         "yaxis": "y"
        },
        {
         "customdata": {
          "bdata": "4ADgAOAA4ADgAOAA4ADgAA==",
          "dtype": "i2",
          "shape": "8, 1"
         },
         "hovertemplate": "<b>%{hovertext}</b><br><br>family=vgg<br>secs=%{x}<br>top1=%{y}<br>size=%{marker.size}<br>train_img_size=%{customdata[0]}<extra></extra>",
         "hovertext": [
          "vgg11.tv_in1k",
          "vgg11_bn.tv_in1k",
          "vgg13.tv_in1k",
          "vgg13_bn.tv_in1k",
          "vgg16.tv_in1k",
          "vgg16_bn.tv_in1k",
          "vgg19.tv_in1k",
          "vgg19_bn.tv_in1k"
         ],
         "legendgroup": "vgg",
         "marker": {
          "color": "#FF6692",
          "size": {
           "bdata": "AMQAAADEAAAAxAAAAMQAAADEAAAAxAAAAMQAAADEAAA=",
           "dtype": "i4"
          },
          "sizemode": "area",
          "sizeref": 655.36,
          "symbol": "circle"
         },
         "mode": "markers",
         "name": "vgg",
         "orientation": "v",
         "showlegend": true,
         "type": "scatter",
         "x": {
          "bdata": "kql1JWgsUT+OVlo/wKxTP9gy0cBPL1g/JRFVMOeRXD8TgxMJCAFePwB8JuMta2E/PsST4D3pYT/RBOVjnY5kPw==",
          "dtype": "f8"
         },
         "xaxis": "x",
         "y": {
          "bdata": "UI2XbhJDUUB/arx0k5hRQFyPwvUofFFA3SQGgZXjUUBmZmZmZuZRQBBYObTIVlJAmpmZmZkZUkDJdr6fGo9SQA==",
          "dtype": "f8"
         },
         "yaxis": "y"
        },
        {
         "hovertemplate": "<b>OLS trendline</b><br>top1 = 12.5164 * log10(secs) + 106.235<br>R<sup>2</sup>=0.891236<br><br>family=vgg<br>secs=%{x}<br>top1=%{y} <b>(trend)</b><extra></extra>",
         "legendgroup": "vgg",
         "marker": {
          "color": "#FF6692",
          "symbol": "circle"
         },
         "mode": "lines",
         "name": "vgg",
         "showlegend": false,
         "type": "scatter",
         "x": {
          "bdata": "kql1JWgsUT+OVlo/wKxTP9gy0cBPL1g/JRFVMOeRXD8TgxMJCAFePwB8JuMta2E/PsST4D3pYT/RBOVjnY5kPw==",
          "dtype": "f8"
         },
         "xaxis": "x",
         "y": {
          "bdata": "LM8zZ0Q8UUBk/lZDkmtRQN2k0Atfs1FAiUqsLlftUUBuSuERYf5RQCY8c/NWMlJA4OmvyAk8UkBYTQj7+GtSQA==",
          "dtype": "f8"
         },
         "yaxis": "y"
        },
        {
         "customdata": {
          "bdata": "4ADgAOAA4ADgAOAA4ADgAOAA4ACAAYABgAE=",
          "dtype": "i2",
          "shape": "13, 1"
         },
         "hovertemplate": "<b>%{hovertext}</b><br><br>family=swin<br>secs=%{x}<br>top1=%{y}<br>size=%{marker.size}<br>train_img_size=%{customdata[0]}<extra></extra>",
         "hovertext": [
          "swin_tiny_patch4_window7_224.ms_in1k",
          "swin_tiny_patch4_window7_224.ms_in22k_ft_in1k",
          "swin_s3_tiny_224.ms_in1k",
          "swin_small_patch4_window7_224.ms_in22k_ft_in1k",
          "swin_small_patch4_window7_224.ms_in1k",
          "swin_s3_small_224.ms_in1k",
          "swin_base_patch4_window7_224.ms_in22k_ft_in1k",
          "swin_base_patch4_window7_224.ms_in1k",
          "swin_s3_base_224.ms_in1k",
          "swin_large_patch4_window7_224.ms_in22k_ft_in1k",
          "swin_base_patch4_window12_384.ms_in22k_ft_in1k",
          "swin_base_patch4_window12_384.ms_in1k",
          "swin_large_patch4_window12_384.ms_in22k_ft_in1k"
         ],
         "legendgroup": "swin",
         "marker": {
          "color": "#B6E880",
          "size": {
           "bdata": "AMQAAADEAAAAxAAAAMQAAADEAAAAxAAAAMQAAADEAAAAxAAAAMQAAABAAgAAQAIAAEACAA==",
           "dtype": "i4"
          },
          "sizemode": "area",
          "sizeref": 655.36,
          "symbol": "circle"
         },
         "mode": "markers",
         "name": "swin",
         "orientation": "v",
         "showlegend": true,
         "type": "scatter",
         "x": {
          "bdata": "TJ/qdM5BWT9Mn+p0zkFZPypGnA9D1ls/lKTR6Qh2ZD+UpNHpCHZkP1IdYgOfMWw/Glv8oywnbT8aW/yjLCdtP5IkSZIkSXI/jtRFjzuiej+6sClvw2eLP7qwKW/DZ4s/SrCr8OWGmD8=",
          "dtype": "f8"
         },
         "xaxis": "x",
         "y": {
          "bdata": "Rrbz/dRYVEDn+6nx0j1UQNV46SYxiFRAhetRuB7VVEA730+Nl85UQG8Sg8DK8VRA4XoUrkdRVUDXo3A9CudUQHsUrkfh+lRAhetRuB6VVUB56SYxCJxVQFg5tMh2HlVARrbz/dTIVUA=",
          "dtype": "f8"
         },
         "yaxis": "y"
        },
        {
         "hovertemplate": "<b>OLS trendline</b><br>top1 = 4.38572 * log10(secs) + 94.4125<br>R<sup>2</sup>=0.775638<br><br>family=swin<br>secs=%{x}<br>top1=%{y} <b>(trend)</b><extra></extra>",
         "legendgroup": "swin",
         "marker": {
          "color": "#B6E880",
          "symbol": "circle"
         },
         "mode": "lines",
         "name": "swin",
         "showlegend": false,
         "type": "scatter",
         "x": {
          "bdata": "TJ/qdM5BWT9Mn+p0zkFZPypGnA9D1ls/lKTR6Qh2ZD+UpNHpCHZkP1IdYgOfMWw/Glv8oywnbT8aW/yjLCdtP5IkSZIkSXI/jtRFjzuiej+6sClvw2eLP7qwKW/DZ4s/SrCr8OWGmD8=",
          "dtype": "f8"
         },
         "xaxis": "x",
         "y": {
          "bdata": "nm9DFRmFVECeb0MVGYVUQCQyDjP0kFRAIZg0R+y/VEAhmDRH7L9UQPtXOW4A51RA4eIndRTrVEDh4id1FOtUQH6QBz63BlVADzVPs440VUD8UIOjiIxVQPxQg6OIjFVARDkbg4DTVUA=",
          "dtype": "f8"
         },
         "yaxis": "y"
        },
        {
         "customdata": {
          "bdata": "4ADgAIABgAEAAg==",
          "dtype": "i2",
          "shape": "5, 1"
         },
         "hovertemplate": "<b>%{hovertext}</b><br><br>family=beit<br>secs=%{x}<br>top1=%{y}<br>size=%{marker.size}<br>train_img_size=%{customdata[0]}<extra></extra>",
         "hovertext": [
          "beit_base_patch16_224.in22k_ft_in22k_in1k",
          "beit_large_patch16_224.in22k_ft_in22k_in1k",
          "beit_base_patch16_384.in22k_ft_in22k_in1k",
          "beit_large_patch16_384.in22k_ft_in22k_in1k",
          "beit_large_patch16_512.in22k_ft_in22k_in1k"
         ],
         "legendgroup": "beit",
         "marker": {
          "color": "#FF97FF",
          "size": {
           "bdata": "AMQAAADEAAAAQAIAAEACAAAABAA=",
           "dtype": "i4"
          },
          "sizemode": "area",
          "sizeref": 655.36,
          "symbol": "circle"
         },
         "mode": "markers",
         "name": "beit",
         "orientation": "v",
         "showlegend": true,
         "type": "scatter",
         "x": {
          "bdata": "rIQz3GTVZj8Jhk5oGcmCP6WtrcIya4g/oTVnIrY8pD8iDorOHC27Pw==",
          "dtype": "f8"
         },
         "xaxis": "x",
         "y": {
          "bdata": "Vg4tsp1PVUCsHFpkO99VQE5iEFg5tFVAnMQgsHIYVkCiRbbz/SRWQA==",
          "dtype": "f8"
         },
         "yaxis": "y"
        },
        {
         "hovertemplate": "<b>OLS trendline</b><br>top1 = 2.06369 * log10(secs) + 90.9721<br>R<sup>2</sup>=0.862673<br><br>family=beit<br>secs=%{x}<br>top1=%{y} <b>(trend)</b><extra></extra>",
         "legendgroup": "beit",
         "marker": {
          "color": "#FF97FF",
          "symbol": "circle"
         },
         "mode": "lines",
         "name": "beit",
         "showlegend": false,
         "type": "scatter",
         "x": {
          "bdata": "rIQz3GTVZj8Jhk5oGcmCP6WtrcIya4g/oTVnIrY8pD8iDorOHC27Pw==",
          "dtype": "f8"
         },
         "xaxis": "x",
         "y": {
          "bdata": "kODuHclsVUCQovMaHLFVQNWmFzYnwFVAua4+l+UEVkDTvjUMkT1WQA==",
          "dtype": "f8"
         },
         "yaxis": "y"
        }
       ],
       "layout": {
        "height": 800,
        "legend": {
         "itemsizing": "constant",
         "title": {
          "text": "family"
         },
         "tracegroupgap": 0
        },
        "template": {
         "data": {
          "bar": [
           {
            "error_x": {
             "color": "#2a3f5f"
            },
            "error_y": {
             "color": "#2a3f5f"
            },
            "marker": {
             "line": {
              "color": "#E5ECF6",
              "width": 0.5
             },
             "pattern": {
              "fillmode": "overlay",
              "size": 10,
              "solidity": 0.2
             }
            },
            "type": "bar"
           }
          ],
          "barpolar": [
           {
            "marker": {
             "line": {
              "color": "#E5ECF6",
              "width": 0.5
             },
             "pattern": {
              "fillmode": "overlay",
              "size": 10,
              "solidity": 0.2
             }
            },
            "type": "barpolar"
           }
          ],
          "carpet": [
           {
            "aaxis": {
             "endlinecolor": "#2a3f5f",
             "gridcolor": "white",
             "linecolor": "white",
             "minorgridcolor": "white",
             "startlinecolor": "#2a3f5f"
            },
            "baxis": {
             "endlinecolor": "#2a3f5f",
             "gridcolor": "white",
             "linecolor": "white",
             "minorgridcolor": "white",
             "startlinecolor": "#2a3f5f"
            },
            "type": "carpet"
           }
          ],
          "choropleth": [
           {
            "colorbar": {
             "outlinewidth": 0,
             "ticks": ""
            },
            "type": "choropleth"
           }
          ],
          "contour": [
           {
            "colorbar": {
             "outlinewidth": 0,
             "ticks": ""
            },
            "colorscale": [
             [
              0,
              "#0d0887"
             ],
             [
              0.1111111111111111,
              "#46039f"
             ],
             [
              0.2222222222222222,
              "#7201a8"
             ],
             [
              0.3333333333333333,
              "#9c179e"
             ],
             [
              0.4444444444444444,
              "#bd3786"
             ],
             [
              0.5555555555555556,
              "#d8576b"
             ],
             [
              0.6666666666666666,
              "#ed7953"
             ],
             [
              0.7777777777777778,
              "#fb9f3a"
             ],
             [
              0.8888888888888888,
              "#fdca26"
             ],
             [
              1,
              "#f0f921"
             ]
            ],
            "type": "contour"
           }
          ],
          "contourcarpet": [
           {
            "colorbar": {
             "outlinewidth": 0,
             "ticks": ""
            },
            "type": "contourcarpet"
           }
          ],
          "heatmap": [
           {
            "colorbar": {
             "outlinewidth": 0,
             "ticks": ""
            },
            "colorscale": [
             [
              0,
              "#0d0887"
             ],
             [
              0.1111111111111111,
              "#46039f"
             ],
             [
              0.2222222222222222,
              "#7201a8"
             ],
             [
              0.3333333333333333,
              "#9c179e"
             ],
             [
              0.4444444444444444,
              "#bd3786"
             ],
             [
              0.5555555555555556,
              "#d8576b"
             ],
             [
              0.6666666666666666,
              "#ed7953"
             ],
             [
              0.7777777777777778,
              "#fb9f3a"
             ],
             [
              0.8888888888888888,
              "#fdca26"
             ],
             [
              1,
              "#f0f921"
             ]
            ],
            "type": "heatmap"
           }
          ],
          "histogram": [
           {
            "marker": {
             "pattern": {
              "fillmode": "overlay",
              "size": 10,
              "solidity": 0.2
             }
            },
            "type": "histogram"
           }
          ],
          "histogram2d": [
           {
            "colorbar": {
             "outlinewidth": 0,
             "ticks": ""
            },
            "colorscale": [
             [
              0,
              "#0d0887"
             ],
             [
              0.1111111111111111,
              "#46039f"
             ],
             [
              0.2222222222222222,
              "#7201a8"
             ],
             [
              0.3333333333333333,
              "#9c179e"
             ],
             [
              0.4444444444444444,
              "#bd3786"
             ],
             [
              0.5555555555555556,
              "#d8576b"
             ],
             [
              0.6666666666666666,
              "#ed7953"
             ],
             [
              0.7777777777777778,
              "#fb9f3a"
             ],
             [
              0.8888888888888888,
              "#fdca26"
             ],
             [
              1,
              "#f0f921"
             ]
            ],
            "type": "histogram2d"
           }
          ],
          "histogram2dcontour": [
           {
            "colorbar": {
             "outlinewidth": 0,
             "ticks": ""
            },
            "colorscale": [
             [
              0,
              "#0d0887"
             ],
             [
              0.1111111111111111,
              "#46039f"
             ],
             [
              0.2222222222222222,
              "#7201a8"
             ],
             [
              0.3333333333333333,
              "#9c179e"
             ],
             [
              0.4444444444444444,
              "#bd3786"
             ],
             [
              0.5555555555555556,
              "#d8576b"
             ],
             [
              0.6666666666666666,
              "#ed7953"
             ],
             [
              0.7777777777777778,
              "#fb9f3a"
             ],
             [
              0.8888888888888888,
              "#fdca26"
             ],
             [
              1,
              "#f0f921"
             ]
            ],
            "type": "histogram2dcontour"
           }
          ],
          "mesh3d": [
           {
            "colorbar": {
             "outlinewidth": 0,
             "ticks": ""
            },
            "type": "mesh3d"
           }
          ],
          "parcoords": [
           {
            "line": {
             "colorbar": {
              "outlinewidth": 0,
              "ticks": ""
             }
            },
            "type": "parcoords"
           }
          ],
          "pie": [
           {
            "automargin": true,
            "type": "pie"
           }
          ],
          "scatter": [
           {
            "fillpattern": {
             "fillmode": "overlay",
             "size": 10,
             "solidity": 0.2
            },
            "type": "scatter"
           }
          ],
          "scatter3d": [
           {
            "line": {
             "colorbar": {
              "outlinewidth": 0,
              "ticks": ""
             }
            },
            "marker": {
             "colorbar": {
              "outlinewidth": 0,
              "ticks": ""
             }
            },
            "type": "scatter3d"
           }
          ],
          "scattercarpet": [
           {
            "marker": {
             "colorbar": {
              "outlinewidth": 0,
              "ticks": ""
             }
            },
            "type": "scattercarpet"
           }
          ],
          "scattergeo": [
           {
            "marker": {
             "colorbar": {
              "outlinewidth": 0,
              "ticks": ""
             }
            },
            "type": "scattergeo"
           }
          ],
          "scattergl": [
           {
            "marker": {
             "colorbar": {
              "outlinewidth": 0,
              "ticks": ""
             }
            },
            "type": "scattergl"
           }
          ],
          "scattermap": [
           {
            "marker": {
             "colorbar": {
              "outlinewidth": 0,
              "ticks": ""
             }
            },
            "type": "scattermap"
           }
          ],
          "scattermapbox": [
           {
            "marker": {
             "colorbar": {
              "outlinewidth": 0,
              "ticks": ""
             }
            },
            "type": "scattermapbox"
           }
          ],
          "scatterpolar": [
           {
            "marker": {
             "colorbar": {
              "outlinewidth": 0,
              "ticks": ""
             }
            },
            "type": "scatterpolar"
           }
          ],
          "scatterpolargl": [
           {
            "marker": {
             "colorbar": {
              "outlinewidth": 0,
              "ticks": ""
             }
            },
            "type": "scatterpolargl"
           }
          ],
          "scatterternary": [
           {
            "marker": {
             "colorbar": {
              "outlinewidth": 0,
              "ticks": ""
             }
            },
            "type": "scatterternary"
           }
          ],
          "surface": [
           {
            "colorbar": {
             "outlinewidth": 0,
             "ticks": ""
            },
            "colorscale": [
             [
              0,
              "#0d0887"
             ],
             [
              0.1111111111111111,
              "#46039f"
             ],
             [
              0.2222222222222222,
              "#7201a8"
             ],
             [
              0.3333333333333333,
              "#9c179e"
             ],
             [
              0.4444444444444444,
              "#bd3786"
             ],
             [
              0.5555555555555556,
              "#d8576b"
             ],
             [
              0.6666666666666666,
              "#ed7953"
             ],
             [
              0.7777777777777778,
              "#fb9f3a"
             ],
             [
              0.8888888888888888,
              "#fdca26"
             ],
             [
              1,
              "#f0f921"
             ]
            ],
            "type": "surface"
           }
          ],
          "table": [
           {
            "cells": {
             "fill": {
              "color": "#EBF0F8"
             },
             "line": {
              "color": "white"
             }
            },
            "header": {
             "fill": {
              "color": "#C8D4E3"
             },
             "line": {
              "color": "white"
             }
            },
            "type": "table"
           }
          ]
         },
         "layout": {
          "annotationdefaults": {
           "arrowcolor": "#2a3f5f",
           "arrowhead": 0,
           "arrowwidth": 1
          },
          "autotypenumbers": "strict",
          "coloraxis": {
           "colorbar": {
            "outlinewidth": 0,
            "ticks": ""
           }
          },
          "colorscale": {
           "diverging": [
            [
             0,
             "#8e0152"
            ],
            [
             0.1,
             "#c51b7d"
            ],
            [
             0.2,
             "#de77ae"
            ],
            [
             0.3,
             "#f1b6da"
            ],
            [
             0.4,
             "#fde0ef"
            ],
            [
             0.5,
             "#f7f7f7"
            ],
            [
             0.6,
             "#e6f5d0"
            ],
            [
             0.7,
             "#b8e186"
            ],
            [
             0.8,
             "#7fbc41"
            ],
            [
             0.9,
             "#4d9221"
            ],
            [
             1,
             "#276419"
            ]
           ],
           "sequential": [
            [
             0,
             "#0d0887"
            ],
            [
             0.1111111111111111,
             "#46039f"
            ],
            [
             0.2222222222222222,
             "#7201a8"
            ],
            [
             0.3333333333333333,
             "#9c179e"
            ],
            [
             0.4444444444444444,
             "#bd3786"
            ],
            [
             0.5555555555555556,
             "#d8576b"
            ],
            [
             0.6666666666666666,
             "#ed7953"
            ],
            [
             0.7777777777777778,
             "#fb9f3a"
            ],
            [
             0.8888888888888888,
             "#fdca26"
            ],
            [
             1,
             "#f0f921"
            ]
           ],
           "sequentialminus": [
            [
             0,
             "#0d0887"
            ],
            [
             0.1111111111111111,
             "#46039f"
            ],
            [
             0.2222222222222222,
             "#7201a8"
            ],
            [
             0.3333333333333333,
             "#9c179e"
            ],
            [
             0.4444444444444444,
             "#bd3786"
            ],
            [
             0.5555555555555556,
             "#d8576b"
            ],
            [
             0.6666666666666666,
             "#ed7953"
            ],
            [
             0.7777777777777778,
             "#fb9f3a"
            ],
            [
             0.8888888888888888,
             "#fdca26"
            ],
            [
             1,
             "#f0f921"
            ]
           ]
          },
          "colorway": [
           "#636efa",
           "#EF553B",
           "#00cc96",
           "#ab63fa",
           "#FFA15A",
           "#19d3f3",
           "#FF6692",
           "#B6E880",
           "#FF97FF",
           "#FECB52"
          ],
          "font": {
           "color": "#2a3f5f"
          },
          "geo": {
           "bgcolor": "white",
           "lakecolor": "white",
           "landcolor": "#E5ECF6",
           "showlakes": true,
           "showland": true,
           "subunitcolor": "white"
          },
          "hoverlabel": {
           "align": "left"
          },
          "hovermode": "closest",
          "mapbox": {
           "style": "light"
          },
          "paper_bgcolor": "white",
          "plot_bgcolor": "#E5ECF6",
          "polar": {
           "angularaxis": {
            "gridcolor": "white",
            "linecolor": "white",
            "ticks": ""
           },
           "bgcolor": "#E5ECF6",
           "radialaxis": {
            "gridcolor": "white",
            "linecolor": "white",
            "ticks": ""
           }
          },
          "scene": {
           "xaxis": {
            "backgroundcolor": "#E5ECF6",
            "gridcolor": "white",
            "gridwidth": 2,
            "linecolor": "white",
            "showbackground": true,
            "ticks": "",
            "zerolinecolor": "white"
           },
           "yaxis": {
            "backgroundcolor": "#E5ECF6",
            "gridcolor": "white",
            "gridwidth": 2,
            "linecolor": "white",
            "showbackground": true,
            "ticks": "",
            "zerolinecolor": "white"
           },
           "zaxis": {
            "backgroundcolor": "#E5ECF6",
            "gridcolor": "white",
            "gridwidth": 2,
            "linecolor": "white",
            "showbackground": true,
            "ticks": "",
            "zerolinecolor": "white"
           }
          },
          "shapedefaults": {
           "line": {
            "color": "#2a3f5f"
           }
          },
          "ternary": {
           "aaxis": {
            "gridcolor": "white",
            "linecolor": "white",
            "ticks": ""
           },
           "baxis": {
            "gridcolor": "white",
            "linecolor": "white",
            "ticks": ""
           },
           "bgcolor": "#E5ECF6",
           "caxis": {
            "gridcolor": "white",
            "linecolor": "white",
            "ticks": ""
           }
          },
          "title": {
           "x": 0.05
          },
          "xaxis": {
           "automargin": true,
           "gridcolor": "white",
           "linecolor": "white",
           "ticks": "",
           "title": {
            "standoff": 15
           },
           "zerolinecolor": "white",
           "zerolinewidth": 2
          },
          "yaxis": {
           "automargin": true,
           "gridcolor": "white",
           "linecolor": "white",
           "ticks": "",
           "title": {
            "standoff": 15
           },
           "zerolinecolor": "white",
           "zerolinewidth": 2
          }
         }
        },
        "title": {
         "text": "Training"
        },
        "width": 1000,
        "xaxis": {
         "anchor": "y",
         "domain": [
          0,
          1
         ],
         "title": {
          "text": "secs"
         },
         "type": "log"
        },
        "yaxis": {
         "anchor": "x",
         "domain": [
          0,
          1
         ],
         "title": {
          "text": "top1"
         }
        }
       }
      }
     },
     "metadata": {},
     "output_type": "display_data"
    }
   ],
   "source": [
    "show_subs(tdf, 'Training', 'train_img_size')"
   ]
  },
  {
   "cell_type": "markdown",
   "metadata": {},
   "source": [
    "Finally, we should remember that speed depends on hardware. If you're using something other than a modern NVIDIA GPU, your results may be different. In particular, I suspect that transformers-based models might have worse performance in general on CPUs (although I need to study this more to be sure)."
   ]
  },
  {
   "cell_type": "markdown",
   "metadata": {},
   "source": [
    "## LeViT"
   ]
  },
  {
   "cell_type": "code",
   "execution_count": 54,
   "metadata": {},
   "outputs": [
    {
     "data": {
      "text/html": [
       "<div>\n",
       "<style scoped>\n",
       "    .dataframe tbody tr th:only-of-type {\n",
       "        vertical-align: middle;\n",
       "    }\n",
       "\n",
       "    .dataframe tbody tr th {\n",
       "        vertical-align: top;\n",
       "    }\n",
       "\n",
       "    .dataframe thead th {\n",
       "        text-align: right;\n",
       "    }\n",
       "</style>\n",
       "<table border=\"1\" class=\"dataframe\">\n",
       "  <thead>\n",
       "    <tr style=\"text-align: right;\">\n",
       "      <th></th>\n",
       "      <th>model</th>\n",
       "      <th>infer_samples_per_sec</th>\n",
       "      <th>infer_step_time</th>\n",
       "      <th>infer_batch_size</th>\n",
       "      <th>infer_img_size</th>\n",
       "      <th>infer_gmacs</th>\n",
       "      <th>infer_macts</th>\n",
       "      <th>param_count_x</th>\n",
       "      <th>img_size</th>\n",
       "      <th>top1</th>\n",
       "      <th>top1_err</th>\n",
       "      <th>top5</th>\n",
       "      <th>top5_err</th>\n",
       "      <th>param_count_y</th>\n",
       "      <th>crop_pct</th>\n",
       "      <th>interpolation</th>\n",
       "      <th>model_org</th>\n",
       "      <th>secs</th>\n",
       "      <th>family</th>\n",
       "    </tr>\n",
       "  </thead>\n",
       "  <tbody>\n",
       "    <tr>\n",
       "      <th>13</th>\n",
       "      <td>levit_128s</td>\n",
       "      <td>22675.73</td>\n",
       "      <td>45.148</td>\n",
       "      <td>1024</td>\n",
       "      <td>224</td>\n",
       "      <td>0.31</td>\n",
       "      <td>1.88</td>\n",
       "      <td>7.78</td>\n",
       "      <td>224</td>\n",
       "      <td>76.522</td>\n",
       "      <td>23.478</td>\n",
       "      <td>92.874</td>\n",
       "      <td>7.126</td>\n",
       "      <td>7.78</td>\n",
       "      <td>0.9</td>\n",
       "      <td>bicubic</td>\n",
       "      <td>levit_128s.fb_dist_in1k</td>\n",
       "      <td>0.000044</td>\n",
       "      <td>levit</td>\n",
       "    </tr>\n",
       "    <tr>\n",
       "      <th>17</th>\n",
       "      <td>levit_128</td>\n",
       "      <td>15337.67</td>\n",
       "      <td>66.754</td>\n",
       "      <td>1024</td>\n",
       "      <td>224</td>\n",
       "      <td>0.41</td>\n",
       "      <td>2.71</td>\n",
       "      <td>9.21</td>\n",
       "      <td>224</td>\n",
       "      <td>78.486</td>\n",
       "      <td>21.514</td>\n",
       "      <td>93.998</td>\n",
       "      <td>6.002</td>\n",
       "      <td>9.21</td>\n",
       "      <td>0.9</td>\n",
       "      <td>bicubic</td>\n",
       "      <td>levit_128.fb_dist_in1k</td>\n",
       "      <td>0.000065</td>\n",
       "      <td>levit</td>\n",
       "    </tr>\n",
       "    <tr>\n",
       "      <th>24</th>\n",
       "      <td>levit_192</td>\n",
       "      <td>13524.14</td>\n",
       "      <td>75.706</td>\n",
       "      <td>1024</td>\n",
       "      <td>224</td>\n",
       "      <td>0.66</td>\n",
       "      <td>3.20</td>\n",
       "      <td>10.95</td>\n",
       "      <td>224</td>\n",
       "      <td>79.850</td>\n",
       "      <td>20.150</td>\n",
       "      <td>94.804</td>\n",
       "      <td>5.196</td>\n",
       "      <td>10.95</td>\n",
       "      <td>0.9</td>\n",
       "      <td>bicubic</td>\n",
       "      <td>levit_192.fb_dist_in1k</td>\n",
       "      <td>0.000074</td>\n",
       "      <td>levit</td>\n",
       "    </tr>\n",
       "    <tr>\n",
       "      <th>55</th>\n",
       "      <td>levit_256</td>\n",
       "      <td>9858.10</td>\n",
       "      <td>103.863</td>\n",
       "      <td>1024</td>\n",
       "      <td>224</td>\n",
       "      <td>1.13</td>\n",
       "      <td>4.23</td>\n",
       "      <td>18.89</td>\n",
       "      <td>224</td>\n",
       "      <td>81.506</td>\n",
       "      <td>18.494</td>\n",
       "      <td>95.466</td>\n",
       "      <td>4.534</td>\n",
       "      <td>18.89</td>\n",
       "      <td>0.9</td>\n",
       "      <td>bicubic</td>\n",
       "      <td>levit_256.fb_dist_in1k</td>\n",
       "      <td>0.000101</td>\n",
       "      <td>levit</td>\n",
       "    </tr>\n",
       "    <tr>\n",
       "      <th>120</th>\n",
       "      <td>levit_384</td>\n",
       "      <td>5880.40</td>\n",
       "      <td>174.126</td>\n",
       "      <td>1024</td>\n",
       "      <td>224</td>\n",
       "      <td>2.36</td>\n",
       "      <td>6.26</td>\n",
       "      <td>39.13</td>\n",
       "      <td>224</td>\n",
       "      <td>82.598</td>\n",
       "      <td>17.402</td>\n",
       "      <td>96.016</td>\n",
       "      <td>3.984</td>\n",
       "      <td>39.13</td>\n",
       "      <td>0.9</td>\n",
       "      <td>bicubic</td>\n",
       "      <td>levit_384.fb_dist_in1k</td>\n",
       "      <td>0.000170</td>\n",
       "      <td>levit</td>\n",
       "    </tr>\n",
       "  </tbody>\n",
       "</table>\n",
       "</div>"
      ],
      "text/plain": [
       "          model  infer_samples_per_sec  infer_step_time  infer_batch_size  \\\n",
       "13   levit_128s               22675.73           45.148              1024   \n",
       "17    levit_128               15337.67           66.754              1024   \n",
       "24    levit_192               13524.14           75.706              1024   \n",
       "55    levit_256                9858.10          103.863              1024   \n",
       "120   levit_384                5880.40          174.126              1024   \n",
       "\n",
       "     infer_img_size  infer_gmacs  infer_macts  param_count_x  img_size  \\\n",
       "13              224         0.31         1.88           7.78       224   \n",
       "17              224         0.41         2.71           9.21       224   \n",
       "24              224         0.66         3.20          10.95       224   \n",
       "55              224         1.13         4.23          18.89       224   \n",
       "120             224         2.36         6.26          39.13       224   \n",
       "\n",
       "       top1  top1_err    top5  top5_err param_count_y  crop_pct interpolation  \\\n",
       "13   76.522    23.478  92.874     7.126          7.78       0.9       bicubic   \n",
       "17   78.486    21.514  93.998     6.002          9.21       0.9       bicubic   \n",
       "24   79.850    20.150  94.804     5.196         10.95       0.9       bicubic   \n",
       "55   81.506    18.494  95.466     4.534         18.89       0.9       bicubic   \n",
       "120  82.598    17.402  96.016     3.984         39.13       0.9       bicubic   \n",
       "\n",
       "                   model_org      secs family  \n",
       "13   levit_128s.fb_dist_in1k  0.000044  levit  \n",
       "17    levit_128.fb_dist_in1k  0.000065  levit  \n",
       "24    levit_192.fb_dist_in1k  0.000074  levit  \n",
       "55    levit_256.fb_dist_in1k  0.000101  levit  \n",
       "120   levit_384.fb_dist_in1k  0.000170  levit  "
      ]
     },
     "metadata": {},
     "output_type": "display_data"
    },
    {
     "data": {
      "text/html": [
       "<div>\n",
       "<style scoped>\n",
       "    .dataframe tbody tr th:only-of-type {\n",
       "        vertical-align: middle;\n",
       "    }\n",
       "\n",
       "    .dataframe tbody tr th {\n",
       "        vertical-align: top;\n",
       "    }\n",
       "\n",
       "    .dataframe thead th {\n",
       "        text-align: right;\n",
       "    }\n",
       "</style>\n",
       "<table border=\"1\" class=\"dataframe\">\n",
       "  <thead>\n",
       "    <tr style=\"text-align: right;\">\n",
       "      <th></th>\n",
       "      <th>model</th>\n",
       "      <th>train_samples_per_sec</th>\n",
       "      <th>train_step_time</th>\n",
       "      <th>train_batch_size</th>\n",
       "      <th>train_img_size</th>\n",
       "      <th>param_count_x</th>\n",
       "      <th>img_size</th>\n",
       "      <th>top1</th>\n",
       "      <th>top1_err</th>\n",
       "      <th>top5</th>\n",
       "      <th>top5_err</th>\n",
       "      <th>param_count_y</th>\n",
       "      <th>crop_pct</th>\n",
       "      <th>interpolation</th>\n",
       "      <th>model_org</th>\n",
       "      <th>secs</th>\n",
       "      <th>family</th>\n",
       "    </tr>\n",
       "  </thead>\n",
       "  <tbody>\n",
       "    <tr>\n",
       "      <th>10</th>\n",
       "      <td>levit_128s</td>\n",
       "      <td>6539.16</td>\n",
       "      <td>77.346</td>\n",
       "      <td>512</td>\n",
       "      <td>224</td>\n",
       "      <td>7.78</td>\n",
       "      <td>224</td>\n",
       "      <td>76.522</td>\n",
       "      <td>23.478</td>\n",
       "      <td>92.874</td>\n",
       "      <td>7.126</td>\n",
       "      <td>7.78</td>\n",
       "      <td>0.9</td>\n",
       "      <td>bicubic</td>\n",
       "      <td>levit_128s.fb_dist_in1k</td>\n",
       "      <td>0.000153</td>\n",
       "      <td>levit</td>\n",
       "    </tr>\n",
       "    <tr>\n",
       "      <th>15</th>\n",
       "      <td>levit_128</td>\n",
       "      <td>4558.28</td>\n",
       "      <td>111.213</td>\n",
       "      <td>512</td>\n",
       "      <td>224</td>\n",
       "      <td>9.21</td>\n",
       "      <td>224</td>\n",
       "      <td>78.486</td>\n",
       "      <td>21.514</td>\n",
       "      <td>93.998</td>\n",
       "      <td>6.002</td>\n",
       "      <td>9.21</td>\n",
       "      <td>0.9</td>\n",
       "      <td>bicubic</td>\n",
       "      <td>levit_128.fb_dist_in1k</td>\n",
       "      <td>0.000219</td>\n",
       "      <td>levit</td>\n",
       "    </tr>\n",
       "    <tr>\n",
       "      <th>23</th>\n",
       "      <td>levit_192</td>\n",
       "      <td>3727.29</td>\n",
       "      <td>136.213</td>\n",
       "      <td>512</td>\n",
       "      <td>224</td>\n",
       "      <td>10.95</td>\n",
       "      <td>224</td>\n",
       "      <td>79.850</td>\n",
       "      <td>20.150</td>\n",
       "      <td>94.804</td>\n",
       "      <td>5.196</td>\n",
       "      <td>10.95</td>\n",
       "      <td>0.9</td>\n",
       "      <td>bicubic</td>\n",
       "      <td>levit_192.fb_dist_in1k</td>\n",
       "      <td>0.000268</td>\n",
       "      <td>levit</td>\n",
       "    </tr>\n",
       "    <tr>\n",
       "      <th>42</th>\n",
       "      <td>levit_256</td>\n",
       "      <td>2956.43</td>\n",
       "      <td>172.043</td>\n",
       "      <td>512</td>\n",
       "      <td>224</td>\n",
       "      <td>18.89</td>\n",
       "      <td>224</td>\n",
       "      <td>81.506</td>\n",
       "      <td>18.494</td>\n",
       "      <td>95.466</td>\n",
       "      <td>4.534</td>\n",
       "      <td>18.89</td>\n",
       "      <td>0.9</td>\n",
       "      <td>bicubic</td>\n",
       "      <td>levit_256.fb_dist_in1k</td>\n",
       "      <td>0.000338</td>\n",
       "      <td>levit</td>\n",
       "    </tr>\n",
       "    <tr>\n",
       "      <th>110</th>\n",
       "      <td>levit_384</td>\n",
       "      <td>1801.00</td>\n",
       "      <td>283.153</td>\n",
       "      <td>512</td>\n",
       "      <td>224</td>\n",
       "      <td>39.13</td>\n",
       "      <td>224</td>\n",
       "      <td>82.598</td>\n",
       "      <td>17.402</td>\n",
       "      <td>96.016</td>\n",
       "      <td>3.984</td>\n",
       "      <td>39.13</td>\n",
       "      <td>0.9</td>\n",
       "      <td>bicubic</td>\n",
       "      <td>levit_384.fb_dist_in1k</td>\n",
       "      <td>0.000555</td>\n",
       "      <td>levit</td>\n",
       "    </tr>\n",
       "  </tbody>\n",
       "</table>\n",
       "</div>"
      ],
      "text/plain": [
       "          model  train_samples_per_sec  train_step_time  train_batch_size  \\\n",
       "10   levit_128s                6539.16           77.346               512   \n",
       "15    levit_128                4558.28          111.213               512   \n",
       "23    levit_192                3727.29          136.213               512   \n",
       "42    levit_256                2956.43          172.043               512   \n",
       "110   levit_384                1801.00          283.153               512   \n",
       "\n",
       "     train_img_size  param_count_x  img_size    top1  top1_err    top5  \\\n",
       "10              224           7.78       224  76.522    23.478  92.874   \n",
       "15              224           9.21       224  78.486    21.514  93.998   \n",
       "23              224          10.95       224  79.850    20.150  94.804   \n",
       "42              224          18.89       224  81.506    18.494  95.466   \n",
       "110             224          39.13       224  82.598    17.402  96.016   \n",
       "\n",
       "     top5_err param_count_y  crop_pct interpolation                model_org  \\\n",
       "10      7.126          7.78       0.9       bicubic  levit_128s.fb_dist_in1k   \n",
       "15      6.002          9.21       0.9       bicubic   levit_128.fb_dist_in1k   \n",
       "23      5.196         10.95       0.9       bicubic   levit_192.fb_dist_in1k   \n",
       "42      4.534         18.89       0.9       bicubic   levit_256.fb_dist_in1k   \n",
       "110     3.984         39.13       0.9       bicubic   levit_384.fb_dist_in1k   \n",
       "\n",
       "         secs family  \n",
       "10   0.000153  levit  \n",
       "15   0.000219  levit  \n",
       "23   0.000268  levit  \n",
       "42   0.000338  levit  \n",
       "110  0.000555  levit  "
      ]
     },
     "metadata": {},
     "output_type": "display_data"
    }
   ],
   "source": [
    "idf_levit = df[df['family'] == 'levit']\n",
    "tdf_levit = tdf[tdf['family'] == 'levit']\n",
    "\n",
    "display(idf_levit)\n",
    "display(tdf_levit)\n"
   ]
  },
  {
   "cell_type": "code",
   "execution_count": null,
   "metadata": {},
   "outputs": [],
   "source": [
    "from timm import create_model\n",
    "model_name = 'levit_128s.fb_dist_in1k'\n",
    "model = create_model(\n",
    "    model_name,\n",
    "    pretrained=False,\n",
    "    num_classes=1000\n",
    ")\n",
    "model.eval()\n",
    "\n",
    "\n",
    "\n",
    "\n"
   ]
  }
 ],
 "metadata": {
  "kernelspec": {
   "display_name": "bglabs",
   "language": "python",
   "name": "python3"
  },
  "language_info": {
   "codemirror_mode": {
    "name": "ipython",
    "version": 3
   },
   "file_extension": ".py",
   "mimetype": "text/x-python",
   "name": "python",
   "nbconvert_exporter": "python",
   "pygments_lexer": "ipython3",
   "version": "3.12.3"
  }
 },
 "nbformat": 4,
 "nbformat_minor": 4
}
